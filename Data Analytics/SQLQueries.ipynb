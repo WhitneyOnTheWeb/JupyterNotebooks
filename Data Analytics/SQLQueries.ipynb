{
 "cells": [
  {
   "cell_type": "markdown",
   "metadata": {},
   "source": [
    "## MySQL Database \n",
    "\n",
    "**Author:** Whitney King\n",
    "<br>\n",
    "**Date:** 5/26/2018\n",
    "\n",
    "Based on practice from Leetcode and other various examples from around the web using MySQL"
   ]
  },
  {
   "cell_type": "code",
   "execution_count": 19,
   "metadata": {
    "collapsed": true
   },
   "outputs": [],
   "source": [
    "import mysql.connector as mysql\n",
    "import pandas as pd\n",
    "\n",
    "def line():\n",
    "    print('------------------------------------------------------')\n",
    "\n",
    "def executeQuery(query):\n",
    "    query = open(query, 'r').read()\n",
    "    cur.execute(query)\n",
    "    query_out = cur.fetchall()\n",
    "    query_columns = pd.Series(cur.column_names)\n",
    "    query_data = pd.DataFrame(query_out,\n",
    "                              columns=query_columns)\n",
    "    print(query)\n",
    "    line()\n",
    "    return(query_data)\n",
    "\n",
    "def returnQuery(sqlFile):\n",
    "    query = sqlFile\n",
    "    query = executeQuery(query)\n",
    "    return query"
   ]
  },
  {
   "cell_type": "code",
   "execution_count": 20,
   "metadata": {},
   "outputs": [],
   "source": [
    "config = {\n",
    "  'user': 'beta',\n",
    "  'host': 'localhost',\n",
    "  'database': 'leetcode',\n",
    "  'raise_on_warnings': False,\n",
    "  'use_pure': False\n",
    "}\n",
    "\n",
    "cnx = mysql.connect(**config)\n",
    "cur = cnx.cursor()"
   ]
  },
  {
   "cell_type": "markdown",
   "metadata": {},
   "source": [
    "### 2nd Highest Salary\n",
    "\n",
    "Write a SQL query to get the second highest salary from the Employee table. If there is no second highest salary, then the query should return null."
   ]
  },
  {
   "cell_type": "code",
   "execution_count": 3,
   "metadata": {
    "collapsed": true
   },
   "outputs": [],
   "source": [
    "#cur.execute('CREATE DATABASE leetcode')\n",
    "#cnx.commit()\n",
    "#cur.execute('USE leetcode')\n",
    "#cur.execute('CREATE TABLE Employee (Id int, Salary int)')"
   ]
  },
  {
   "cell_type": "code",
   "execution_count": 4,
   "metadata": {
    "collapsed": true
   },
   "outputs": [],
   "source": [
    "#employee_table = 'INSERT INTO Employee (Id, Salary) VALUES (%s, %s)'\n",
    "employee_data = (1, 100), (2, 200), (3, 300)\n",
    "\n",
    "#cur.executemany(employee_table, employee_data)\n",
    "#cnx.commit()"
   ]
  },
  {
   "cell_type": "code",
   "execution_count": 5,
   "metadata": {
    "scrolled": false
   },
   "outputs": [
    {
     "name": "stdout",
     "output_type": "stream",
     "text": [
      "SELECT MAX(Salary) AS SecondHighestSalary\n",
      "FROM Employee\n",
      "WHERE Salary < (SELECT MAX(Salary) FROM Employee)\n",
      "------------------------------------------------------\n"
     ]
    },
    {
     "data": {
      "text/html": [
       "<div>\n",
       "<style>\n",
       "    .dataframe thead tr:only-child th {\n",
       "        text-align: right;\n",
       "    }\n",
       "\n",
       "    .dataframe thead th {\n",
       "        text-align: left;\n",
       "    }\n",
       "\n",
       "    .dataframe tbody tr th {\n",
       "        vertical-align: top;\n",
       "    }\n",
       "</style>\n",
       "<table border=\"1\" class=\"dataframe\">\n",
       "  <thead>\n",
       "    <tr style=\"text-align: right;\">\n",
       "      <th></th>\n",
       "      <th>SecondHighestSalary</th>\n",
       "    </tr>\n",
       "  </thead>\n",
       "  <tbody>\n",
       "    <tr>\n",
       "      <th>0</th>\n",
       "      <td>200</td>\n",
       "    </tr>\n",
       "  </tbody>\n",
       "</table>\n",
       "</div>"
      ],
      "text/plain": [
       "   SecondHighestSalary\n",
       "0                  200"
      ]
     },
     "execution_count": 5,
     "metadata": {},
     "output_type": "execute_result"
    }
   ],
   "source": [
    "salary = returnQuery('queries/Leetcode/SecondHighestSalary.sql')\n",
    "salary"
   ]
  },
  {
   "cell_type": "markdown",
   "metadata": {},
   "source": [
    "### Nth Highest Salary \n",
    "Write a SQL query to get the nth highest salary from the Employee table.\n",
    "\n",
    "- Note: 3 can be replaced with any value of n, or this can be made into a function"
   ]
  },
  {
   "cell_type": "code",
   "execution_count": 6,
   "metadata": {},
   "outputs": [
    {
     "name": "stdout",
     "output_type": "stream",
     "text": [
      "SELECT MAX(Salary) AS NthHighestSalary\n",
      "FROM Employee AS e1\n",
      "WHERE 3 = (SELECT COUNT(DISTINCT (e2.Salary)) \n",
      "           FROM Employee AS e2\n",
      "           WHERE e2.Salary >= e1.Salary)\n",
      "------------------------------------------------------\n"
     ]
    },
    {
     "data": {
      "text/html": [
       "<div>\n",
       "<style>\n",
       "    .dataframe thead tr:only-child th {\n",
       "        text-align: right;\n",
       "    }\n",
       "\n",
       "    .dataframe thead th {\n",
       "        text-align: left;\n",
       "    }\n",
       "\n",
       "    .dataframe tbody tr th {\n",
       "        vertical-align: top;\n",
       "    }\n",
       "</style>\n",
       "<table border=\"1\" class=\"dataframe\">\n",
       "  <thead>\n",
       "    <tr style=\"text-align: right;\">\n",
       "      <th></th>\n",
       "      <th>NthHighestSalary</th>\n",
       "    </tr>\n",
       "  </thead>\n",
       "  <tbody>\n",
       "    <tr>\n",
       "      <th>0</th>\n",
       "      <td>100</td>\n",
       "    </tr>\n",
       "  </tbody>\n",
       "</table>\n",
       "</div>"
      ],
      "text/plain": [
       "   NthHighestSalary\n",
       "0               100"
      ]
     },
     "execution_count": 6,
     "metadata": {},
     "output_type": "execute_result"
    }
   ],
   "source": [
    "n_salary = returnQuery('queries/Leetcode/NthHighestSalary.sql')\n",
    "n_salary"
   ]
  },
  {
   "cell_type": "markdown",
   "metadata": {},
   "source": [
    "### Non-Ordering Customers\n",
    "\n",
    "Suppose that a website contains two tables, the Customers table and the Orders table. Write a SQL query to find all customers who never order anything."
   ]
  },
  {
   "cell_type": "code",
   "execution_count": 7,
   "metadata": {
    "collapsed": true
   },
   "outputs": [],
   "source": [
    "#cur.execute('CREATE TABLE Customers (Id int, Name text)')\n",
    "#cur.execute('CREATE TABLE Orders (Id int, CustomerId int)')"
   ]
  },
  {
   "cell_type": "code",
   "execution_count": 8,
   "metadata": {
    "collapsed": true
   },
   "outputs": [],
   "source": [
    "#customers_table = 'INSERT INTO Customers (Id, Name) VALUES (%s, %s)'\n",
    "customers_data = (1, 'Joe'), (2, 'Henry'), (3, 'Sam'), (4, 'Max'), (5, 'James'), (6, 'James')\n",
    "\n",
    "#orders_table = 'INSERT INTO Orders (Id, CustomerId) VALUES (%s, %s)'\n",
    "orders_data = (1, 3), (2, 1), (3, 5)\n",
    "\n",
    "#cur.executemany(customers_table, customers_data)\n",
    "#cur.executemany(orders_table, orders_data)\n",
    "#cnx.commit()"
   ]
  },
  {
   "cell_type": "code",
   "execution_count": 9,
   "metadata": {},
   "outputs": [
    {
     "name": "stdout",
     "output_type": "stream",
     "text": [
      "SELECT Name AS Customers\n",
      "FROM Customers AS c1\n",
      "WHERE c1.Id NOT IN (SELECT c2.Id\n",
      "                    FROM Customers AS c2\n",
      "                        JOIN Orders AS o \n",
      "                            ON o.CustomerId = c2.Id)\n",
      "\n",
      "------------------------------------------------------\n"
     ]
    },
    {
     "data": {
      "text/html": [
       "<div>\n",
       "<style>\n",
       "    .dataframe thead tr:only-child th {\n",
       "        text-align: right;\n",
       "    }\n",
       "\n",
       "    .dataframe thead th {\n",
       "        text-align: left;\n",
       "    }\n",
       "\n",
       "    .dataframe tbody tr th {\n",
       "        vertical-align: top;\n",
       "    }\n",
       "</style>\n",
       "<table border=\"1\" class=\"dataframe\">\n",
       "  <thead>\n",
       "    <tr style=\"text-align: right;\">\n",
       "      <th></th>\n",
       "      <th>Customers</th>\n",
       "    </tr>\n",
       "  </thead>\n",
       "  <tbody>\n",
       "    <tr>\n",
       "      <th>0</th>\n",
       "      <td>Henry</td>\n",
       "    </tr>\n",
       "    <tr>\n",
       "      <th>1</th>\n",
       "      <td>Max</td>\n",
       "    </tr>\n",
       "    <tr>\n",
       "      <th>2</th>\n",
       "      <td>James</td>\n",
       "    </tr>\n",
       "  </tbody>\n",
       "</table>\n",
       "</div>"
      ],
      "text/plain": [
       "  Customers\n",
       "0     Henry\n",
       "1       Max\n",
       "2     James"
      ]
     },
     "execution_count": 9,
     "metadata": {},
     "output_type": "execute_result"
    }
   ],
   "source": [
    "non_cust = returnQuery('queries/Leetcode/NonOrderingCustomers.sql')\n",
    "non_cust"
   ]
  },
  {
   "cell_type": "markdown",
   "metadata": {
    "collapsed": true
   },
   "source": [
    "### Friend Request Acceptance Rate\n",
    "\n",
    "Write a query to find the overall acceptance rate of requests rounded to 2 decimals, which is the number of acceptance divide the number of requests.\n",
    "\n",
    "- The accepted requests are not necessarily from the table friend_request. \n",
    "    - In this case, you just need to simply count the total accepted requests (no matter whether they are in the original requests), and divide it by the number of requests to get the acceptance rate.\n",
    "- It is possible that a sender sends multiple requests to the same receiver, and a request could be accepted more than once. In this case, the ‘duplicated’ requests or acceptances are only counted once.\n",
    "- If there is no requests at all, you should return 0.00 as the accept_rate."
   ]
  },
  {
   "cell_type": "code",
   "execution_count": 3,
   "metadata": {
    "collapsed": true
   },
   "outputs": [],
   "source": [
    "#cur.execute('CREATE TABLE friend_request (sender_id int, send_to_id int, request_date date)')\n",
    "#cur.execute('CREATE TABLE request_accepted (requester_id int, accepter_id int, accept_date date)')"
   ]
  },
  {
   "cell_type": "code",
   "execution_count": 4,
   "metadata": {
    "collapsed": true
   },
   "outputs": [],
   "source": [
    "#friends_table = 'INSERT INTO friend_request (sender_id, send_to_id, request_date) VALUES (%s, %s, %s)'\n",
    "friends_data = [\n",
    "           (1, 2, '2016_06-01'), (1, 3, '2016_06-01')\n",
    "         , (1, 4, '2016_06-01'), (2, 3, '2016_06-02')\n",
    "         , (3, 4, '2016_06-09')#, (4, 5, '2016_06-09')\n",
    "          ]\n",
    "\n",
    "#requests_table = 'INSERT INTO request_accepted (requester_id, accepter_id, accept_date) VALUES (%s, %s, %s)'\n",
    "requests_data = [\n",
    "           (1, 2, '2016_06-03'), (1, 3, '2016_06-08')\n",
    "         , (2, 3, '2016_06-08'), (3, 4, '2016_06-09')\n",
    "         #, (3, 4, '2016_06-10')\n",
    "           ]\n",
    "\n",
    "#cur.executemany(friends_table, friends_data)\n",
    "#cur.executemany(requests_table, requests_data)\n",
    "#cnx.commit()"
   ]
  },
  {
   "cell_type": "code",
   "execution_count": 6,
   "metadata": {},
   "outputs": [
    {
     "name": "stdout",
     "output_type": "stream",
     "text": [
      "SELECT \n",
      "ROUND(\n",
      "  IFNULL(\n",
      "    (\n",
      "    (SELECT 1.0 * COUNT(*)\n",
      "     FROM (SELECT DISTINCT requester_id, accepter_id\n",
      "           FROM request_accepted) AS a) -- Accepted\n",
      "     \n",
      "    /  -- COUNT(Accpted) / COUNT(Sent)\n",
      "    \n",
      "    (SELECT COUNT(*)\n",
      "     FROM (SELECT DISTINCT sender_id, send_to_id\n",
      "           FROM friend_request) AS s) -- Sent\n",
      "    ), \n",
      "  0), \n",
      "2) AS accept_rate\n",
      "------------------------------------------------------\n"
     ]
    },
    {
     "data": {
      "text/html": [
       "<div>\n",
       "<style>\n",
       "    .dataframe thead tr:only-child th {\n",
       "        text-align: right;\n",
       "    }\n",
       "\n",
       "    .dataframe thead th {\n",
       "        text-align: left;\n",
       "    }\n",
       "\n",
       "    .dataframe tbody tr th {\n",
       "        vertical-align: top;\n",
       "    }\n",
       "</style>\n",
       "<table border=\"1\" class=\"dataframe\">\n",
       "  <thead>\n",
       "    <tr style=\"text-align: right;\">\n",
       "      <th></th>\n",
       "      <th>accept_rate</th>\n",
       "    </tr>\n",
       "  </thead>\n",
       "  <tbody>\n",
       "    <tr>\n",
       "      <th>0</th>\n",
       "      <td>0.80</td>\n",
       "    </tr>\n",
       "  </tbody>\n",
       "</table>\n",
       "</div>"
      ],
      "text/plain": [
       "  accept_rate\n",
       "0        0.80"
      ]
     },
     "execution_count": 6,
     "metadata": {},
     "output_type": "execute_result"
    }
   ],
   "source": [
    "friend_reqs = returnQuery('queries/Leetcode/FriendRequests1.sql')\n",
    "friend_reqs"
   ]
  },
  {
   "cell_type": "markdown",
   "metadata": {
    "collapsed": true
   },
   "source": [
    "**Can you write a query to return the accept rate but for every month?**"
   ]
  },
  {
   "cell_type": "code",
   "execution_count": 7,
   "metadata": {},
   "outputs": [
    {
     "name": "stdout",
     "output_type": "stream",
     "text": [
      "SELECT a.month AS month\n",
      "\t, IF(r.requested = 0, 0.00, \n",
      "\t  ROUND(a.accepted / r.requested, 2)) AS accept_rate\n",
      "FROM\n",
      "\t(SELECT 1.0 * COUNT(DISTINCT requester_id, accepter_id) AS accepted,\n",
      "\t MONTH(accept_date) AS month \n",
      "\t FROM request_accepted) AS a\n",
      "   ,\n",
      "\t(SELECT COUNT(DISTINCT sender_id, send_to_id) AS requested,\n",
      "\t MONTH(request_date) AS month \n",
      "\t FROM friend_request) AS r\n",
      "\n",
      "WHERE a.month = r.month\n",
      "GROUP BY a.month\n",
      "\n",
      "------------------------------------------------------\n"
     ]
    },
    {
     "data": {
      "text/html": [
       "<div>\n",
       "<style>\n",
       "    .dataframe thead tr:only-child th {\n",
       "        text-align: right;\n",
       "    }\n",
       "\n",
       "    .dataframe thead th {\n",
       "        text-align: left;\n",
       "    }\n",
       "\n",
       "    .dataframe tbody tr th {\n",
       "        vertical-align: top;\n",
       "    }\n",
       "</style>\n",
       "<table border=\"1\" class=\"dataframe\">\n",
       "  <thead>\n",
       "    <tr style=\"text-align: right;\">\n",
       "      <th></th>\n",
       "      <th>month</th>\n",
       "      <th>accept_rate</th>\n",
       "    </tr>\n",
       "  </thead>\n",
       "  <tbody>\n",
       "    <tr>\n",
       "      <th>0</th>\n",
       "      <td>6</td>\n",
       "      <td>0.80</td>\n",
       "    </tr>\n",
       "  </tbody>\n",
       "</table>\n",
       "</div>"
      ],
      "text/plain": [
       "   month accept_rate\n",
       "0      6        0.80"
      ]
     },
     "execution_count": 7,
     "metadata": {},
     "output_type": "execute_result"
    }
   ],
   "source": [
    "friend_reqs_month = returnQuery('queries/Leetcode/FriendRequests2.sql')\n",
    "friend_reqs_month"
   ]
  },
  {
   "cell_type": "markdown",
   "metadata": {
    "collapsed": true
   },
   "source": [
    "**How about the cumulative accept rate for every day?**\n",
    "\n",
    "This should be a count of acceptance rate for number of requests accepted on a given day divided by numbers of requests sent on a given day, regardless of who sent or accepted them."
   ]
  },
  {
   "cell_type": "code",
   "execution_count": 11,
   "metadata": {
    "scrolled": true
   },
   "outputs": [
    {
     "name": "stdout",
     "output_type": "stream",
     "text": [
      "SELECT date_table.dates AS date,\n",
      "       IFNULL(ROUND(\n",
      "\tCOUNT(DISTINCT requester_id, accepter_id) / \n",
      "\tCOUNT(DISTINCT sender_id, send_to_id)\n",
      "     , 2), 0.00) AS accept_rate\n",
      "     \n",
      "FROM request_accepted AS a, friend_request AS r,\n",
      "(\n",
      "  SELECT request_date AS dates \n",
      "  FROM friend_request\n",
      "\tUNION\n",
      "  SELECT accept_date \n",
      "  FROM request_accepted\n",
      "\tORDER BY dates\n",
      ") AS date_table\n",
      "\n",
      "WHERE a.accept_date <= date_table.dates\n",
      "AND r.request_date <= date_table.dates\n",
      "GROUP BY date_table.dates\n",
      "------------------------------------------------------\n"
     ]
    }
   ],
   "source": [
    "friend_reqs_day = returnQuery('queries/Leetcode/FriendRequests3.sql')"
   ]
  },
  {
   "cell_type": "code",
   "execution_count": 9,
   "metadata": {},
   "outputs": [
    {
     "data": {
      "text/html": [
       "<div>\n",
       "<style>\n",
       "    .dataframe thead tr:only-child th {\n",
       "        text-align: right;\n",
       "    }\n",
       "\n",
       "    .dataframe thead th {\n",
       "        text-align: left;\n",
       "    }\n",
       "\n",
       "    .dataframe tbody tr th {\n",
       "        vertical-align: top;\n",
       "    }\n",
       "</style>\n",
       "<table border=\"1\" class=\"dataframe\">\n",
       "  <thead>\n",
       "    <tr style=\"text-align: right;\">\n",
       "      <th></th>\n",
       "      <th>date</th>\n",
       "      <th>accept_rate</th>\n",
       "    </tr>\n",
       "  </thead>\n",
       "  <tbody>\n",
       "    <tr>\n",
       "      <th>0</th>\n",
       "      <td>2016-06-03</td>\n",
       "      <td>0.25</td>\n",
       "    </tr>\n",
       "    <tr>\n",
       "      <th>1</th>\n",
       "      <td>2016-06-08</td>\n",
       "      <td>0.75</td>\n",
       "    </tr>\n",
       "    <tr>\n",
       "      <th>2</th>\n",
       "      <td>2016-06-09</td>\n",
       "      <td>0.80</td>\n",
       "    </tr>\n",
       "    <tr>\n",
       "      <th>3</th>\n",
       "      <td>2016-06-10</td>\n",
       "      <td>0.80</td>\n",
       "    </tr>\n",
       "  </tbody>\n",
       "</table>\n",
       "</div>"
      ],
      "text/plain": [
       "         date accept_rate\n",
       "0  2016-06-03        0.25\n",
       "1  2016-06-08        0.75\n",
       "2  2016-06-09        0.80\n",
       "3  2016-06-10        0.80"
      ]
     },
     "execution_count": 9,
     "metadata": {},
     "output_type": "execute_result"
    }
   ],
   "source": [
    "friend_reqs_day"
   ]
  },
  {
   "cell_type": "markdown",
   "metadata": {
    "collapsed": true
   },
   "source": [
    "### Who Has the Most Friends?\n",
    "\n",
    "- It is guaranteed there is only 1 people having the most friends.\n",
    "- The friend request could only been accepted once, which mean there is no multiple records with the same requester_id and accepter_id"
   ]
  },
  {
   "cell_type": "code",
   "execution_count": 21,
   "metadata": {},
   "outputs": [
    {
     "name": "stdout",
     "output_type": "stream",
     "text": [
      "SELECT num.friends AS id,\n",
      "\t\t COUNT(1) AS num\n",
      "\tFROM\n",
      "\t(\n",
      "\t SELECT requester_id AS friends \n",
      "\t FROM request_accepted\n",
      "\t\tUNION ALL \n",
      "\t SELECT accepter_id\n",
      "\t FROM request_accepted\n",
      "\t) AS num\n",
      "\t \n",
      "GROUP BY num.friends\n",
      "ORDER BY num DESC\n",
      "LIMIT 1\n",
      "------------------------------------------------------\n"
     ]
    },
    {
     "data": {
      "text/html": [
       "<div>\n",
       "<style>\n",
       "    .dataframe thead tr:only-child th {\n",
       "        text-align: right;\n",
       "    }\n",
       "\n",
       "    .dataframe thead th {\n",
       "        text-align: left;\n",
       "    }\n",
       "\n",
       "    .dataframe tbody tr th {\n",
       "        vertical-align: top;\n",
       "    }\n",
       "</style>\n",
       "<table border=\"1\" class=\"dataframe\">\n",
       "  <thead>\n",
       "    <tr style=\"text-align: right;\">\n",
       "      <th></th>\n",
       "      <th>id</th>\n",
       "      <th>num</th>\n",
       "    </tr>\n",
       "  </thead>\n",
       "  <tbody>\n",
       "    <tr>\n",
       "      <th>0</th>\n",
       "      <td>2</td>\n",
       "      <td>3</td>\n",
       "    </tr>\n",
       "  </tbody>\n",
       "</table>\n",
       "</div>"
      ],
      "text/plain": [
       "   id  num\n",
       "0   2    3"
      ]
     },
     "execution_count": 21,
     "metadata": {},
     "output_type": "execute_result"
    }
   ],
   "source": [
    "most_friends = returnQuery('queries/Leetcode/MostFriends1.sql')\n",
    "most_friends"
   ]
  },
  {
   "cell_type": "markdown",
   "metadata": {
    "collapsed": true
   },
   "source": [
    "**In the real world, multiple people could have the same most number of friends, can you find all these people in this case?**"
   ]
  },
  {
   "cell_type": "code",
   "execution_count": 22,
   "metadata": {},
   "outputs": [
    {
     "name": "stdout",
     "output_type": "stream",
     "text": [
      "SELECT friends.id AS id,\n",
      "\tCOUNT(1) AS num\n",
      "FROM\n",
      "(\n",
      "SELECT requester_id AS id \n",
      "FROM request_accepted\n",
      "\tUNION ALL \n",
      "SELECT accepter_id\n",
      "FROM request_accepted\n",
      ") AS friends\n",
      "\t\t\t \n",
      "GROUP BY id\n",
      "HAVING num = (\n",
      "\tSELECT MAX(num) AS max\n",
      "\tFROM\n",
      "\t(\n",
      "\tSELECT friends.id AS id, COUNT(1) AS num\n",
      "\t\tFROM\n",
      "\t\t(\n",
      "\t\tSELECT requester_id AS id \n",
      "\t\tFROM request_accepted\n",
      "\t\t\tUNION ALL \n",
      "\t\tSELECT accepter_id\n",
      "\t\tFROM request_accepted\n",
      "\t\t) AS friends\n",
      "        \n",
      "\tGROUP BY id\n",
      "\t) AS max\n",
      ")\n",
      "ORDER BY id DESC\n",
      "\n",
      "------------------------------------------------------\n"
     ]
    },
    {
     "data": {
      "text/html": [
       "<div>\n",
       "<style>\n",
       "    .dataframe thead tr:only-child th {\n",
       "        text-align: right;\n",
       "    }\n",
       "\n",
       "    .dataframe thead th {\n",
       "        text-align: left;\n",
       "    }\n",
       "\n",
       "    .dataframe tbody tr th {\n",
       "        vertical-align: top;\n",
       "    }\n",
       "</style>\n",
       "<table border=\"1\" class=\"dataframe\">\n",
       "  <thead>\n",
       "    <tr style=\"text-align: right;\">\n",
       "      <th></th>\n",
       "      <th>id</th>\n",
       "      <th>num</th>\n",
       "    </tr>\n",
       "  </thead>\n",
       "  <tbody>\n",
       "    <tr>\n",
       "      <th>0</th>\n",
       "      <td>3</td>\n",
       "      <td>3</td>\n",
       "    </tr>\n",
       "    <tr>\n",
       "      <th>1</th>\n",
       "      <td>2</td>\n",
       "      <td>3</td>\n",
       "    </tr>\n",
       "  </tbody>\n",
       "</table>\n",
       "</div>"
      ],
      "text/plain": [
       "   id  num\n",
       "0   3    3\n",
       "1   2    3"
      ]
     },
     "execution_count": 22,
     "metadata": {},
     "output_type": "execute_result"
    }
   ],
   "source": [
    "most_friends2 = returnQuery('queries/Leetcode/MostFriends2.sql')\n",
    "most_friends2"
   ]
  },
  {
   "cell_type": "markdown",
   "metadata": {
    "collapsed": true
   },
   "source": [
    "### Department Top Three Salaries\n",
    "\n",
    "Write a SQL query to find employees who earn the top three salaries in each of the department."
   ]
  },
  {
   "cell_type": "code",
   "execution_count": 3,
   "metadata": {},
   "outputs": [],
   "source": [
    "#cur.execute('DROP TABLE Employee')\n",
    "#cnx.commit()\n",
    "#cur.execute('CREATE TABLE Employee (Id int, Name text, Salary int, DepartmentId int)')\n",
    "#cur.execute('CREATE TABLE Department (Id int, Name text)')"
   ]
  },
  {
   "cell_type": "code",
   "execution_count": 4,
   "metadata": {
    "collapsed": true
   },
   "outputs": [],
   "source": [
    "#employees_table = 'INSERT INTO Employee (Id, Name, Salary, DepartmentId) VALUES (%s, %s, %s, %s)'\n",
    "employees_data = [\n",
    "                    (1, 'Joe', 70000, 1), (2, 'Henry', 80000, 2)\n",
    "                  , (3, 'Sam', 60000, 2), (4, 'Max', 90000, 1)\n",
    "                  , (5, 'Janet', 69000, 1), (6, 'Randy', 85000, 1)\n",
    "                 ]\n",
    "\n",
    "#departments_table = 'INSERT INTO Department (Id, Name) VALUES (%s, %s)'\n",
    "departments_data = (1, 'IT'), (2, 'Sales')"
   ]
  },
  {
   "cell_type": "code",
   "execution_count": null,
   "metadata": {
    "collapsed": true
   },
   "outputs": [],
   "source": [
    "#cur.executemany(employees_table, employees_data)\n",
    "#cur.executemany(departments_table, departments_data)\n",
    "#cnx.commit()"
   ]
  },
  {
   "cell_type": "markdown",
   "metadata": {},
   "source": [
    "To begin, we will look at what it takes to get a view of the employees with the highest salaries in each department."
   ]
  },
  {
   "cell_type": "code",
   "execution_count": 39,
   "metadata": {},
   "outputs": [
    {
     "name": "stdout",
     "output_type": "stream",
     "text": [
      "SELECT d.Name AS Department\n",
      "\t , e.Name AS Employee\n",
      "\t , Salary\n",
      "FROM Employee AS e\n",
      "\tJOIN Department AS d \n",
      "\t\tON e.DepartmentId = d.Id\n",
      "        \n",
      "WHERE (e.DepartmentId, Salary) IN (\n",
      "\tSELECT DepartmentId, MAX(Salary)\n",
      "\tFROM Employee AS e\n",
      "\tGROUP BY DepartmentId\n",
      ")\n",
      "ORDER BY Salary DESC\n",
      "------------------------------------------------------\n"
     ]
    },
    {
     "data": {
      "text/html": [
       "<div>\n",
       "<style>\n",
       "    .dataframe thead tr:only-child th {\n",
       "        text-align: right;\n",
       "    }\n",
       "\n",
       "    .dataframe thead th {\n",
       "        text-align: left;\n",
       "    }\n",
       "\n",
       "    .dataframe tbody tr th {\n",
       "        vertical-align: top;\n",
       "    }\n",
       "</style>\n",
       "<table border=\"1\" class=\"dataframe\">\n",
       "  <thead>\n",
       "    <tr style=\"text-align: right;\">\n",
       "      <th></th>\n",
       "      <th>Department</th>\n",
       "      <th>Employee</th>\n",
       "      <th>Salary</th>\n",
       "    </tr>\n",
       "  </thead>\n",
       "  <tbody>\n",
       "    <tr>\n",
       "      <th>0</th>\n",
       "      <td>IT</td>\n",
       "      <td>Max</td>\n",
       "      <td>90000</td>\n",
       "    </tr>\n",
       "    <tr>\n",
       "      <th>1</th>\n",
       "      <td>Sales</td>\n",
       "      <td>Henry</td>\n",
       "      <td>80000</td>\n",
       "    </tr>\n",
       "  </tbody>\n",
       "</table>\n",
       "</div>"
      ],
      "text/plain": [
       "  Department Employee  Salary\n",
       "0         IT      Max   90000\n",
       "1      Sales    Henry   80000"
      ]
     },
     "execution_count": 39,
     "metadata": {},
     "output_type": "execute_result"
    }
   ],
   "source": [
    "dept_sal = returnQuery('queries/Leetcode/DepartmentSalaries.sql')\n",
    "dept_sal"
   ]
  },
  {
   "cell_type": "markdown",
   "metadata": {
    "collapsed": true
   },
   "source": [
    "Next, we take this logic, and merge it with the Nth highest salary logic we did earlier to get the query and results we need"
   ]
  },
  {
   "cell_type": "code",
   "execution_count": 42,
   "metadata": {},
   "outputs": [
    {
     "name": "stdout",
     "output_type": "stream",
     "text": [
      "SELECT d.Name AS Department\n",
      "\t , e1.Name AS Employee\n",
      "\t , Salary\n",
      "FROM Employee AS e1\n",
      "\tJOIN Department AS d \n",
      "\t\tON e1.DepartmentId = d.Id\n",
      "        \n",
      "WHERE 3 > (\n",
      "\tSELECT COUNT(DISTINCT e2.Salary)\n",
      "\tFROM Employee AS e2\n",
      "\tWHERE e2.Salary > e1.Salary\n",
      "\tAND e1.DepartmentId = e2.DepartmentId\n",
      ")\n",
      "ORDER BY Department, Salary DESC\n",
      "------------------------------------------------------\n"
     ]
    },
    {
     "data": {
      "text/html": [
       "<div>\n",
       "<style>\n",
       "    .dataframe thead tr:only-child th {\n",
       "        text-align: right;\n",
       "    }\n",
       "\n",
       "    .dataframe thead th {\n",
       "        text-align: left;\n",
       "    }\n",
       "\n",
       "    .dataframe tbody tr th {\n",
       "        vertical-align: top;\n",
       "    }\n",
       "</style>\n",
       "<table border=\"1\" class=\"dataframe\">\n",
       "  <thead>\n",
       "    <tr style=\"text-align: right;\">\n",
       "      <th></th>\n",
       "      <th>Department</th>\n",
       "      <th>Employee</th>\n",
       "      <th>Salary</th>\n",
       "    </tr>\n",
       "  </thead>\n",
       "  <tbody>\n",
       "    <tr>\n",
       "      <th>0</th>\n",
       "      <td>IT</td>\n",
       "      <td>Max</td>\n",
       "      <td>90000</td>\n",
       "    </tr>\n",
       "    <tr>\n",
       "      <th>1</th>\n",
       "      <td>IT</td>\n",
       "      <td>Randy</td>\n",
       "      <td>85000</td>\n",
       "    </tr>\n",
       "    <tr>\n",
       "      <th>2</th>\n",
       "      <td>IT</td>\n",
       "      <td>Joe</td>\n",
       "      <td>70000</td>\n",
       "    </tr>\n",
       "    <tr>\n",
       "      <th>3</th>\n",
       "      <td>Sales</td>\n",
       "      <td>Henry</td>\n",
       "      <td>80000</td>\n",
       "    </tr>\n",
       "    <tr>\n",
       "      <th>4</th>\n",
       "      <td>Sales</td>\n",
       "      <td>Sam</td>\n",
       "      <td>60000</td>\n",
       "    </tr>\n",
       "  </tbody>\n",
       "</table>\n",
       "</div>"
      ],
      "text/plain": [
       "  Department Employee  Salary\n",
       "0         IT      Max   90000\n",
       "1         IT    Randy   85000\n",
       "2         IT      Joe   70000\n",
       "3      Sales    Henry   80000\n",
       "4      Sales      Sam   60000"
      ]
     },
     "execution_count": 42,
     "metadata": {},
     "output_type": "execute_result"
    }
   ],
   "source": [
    "dept_sal2 = returnQuery('queries/Leetcode/DepartmentSalaries2.sql')\n",
    "dept_sal2"
   ]
  },
  {
   "cell_type": "code",
   "execution_count": null,
   "metadata": {
    "collapsed": true
   },
   "outputs": [],
   "source": []
  }
 ],
 "metadata": {
  "kernelspec": {
   "display_name": "Python 3",
   "language": "python",
   "name": "python3"
  },
  "language_info": {
   "codemirror_mode": {
    "name": "ipython",
    "version": 3
   },
   "file_extension": ".py",
   "mimetype": "text/x-python",
   "name": "python",
   "nbconvert_exporter": "python",
   "pygments_lexer": "ipython3",
   "version": "3.6.1"
  }
 },
 "nbformat": 4,
 "nbformat_minor": 2
}
