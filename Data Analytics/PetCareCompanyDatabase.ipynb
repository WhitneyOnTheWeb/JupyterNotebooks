{
 "cells": [
  {
   "cell_type": "code",
   "execution_count": 1,
   "metadata": {
    "collapsed": true
   },
   "outputs": [],
   "source": [
    "# Import Libraries \n",
    "\n",
    "import sqlite3 as sql\n",
    "import pandas as pd\n",
    "import numpy as np\n",
    "import datetime as dt\n",
    "from scipy import stats as st\n",
    "from IPython.display import display\n",
    "from matplotlib import pyplot as plt\n",
    "import matplotlib.style\n",
    "import matplotlib.dates as dtm\n",
    "%matplotlib inline\n",
    "\n",
    "matplotlib.style.use('classic')\n",
    "\n",
    "def line():\n",
    "    print('------------------------------------')"
   ]
  },
  {
   "cell_type": "markdown",
   "metadata": {},
   "source": [
    "###### **Author: ** Whitney King\n",
    "\n",
    "**Date: ** 5/15/2018\n",
    "\n",
    "-----------------------------------------------------------------------------\n",
    "\n",
    "## Overview\n",
    "\n",
    " -  The exploration is presented in Jupyter Notebook, since this is a great \n",
    "    platform for delivering code, data, and thoughts simultaneously.\n",
    " -  As a visual aid to navigating the database and writing the queries, I am using SQLiteStudio, \n",
    "    but the rest of the work is being done in Python3\n",
    " -  This exploration uses the ```sqlite3``` library to integrate a SQLite \n",
    "    client with Python3. \n",
    "     -  This will enable exploration and in depth analysis of the data in the \n",
    "        database for the hypothetical pet care company that was aquired\n",
    "     -  Python has simple integration with other extremely powerful libraries \n",
    "        which could pull in this data for other processing needs in the future\n"
   ]
  },
  {
   "cell_type": "code",
   "execution_count": 2,
   "metadata": {
    "collapsed": true
   },
   "outputs": [],
   "source": [
    "db = 'db26.sqlite3'\n",
    "\n",
    "# Open connection to SQLite DB, and place a cursor for traversal of data\n",
    "conn = sql.connect(db)\n",
    "c = conn.cursor()\n"
   ]
  },
  {
   "cell_type": "markdown",
   "metadata": {},
   "source": [
    "## I. Exercises\n",
    "\n",
    "**The first goal should be to dig into this data to ensure everything is in order, and the following questions are correctly answered:**\n",
    "  \n",
    "To help with this next step, I will be moving to SQLiteStudio initially to explore the database structure and write some queries that can answer these questions. These queries can then be called back using Python. \n",
    " -  I think this is a good and easy to understand means of answering these simpler questions that don't require a lot of heavy lifting or analysis. \n",
    " -  It's also portable, since it keeps the queries in their own files that can be used with other systems.\n",
    "\n",
    "To bring the results back into Python and make them readble in Jupyter, we'll bring the query results in using Pandas dataframes.\n",
    "\n",
    "###  1.  How many users have signed up?\n",
    "  -  The answer is 64416 "
   ]
  },
  {
   "cell_type": "code",
   "execution_count": 3,
   "metadata": {},
   "outputs": [
    {
     "name": "stdout",
     "output_type": "stream",
     "text": [
      "------------------------------------\n",
      "SELECT COUNT(*)\n",
      "FROM people_person\n",
      "------------------------------------\n",
      "Output:  64416\n"
     ]
    }
   ],
   "source": [
    "qry1 = open('queries/explore_I1.sql', 'r').read()\n",
    "out1 = c.execute(qry1).fetchall()\n",
    "line()\n",
    "print(qry1)\n",
    "line()\n",
    "print('Output: ', out1[0][0])"
   ]
  },
  {
   "cell_type": "markdown",
   "metadata": {},
   "source": [
    "### 2.  How many users signed up prior to 2017-01-12 ?\n",
    "  - The answer is 35500 "
   ]
  },
  {
   "cell_type": "code",
   "execution_count": 4,
   "metadata": {},
   "outputs": [
    {
     "name": "stdout",
     "output_type": "stream",
     "text": [
      "------------------------------------\n",
      "SELECT COUNT(*)\n",
      "FROM people_person\n",
      "WHERE date_joined < '2017-01-12'\n",
      "------------------------------------\n",
      "Output:  35500\n"
     ]
    }
   ],
   "source": [
    "qry2 = open('queries/explore_I2.sql', 'r').read()\n",
    "out2 = c.execute(qry2).fetchall()\n",
    "line()\n",
    "print(qry2)\n",
    "line()\n",
    "print('Output: ', out2[0][0])"
   ]
  },
  {
   "cell_type": "markdown",
   "metadata": {
    "collapsed": true
   },
   "source": [
    "### 3.  What percentage of users have added pets?\n",
    "  - The answer is 80.44% \n",
    "  \n",
    "In this case, since we have a count of users from the first question, we can simply get a count of pets using a second query, and divide the two counts. SQLite lacks a robust math backbone suchas a dual table for peforming divisions on table counts like this, so writing a query to divide these table counts and get the percentage is quite messy. This is much more elegant simply doing the last bit of math here in Python."
   ]
  },
  {
   "cell_type": "code",
   "execution_count": 5,
   "metadata": {},
   "outputs": [
    {
     "name": "stdout",
     "output_type": "stream",
     "text": [
      "------------------------------------\n",
      "SELECT COUNT(count) userPets\n",
      "FROM (SELECT COUNT(*) count\n",
      "      FROM pets_pet\n",
      "      GROUP BY owner_id) pets\n",
      "------------------------------------\n",
      "Output:  51816\n",
      "% Users with Pets:  80.44\n"
     ]
    }
   ],
   "source": [
    "qry3 = open('queries/explore_I3.sql', 'r').read()\n",
    "out3 = c.execute(qry3).fetchall()\n",
    "line()\n",
    "print(qry3)\n",
    "line()\n",
    "print('Output: ', out3[0][0])\n",
    "\n",
    "pct = round(out3[0][0] / out1[0][0] * 100, 2)\n",
    "print('% Users with Pets: ', pct)"
   ]
  },
  {
   "cell_type": "markdown",
   "metadata": {},
   "source": [
    "### 4.  Of those users, how many pets have they added on average?\n",
    "  - The answer is 1.496 "
   ]
  },
  {
   "cell_type": "code",
   "execution_count": 6,
   "metadata": {},
   "outputs": [
    {
     "name": "stdout",
     "output_type": "stream",
     "text": [
      "------------------------------------\n",
      "SELECT AVG(count) avgPets\n",
      "FROM (SELECT COUNT(*) count\n",
      "      FROM pets_pet\n",
      "      GROUP BY owner_id) pets\n",
      "------------------------------------\n",
      "Output:  1.496\n"
     ]
    }
   ],
   "source": [
    "qry4 = open('queries/explore_I4.sql', 'r').read()\n",
    "out4 = c.execute(qry4).fetchall()\n",
    "line()\n",
    "print(qry4)\n",
    "line()\n",
    "print('Output: ', round(out4[0][0], 3))"
   ]
  },
  {
   "cell_type": "markdown",
   "metadata": {},
   "source": [
    "### 5. What percentage of pets play well with cats?\n",
    "  - The answer is 24.78% \n",
    "  \n",
    "We run into the same issue here with needing to divide aggragate numbers from tables to get a percentages, expect this time, we will need to generate two unique queries, since our previous count of pets was grouped by owners. "
   ]
  },
  {
   "cell_type": "code",
   "execution_count": 7,
   "metadata": {},
   "outputs": [
    {
     "name": "stdout",
     "output_type": "stream",
     "text": [
      "Query to Count Pets that Play w/ Cats\n",
      "------------------------------------\n",
      "SELECT DISTINCT COUNT(*)\n",
      "FROM pets_pet\n",
      "WHERE plays_cats == 1\n",
      "------------------------------------\n",
      "Output:  19204\n",
      "\n",
      "Query to Count All Pets\n",
      "------------------------------------\n",
      "SELECT DISTINCT COUNT(*)\n",
      "FROM pets_pet\n",
      "------------------------------------\n",
      "Output:  77512\n",
      "\n",
      "% Play Well With Cats:  24.78\n"
     ]
    }
   ],
   "source": [
    "qry5 = open('queries/explore_I5a.sql', 'r').read()\n",
    "out5 = c.execute(qry5).fetchall()\n",
    "\n",
    "print('Query to Count Pets that Play w/ Cats')\n",
    "line()\n",
    "print(qry5)\n",
    "line()\n",
    "print('Output: ', out5[0][0])\n",
    "print()\n",
    "\n",
    "qry6 = open('queries/explore_I5b.sql', 'r').read()\n",
    "out6 = c.execute(qry6).fetchall()\n",
    "print('Query to Count All Pets')\n",
    "line()\n",
    "print(qry6)\n",
    "line()\n",
    "print('Output: ', out6[0][0])\n",
    "\n",
    "pct2 = round(out5[0][0] / out6[0][0] * 100, 2)\n",
    "print()\n",
    "print('% Play Well With Cats: ', pct2)"
   ]
  },
  {
   "cell_type": "markdown",
   "metadata": {},
   "source": [
    "## II. Conversations and Bookings\n",
    "\n",
    "### 1. What are the possible services and what is the average price per unit for each service type?\n",
    "\n",
    "This is where output will begin to get a little more complicated, since we'll be looking at a key value pairs, and matrixes for output, so switching to Pandas and Numpy makes the most sense. This also has the potential to offer features in many analytical capacities down the road."
   ]
  },
  {
   "cell_type": "code",
   "execution_count": 8,
   "metadata": {},
   "outputs": [
    {
     "name": "stdout",
     "output_type": "stream",
     "text": [
      "------------------------------------\n",
      "SELECT service_type, round(AVG(price),2) avgPrice\n",
      "FROM services_service\n",
      "GROUP BY service_type\n",
      "------------------------------------\n",
      "Output: \n"
     ]
    },
    {
     "data": {
      "text/html": [
       "<div>\n",
       "<style>\n",
       "    .dataframe thead tr:only-child th {\n",
       "        text-align: right;\n",
       "    }\n",
       "\n",
       "    .dataframe thead th {\n",
       "        text-align: left;\n",
       "    }\n",
       "\n",
       "    .dataframe tbody tr th {\n",
       "        vertical-align: top;\n",
       "    }\n",
       "</style>\n",
       "<table border=\"1\" class=\"dataframe\">\n",
       "  <thead>\n",
       "    <tr style=\"text-align: right;\">\n",
       "      <th></th>\n",
       "      <th>service_type</th>\n",
       "      <th>avg_price</th>\n",
       "    </tr>\n",
       "  </thead>\n",
       "  <tbody>\n",
       "    <tr>\n",
       "      <th>0</th>\n",
       "      <td>boarding</td>\n",
       "      <td>34.51</td>\n",
       "    </tr>\n",
       "    <tr>\n",
       "      <th>1</th>\n",
       "      <td>day-care</td>\n",
       "      <td>27.01</td>\n",
       "    </tr>\n",
       "    <tr>\n",
       "      <th>2</th>\n",
       "      <td>dog-walking</td>\n",
       "      <td>21.98</td>\n",
       "    </tr>\n",
       "  </tbody>\n",
       "</table>\n",
       "</div>"
      ],
      "text/plain": [
       "  service_type  avg_price\n",
       "0     boarding      34.51\n",
       "1     day-care      27.01\n",
       "2  dog-walking      21.98"
      ]
     },
     "metadata": {},
     "output_type": "display_data"
    }
   ],
   "source": [
    "qry7 = open('queries/conversions_1.sql', 'r').read()\n",
    "out7 = pd.DataFrame(c.execute(qry7).fetchall(), columns=('service_type',\n",
    "                                                         'avg_price'))\n",
    "\n",
    "line()\n",
    "print(qry7)\n",
    "line()\n",
    "print('Output: ') \n",
    "display(out7)"
   ]
  },
  {
   "cell_type": "markdown",
   "metadata": {},
   "source": [
    "The above output shows boarding with an average price per unit of 34.51, day care with 27.01, and dog walking with 21.98\n",
    "\n",
    "### 2. How many requests have there been for each service type and what percentage of those have booked? \n",
    "\n",
    "The percentage of those that have booked is called booking rate.\n",
    "\n",
    "To answer the first part of this question, we'll want a query that returns counts for services requested in each service type."
   ]
  },
  {
   "cell_type": "code",
   "execution_count": 9,
   "metadata": {},
   "outputs": [
    {
     "name": "stdout",
     "output_type": "stream",
     "text": [
      "------------------------------------\n",
      "SELECT service_type, COUNT(c.id) service_volume\n",
      "FROM services_service AS s\n",
      "    INNER JOIN conversations_conversation AS c ON s.id = c.service_id\n",
      "GROUP BY service_type\n",
      "------------------------------------\n",
      "Output: \n"
     ]
    },
    {
     "data": {
      "text/html": [
       "<div>\n",
       "<style>\n",
       "    .dataframe thead tr:only-child th {\n",
       "        text-align: right;\n",
       "    }\n",
       "\n",
       "    .dataframe thead th {\n",
       "        text-align: left;\n",
       "    }\n",
       "\n",
       "    .dataframe tbody tr th {\n",
       "        vertical-align: top;\n",
       "    }\n",
       "</style>\n",
       "<table border=\"1\" class=\"dataframe\">\n",
       "  <thead>\n",
       "    <tr style=\"text-align: right;\">\n",
       "      <th></th>\n",
       "      <th>0</th>\n",
       "      <th>1</th>\n",
       "    </tr>\n",
       "  </thead>\n",
       "  <tbody>\n",
       "    <tr>\n",
       "      <th>0</th>\n",
       "      <td>boarding</td>\n",
       "      <td>26665</td>\n",
       "    </tr>\n",
       "    <tr>\n",
       "      <th>1</th>\n",
       "      <td>day-care</td>\n",
       "      <td>26362</td>\n",
       "    </tr>\n",
       "    <tr>\n",
       "      <th>2</th>\n",
       "      <td>dog-walking</td>\n",
       "      <td>26716</td>\n",
       "    </tr>\n",
       "  </tbody>\n",
       "</table>\n",
       "</div>"
      ],
      "text/plain": [
       "             0      1\n",
       "0     boarding  26665\n",
       "1     day-care  26362\n",
       "2  dog-walking  26716"
      ]
     },
     "metadata": {},
     "output_type": "display_data"
    }
   ],
   "source": [
    "qry8 = open('queries/conversions_2.sql', 'r').read()\n",
    "out8 = pd.DataFrame(c.execute(qry8).fetchall())\n",
    "\n",
    "service_volumes = out8[1]\n",
    "\n",
    "line()\n",
    "print(qry8)\n",
    "line()\n",
    "\n",
    "print('Output: ')\n",
    "display(out8)"
   ]
  },
  {
   "cell_type": "markdown",
   "metadata": {},
   "source": [
    "Next, to return the booking rate, we'll have to implement some similar trickery with additional queries to obtain the average of the counts. Luckily, Pandas DataFrames are well equipped to handle the math necessary on the matrixes. First, we'll return a matrix with counts of the number of bookings for each service, then we'll divide that by the number of total requests to get the booking rate."
   ]
  },
  {
   "cell_type": "code",
   "execution_count": 10,
   "metadata": {},
   "outputs": [
    {
     "name": "stdout",
     "output_type": "stream",
     "text": [
      "------------------------------------\n",
      "SELECT service_type, COUNT(booked_at) booked_count\n",
      "FROM services_service AS s\n",
      "    INNER JOIN conversations_conversation AS c ON s.id = c.service_id\n",
      "GROUP BY service_type;\n",
      "------------------------------------\n",
      "\n",
      "Output: \n"
     ]
    },
    {
     "data": {
      "text/html": [
       "<div>\n",
       "<style>\n",
       "    .dataframe thead tr:only-child th {\n",
       "        text-align: right;\n",
       "    }\n",
       "\n",
       "    .dataframe thead th {\n",
       "        text-align: left;\n",
       "    }\n",
       "\n",
       "    .dataframe tbody tr th {\n",
       "        vertical-align: top;\n",
       "    }\n",
       "</style>\n",
       "<table border=\"1\" class=\"dataframe\">\n",
       "  <thead>\n",
       "    <tr style=\"text-align: right;\">\n",
       "      <th></th>\n",
       "      <th>0</th>\n",
       "      <th>1</th>\n",
       "    </tr>\n",
       "  </thead>\n",
       "  <tbody>\n",
       "    <tr>\n",
       "      <th>0</th>\n",
       "      <td>boarding</td>\n",
       "      <td>10862</td>\n",
       "    </tr>\n",
       "    <tr>\n",
       "      <th>1</th>\n",
       "      <td>day-care</td>\n",
       "      <td>9417</td>\n",
       "    </tr>\n",
       "    <tr>\n",
       "      <th>2</th>\n",
       "      <td>dog-walking</td>\n",
       "      <td>12811</td>\n",
       "    </tr>\n",
       "  </tbody>\n",
       "</table>\n",
       "</div>"
      ],
      "text/plain": [
       "             0      1\n",
       "0     boarding  10862\n",
       "1     day-care   9417\n",
       "2  dog-walking  12811"
      ]
     },
     "metadata": {},
     "output_type": "display_data"
    },
    {
     "name": "stdout",
     "output_type": "stream",
     "text": [
      "\n",
      "Output with Booking %\n"
     ]
    },
    {
     "data": {
      "text/html": [
       "<div>\n",
       "<style>\n",
       "    .dataframe thead tr:only-child th {\n",
       "        text-align: right;\n",
       "    }\n",
       "\n",
       "    .dataframe thead th {\n",
       "        text-align: left;\n",
       "    }\n",
       "\n",
       "    .dataframe tbody tr th {\n",
       "        vertical-align: top;\n",
       "    }\n",
       "</style>\n",
       "<table border=\"1\" class=\"dataframe\">\n",
       "  <thead>\n",
       "    <tr style=\"text-align: right;\">\n",
       "      <th></th>\n",
       "      <th>0</th>\n",
       "      <th>1</th>\n",
       "    </tr>\n",
       "  </thead>\n",
       "  <tbody>\n",
       "    <tr>\n",
       "      <th>0</th>\n",
       "      <td>boarding</td>\n",
       "      <td>40.74</td>\n",
       "    </tr>\n",
       "    <tr>\n",
       "      <th>1</th>\n",
       "      <td>day-care</td>\n",
       "      <td>35.72</td>\n",
       "    </tr>\n",
       "    <tr>\n",
       "      <th>2</th>\n",
       "      <td>dog-walking</td>\n",
       "      <td>47.95</td>\n",
       "    </tr>\n",
       "  </tbody>\n",
       "</table>\n",
       "</div>"
      ],
      "text/plain": [
       "             0      1\n",
       "0     boarding  40.74\n",
       "1     day-care  35.72\n",
       "2  dog-walking  47.95"
      ]
     },
     "metadata": {},
     "output_type": "display_data"
    }
   ],
   "source": [
    "qry9 = open('queries/conversions_2b.sql', 'r').read()\n",
    "out9 = pd.DataFrame(c.execute(qry9).fetchall())\n",
    "\n",
    "booked_count = out9[1]\n",
    "\n",
    "line()\n",
    "print(qry9)\n",
    "line()\n",
    "print()\n",
    "print('Output: ')\n",
    "display(out9)\n",
    "\n",
    "out9[1] = round(booked_count / service_volumes * 100, 2)\n",
    "\n",
    "print()\n",
    "print('Output with Booking %')\n",
    "display(out9)"
   ]
  },
  {
   "cell_type": "markdown",
   "metadata": {},
   "source": [
    "### 3. What are the cancellation rates for each service?\n",
    "\n",
    "We can reuse a very similar query to what was used for booking rates to calculate the cancellation rates"
   ]
  },
  {
   "cell_type": "code",
   "execution_count": 47,
   "metadata": {},
   "outputs": [
    {
     "name": "stdout",
     "output_type": "stream",
     "text": [
      "------------------------------------\n",
      "SELECT service_type, COUNT(cancelled_at) cancelled_count\n",
      "FROM services_service AS s\n",
      "    INNER JOIN conversations_conversation AS c ON s.id = c.service_id\n",
      "GROUP BY service_type;\n",
      "------------------------------------\n",
      "\n",
      "Output:\n"
     ]
    },
    {
     "data": {
      "text/html": [
       "<div>\n",
       "<style>\n",
       "    .dataframe thead tr:only-child th {\n",
       "        text-align: right;\n",
       "    }\n",
       "\n",
       "    .dataframe thead th {\n",
       "        text-align: left;\n",
       "    }\n",
       "\n",
       "    .dataframe tbody tr th {\n",
       "        vertical-align: top;\n",
       "    }\n",
       "</style>\n",
       "<table border=\"1\" class=\"dataframe\">\n",
       "  <thead>\n",
       "    <tr style=\"text-align: right;\">\n",
       "      <th></th>\n",
       "      <th>0</th>\n",
       "      <th>1</th>\n",
       "    </tr>\n",
       "  </thead>\n",
       "  <tbody>\n",
       "    <tr>\n",
       "      <th>0</th>\n",
       "      <td>boarding</td>\n",
       "      <td>1051</td>\n",
       "    </tr>\n",
       "    <tr>\n",
       "      <th>1</th>\n",
       "      <td>day-care</td>\n",
       "      <td>919</td>\n",
       "    </tr>\n",
       "    <tr>\n",
       "      <th>2</th>\n",
       "      <td>dog-walking</td>\n",
       "      <td>1218</td>\n",
       "    </tr>\n",
       "  </tbody>\n",
       "</table>\n",
       "</div>"
      ],
      "text/plain": [
       "             0     1\n",
       "0     boarding  1051\n",
       "1     day-care   919\n",
       "2  dog-walking  1218"
      ]
     },
     "metadata": {},
     "output_type": "display_data"
    },
    {
     "name": "stdout",
     "output_type": "stream",
     "text": [
      "\n",
      "Output with Cancel %\n"
     ]
    },
    {
     "data": {
      "text/html": [
       "<div>\n",
       "<style>\n",
       "    .dataframe thead tr:only-child th {\n",
       "        text-align: right;\n",
       "    }\n",
       "\n",
       "    .dataframe thead th {\n",
       "        text-align: left;\n",
       "    }\n",
       "\n",
       "    .dataframe tbody tr th {\n",
       "        vertical-align: top;\n",
       "    }\n",
       "</style>\n",
       "<table border=\"1\" class=\"dataframe\">\n",
       "  <thead>\n",
       "    <tr style=\"text-align: right;\">\n",
       "      <th></th>\n",
       "      <th>0</th>\n",
       "      <th>1</th>\n",
       "    </tr>\n",
       "  </thead>\n",
       "  <tbody>\n",
       "    <tr>\n",
       "      <th>0</th>\n",
       "      <td>boarding</td>\n",
       "      <td>3.94</td>\n",
       "    </tr>\n",
       "    <tr>\n",
       "      <th>1</th>\n",
       "      <td>day-care</td>\n",
       "      <td>3.49</td>\n",
       "    </tr>\n",
       "    <tr>\n",
       "      <th>2</th>\n",
       "      <td>dog-walking</td>\n",
       "      <td>4.56</td>\n",
       "    </tr>\n",
       "  </tbody>\n",
       "</table>\n",
       "</div>"
      ],
      "text/plain": [
       "             0     1\n",
       "0     boarding  3.94\n",
       "1     day-care  3.49\n",
       "2  dog-walking  4.56"
      ]
     },
     "metadata": {},
     "output_type": "display_data"
    }
   ],
   "source": [
    "qry10 = open('queries/conversions_2c.sql', 'r').read()\n",
    "out10 = pd.DataFrame(c.execute(qry10).fetchall())\n",
    "\n",
    "cancelled_count = out10[1]\n",
    "\n",
    "line()\n",
    "print(qry10)\n",
    "line()\n",
    "print()\n",
    "print('Output:')\n",
    "display(out10)\n",
    "\n",
    "out10[1] = round(cancelled_count / service_volumes * 100, 2)\n",
    "\n",
    "print()\n",
    "print('Output with Cancel %')\n",
    "display(out10)"
   ]
  },
  {
   "cell_type": "markdown",
   "metadata": {},
   "source": [
    "### 4. For uncancelled bookings, is the owner or provider more likely to leave a review and which tends to leave better reviews? \n",
    "\n",
    "How would you narrate this finding to a business partner?\n",
    "\n",
    "This question calls for a little more analytical heavy lifting, and for a data geek and almost always be best explained by implementing a few little libraries. In this case, we can start where we've been, by bringing the data in via SQLite and a dataframe, and then diving into a little further with what's included with it's processing functionality to help figured out the answer.\n"
   ]
  },
  {
   "cell_type": "code",
   "execution_count": 48,
   "metadata": {},
   "outputs": [
    {
     "name": "stdout",
     "output_type": "stream",
     "text": [
      "------------------------------------\n",
      "SELECT r.stars AS rating,\n",
      "       COUNT(reviewer_id), \n",
      "       CASE WHEN reviewer_id < (SELECT MAX(provider_id)\n",
      "                                FROM services_service AS s) \n",
      "       THEN 'provider' ELSE 'owner' END AS person\n",
      "FROM conversations_review AS r\n",
      "    JOIN people_person AS p ON p.id = r.reviewer_id\n",
      "        JOIN conversations_conversation AS c ON c.id = r.conversation_id\n",
      "WHERE c.booked_at IS NOT NULL \n",
      "    AND c.cancelled_at IS NULL -- Service booked and not cancelled\n",
      "GROUP BY person, r.stars\n",
      "------------------------------------\n",
      "\n",
      "Preview: \n",
      "\n"
     ]
    },
    {
     "data": {
      "text/html": [
       "<div>\n",
       "<style>\n",
       "    .dataframe thead tr:only-child th {\n",
       "        text-align: right;\n",
       "    }\n",
       "\n",
       "    .dataframe thead th {\n",
       "        text-align: left;\n",
       "    }\n",
       "\n",
       "    .dataframe tbody tr th {\n",
       "        vertical-align: top;\n",
       "    }\n",
       "</style>\n",
       "<table border=\"1\" class=\"dataframe\">\n",
       "  <thead>\n",
       "    <tr style=\"text-align: right;\">\n",
       "      <th></th>\n",
       "      <th>rating</th>\n",
       "      <th>reviewer_id</th>\n",
       "      <th>person</th>\n",
       "    </tr>\n",
       "  </thead>\n",
       "  <tbody>\n",
       "    <tr>\n",
       "      <th>0</th>\n",
       "      <td>1</td>\n",
       "      <td>1368</td>\n",
       "      <td>owner</td>\n",
       "    </tr>\n",
       "    <tr>\n",
       "      <th>1</th>\n",
       "      <td>2</td>\n",
       "      <td>1359</td>\n",
       "      <td>owner</td>\n",
       "    </tr>\n",
       "    <tr>\n",
       "      <th>2</th>\n",
       "      <td>3</td>\n",
       "      <td>1246</td>\n",
       "      <td>owner</td>\n",
       "    </tr>\n",
       "    <tr>\n",
       "      <th>3</th>\n",
       "      <td>4</td>\n",
       "      <td>1324</td>\n",
       "      <td>owner</td>\n",
       "    </tr>\n",
       "    <tr>\n",
       "      <th>4</th>\n",
       "      <td>5</td>\n",
       "      <td>17196</td>\n",
       "      <td>owner</td>\n",
       "    </tr>\n",
       "  </tbody>\n",
       "</table>\n",
       "</div>"
      ],
      "text/plain": [
       "   rating  reviewer_id person\n",
       "0       1         1368  owner\n",
       "1       2         1359  owner\n",
       "2       3         1246  owner\n",
       "3       4         1324  owner\n",
       "4       5        17196  owner"
      ]
     },
     "metadata": {},
     "output_type": "display_data"
    }
   ],
   "source": [
    "qry11 = open('queries/conversions_3.sql', 'r').read()\n",
    "out11 = pd.DataFrame(c.execute(qry11).fetchall(), \n",
    "                     columns = ('rating', 'reviewer_id', 'person'))\n",
    "\n",
    "line()\n",
    "print(qry11)\n",
    "line()\n",
    "print()\n",
    "print('Preview: \\n')\n",
    "display(out11.head())"
   ]
  },
  {
   "cell_type": "code",
   "execution_count": 49,
   "metadata": {},
   "outputs": [
    {
     "data": {
      "text/html": [
       "<div>\n",
       "<style>\n",
       "    .dataframe thead tr:only-child th {\n",
       "        text-align: right;\n",
       "    }\n",
       "\n",
       "    .dataframe thead th {\n",
       "        text-align: left;\n",
       "    }\n",
       "\n",
       "    .dataframe tbody tr th {\n",
       "        vertical-align: top;\n",
       "    }\n",
       "</style>\n",
       "<table border=\"1\" class=\"dataframe\">\n",
       "  <thead>\n",
       "    <tr style=\"text-align: right;\">\n",
       "      <th>person</th>\n",
       "      <th>owner</th>\n",
       "      <th>provider</th>\n",
       "    </tr>\n",
       "    <tr>\n",
       "      <th>rating</th>\n",
       "      <th></th>\n",
       "      <th></th>\n",
       "    </tr>\n",
       "  </thead>\n",
       "  <tbody>\n",
       "    <tr>\n",
       "      <th>1</th>\n",
       "      <td>1368</td>\n",
       "      <td>683</td>\n",
       "    </tr>\n",
       "    <tr>\n",
       "      <th>2</th>\n",
       "      <td>1359</td>\n",
       "      <td>673</td>\n",
       "    </tr>\n",
       "    <tr>\n",
       "      <th>3</th>\n",
       "      <td>1246</td>\n",
       "      <td>651</td>\n",
       "    </tr>\n",
       "    <tr>\n",
       "      <th>4</th>\n",
       "      <td>1324</td>\n",
       "      <td>680</td>\n",
       "    </tr>\n",
       "    <tr>\n",
       "      <th>5</th>\n",
       "      <td>17196</td>\n",
       "      <td>3356</td>\n",
       "    </tr>\n",
       "  </tbody>\n",
       "</table>\n",
       "</div>"
      ],
      "text/plain": [
       "person  owner  provider\n",
       "rating                 \n",
       "1        1368       683\n",
       "2        1359       673\n",
       "3        1246       651\n",
       "4        1324       680\n",
       "5       17196      3356"
      ]
     },
     "metadata": {},
     "output_type": "display_data"
    },
    {
     "data": {
      "text/html": [
       "<div>\n",
       "<style>\n",
       "    .dataframe thead tr:only-child th {\n",
       "        text-align: right;\n",
       "    }\n",
       "\n",
       "    .dataframe thead th {\n",
       "        text-align: left;\n",
       "    }\n",
       "\n",
       "    .dataframe tbody tr th {\n",
       "        vertical-align: top;\n",
       "    }\n",
       "</style>\n",
       "<table border=\"1\" class=\"dataframe\">\n",
       "  <thead>\n",
       "    <tr style=\"text-align: right;\">\n",
       "      <th>person</th>\n",
       "      <th>owner</th>\n",
       "      <th>provider</th>\n",
       "      <th>review_total</th>\n",
       "      <th>owner_pct</th>\n",
       "      <th>provider_pct</th>\n",
       "    </tr>\n",
       "    <tr>\n",
       "      <th>rating</th>\n",
       "      <th></th>\n",
       "      <th></th>\n",
       "      <th></th>\n",
       "      <th></th>\n",
       "      <th></th>\n",
       "    </tr>\n",
       "  </thead>\n",
       "  <tbody>\n",
       "    <tr>\n",
       "      <th>1</th>\n",
       "      <td>1368</td>\n",
       "      <td>683</td>\n",
       "      <td>2051</td>\n",
       "      <td>0.67</td>\n",
       "      <td>0.33</td>\n",
       "    </tr>\n",
       "    <tr>\n",
       "      <th>2</th>\n",
       "      <td>1359</td>\n",
       "      <td>673</td>\n",
       "      <td>2032</td>\n",
       "      <td>0.67</td>\n",
       "      <td>0.33</td>\n",
       "    </tr>\n",
       "    <tr>\n",
       "      <th>3</th>\n",
       "      <td>1246</td>\n",
       "      <td>651</td>\n",
       "      <td>1897</td>\n",
       "      <td>0.66</td>\n",
       "      <td>0.34</td>\n",
       "    </tr>\n",
       "    <tr>\n",
       "      <th>4</th>\n",
       "      <td>1324</td>\n",
       "      <td>680</td>\n",
       "      <td>2004</td>\n",
       "      <td>0.66</td>\n",
       "      <td>0.34</td>\n",
       "    </tr>\n",
       "    <tr>\n",
       "      <th>5</th>\n",
       "      <td>17196</td>\n",
       "      <td>3356</td>\n",
       "      <td>20552</td>\n",
       "      <td>0.84</td>\n",
       "      <td>0.16</td>\n",
       "    </tr>\n",
       "  </tbody>\n",
       "</table>\n",
       "</div>"
      ],
      "text/plain": [
       "person  owner  provider  review_total  owner_pct  provider_pct\n",
       "rating                                                        \n",
       "1        1368       683          2051       0.67          0.33\n",
       "2        1359       673          2032       0.67          0.33\n",
       "3        1246       651          1897       0.66          0.34\n",
       "4        1324       680          2004       0.66          0.34\n",
       "5       17196      3356         20552       0.84          0.16"
      ]
     },
     "metadata": {},
     "output_type": "display_data"
    },
    {
     "data": {
      "text/plain": [
       "'Total Reviews: '"
      ]
     },
     "metadata": {},
     "output_type": "display_data"
    },
    {
     "data": {
      "text/plain": [
       "28536"
      ]
     },
     "metadata": {},
     "output_type": "display_data"
    }
   ],
   "source": [
    "# Displays Counts of Reviews for each level of Rating, split by owner and provider\n",
    "pvt = out11.pivot(index='rating', columns='person', values='reviewer_id')\n",
    "display(pvt)\n",
    "\n",
    "# Create features that will be used for the bulk of analysis\n",
    "pvt['review_total'] = pvt['owner'] + pvt['provider']\n",
    "pvt['owner_pct'] = round(pvt['owner'] / pvt['review_total'], 2)\n",
    "pvt['provider_pct'] = round(pvt['provider'] / pvt['review_total'], 2)\n",
    "\n",
    "# Final output with more informative columns\n",
    "display(pvt)\n",
    "\n",
    "# Sanity Check Total Reviews Against SQL Query\n",
    "total_reviews = int(np.sum(out11[['reviewer_id']]))\n",
    "display('Total Reviews: ', total_reviews)"
   ]
  },
  {
   "cell_type": "markdown",
   "metadata": {},
   "source": [
    "Overall this final table lets us narrate the story as needed. In every rating category, owners are more likely to leave reviews than providers, with at least two thirds of reviews being left my owners for each level. This changes however for expecially positive experiences. For 5 star ratings, owners are even more likely to take an extra bit of effort to leave a review, as 84% of review in this category were left from owners. This shows good service can really pay off in the long run with word-of-mouth marketing for providers.\n",
    "\n",
    "## III. Recent Daily Booking Rate\n",
    "\n"
   ]
  },
  {
   "cell_type": "markdown",
   "metadata": {
    "collapsed": true
   },
   "source": [
    "Given the scenario that a junior analyst has a snapshot of this database from 2017-07-11 at midnight, and it only contains data prior that that time they appear concerned that booking rates are on a downward trend. \n",
    "\n",
    "First, let's reproduce their results. They tell you that daily booking rate is defined to be the percentage of conversations created each day that eventually book. \n",
    "\n",
    "### 1. What is the daily booking rate for each of the 90 days prior to the snapshot? Is there a downward trend?\n",
    "\n",
    "To answer this question, I will first write two SQL queries, and then use them to bring the data into this notebook for further processing and analysis."
   ]
  },
  {
   "cell_type": "code",
   "execution_count": 50,
   "metadata": {},
   "outputs": [
    {
     "name": "stdout",
     "output_type": "stream",
     "text": [
      "------------------------------------\n",
      "SELECT DATE(c.booked_at) AS booked_date\n",
      "     , STRFTIME('%m', DATE(c.booked_at)) AS booked_month\n",
      "     , COUNT(DATE(c.booked_at)) AS booked_count\n",
      "FROM conversations_conversation AS c\n",
      "WHERE c.booked_at BETWEEN '2017-04-12' AND '2017-07-11' -- 90 Day Snapshot of BOOKINGS\n",
      "GROUP BY DATE(c.booked_at)\n",
      "ORDER BY DATE(c.booked_at) ASC\n",
      "\n",
      "------------------------------------\n",
      "Output:  2017-04-12\n"
     ]
    },
    {
     "data": {
      "text/html": [
       "<div>\n",
       "<style>\n",
       "    .dataframe thead tr:only-child th {\n",
       "        text-align: right;\n",
       "    }\n",
       "\n",
       "    .dataframe thead th {\n",
       "        text-align: left;\n",
       "    }\n",
       "\n",
       "    .dataframe tbody tr th {\n",
       "        vertical-align: top;\n",
       "    }\n",
       "</style>\n",
       "<table border=\"1\" class=\"dataframe\">\n",
       "  <thead>\n",
       "    <tr style=\"text-align: right;\">\n",
       "      <th></th>\n",
       "      <th>booked_date</th>\n",
       "      <th>booked_month</th>\n",
       "      <th>booked_count</th>\n",
       "    </tr>\n",
       "  </thead>\n",
       "  <tbody>\n",
       "    <tr>\n",
       "      <th>0</th>\n",
       "      <td>2017-04-12</td>\n",
       "      <td>04</td>\n",
       "      <td>89</td>\n",
       "    </tr>\n",
       "    <tr>\n",
       "      <th>1</th>\n",
       "      <td>2017-04-13</td>\n",
       "      <td>04</td>\n",
       "      <td>103</td>\n",
       "    </tr>\n",
       "    <tr>\n",
       "      <th>2</th>\n",
       "      <td>2017-04-14</td>\n",
       "      <td>04</td>\n",
       "      <td>100</td>\n",
       "    </tr>\n",
       "    <tr>\n",
       "      <th>3</th>\n",
       "      <td>2017-04-15</td>\n",
       "      <td>04</td>\n",
       "      <td>91</td>\n",
       "    </tr>\n",
       "    <tr>\n",
       "      <th>4</th>\n",
       "      <td>2017-04-16</td>\n",
       "      <td>04</td>\n",
       "      <td>98</td>\n",
       "    </tr>\n",
       "  </tbody>\n",
       "</table>\n",
       "</div>"
      ],
      "text/plain": [
       "  booked_date booked_month  booked_count\n",
       "0  2017-04-12           04            89\n",
       "1  2017-04-13           04           103\n",
       "2  2017-04-14           04           100\n",
       "3  2017-04-15           04            91\n",
       "4  2017-04-16           04            98"
      ]
     },
     "metadata": {},
     "output_type": "display_data"
    },
    {
     "data": {
      "text/html": [
       "<div>\n",
       "<style>\n",
       "    .dataframe thead tr:only-child th {\n",
       "        text-align: right;\n",
       "    }\n",
       "\n",
       "    .dataframe thead th {\n",
       "        text-align: left;\n",
       "    }\n",
       "\n",
       "    .dataframe tbody tr th {\n",
       "        vertical-align: top;\n",
       "    }\n",
       "</style>\n",
       "<table border=\"1\" class=\"dataframe\">\n",
       "  <thead>\n",
       "    <tr style=\"text-align: right;\">\n",
       "      <th></th>\n",
       "      <th>booked_date</th>\n",
       "      <th>booked_month</th>\n",
       "      <th>booked_count</th>\n",
       "    </tr>\n",
       "  </thead>\n",
       "  <tbody>\n",
       "    <tr>\n",
       "      <th>85</th>\n",
       "      <td>2017-07-06</td>\n",
       "      <td>07</td>\n",
       "      <td>124</td>\n",
       "    </tr>\n",
       "    <tr>\n",
       "      <th>86</th>\n",
       "      <td>2017-07-07</td>\n",
       "      <td>07</td>\n",
       "      <td>149</td>\n",
       "    </tr>\n",
       "    <tr>\n",
       "      <th>87</th>\n",
       "      <td>2017-07-08</td>\n",
       "      <td>07</td>\n",
       "      <td>123</td>\n",
       "    </tr>\n",
       "    <tr>\n",
       "      <th>88</th>\n",
       "      <td>2017-07-09</td>\n",
       "      <td>07</td>\n",
       "      <td>142</td>\n",
       "    </tr>\n",
       "    <tr>\n",
       "      <th>89</th>\n",
       "      <td>2017-07-10</td>\n",
       "      <td>07</td>\n",
       "      <td>130</td>\n",
       "    </tr>\n",
       "  </tbody>\n",
       "</table>\n",
       "</div>"
      ],
      "text/plain": [
       "   booked_date booked_month  booked_count\n",
       "85  2017-07-06           07           124\n",
       "86  2017-07-07           07           149\n",
       "87  2017-07-08           07           123\n",
       "88  2017-07-09           07           142\n",
       "89  2017-07-10           07           130"
      ]
     },
     "metadata": {},
     "output_type": "display_data"
    }
   ],
   "source": [
    "# SQL Query to get 90 Day Requested Window of Booking Counts\n",
    "qry12 = open('queries/booking_1.sql', 'r').read()\n",
    "out12 = c.execute(qry12).fetchall()\n",
    "line()\n",
    "print(qry12)\n",
    "line()\n",
    "print('Output: ', out12[0][0])\n",
    "\n",
    "bookings = pd.DataFrame(out12, columns=('booked_date', \n",
    "                                        'booked_month',\n",
    "                                        'booked_count'))\n",
    "display(bookings.head())\n",
    "display(bookings.tail())"
   ]
  },
  {
   "cell_type": "code",
   "execution_count": 51,
   "metadata": {},
   "outputs": [
    {
     "name": "stdout",
     "output_type": "stream",
     "text": [
      "------------------------------------\n",
      "SELECT DATE(cc.added) AS conversation_date, COUNT(cc.added) AS conversation_count\n",
      "FROM conversations_conversation AS cc\n",
      "WHERE cc.added BETWEEN '2017-04-12' AND '2017-07-11'\n",
      "GROUP BY DATE(cc.added)\n",
      "ORDER BY DATE(cc.added) ASC\n",
      "\n",
      "------------------------------------\n",
      "Output:  2017-04-12\n"
     ]
    },
    {
     "data": {
      "text/html": [
       "<div>\n",
       "<style>\n",
       "    .dataframe thead tr:only-child th {\n",
       "        text-align: right;\n",
       "    }\n",
       "\n",
       "    .dataframe thead th {\n",
       "        text-align: left;\n",
       "    }\n",
       "\n",
       "    .dataframe tbody tr th {\n",
       "        vertical-align: top;\n",
       "    }\n",
       "</style>\n",
       "<table border=\"1\" class=\"dataframe\">\n",
       "  <thead>\n",
       "    <tr style=\"text-align: right;\">\n",
       "      <th></th>\n",
       "      <th>conv_date</th>\n",
       "      <th>conv_count</th>\n",
       "    </tr>\n",
       "  </thead>\n",
       "  <tbody>\n",
       "    <tr>\n",
       "      <th>0</th>\n",
       "      <td>2017-04-12</td>\n",
       "      <td>213</td>\n",
       "    </tr>\n",
       "    <tr>\n",
       "      <th>1</th>\n",
       "      <td>2017-04-13</td>\n",
       "      <td>226</td>\n",
       "    </tr>\n",
       "    <tr>\n",
       "      <th>2</th>\n",
       "      <td>2017-04-14</td>\n",
       "      <td>213</td>\n",
       "    </tr>\n",
       "    <tr>\n",
       "      <th>3</th>\n",
       "      <td>2017-04-15</td>\n",
       "      <td>213</td>\n",
       "    </tr>\n",
       "    <tr>\n",
       "      <th>4</th>\n",
       "      <td>2017-04-16</td>\n",
       "      <td>206</td>\n",
       "    </tr>\n",
       "  </tbody>\n",
       "</table>\n",
       "</div>"
      ],
      "text/plain": [
       "    conv_date  conv_count\n",
       "0  2017-04-12         213\n",
       "1  2017-04-13         226\n",
       "2  2017-04-14         213\n",
       "3  2017-04-15         213\n",
       "4  2017-04-16         206"
      ]
     },
     "metadata": {},
     "output_type": "display_data"
    },
    {
     "data": {
      "text/html": [
       "<div>\n",
       "<style>\n",
       "    .dataframe thead tr:only-child th {\n",
       "        text-align: right;\n",
       "    }\n",
       "\n",
       "    .dataframe thead th {\n",
       "        text-align: left;\n",
       "    }\n",
       "\n",
       "    .dataframe tbody tr th {\n",
       "        vertical-align: top;\n",
       "    }\n",
       "</style>\n",
       "<table border=\"1\" class=\"dataframe\">\n",
       "  <thead>\n",
       "    <tr style=\"text-align: right;\">\n",
       "      <th></th>\n",
       "      <th>conv_date</th>\n",
       "      <th>conv_count</th>\n",
       "    </tr>\n",
       "  </thead>\n",
       "  <tbody>\n",
       "    <tr>\n",
       "      <th>85</th>\n",
       "      <td>2017-07-06</td>\n",
       "      <td>269</td>\n",
       "    </tr>\n",
       "    <tr>\n",
       "      <th>86</th>\n",
       "      <td>2017-07-07</td>\n",
       "      <td>278</td>\n",
       "    </tr>\n",
       "    <tr>\n",
       "      <th>87</th>\n",
       "      <td>2017-07-08</td>\n",
       "      <td>274</td>\n",
       "    </tr>\n",
       "    <tr>\n",
       "      <th>88</th>\n",
       "      <td>2017-07-09</td>\n",
       "      <td>320</td>\n",
       "    </tr>\n",
       "    <tr>\n",
       "      <th>89</th>\n",
       "      <td>2017-07-10</td>\n",
       "      <td>290</td>\n",
       "    </tr>\n",
       "  </tbody>\n",
       "</table>\n",
       "</div>"
      ],
      "text/plain": [
       "     conv_date  conv_count\n",
       "85  2017-07-06         269\n",
       "86  2017-07-07         278\n",
       "87  2017-07-08         274\n",
       "88  2017-07-09         320\n",
       "89  2017-07-10         290"
      ]
     },
     "metadata": {},
     "output_type": "display_data"
    }
   ],
   "source": [
    "# SQL Query to get 90 Day Requested Window of Conversation Counts\n",
    "qry13 = open('queries/booking_2.sql', 'r').read()\n",
    "out13 = c.execute(qry13).fetchall()\n",
    "line()\n",
    "print(qry13)\n",
    "line()\n",
    "print('Output: ', out13[0][0])\n",
    "\n",
    "conversations = pd.DataFrame(out13, columns=('conv_date',\n",
    "                                             'conv_count'))\n",
    "display(conversations.head())\n",
    "display(conversations.tail())\n"
   ]
  },
  {
   "cell_type": "markdown",
   "metadata": {},
   "source": [
    "Now that both types of counting based on the dates are done, these data frames can be merged and the rest of the analysis should be relatively simple. Since we're working with dates and counts, this dataset is a great candidate for a graph to make the most of the explaination."
   ]
  },
  {
   "cell_type": "code",
   "execution_count": 52,
   "metadata": {},
   "outputs": [
    {
     "data": {
      "text/html": [
       "<div>\n",
       "<style>\n",
       "    .dataframe thead tr:only-child th {\n",
       "        text-align: right;\n",
       "    }\n",
       "\n",
       "    .dataframe thead th {\n",
       "        text-align: left;\n",
       "    }\n",
       "\n",
       "    .dataframe tbody tr th {\n",
       "        vertical-align: top;\n",
       "    }\n",
       "</style>\n",
       "<table border=\"1\" class=\"dataframe\">\n",
       "  <thead>\n",
       "    <tr style=\"text-align: right;\">\n",
       "      <th></th>\n",
       "      <th>booked_date</th>\n",
       "      <th>booked_month</th>\n",
       "      <th>booked_count</th>\n",
       "      <th>conv_count</th>\n",
       "      <th>daily_booking_rate</th>\n",
       "    </tr>\n",
       "  </thead>\n",
       "  <tbody>\n",
       "    <tr>\n",
       "      <th>0</th>\n",
       "      <td>2017-04-12</td>\n",
       "      <td>04</td>\n",
       "      <td>89</td>\n",
       "      <td>213</td>\n",
       "      <td>0.417840</td>\n",
       "    </tr>\n",
       "    <tr>\n",
       "      <th>1</th>\n",
       "      <td>2017-04-13</td>\n",
       "      <td>04</td>\n",
       "      <td>103</td>\n",
       "      <td>226</td>\n",
       "      <td>0.455752</td>\n",
       "    </tr>\n",
       "    <tr>\n",
       "      <th>2</th>\n",
       "      <td>2017-04-14</td>\n",
       "      <td>04</td>\n",
       "      <td>100</td>\n",
       "      <td>213</td>\n",
       "      <td>0.469484</td>\n",
       "    </tr>\n",
       "    <tr>\n",
       "      <th>3</th>\n",
       "      <td>2017-04-15</td>\n",
       "      <td>04</td>\n",
       "      <td>91</td>\n",
       "      <td>213</td>\n",
       "      <td>0.427230</td>\n",
       "    </tr>\n",
       "    <tr>\n",
       "      <th>4</th>\n",
       "      <td>2017-04-16</td>\n",
       "      <td>04</td>\n",
       "      <td>98</td>\n",
       "      <td>206</td>\n",
       "      <td>0.475728</td>\n",
       "    </tr>\n",
       "  </tbody>\n",
       "</table>\n",
       "</div>"
      ],
      "text/plain": [
       "  booked_date booked_month  booked_count  conv_count  daily_booking_rate\n",
       "0  2017-04-12           04            89         213            0.417840\n",
       "1  2017-04-13           04           103         226            0.455752\n",
       "2  2017-04-14           04           100         213            0.469484\n",
       "3  2017-04-15           04            91         213            0.427230\n",
       "4  2017-04-16           04            98         206            0.475728"
      ]
     },
     "metadata": {},
     "output_type": "display_data"
    },
    {
     "data": {
      "text/html": [
       "<div>\n",
       "<style>\n",
       "    .dataframe thead tr:only-child th {\n",
       "        text-align: right;\n",
       "    }\n",
       "\n",
       "    .dataframe thead th {\n",
       "        text-align: left;\n",
       "    }\n",
       "\n",
       "    .dataframe tbody tr th {\n",
       "        vertical-align: top;\n",
       "    }\n",
       "</style>\n",
       "<table border=\"1\" class=\"dataframe\">\n",
       "  <thead>\n",
       "    <tr style=\"text-align: right;\">\n",
       "      <th></th>\n",
       "      <th>booked_date</th>\n",
       "      <th>booked_month</th>\n",
       "      <th>booked_count</th>\n",
       "      <th>conv_count</th>\n",
       "      <th>daily_booking_rate</th>\n",
       "    </tr>\n",
       "  </thead>\n",
       "  <tbody>\n",
       "    <tr>\n",
       "      <th>85</th>\n",
       "      <td>2017-07-06</td>\n",
       "      <td>07</td>\n",
       "      <td>124</td>\n",
       "      <td>269</td>\n",
       "      <td>0.460967</td>\n",
       "    </tr>\n",
       "    <tr>\n",
       "      <th>86</th>\n",
       "      <td>2017-07-07</td>\n",
       "      <td>07</td>\n",
       "      <td>149</td>\n",
       "      <td>278</td>\n",
       "      <td>0.535971</td>\n",
       "    </tr>\n",
       "    <tr>\n",
       "      <th>87</th>\n",
       "      <td>2017-07-08</td>\n",
       "      <td>07</td>\n",
       "      <td>123</td>\n",
       "      <td>274</td>\n",
       "      <td>0.448905</td>\n",
       "    </tr>\n",
       "    <tr>\n",
       "      <th>88</th>\n",
       "      <td>2017-07-09</td>\n",
       "      <td>07</td>\n",
       "      <td>142</td>\n",
       "      <td>320</td>\n",
       "      <td>0.443750</td>\n",
       "    </tr>\n",
       "    <tr>\n",
       "      <th>89</th>\n",
       "      <td>2017-07-10</td>\n",
       "      <td>07</td>\n",
       "      <td>130</td>\n",
       "      <td>290</td>\n",
       "      <td>0.448276</td>\n",
       "    </tr>\n",
       "  </tbody>\n",
       "</table>\n",
       "</div>"
      ],
      "text/plain": [
       "   booked_date booked_month  booked_count  conv_count  daily_booking_rate\n",
       "85  2017-07-06           07           124         269            0.460967\n",
       "86  2017-07-07           07           149         278            0.535971\n",
       "87  2017-07-08           07           123         274            0.448905\n",
       "88  2017-07-09           07           142         320            0.443750\n",
       "89  2017-07-10           07           130         290            0.448276"
      ]
     },
     "metadata": {},
     "output_type": "display_data"
    },
    {
     "data": {
      "text/plain": [
       "count    90.000000\n",
       "mean      0.439374\n",
       "std       0.048275\n",
       "min       0.309623\n",
       "25%       0.408618\n",
       "50%       0.442443\n",
       "75%       0.469684\n",
       "max       0.565854\n",
       "Name: daily_booking_rate, dtype: float64"
      ]
     },
     "metadata": {},
     "output_type": "display_data"
    },
    {
     "data": {
      "image/png": "[encoded data removed]",
      "text/plain": [
       "<matplotlib.figure.Figure at 0x295a0ed3518>"
      ]
     },
     "metadata": {},
     "output_type": "display_data"
    }
   ],
   "source": [
    "# Analyis completed based on booked_at date\n",
    "# conv_date and conv_count were generated based on the date conversation was added\n",
    "\n",
    "bookings['conv_count'] = conversations['conv_count']\n",
    "bookings['daily_booking_rate'] = bookings['booked_count'] / bookings['conv_count']\n",
    "\n",
    "display(bookings.head())\n",
    "display(bookings.tail())\n",
    "\n",
    "plt.clf()\n",
    "bookings.set_index('booked_month')['daily_booking_rate'].plot()\n",
    "\n",
    "display(bookings['daily_booking_rate'].describe())\n"
   ]
  },
  {
   "cell_type": "markdown",
   "metadata": {},
   "source": [
    "**If you correctly query and join the data, there is not a downward trend. **\n",
    "\n",
    "### 2. Can you narrate a reason why this trend exists? Is there a reason to be concerned?\n",
    "\n",
    "However; **in the event that you invert the sort order between the values for conv_count and booked_count** (i.e. flip one to acsending and the other to decending) before putting them together will present a steep upward or downward trend to the daily booking rate data. In reality this looks pretty chaotic on this above graph, but averages a lot more flat around a solid 44% over time, with some good days and bad days here and there. This doesn't flag any reasons to be concerned."
   ]
  },
  {
   "cell_type": "code",
   "execution_count": 53,
   "metadata": {},
   "outputs": [
    {
     "data": {
      "text/html": [
       "<div>\n",
       "<style>\n",
       "    .dataframe thead tr:only-child th {\n",
       "        text-align: right;\n",
       "    }\n",
       "\n",
       "    .dataframe thead th {\n",
       "        text-align: left;\n",
       "    }\n",
       "\n",
       "    .dataframe tbody tr th {\n",
       "        vertical-align: top;\n",
       "    }\n",
       "</style>\n",
       "<table border=\"1\" class=\"dataframe\">\n",
       "  <thead>\n",
       "    <tr style=\"text-align: right;\">\n",
       "      <th></th>\n",
       "      <th>booked_date</th>\n",
       "      <th>booked_month</th>\n",
       "      <th>booked_count</th>\n",
       "      <th>conv_count</th>\n",
       "      <th>daily_booking_rate</th>\n",
       "    </tr>\n",
       "  </thead>\n",
       "  <tbody>\n",
       "    <tr>\n",
       "      <th>0</th>\n",
       "      <td>2017-04-12</td>\n",
       "      <td>04</td>\n",
       "      <td>130</td>\n",
       "      <td>213</td>\n",
       "      <td>0.610329</td>\n",
       "    </tr>\n",
       "    <tr>\n",
       "      <th>1</th>\n",
       "      <td>2017-04-13</td>\n",
       "      <td>04</td>\n",
       "      <td>142</td>\n",
       "      <td>226</td>\n",
       "      <td>0.628319</td>\n",
       "    </tr>\n",
       "    <tr>\n",
       "      <th>2</th>\n",
       "      <td>2017-04-14</td>\n",
       "      <td>04</td>\n",
       "      <td>123</td>\n",
       "      <td>213</td>\n",
       "      <td>0.577465</td>\n",
       "    </tr>\n",
       "    <tr>\n",
       "      <th>3</th>\n",
       "      <td>2017-04-15</td>\n",
       "      <td>04</td>\n",
       "      <td>149</td>\n",
       "      <td>213</td>\n",
       "      <td>0.699531</td>\n",
       "    </tr>\n",
       "    <tr>\n",
       "      <th>4</th>\n",
       "      <td>2017-04-16</td>\n",
       "      <td>04</td>\n",
       "      <td>124</td>\n",
       "      <td>206</td>\n",
       "      <td>0.601942</td>\n",
       "    </tr>\n",
       "  </tbody>\n",
       "</table>\n",
       "</div>"
      ],
      "text/plain": [
       "  booked_date booked_month  booked_count  conv_count  daily_booking_rate\n",
       "0  2017-04-12           04           130         213            0.610329\n",
       "1  2017-04-13           04           142         226            0.628319\n",
       "2  2017-04-14           04           123         213            0.577465\n",
       "3  2017-04-15           04           149         213            0.699531\n",
       "4  2017-04-16           04           124         206            0.601942"
      ]
     },
     "metadata": {},
     "output_type": "display_data"
    },
    {
     "data": {
      "text/plain": [
       "<matplotlib.axes._subplots.AxesSubplot at 0x295a68f25f8>"
      ]
     },
     "execution_count": 53,
     "metadata": {},
     "output_type": "execute_result"
    },
    {
     "data": {
      "image/png": "[encoded data removed]",
      "text/plain": [
       "<matplotlib.figure.Figure at 0x295a68f6128>"
      ]
     },
     "metadata": {},
     "output_type": "display_data"
    }
   ],
   "source": [
    "#  Included example of inverted queries showing incorrect downward trend to data.\n",
    "\n",
    "bookings2 = bookings\n",
    "booked_count = np.array(bookings2['booked_count'])\n",
    "\n",
    "# Invert sort order of booked_count\n",
    "booked_count = booked_count[::-1]\n",
    "\n",
    "bookings2['booked_count'] = booked_count\n",
    "bookings2['daily_booking_rate'] = bookings2['booked_count'] / bookings2['conv_count']\n",
    "\n",
    "display(bookings2.head())\n",
    "\n",
    "plt.clf()\n",
    "bookings2.set_index('booked_month')['daily_booking_rate'].plot()"
   ]
  },
  {
   "cell_type": "markdown",
   "metadata": {},
   "source": [
    "## IV. Analyzing Take Rate\n",
    "\n",
    "To make the most sense of the fee structure, I translated the table to a query to bring tha data into a DataFrame, and we can being to tackle the questions set fourth from there\n",
    "\n",
    "Amount Description\n",
    "\n",
    " - Booking Total \\$100 e.g., 4 walks at $25/walk\n",
    "\n",
    " - Owner Fee \\$5 5% of the booking total\n",
    "\n",
    " - Gross Billings \\$105 charged to the owner\n",
    "\n",
    " - Service Fee \\$15 15% of the booking total\n",
    "\n",
    " - Net Revenue \\$20 all fees that go to the company\n",
    "\n",
    " - Provider Payment \\$85 earnings for the provider"
   ]
  },
  {
   "cell_type": "code",
   "execution_count": 54,
   "metadata": {},
   "outputs": [
    {
     "name": "stdout",
     "output_type": "stream",
     "text": [
      "------------------------------------\n",
      "SELECT s.id AS service_id\n",
      "    , CAST(STRFTIME('%Y%m%d', DATE(booked_at)) AS INT) AS booked_at\n",
      "    , STRFTIME('%d', DATE(booked_at)) AS day\n",
      "    , STRFTIME('%m', DATE(booked_at)) AS month\n",
      "    , STRFTIME('%Y', DATE(booked_at)) AS year\n",
      "    , booking_total\n",
      "    , (booking_total * p.fee) AS owner_fee\n",
      "    , (booking_total + p.fee) AS gross_billings\n",
      "    , (booking_total * s.fee) AS service_fee\n",
      "    , (booking_total * p.fee) + (booking_total * s.fee) AS net_revenue\n",
      "    , (booking_total + p.fee) - (p.fee + s.fee) AS provider_payment\n",
      "FROM conversations_conversation AS c\n",
      "    JOIN services_service AS s ON s.id = c.service_id\n",
      "        JOIN people_person AS p on p.id = c.requester_id\n",
      "WHERE booked_at IS NOT NULL\n",
      "ORDER BY booked_at\n",
      "------------------------------------\n"
     ]
    }
   ],
   "source": [
    "qry16 = open('queries/take_rate_1.sql', 'r').read()\n",
    "out16 = c.execute(qry16).fetchall()\n",
    "line()\n",
    "print(qry16)\n",
    "line()\n",
    "\n",
    "take_rate = pd.DataFrame(out16, columns=('service_id',\n",
    "                                         'booked_at',\n",
    "                                         'day',\n",
    "                                         'month',\n",
    "                                         'year',\n",
    "                                         'booking_total',\n",
    "                                         'owner_fee',\n",
    "                                         'gross_billings',\n",
    "                                         'service_fee',\n",
    "                                         'net_revenue',\n",
    "                                         'provider_payment'))\n",
    "\n",
    "# Create Dateime formatted column for timeseries\n",
    "dates = []\n",
    "i = 0\n",
    "for i in range(0, len(take_rate)):\n",
    "    dates.append(dt.datetime(int(take_rate['year'][i]),\n",
    "                             int(take_rate['month'][i]),\n",
    "                             int(take_rate['day'][i])))\n",
    "    i +=1\n",
    "\n",
    "    \n",
    "take_rate['dates'] = dates\n",
    "take_rate['index'] = take_rate.index\n",
    "take_rate['year_month'] = take_rate['year'] + take_rate['month']"
   ]
  },
  {
   "cell_type": "markdown",
   "metadata": {},
   "source": [
    "### 1. In each month, what were the gross billings and net revenue?"
   ]
  },
  {
   "cell_type": "code",
   "execution_count": 55,
   "metadata": {},
   "outputs": [
    {
     "data": {
      "text/html": [
       "<div>\n",
       "<style>\n",
       "    .dataframe thead tr:only-child th {\n",
       "        text-align: right;\n",
       "    }\n",
       "\n",
       "    .dataframe thead th {\n",
       "        text-align: left;\n",
       "    }\n",
       "\n",
       "    .dataframe tbody tr th {\n",
       "        vertical-align: top;\n",
       "    }\n",
       "</style>\n",
       "<table border=\"1\" class=\"dataframe\">\n",
       "  <thead>\n",
       "    <tr style=\"text-align: right;\">\n",
       "      <th></th>\n",
       "      <th>gross_billings</th>\n",
       "      <th>net_revenue</th>\n",
       "    </tr>\n",
       "    <tr>\n",
       "      <th>year_month</th>\n",
       "      <th></th>\n",
       "      <th></th>\n",
       "    </tr>\n",
       "  </thead>\n",
       "  <tbody>\n",
       "    <tr>\n",
       "      <th>201507</th>\n",
       "      <td>1035.10</td>\n",
       "      <td>175.95</td>\n",
       "    </tr>\n",
       "    <tr>\n",
       "      <th>201508</th>\n",
       "      <td>11900.08</td>\n",
       "      <td>2022.83</td>\n",
       "    </tr>\n",
       "    <tr>\n",
       "      <th>201509</th>\n",
       "      <td>20163.36</td>\n",
       "      <td>3427.37</td>\n",
       "    </tr>\n",
       "    <tr>\n",
       "      <th>201510</th>\n",
       "      <td>39265.30</td>\n",
       "      <td>6674.37</td>\n",
       "    </tr>\n",
       "    <tr>\n",
       "      <th>201511</th>\n",
       "      <td>41208.18</td>\n",
       "      <td>7004.51</td>\n",
       "    </tr>\n",
       "    <tr>\n",
       "      <th>201512</th>\n",
       "      <td>63393.41</td>\n",
       "      <td>11748.01</td>\n",
       "    </tr>\n",
       "    <tr>\n",
       "      <th>201601</th>\n",
       "      <td>79096.99</td>\n",
       "      <td>15364.87</td>\n",
       "    </tr>\n",
       "    <tr>\n",
       "      <th>201602</th>\n",
       "      <td>90735.79</td>\n",
       "      <td>17790.00</td>\n",
       "    </tr>\n",
       "    <tr>\n",
       "      <th>201603</th>\n",
       "      <td>135872.65</td>\n",
       "      <td>26728.96</td>\n",
       "    </tr>\n",
       "    <tr>\n",
       "      <th>201604</th>\n",
       "      <td>151238.75</td>\n",
       "      <td>29736.73</td>\n",
       "    </tr>\n",
       "    <tr>\n",
       "      <th>201605</th>\n",
       "      <td>167867.54</td>\n",
       "      <td>34107.29</td>\n",
       "    </tr>\n",
       "    <tr>\n",
       "      <th>201606</th>\n",
       "      <td>203137.41</td>\n",
       "      <td>42650.37</td>\n",
       "    </tr>\n",
       "    <tr>\n",
       "      <th>201607</th>\n",
       "      <td>214589.65</td>\n",
       "      <td>46258.55</td>\n",
       "    </tr>\n",
       "    <tr>\n",
       "      <th>201608</th>\n",
       "      <td>252326.41</td>\n",
       "      <td>55528.19</td>\n",
       "    </tr>\n",
       "    <tr>\n",
       "      <th>201609</th>\n",
       "      <td>273826.74</td>\n",
       "      <td>61987.09</td>\n",
       "    </tr>\n",
       "    <tr>\n",
       "      <th>201610</th>\n",
       "      <td>301559.26</td>\n",
       "      <td>68408.46</td>\n",
       "    </tr>\n",
       "    <tr>\n",
       "      <th>201611</th>\n",
       "      <td>309830.82</td>\n",
       "      <td>72445.18</td>\n",
       "    </tr>\n",
       "    <tr>\n",
       "      <th>201612</th>\n",
       "      <td>354127.89</td>\n",
       "      <td>86219.62</td>\n",
       "    </tr>\n",
       "    <tr>\n",
       "      <th>201701</th>\n",
       "      <td>360694.31</td>\n",
       "      <td>88746.30</td>\n",
       "    </tr>\n",
       "    <tr>\n",
       "      <th>201702</th>\n",
       "      <td>372511.93</td>\n",
       "      <td>92762.57</td>\n",
       "    </tr>\n",
       "    <tr>\n",
       "      <th>201703</th>\n",
       "      <td>463889.07</td>\n",
       "      <td>116489.08</td>\n",
       "    </tr>\n",
       "    <tr>\n",
       "      <th>201704</th>\n",
       "      <td>520354.77</td>\n",
       "      <td>131464.88</td>\n",
       "    </tr>\n",
       "    <tr>\n",
       "      <th>201705</th>\n",
       "      <td>583685.11</td>\n",
       "      <td>148885.71</td>\n",
       "    </tr>\n",
       "    <tr>\n",
       "      <th>201706</th>\n",
       "      <td>628773.50</td>\n",
       "      <td>161429.72</td>\n",
       "    </tr>\n",
       "    <tr>\n",
       "      <th>201707</th>\n",
       "      <td>246904.55</td>\n",
       "      <td>63370.62</td>\n",
       "    </tr>\n",
       "  </tbody>\n",
       "</table>\n",
       "</div>"
      ],
      "text/plain": [
       "            gross_billings  net_revenue\n",
       "year_month                             \n",
       "201507             1035.10       175.95\n",
       "201508            11900.08      2022.83\n",
       "201509            20163.36      3427.37\n",
       "201510            39265.30      6674.37\n",
       "201511            41208.18      7004.51\n",
       "201512            63393.41     11748.01\n",
       "201601            79096.99     15364.87\n",
       "201602            90735.79     17790.00\n",
       "201603           135872.65     26728.96\n",
       "201604           151238.75     29736.73\n",
       "201605           167867.54     34107.29\n",
       "201606           203137.41     42650.37\n",
       "201607           214589.65     46258.55\n",
       "201608           252326.41     55528.19\n",
       "201609           273826.74     61987.09\n",
       "201610           301559.26     68408.46\n",
       "201611           309830.82     72445.18\n",
       "201612           354127.89     86219.62\n",
       "201701           360694.31     88746.30\n",
       "201702           372511.93     92762.57\n",
       "201703           463889.07    116489.08\n",
       "201704           520354.77    131464.88\n",
       "201705           583685.11    148885.71\n",
       "201706           628773.50    161429.72\n",
       "201707           246904.55     63370.62"
      ]
     },
     "metadata": {},
     "output_type": "display_data"
    },
    {
     "data": {
      "text/plain": [
       "<matplotlib.axes._subplots.AxesSubplot at 0x295a6999eb8>"
      ]
     },
     "execution_count": 55,
     "metadata": {},
     "output_type": "execute_result"
    },
    {
     "data": {
      "image/png": "[encoded data removed]",
      "text/plain": [
       "<matplotlib.figure.Figure at 0x295a69b2550>"
      ]
     },
     "metadata": {},
     "output_type": "display_data"
    }
   ],
   "source": [
    "# Monthly Gross Billings and Net Revenue\n",
    "tr1 = take_rate[['year_month', 'gross_billings', 'net_revenue']].groupby('year_month', as_index=True).sum()\n",
    "\n",
    "display(tr1)\n",
    "tr1.plot()"
   ]
  },
  {
   "cell_type": "markdown",
   "metadata": {},
   "source": [
    "It's worth nothing that data for the months of July 2017 is incomplete, so the steep drop off at the end of this graph isn't anything to be alarmed about. If this were to be used for presentation purposes, more time would be spent cleaning it up, but this is just for a quick glance at the overall monthly numbers requested to answer the question.\n",
    "\n",
    "### 2. In each month, what was the aggregate take rate?\n",
    "\n",
    "Define take rate to be the percentage of gross billings that is net revenue. "
   ]
  },
  {
   "cell_type": "code",
   "execution_count": 56,
   "metadata": {},
   "outputs": [
    {
     "data": {
      "text/html": [
       "<div>\n",
       "<style>\n",
       "    .dataframe thead tr:only-child th {\n",
       "        text-align: right;\n",
       "    }\n",
       "\n",
       "    .dataframe thead th {\n",
       "        text-align: left;\n",
       "    }\n",
       "\n",
       "    .dataframe tbody tr th {\n",
       "        vertical-align: top;\n",
       "    }\n",
       "</style>\n",
       "<table border=\"1\" class=\"dataframe\">\n",
       "  <thead>\n",
       "    <tr style=\"text-align: right;\">\n",
       "      <th></th>\n",
       "      <th>year_month</th>\n",
       "      <th>take_rate</th>\n",
       "    </tr>\n",
       "  </thead>\n",
       "  <tbody>\n",
       "    <tr>\n",
       "      <th>0</th>\n",
       "      <td>201507</td>\n",
       "      <td>0.169970</td>\n",
       "    </tr>\n",
       "    <tr>\n",
       "      <th>1</th>\n",
       "      <td>201508</td>\n",
       "      <td>0.169968</td>\n",
       "    </tr>\n",
       "    <tr>\n",
       "      <th>2</th>\n",
       "      <td>201509</td>\n",
       "      <td>0.169970</td>\n",
       "    </tr>\n",
       "    <tr>\n",
       "      <th>3</th>\n",
       "      <td>201510</td>\n",
       "      <td>0.169969</td>\n",
       "    </tr>\n",
       "    <tr>\n",
       "      <th>4</th>\n",
       "      <td>201511</td>\n",
       "      <td>0.169964</td>\n",
       "    </tr>\n",
       "    <tr>\n",
       "      <th>5</th>\n",
       "      <td>201512</td>\n",
       "      <td>0.185130</td>\n",
       "    </tr>\n",
       "    <tr>\n",
       "      <th>6</th>\n",
       "      <td>201601</td>\n",
       "      <td>0.194386</td>\n",
       "    </tr>\n",
       "    <tr>\n",
       "      <th>7</th>\n",
       "      <td>201602</td>\n",
       "      <td>0.195900</td>\n",
       "    </tr>\n",
       "    <tr>\n",
       "      <th>8</th>\n",
       "      <td>201603</td>\n",
       "      <td>0.196780</td>\n",
       "    </tr>\n",
       "    <tr>\n",
       "      <th>9</th>\n",
       "      <td>201604</td>\n",
       "      <td>0.196890</td>\n",
       "    </tr>\n",
       "    <tr>\n",
       "      <th>10</th>\n",
       "      <td>201605</td>\n",
       "      <td>0.202253</td>\n",
       "    </tr>\n",
       "    <tr>\n",
       "      <th>11</th>\n",
       "      <td>201606</td>\n",
       "      <td>0.209434</td>\n",
       "    </tr>\n",
       "    <tr>\n",
       "      <th>12</th>\n",
       "      <td>201607</td>\n",
       "      <td>0.215165</td>\n",
       "    </tr>\n",
       "    <tr>\n",
       "      <th>13</th>\n",
       "      <td>201608</td>\n",
       "      <td>0.220331</td>\n",
       "    </tr>\n",
       "    <tr>\n",
       "      <th>14</th>\n",
       "      <td>201609</td>\n",
       "      <td>0.225968</td>\n",
       "    </tr>\n",
       "    <tr>\n",
       "      <th>15</th>\n",
       "      <td>201610</td>\n",
       "      <td>0.227243</td>\n",
       "    </tr>\n",
       "    <tr>\n",
       "      <th>16</th>\n",
       "      <td>201611</td>\n",
       "      <td>0.234715</td>\n",
       "    </tr>\n",
       "    <tr>\n",
       "      <th>17</th>\n",
       "      <td>201612</td>\n",
       "      <td>0.243447</td>\n",
       "    </tr>\n",
       "    <tr>\n",
       "      <th>18</th>\n",
       "      <td>201701</td>\n",
       "      <td>0.246387</td>\n",
       "    </tr>\n",
       "    <tr>\n",
       "      <th>19</th>\n",
       "      <td>201702</td>\n",
       "      <td>0.249083</td>\n",
       "    </tr>\n",
       "    <tr>\n",
       "      <th>20</th>\n",
       "      <td>201703</td>\n",
       "      <td>0.251336</td>\n",
       "    </tr>\n",
       "    <tr>\n",
       "      <th>21</th>\n",
       "      <td>201704</td>\n",
       "      <td>0.252581</td>\n",
       "    </tr>\n",
       "    <tr>\n",
       "      <th>22</th>\n",
       "      <td>201705</td>\n",
       "      <td>0.254875</td>\n",
       "    </tr>\n",
       "    <tr>\n",
       "      <th>23</th>\n",
       "      <td>201706</td>\n",
       "      <td>0.256860</td>\n",
       "    </tr>\n",
       "    <tr>\n",
       "      <th>24</th>\n",
       "      <td>201707</td>\n",
       "      <td>0.256570</td>\n",
       "    </tr>\n",
       "  </tbody>\n",
       "</table>\n",
       "</div>"
      ],
      "text/plain": [
       "   year_month  take_rate\n",
       "0      201507   0.169970\n",
       "1      201508   0.169968\n",
       "2      201509   0.169970\n",
       "3      201510   0.169969\n",
       "4      201511   0.169964\n",
       "5      201512   0.185130\n",
       "6      201601   0.194386\n",
       "7      201602   0.195900\n",
       "8      201603   0.196780\n",
       "9      201604   0.196890\n",
       "10     201605   0.202253\n",
       "11     201606   0.209434\n",
       "12     201607   0.215165\n",
       "13     201608   0.220331\n",
       "14     201609   0.225968\n",
       "15     201610   0.227243\n",
       "16     201611   0.234715\n",
       "17     201612   0.243447\n",
       "18     201701   0.246387\n",
       "19     201702   0.249083\n",
       "20     201703   0.251336\n",
       "21     201704   0.252581\n",
       "22     201705   0.254875\n",
       "23     201706   0.256860\n",
       "24     201707   0.256570"
      ]
     },
     "metadata": {},
     "output_type": "display_data"
    },
    {
     "data": {
      "text/plain": [
       "<matplotlib.axes._subplots.AxesSubplot at 0x295a2684198>"
      ]
     },
     "execution_count": 56,
     "metadata": {},
     "output_type": "execute_result"
    },
    {
     "data": {
      "image/png": "[encoded data removed]",
      "text/plain": [
       "<matplotlib.figure.Figure at 0x295a2b0b6a0>"
      ]
     },
     "metadata": {},
     "output_type": "display_data"
    }
   ],
   "source": [
    "# Define new column to hold take_rate percentage\n",
    "take_rate['take_rate'] = take_rate['net_revenue'] / take_rate['gross_billings']\n",
    "\n",
    "# Monthly Aggregated Take Rate\n",
    "tr2 = take_rate[['year', 'year_month', 'take_rate']].groupby(['year_month'], as_index=False).mean()\n",
    "display(tr2)\n",
    "\n",
    "# Plot is just a quick draw using Matplotlib\n",
    "# Axis and Labels are not set or scaled\n",
    "# X-Axis starts earlier than data\n",
    "#   - data begins at upward point of inflection\n",
    "# Included to show obvious upwards trend\n",
    "tr2.plot()"
   ]
  },
  {
   "cell_type": "markdown",
   "metadata": {},
   "source": [
    "### 3. Did take rate trend up or trend down or remain unchanged over time?\n",
    "\n",
    "This is best solved with linear regression, and will make a more interesting graph without aggregating take_rate by month. We'll use a little bit of Numpy and Matplotlib along the way for this part of the project, as well as Seaborn, which is a great plotting companion library to Matplotlib"
   ]
  },
  {
   "cell_type": "code",
   "execution_count": 57,
   "metadata": {},
   "outputs": [
    {
     "data": {
      "text/plain": [
       "25"
      ]
     },
     "metadata": {},
     "output_type": "display_data"
    },
    {
     "data": {
      "text/html": [
       "<div>\n",
       "<style>\n",
       "    .dataframe thead tr:only-child th {\n",
       "        text-align: right;\n",
       "    }\n",
       "\n",
       "    .dataframe thead th {\n",
       "        text-align: left;\n",
       "    }\n",
       "\n",
       "    .dataframe tbody tr th {\n",
       "        vertical-align: top;\n",
       "    }\n",
       "</style>\n",
       "<table border=\"1\" class=\"dataframe\">\n",
       "  <thead>\n",
       "    <tr style=\"text-align: right;\">\n",
       "      <th></th>\n",
       "      <th>index</th>\n",
       "      <th>take_rate</th>\n",
       "    </tr>\n",
       "  </thead>\n",
       "  <tbody>\n",
       "    <tr>\n",
       "      <th>0</th>\n",
       "      <td>0</td>\n",
       "      <td>0.169970</td>\n",
       "    </tr>\n",
       "    <tr>\n",
       "      <th>1</th>\n",
       "      <td>1</td>\n",
       "      <td>0.169968</td>\n",
       "    </tr>\n",
       "    <tr>\n",
       "      <th>2</th>\n",
       "      <td>2</td>\n",
       "      <td>0.169970</td>\n",
       "    </tr>\n",
       "    <tr>\n",
       "      <th>3</th>\n",
       "      <td>3</td>\n",
       "      <td>0.169969</td>\n",
       "    </tr>\n",
       "    <tr>\n",
       "      <th>4</th>\n",
       "      <td>4</td>\n",
       "      <td>0.169964</td>\n",
       "    </tr>\n",
       "  </tbody>\n",
       "</table>\n",
       "</div>"
      ],
      "text/plain": [
       "   index  take_rate\n",
       "0      0   0.169970\n",
       "1      1   0.169968\n",
       "2      2   0.169970\n",
       "3      3   0.169969\n",
       "4      4   0.169964"
      ]
     },
     "metadata": {},
     "output_type": "display_data"
    }
   ],
   "source": [
    "# Index of Take Rate per Service ID, Sorted in Ascending order\n",
    "tr3 = pd.DataFrame()\n",
    "\n",
    "tr3['index'] = tr2.index\n",
    "tr3['take_rate'] = tr2['take_rate']\n",
    "\n",
    "display(len(tr3))\n",
    "display(tr3.head())"
   ]
  },
  {
   "cell_type": "markdown",
   "metadata": {
    "collapsed": true
   },
   "source": [
    "To visualize the trend in take_rate over time, we will treat booked_at as X values on our axis, and take_rate as Y values on the axis. In order to fit the values to an axis, they will need to be reshaped and fit to a linear  model.  Each (x, y) pair represents a booked service_id"
   ]
  },
  {
   "cell_type": "code",
   "execution_count": 58,
   "metadata": {},
   "outputs": [
    {
     "name": "stdout",
     "output_type": "stream",
     "text": [
      "(25, 2)\n",
      "0   2015-07-20\n",
      "1   2015-07-21\n",
      "2   2015-07-21\n",
      "3   2015-07-29\n",
      "4   2015-07-30\n",
      "Name: dates, dtype: datetime64[ns]\n",
      "[[ 0.          0.16997011]\n",
      " [ 1.          0.1699676 ]\n",
      " [ 2.          0.16997004]\n",
      " [ 3.          0.16996933]\n",
      " [ 4.          0.16996449]]\n"
     ]
    }
   ],
   "source": [
    "tr_data = np.array(tr3)\n",
    "\n",
    "# Reshapes the data into the same format that can be plotted on an x, y axis\n",
    "print(tr_data.shape)\n",
    "\n",
    "# Create X and Y values for each column of data\n",
    "x = tr_data[:,0].astype(dtype=int)\n",
    "y = tr_data[:,1]\n",
    "\n",
    "dates = np.array(dates).astype(dtype=np.datetime64)\n",
    "\n",
    "# Show the differences in the data transformations\n",
    "print(take_rate['dates'].head())\n",
    "print(tr_data[:5])"
   ]
  },
  {
   "cell_type": "code",
   "execution_count": 59,
   "metadata": {},
   "outputs": [
    {
     "name": "stdout",
     "output_type": "stream",
     "text": [
      "Linear Equation:  \n",
      "0.004259 x + 0.1635\n",
      "------------------------------------\n",
      "Monthly Take Rate Gain: 0.43%\n"
     ]
    },
    {
     "data": {
      "text/plain": [
       "[<matplotlib.lines.Line2D at 0x295a6d53438>]"
      ]
     },
     "execution_count": 59,
     "metadata": {},
     "output_type": "execute_result"
    },
    {
     "data": {
      "text/plain": [
       "<matplotlib.figure.Figure at 0x295a2b73e80>"
      ]
     },
     "metadata": {},
     "output_type": "display_data"
    },
    {
     "data": {
      "image/png": "[encoded data removed]",
      "text/plain": [
       "<matplotlib.figure.Figure at 0x295a2b732e8>"
      ]
     },
     "metadata": {},
     "output_type": "display_data"
    }
   ],
   "source": [
    "# Build the Linear Model\n",
    "# This will ensure the datetime and take_rate are normalized on the same scale\n",
    "\n",
    "def linear_model(x, y, d):\n",
    "    z = np.polyfit(x, y, d) # Increasing d would result in a polynominal\n",
    "    fx = np.poly1d(z)\n",
    "    # Creates the min/max x values to plot function of(x) for regression\n",
    "    xx = np.linspace(x.min(),x.max() * 10, 100, dtype=int)\n",
    "    return z, fx, xx\n",
    "\n",
    "z, fx, xx = linear_model(x, y, 1)\n",
    "\n",
    "mx = round(z[0] * 100, 2) # Scale for % gain/month\n",
    "# Equation Representing Linear Model\n",
    "print('Linear Equation: %s' % fx)\n",
    "line()\n",
    "print('Monthly Take Rate Gain: {0}%'.format(mx))\n",
    "\n",
    "plt.clf()\n",
    "fig, ax = plt.subplots(figsize=(8,5))\n",
    "\n",
    "# Chart friendly month labels\n",
    "date_ticks = ['7-15', '8-15', '9-15', '10-15','11-15', '12-15', '1-16', \n",
    "              '2-16', '3-16', '4-16', '5-16','6-16', '7-16', '8-16',\n",
    "              '9-16','10-16', '11-16', '12-16', '1-17', '2-17', '3-17', \n",
    "              '4-17','5-17', '6-17', '7-17']\n",
    "\n",
    "plt.grid(False, linestyle='-', color='.8')\n",
    "plt.title('Take Rate Per Month from 7/15 - 7/17')\n",
    "plt.xlabel('Month')\n",
    "plt.ylabel('Take Rate')\n",
    "plt.xlim(xmax=xx.max()/10)\n",
    "plt.ylim(ymin=.15, ymax=.28)\n",
    "# Math is separated from labeling since dates were simply treated as sequential indexes\n",
    "# for the purposes of a time series\n",
    "plt.xticks([m for m in range(len(tr_data))],\n",
    "           ['%s' % m for m in date_ticks],\n",
    "           color='black',\n",
    "           rotation='vertical')\n",
    "plt.tick_params(direction='out',\n",
    "               length=4)\n",
    "plt.plot(x, y, c='DarkTurquoise',\n",
    "         linewidth=3)\n",
    "plt.plot(xx, fx(xx), ':r',\n",
    "         linewidth=2)"
   ]
  },
  {
   "cell_type": "markdown",
   "metadata": {},
   "source": [
    "Now we can see the linear model at work showing the upward trend in take rate over time. In general the take rate climbs steadily. Based on this, it seems there is a healthy fee structure in place. During the window of this dataset, the average take rate has increased from just below 17%, to just shy of 25%. When the dataset is scaled on a monthly basis using linear regression, that's about a .43% increase in take rate month over month.\n",
    "\n",
    "It's worth noting this could be done a lot more elegantly with fewer lines of code and more built in functions or additional libraries, but it felt more appropriate to do this in long form for this exercise to demonstrate my thought process. Either way, you can always get a lot more out of your graphs when you manually tweak them to be the way you want. This one is by no means ready for large scale presentation, and has a lot way to go as far as visual cleanup is concerned.\n",
    "\n",
    "## V. New Conversation Flow\n",
    "\n",
    "**Experiment Overview**\n",
    "\n",
    "This platform had a conversation page where owners and service providers could exchange messages as they organized their booking. The team thought this page could use a re-design and set out to improve its UI. A product manager then set up a test to measure the new page's effectiveness. On 2017-03-13 , an A/B test was launched. \n",
    "\n",
    " - For those owners who sent a request, they would be randomly assigned to variant or holdout groups. \n",
    " - Those users who are in the **variant** group would see the *new* conversation flow. \n",
    " - Those in the **holdout** group would see the *old* conversation flow.\n",
    "\n",
    "### 1. Did conversations with the new conversation page book at a higher rate?\n",
    "\n",
    "I'm going to start at the end and get a general sense of the outcome of the experiment by bringing in data that will quickly summarize the answer to this question. From there we can start running a statistical analysis on if these findings are signficant."
   ]
  },
  {
   "cell_type": "code",
   "execution_count": 60,
   "metadata": {},
   "outputs": [
    {
     "name": "stdout",
     "output_type": "stream",
     "text": [
      "------------------------------------\n",
      "SELECT ts.test_group AS test_group,\n",
      "       COUNT(c.id) conv_total,\n",
      "       COUNT(c.booked_at) booked_total\n",
      "FROM conversations_conversation AS c\n",
      "        JOIN people_testsegmentation AS ts ON ts.id = c.requester_id\n",
      "WHERE DATE(c.added) > '2017-03-13'\n",
      "GROUP BY ts.test_group\n",
      "------------------------------------\n"
     ]
    },
    {
     "data": {
      "text/html": [
       "<div>\n",
       "<style>\n",
       "    .dataframe thead tr:only-child th {\n",
       "        text-align: right;\n",
       "    }\n",
       "\n",
       "    .dataframe thead th {\n",
       "        text-align: left;\n",
       "    }\n",
       "\n",
       "    .dataframe tbody tr th {\n",
       "        vertical-align: top;\n",
       "    }\n",
       "</style>\n",
       "<table border=\"1\" class=\"dataframe\">\n",
       "  <thead>\n",
       "    <tr style=\"text-align: right;\">\n",
       "      <th></th>\n",
       "      <th>test_group</th>\n",
       "      <th>conv_total</th>\n",
       "      <th>booked_total</th>\n",
       "      <th>booking_rate</th>\n",
       "    </tr>\n",
       "  </thead>\n",
       "  <tbody>\n",
       "    <tr>\n",
       "      <th>0</th>\n",
       "      <td>holdout</td>\n",
       "      <td>1600</td>\n",
       "      <td>683</td>\n",
       "      <td>0.426875</td>\n",
       "    </tr>\n",
       "    <tr>\n",
       "      <th>1</th>\n",
       "      <td>variant</td>\n",
       "      <td>552</td>\n",
       "      <td>240</td>\n",
       "      <td>0.434783</td>\n",
       "    </tr>\n",
       "  </tbody>\n",
       "</table>\n",
       "</div>"
      ],
      "text/plain": [
       "  test_group  conv_total  booked_total  booking_rate\n",
       "0    holdout        1600           683      0.426875\n",
       "1    variant         552           240      0.434783"
      ]
     },
     "metadata": {},
     "output_type": "display_data"
    },
    {
     "name": "stdout",
     "output_type": "stream",
     "text": [
      "Sample Size: 2152\n"
     ]
    }
   ],
   "source": [
    "qry17 = open('queries/convflow_2.sql', 'r').read()\n",
    "out17 = c.execute(qry17).fetchall()\n",
    "line()\n",
    "print(qry17)\n",
    "line()\n",
    "\n",
    "ab_bookings = pd.DataFrame(out17, columns=('test_group', \n",
    "                                           'conv_total',\n",
    "                                           'booked_total'))\n",
    "\n",
    "ab_bookings['booking_rate'] = ab_bookings['booked_total'] / ab_bookings['conv_total']\n",
    "\n",
    "display(ab_bookings)\n",
    "\n",
    "# Get total sample sizes for experiment, each test group, and holdout/variant counts within each test group\n",
    "sample_size = ab_bookings['conv_total'].sum()\n",
    "print('Sample Size: %i' % sample_size)"
   ]
  },
  {
   "cell_type": "markdown",
   "metadata": {},
   "source": [
    "### 2. Is it statistically significant?\n",
    "\n",
    "To understand if the results of the test are statistically significant, we need to figure out the probability of the experiment results occuring by chance (or the p value, which represents a percentage).  The evaluation metric that will be used to measure the statistical significance is the **booking_rate**. When it comes to p-values, a low score represents statistical significance and that the results were unlikely to have occured by chance.\n",
    "\n",
    " - The **null hypothesis (H0)** would *not* expect to see a statistically significant difference between the **variant** and **holdout** groups\n",
    " - The **hypothesis (H1)**  *would* expect to see a statistically significant difference between the **variant** and **holdout** groups\n",
    "\n",
    "In this case, the level of significance will be set at the traditional level of 95%, with an alpha of .05. If p < .05, we reject the null hypothesis (H0) and deem the results statistically significant. If p > .05, the results of the experiment are not statistically significant, and we reject the alternative hypothesis (H1)\n",
    "\n",
    "Beginning with the standard deviation of the booking_rate, and some baselines Additionally, I might use some numpy and scipy for processing because they are excellent tools for making this kind of exerecise extremely efficient, but I am going to mostly rely on mathmatical formulas for the sake of demonstrating understanding."
   ]
  },
  {
   "cell_type": "code",
   "execution_count": 61,
   "metadata": {},
   "outputs": [
    {
     "name": "stdout",
     "output_type": "stream",
     "text": [
      "------------------------------------\n",
      "SELECT c.id AS conv,\n",
      "       DATE(c.added) AS conv_date,\n",
      "       CASE WHEN c.booked_at IS NULL \n",
      "            THEN '0' \n",
      "            ELSE '1' END AS is_booked,\n",
      "       ts.test_group\n",
      "FROM conversations_conversation AS c \n",
      "        JOIN people_testsegmentation AS ts ON ts.id = c.requester_id\n",
      "WHERE DATE(c.added) > '2017-03-13'\n",
      "------------------------------------\n",
      "Sample Size:  2152\n"
     ]
    }
   ],
   "source": [
    "import warnings\n",
    "warnings.filterwarnings('ignore')\n",
    "\n",
    "qry18 = open('queries/convflow_1.sql', 'r').read()\n",
    "out18 = c.execute(qry18).fetchall()\n",
    "line()\n",
    "print(qry18)\n",
    "line()\n",
    "\n",
    "ab_bookings2 = pd.DataFrame(out18, columns=('conv_id', \n",
    "                                            'conv_date', \n",
    "                                            'is_booked',\n",
    "                                            'test_group'))\n",
    "\n",
    "# Drop columns with unused metrics\n",
    "ab_bookings2 = ab_bookings2[['conv_date', 'test_group', 'is_booked']]\n",
    "\n",
    "# Split data into groups\n",
    "holdout = ab_bookings2.loc[ab_bookings2['test_group'].isin(['holdout'])]\n",
    "variant = ab_bookings2.loc[ab_bookings2['test_group'].isin(['variant'])]\n",
    "holdout['is_booked'] = pd.DataFrame(holdout['is_booked'].astype(dtype=int))\n",
    "variant['is_booked'] = pd.DataFrame(variant['is_booked'].astype(dtype=int))\n",
    "\n",
    "print('Sample Size:  %i' % (len(variant) + len(holdout)))"
   ]
  },
  {
   "cell_type": "code",
   "execution_count": 62,
   "metadata": {},
   "outputs": [
    {
     "data": {
      "text/html": [
       "<div>\n",
       "<style>\n",
       "    .dataframe thead tr:only-child th {\n",
       "        text-align: right;\n",
       "    }\n",
       "\n",
       "    .dataframe thead th {\n",
       "        text-align: left;\n",
       "    }\n",
       "\n",
       "    .dataframe tbody tr th {\n",
       "        vertical-align: top;\n",
       "    }\n",
       "</style>\n",
       "<table border=\"1\" class=\"dataframe\">\n",
       "  <thead>\n",
       "    <tr style=\"text-align: right;\">\n",
       "      <th></th>\n",
       "      <th>holdout</th>\n",
       "      <th>variant</th>\n",
       "    </tr>\n",
       "  </thead>\n",
       "  <tbody>\n",
       "    <tr>\n",
       "      <th>mean</th>\n",
       "      <td>0.426875</td>\n",
       "      <td>0.434783</td>\n",
       "    </tr>\n",
       "    <tr>\n",
       "      <th>std</th>\n",
       "      <td>0.494778</td>\n",
       "      <td>0.496178</td>\n",
       "    </tr>\n",
       "    <tr>\n",
       "      <th>var</th>\n",
       "      <td>0.244806</td>\n",
       "      <td>0.246193</td>\n",
       "    </tr>\n",
       "    <tr>\n",
       "      <th>sem</th>\n",
       "      <td>0.012369</td>\n",
       "      <td>0.021119</td>\n",
       "    </tr>\n",
       "    <tr>\n",
       "      <th>ci_low</th>\n",
       "      <td>0.387510</td>\n",
       "      <td>0.367573</td>\n",
       "    </tr>\n",
       "    <tr>\n",
       "      <th>ci_high</th>\n",
       "      <td>0.466240</td>\n",
       "      <td>0.501992</td>\n",
       "    </tr>\n",
       "  </tbody>\n",
       "</table>\n",
       "</div>"
      ],
      "text/plain": [
       "          holdout   variant\n",
       "mean     0.426875  0.434783\n",
       "std      0.494778  0.496178\n",
       "var      0.244806  0.246193\n",
       "sem      0.012369  0.021119\n",
       "ci_low   0.387510  0.367573\n",
       "ci_high  0.466240  0.501992"
      ]
     },
     "metadata": {},
     "output_type": "display_data"
    },
    {
     "name": "stdout",
     "output_type": "stream",
     "text": [
      "------------------------------------\n",
      "Standard Deviation: +- 0.495478\n",
      "------------------------------------\n",
      "t-Statistic: -0.323095\n",
      "------------------------------------\n",
      "p-value: 0.7466941458489214\n"
     ]
    }
   ],
   "source": [
    "h0 = 'The changes to the conversation flow will have no significant impact on booking rate'\n",
    "h1 = 'The changes to the conversation flow will have a significant impact on booking rates'\n",
    "\n",
    "h_stats = pd.DataFrame(holdout['is_booked'].agg(['mean', 'std', 'var', 'sem']))\n",
    "v_stats = pd.DataFrame(variant['is_booked'].agg(['mean', 'std', 'var', 'sem']))\n",
    "h = np.array(h_stats['is_booked'])\n",
    "v = np.array(v_stats['is_booked'])\n",
    "\n",
    "x = np.array(holdout['is_booked'])\n",
    "y = np.array(variant['is_booked'])\n",
    "\n",
    "# % of time difference will be detected when one doesn't exist \n",
    "# Significance threshhold for p value\n",
    "alpha = .05 \n",
    "\n",
    "# Recreate variables to make formulas more legible\n",
    "# Mean\n",
    "h_mean = h[0]\n",
    "v_mean = v[0]\n",
    "\n",
    "# Standard Deviation\n",
    "h_std = h[1]\n",
    "v_std = v[1]\n",
    "\n",
    "# Variance\n",
    "h_var = h[2]\n",
    "v_var = v[2]\n",
    "\n",
    "# Standard Error\n",
    "h_sem = h[3]\n",
    "v_sem = v[3]\n",
    "\n",
    "# Confidence Interval\n",
    "h_ci = np.array(st.t.interval(1-alpha, len(h)-1, \n",
    "                              loc=h_mean, scale=h_sem))\n",
    "v_ci = np.array(st.t.interval(1-alpha, len(v)-1, \n",
    "                              loc=v_mean, scale=v_sem))\n",
    "h = np.append(h, h_ci)\n",
    "v = np.append(v, v_ci)\n",
    "\n",
    "_stats = pd.DataFrame(index=['mean', 'std', 'var', \n",
    "                             'sem', 'ci_low', 'ci_high'])\n",
    "_stats['holdout'] = h\n",
    "_stats['variant'] = v\n",
    "\n",
    "display(_stats)\n",
    "line()\n",
    "\n",
    "# Standard Deviation\n",
    "std = (h_std + v_std) / 2\n",
    "print('Standard Deviation: +- %f' % std)\n",
    "line()\n",
    "\n",
    "# t-Statistic and p value for independent sample sets\n",
    "t, p = st.ttest_ind(x, y, equal_var=False)\n",
    "print('t-Statistic: %f' % t)\n",
    "line()\n",
    "print('p-value: {0}'.format(p))"
   ]
  },
  {
   "cell_type": "code",
   "execution_count": 63,
   "metadata": {},
   "outputs": [
    {
     "name": "stdout",
     "output_type": "stream",
     "text": [
      "a = 0.05\n",
      "p = 0.7467\n",
      "------------------------------------\n",
      "p > a\n",
      "\n",
      "Results were statistically insignificant\n",
      "Recommend to accept H0, and reject H1\n",
      "------------------------------------\n",
      "\n",
      "H0: The changes to the conversation flow will have no significant impact on booking rate\n"
     ]
    }
   ],
   "source": [
    "# Test Experiment Outcome\n",
    "print('a = %.2f' % alpha)\n",
    "print('p = %.4f' % p)\n",
    "\n",
    "def test_results():\n",
    "    if p <= alpha:\n",
    "        return '<=', '', 'reject', 'accept', 'H1', h1\n",
    "    else:\n",
    "        return '>', 'in', 'accept', 'reject', 'H0', h0\n",
    "\n",
    "test = test_results()\n",
    "\n",
    "line()\n",
    "print('p %s a' % test[0])\n",
    "print()\n",
    "print('Results were statistically {0}significant'.format(test[1]))\n",
    "print('Recommend to {0} H0, and {1} H1'.format(test[2], test[3]))\n",
    "line()\n",
    "print()\n",
    "print('{0}: {1}'.format(test[4], test[5]))"
   ]
  },
  {
   "cell_type": "markdown",
   "metadata": {},
   "source": [
    "The above bit of code does a sanity check to validate the results of the t_test run on the experiment samples to indicate directly which hypothesis should be rejected, and which should be accepted. This should help give a clear indication of how to to proceed with this particular experiment, or if it should be rethought out. In this case, the experiment wasn't successful, so it would be advisable to consider other options that might make a more significant impact.\n",
    "\n",
    "When graphed on a box plot there almost no difference between the two sets of descriptive statistics, so it's not so hard to visually see how there wasn't a significant difference between the sets according to the test."
   ]
  },
  {
   "cell_type": "code",
   "execution_count": 64,
   "metadata": {},
   "outputs": [
    {
     "data": {
      "text/html": [
       "<div>\n",
       "<style>\n",
       "    .dataframe thead tr:only-child th {\n",
       "        text-align: right;\n",
       "    }\n",
       "\n",
       "    .dataframe thead th {\n",
       "        text-align: left;\n",
       "    }\n",
       "\n",
       "    .dataframe tbody tr th {\n",
       "        vertical-align: top;\n",
       "    }\n",
       "</style>\n",
       "<table border=\"1\" class=\"dataframe\">\n",
       "  <thead>\n",
       "    <tr style=\"text-align: right;\">\n",
       "      <th></th>\n",
       "      <th>holdout</th>\n",
       "      <th>variant</th>\n",
       "    </tr>\n",
       "  </thead>\n",
       "  <tbody>\n",
       "    <tr>\n",
       "      <th>min</th>\n",
       "      <td>0.012369</td>\n",
       "      <td>0.021119</td>\n",
       "    </tr>\n",
       "    <tr>\n",
       "      <th>25%</th>\n",
       "      <td>0.280482</td>\n",
       "      <td>0.276538</td>\n",
       "    </tr>\n",
       "    <tr>\n",
       "      <th>50%</th>\n",
       "      <td>0.407192</td>\n",
       "      <td>0.401178</td>\n",
       "    </tr>\n",
       "    <tr>\n",
       "      <th>75%</th>\n",
       "      <td>0.456399</td>\n",
       "      <td>0.480829</td>\n",
       "    </tr>\n",
       "    <tr>\n",
       "      <th>max</th>\n",
       "      <td>0.494778</td>\n",
       "      <td>0.501992</td>\n",
       "    </tr>\n",
       "  </tbody>\n",
       "</table>\n",
       "</div>"
      ],
      "text/plain": [
       "      holdout   variant\n",
       "min  0.012369  0.021119\n",
       "25%  0.280482  0.276538\n",
       "50%  0.407192  0.401178\n",
       "75%  0.456399  0.480829\n",
       "max  0.494778  0.501992"
      ]
     },
     "metadata": {},
     "output_type": "display_data"
    },
    {
     "data": {
      "text/plain": [
       "<matplotlib.axes._subplots.AxesSubplot at 0x295a2bacf28>"
      ]
     },
     "execution_count": 64,
     "metadata": {},
     "output_type": "execute_result"
    },
    {
     "data": {
      "image/png": "[encoded data removed]",
      "text/plain": [
       "<matplotlib.figure.Figure at 0x295a22286d8>"
      ]
     },
     "metadata": {},
     "output_type": "display_data"
    }
   ],
   "source": [
    "# Generate Boxplot Stats\n",
    "h_bp = pd.DataFrame(h, columns=(['holdout'])).describe()\n",
    "v_bp = pd.DataFrame(v, columns=(['variant'])).describe()\n",
    "\n",
    "bp = pd.DataFrame(index=['count', 'mean', 'std', 'min', '25%', '50%', '75%', 'max'])\n",
    "bp['holdout'] = h_bp\n",
    "bp['variant'] = v_bp\n",
    "\n",
    "bp = bp.iloc[3:]\n",
    "display(bp)\n",
    "\n",
    "bp.boxplot()"
   ]
  },
  {
   "cell_type": "markdown",
   "metadata": {},
   "source": [
    "### 3. Do you have any reservations about the experiment design? What would you recommend as next steps?\n",
    "\n",
    "In general, the experiment had enough to get by, however it was extremely limited in how it was setup. By setting users to either variant or holdout groups, you basically have to wait for the users randomly flagged to strike up a conversation to get counted. This has an element of randomness, but isn't truely random, since when you really dive into the data, some users in both the holdover and variant groups had more than one conversation. This also impacted the frequency of when variant data tended to be collected.\n",
    "\n",
    " Maybe this isn't such a huge problem in the grand scheme of things, but it seems like something to think about when something like a unique cookie could be used. This would be one of my primary recommendations moving forward, especially for a web based service. Overall, I would suggest to run this experiment again, but with a between element of randomness that does a better job spreading out when the data is collected, and doesn't keep it tied to person_id."
   ]
  },
  {
   "cell_type": "markdown",
   "metadata": {},
   "source": [
    "## VI. Search Engine Marketing\n",
    "\n",
    "Historically, this company spent an average of \\$30 per account to advertise in the 2nd position on Google. However, on 2017-04-12, they decided to start bidding for the 1st position. Since 2017-04-12 , they have spent \\$210285 in total.\n",
    "\n",
    "### 1. For each day, determine the count of users that joined and were acquired through Google. \n",
    "\n",
    "Plot this and confirm there is an inflection point on or near 2017-04-12"
   ]
  },
  {
   "cell_type": "code",
   "execution_count": 65,
   "metadata": {},
   "outputs": [
    {
     "name": "stdout",
     "output_type": "stream",
     "text": [
      "------------------------------------\n",
      "SELECT DATE(date_joined) AS date_joined\n",
      "     , COUNT(p.id) AS users_joined\n",
      "FROM people_person AS p\n",
      "WHERE p.channel = 'Google'\n",
      "GROUP BY DATE(date_joined)\n",
      "ORDER BY date_joined\n",
      "------------------------------------\n"
     ]
    },
    {
     "data": {
      "text/plain": [
       "[<matplotlib.lines.Line2D at 0x295a2fb4400>]"
      ]
     },
     "execution_count": 65,
     "metadata": {},
     "output_type": "execute_result"
    },
    {
     "data": {
      "image/png": "[encoded data removed]",
      "text/plain": [
       "<matplotlib.figure.Figure at 0x295a2b2f9b0>"
      ]
     },
     "metadata": {},
     "output_type": "display_data"
    }
   ],
   "source": [
    "qry19 = open('queries/google_1.sql', 'r').read()\n",
    "out19 = c.execute(qry19).fetchall()\n",
    "line()\n",
    "print(qry19)\n",
    "line()\n",
    "\n",
    "google = pd.DataFrame(out19, columns=('date_joined', \n",
    "                                      'users_joined'))\n",
    "\n",
    "google['index'] = google.index\n",
    "infl = np.array(google.loc[google['date_joined'] =='2017-04-12'])\n",
    "\n",
    "plt.clf()\n",
    "plt.grid(False, linestyle='-', color='.8')\n",
    "plt.title('Google Users Aquired Daily 7/15 - 7/17')\n",
    "plt.xlabel('Date')\n",
    "plt.ylabel('Users Added Per Day')\n",
    "\n",
    "# Math is separated from labeling since dates were simply treated as sequential indexes\n",
    "# for the purposes of a time series\n",
    "plt.xticks([m*29 for m in range(len(google))],\n",
    "           ['%s' % m for m in date_ticks],\n",
    "           color='black',\n",
    "           rotation='vertical')\n",
    "plt.tick_params(direction='out',\n",
    "               length=4)\n",
    "plt.plot(google['index'], google['users_joined'], c='DarkTurquoise',\n",
    "         linewidth=1,\n",
    "         alpha=.7)\n",
    "plt.plot(infl[0][2],infl[0][1],\n",
    "         marker='X',\n",
    "         markersize=15,\n",
    "         color='g')"
   ]
  },
  {
   "cell_type": "markdown",
   "metadata": {},
   "source": [
    "### 2. How many users were acquired via Google advertising since 2017-04-12 and what was the average cost per account?"
   ]
  },
  {
   "cell_type": "code",
   "execution_count": 66,
   "metadata": {},
   "outputs": [
    {
     "name": "stdout",
     "output_type": "stream",
     "text": [
      "New Users: 4673\n",
      "------------------------------------\n",
      "New Users Avg. Cost: $45.00\n"
     ]
    }
   ],
   "source": [
    "ms = 210285\n",
    "\n",
    "old_google = google.loc[google['date_joined'] < '2017-04-12']\n",
    "new_google = google.loc[google['date_joined'] >= '2017-04-12']\n",
    "\n",
    "nu_sum = new_google['users_joined'].sum()\n",
    "print('New Users: %i' % nu_sum)\n",
    "line()\n",
    "\n",
    "nu_avg_cost = ms / nu_sum\n",
    "print('New Users Avg. Cost: $%.2f' % nu_avg_cost)"
   ]
  },
  {
   "cell_type": "markdown",
   "metadata": {},
   "source": [
    "### 3. Estimate how many users would have been acquired had the company not changed its bidding strategy. What would have been the marketing spend in that case?\n",
    "\n",
    "For this part, I am going to return to my old friend regression, but since I built the previous model specifically around the other demonstration, I am going to do this the quick way and use the stats.LinearRegress() function to get the numbers needed to proceed"
   ]
  },
  {
   "cell_type": "code",
   "execution_count": 67,
   "metadata": {},
   "outputs": [
    {
     "data": {
      "text/plain": [
       "(0, 100)"
      ]
     },
     "execution_count": 67,
     "metadata": {},
     "output_type": "execute_result"
    },
    {
     "data": {
      "image/png": "[encoded data removed]",
      "text/plain": [
       "<matplotlib.figure.Figure at 0x295a4d7d9b0>"
      ]
     },
     "metadata": {},
     "output_type": "display_data"
    }
   ],
   "source": [
    "ox = old_google['index']\n",
    "oy = old_google['users_joined']\n",
    "nx = new_google['index']\n",
    "ny = new_google['users_joined']\n",
    "\n",
    "# Reuse the handy linear model function we built earlier\n",
    "oz, ofx, oxx = linear_model(ox, oy, 1)\n",
    "nz, nfx, nxx = linear_model(nx, ny, 1)\n",
    "\n",
    "plt.clf()\n",
    "\n",
    "plt.title('Google Users Aquired Daily 7/15 - 7/17')\n",
    "plt.xlabel('Date')\n",
    "plt.ylabel('Users Added Per Day')\n",
    "# Math is separated from labeling since dates were simply treated as sequential indexes\n",
    "# for the purposes of a time series\n",
    "plt.xticks([m*29 for m in range(len(google))],\n",
    "           ['%s' % m for m in date_ticks],\n",
    "           color='black',\n",
    "           rotation='vertical')\n",
    "plt.tick_params(direction='out',\n",
    "               length=4)\n",
    "plt.grid(False, linestyle='-', color='.8')\n",
    "plt.plot(google['index'], google['users_joined'], c='DarkTurquoise',\n",
    "         linewidth=1,\n",
    "         alpha=.4)\n",
    "plt.plot(infl[0][2],infl[0][1],\n",
    "         marker='X',\n",
    "         markersize=15,\n",
    "         color='g')\n",
    "plt.plot(oxx, ofx(oxx),\n",
    "         ':r', linewidth=3)\n",
    "plt.plot(nxx, nfx(nxx),\n",
    "         ':g', linewidth=3)\n",
    "plt.xlim(xmin=oxx.min(), xmax=nxx.max()/10)\n",
    "plt.ylim(ymin=0, ymax=100)"
   ]
  },
  {
   "cell_type": "code",
   "execution_count": 68,
   "metadata": {},
   "outputs": [
    {
     "name": "stdout",
     "output_type": "stream",
     "text": [
      "Average Old Users Added Per Day: 15.68\n",
      "Average New Users Added Per Day: 51.92\n",
      "------------------------------------\n",
      "\n",
      "Daily Growth in Avg Old Users Added: 4.59\n",
      "Daily Growth in Avg New Users Added: 53.57\n",
      "------------------------------------\n",
      "\n",
      "Estimated New Users/Old Model > 4/12/2017: 429\n",
      "Estimated Marketing Spend: $12859.22\n"
     ]
    }
   ],
   "source": [
    "ou_avg_cost = 30\n",
    "td = nx.max() - ox.max()\n",
    "\n",
    "o_avg = oy.mean()\n",
    "n_avg = ny.mean()\n",
    "\n",
    "# Averages for each set of users\n",
    "print('Average Old Users Added Per Day: {0:.2f}'.format(o_avg))\n",
    "print('Average New Users Added Per Day: {0:.2f}'.format(n_avg))\n",
    "line()\n",
    "print()\n",
    "\n",
    "o_growth = oz[0] * 100\n",
    "n_growth = nz[0] * 100\n",
    "\n",
    "# Growth in Avg Old-New Users per day, pre new ads\n",
    "print('Daily Growth in Avg Old Users Added: {0:.2f}'.format(o_growth))\n",
    "\n",
    "# Growth in Avg New-New Users per day, post new ads\n",
    "print('Daily Growth in Avg New Users Added: {0:.2f}'.format(n_growth))\n",
    "line()\n",
    "print()\n",
    "\n",
    "# Create function to estimate growth to average over the time delta\n",
    "def estimate_growth(avg, growth):\n",
    "    for i in range(0, td):\n",
    "        avg = avg + growth # Not working in percentages\n",
    "    return avg\n",
    "\n",
    "ou_est = estimate_growth(o_avg, o_growth)\n",
    "nu_est = estimate_growth(o_avg, n_growth) # Avg starting point from 4/12\n",
    "\n",
    "ms_est = ou_est * ou_avg_cost\n",
    "    \n",
    "print('Estimated New Users/Old Model > 4/12/2017: {0:.0f}'.format(ou_est))\n",
    "print('Estimated Marketing Spend: ${0:.2f}'. format(ms_est))"
   ]
  },
  {
   "cell_type": "markdown",
   "metadata": {},
   "source": [
    "It's worth noting that it's highly unlikely we'd continue to see the current trend the linear model the new data set is showing, and at some point it would taper off and stablize at a less ferverant growth rate when the bulk of the campaign winds down, or critical mass is hit.\n",
    "\n",
    "### 4. How many additional accounts were created? What was the marginal cost per account for these additional accounts?\n",
    "\n",
    "Marginal costs can be calculated as the changes in total cost over the changes in quantity."
   ]
  },
  {
   "cell_type": "code",
   "execution_count": 69,
   "metadata": {},
   "outputs": [
    {
     "name": "stdout",
     "output_type": "stream",
     "text": [
      "Additional Marketing Spend: $197425.78\n",
      "Additional Accounts With New Ads: 4244\n",
      "------------------------------------\n",
      "Marginal Cost Per New Account: $46.52\n"
     ]
    }
   ],
   "source": [
    "n_added = int(nu_sum - ou_est)\n",
    "msd = ms - ms_est\n",
    "\n",
    "print('Additional Marketing Spend: ${0:.2f}'.format(msd))\n",
    "print('Additional Accounts With New Ads: {0}'. format(n_added))\n",
    "line()\n",
    "marg_cost = msd / n_added\n",
    "print('Marginal Cost Per New Account: ${0:.2f}'.format(marg_cost))"
   ]
  }
 ],
 "metadata": {
  "kernelspec": {
   "display_name": "Python 3",
   "language": "python",
   "name": "python3"
  },
  "language_info": {
   "codemirror_mode": {
    "name": "ipython",
    "version": 3
   },
   "file_extension": ".py",
   "mimetype": "text/x-python",
   "name": "python",
   "nbconvert_exporter": "python",
   "pygments_lexer": "ipython3",
   "version": "3.6.1"
  }
 },
 "nbformat": 4,
 "nbformat_minor": 2
}
