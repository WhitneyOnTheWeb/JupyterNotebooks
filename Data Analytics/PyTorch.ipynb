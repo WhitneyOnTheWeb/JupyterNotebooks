{
 "cells": [
  {
   "cell_type": "code",
   "execution_count": 6,
   "metadata": {},
   "outputs": [],
   "source": [
    "# Coding examples from Learning PyTorch with Examples:  https://pytorch.org/tutorials/beginner/pytorch_with_examples.html\n",
    "# By Justin Johnson\n",
    "# -*- coding: utf-8 -*-\n",
    "\n",
    "import numpy as np\n",
    "import torch"
   ]
  },
  {
   "cell_type": "markdown",
   "metadata": {},
   "source": [
    "## Warm Up with Numpy\n",
    "\n",
    "This example \"use[s] numpy to fit a two-layer network to random data by manually implementing the forward and backward passes through the network using numpy operations\".  The downside to Numpy is that it cannot utilize GPU for processing, which can provide more than 50x greater speeds. In this day in age, this just won't cut it.\n",
    "\n",
    "This example fits a Numpy array to random data"
   ]
  },
  {
   "cell_type": "code",
   "execution_count": 8,
   "metadata": {
    "scrolled": true
   },
   "outputs": [
    {
     "name": "stdout",
     "output_type": "stream",
     "text": [
      "0 31934664.907030087\n",
      "1 29262251.370950304\n",
      "2 30550062.900464088\n",
      "3 30775812.879441254\n",
      "4 26664045.71094605\n",
      "5 19078209.303244997\n",
      "6 11372572.342969213\n",
      "7 6163892.985219691\n",
      "8 3345251.829693421\n",
      "9 1972914.6740151828\n",
      "10 1300782.4717671033\n",
      "11 948175.8639766811\n",
      "12 741833.878485787\n",
      "13 606792.5871946111\n",
      "14 509805.56756730226\n",
      "15 435403.1724673868\n",
      "16 375882.76025044604\n",
      "17 326981.9962360215\n",
      "18 286187.88615136244\n",
      "19 251734.63199337316\n"
     ]
    }
   ],
   "source": [
    "# N is batch size; D_in is input dimension;\n",
    "# H is hidden dimension; D_out is output dimension.\n",
    "N, D_in, H, D_out = 64, 1000, 100, 10\n",
    "\n",
    "# Create random input and output data\n",
    "x = np.random.randn(N, D_in)\n",
    "y = np.random.randn(N, D_out)\n",
    "\n",
    "# Randomly initialize weights\n",
    "w1 = np.random.randn(D_in, H)\n",
    "w2 = np.random.randn(H, D_out)\n",
    "\n",
    "learning_rate = 1e-6\n",
    "for t in range(20):\n",
    "    # Forward pass: compute predicted y\n",
    "    h = x.dot(w1)\n",
    "    h_relu = np.maximum(h, 0)\n",
    "    y_pred = h_relu.dot(w2)\n",
    "\n",
    "    # Compute and print loss\n",
    "    loss = np.square(y_pred - y).sum()\n",
    "    print(t, loss)\n",
    "\n",
    "    # Backprop to compute gradients of w1 and w2 with respect to loss\n",
    "    grad_y_pred = 2.0 * (y_pred - y)\n",
    "    grad_w2 = h_relu.T.dot(grad_y_pred)\n",
    "    grad_h_relu = grad_y_pred.dot(w2.T)\n",
    "    grad_h = grad_h_relu.copy()\n",
    "    grad_h[h < 0] = 0\n",
    "    grad_w1 = x.T.dot(grad_h)\n",
    "\n",
    "    # Update weights\n",
    "    w1 -= learning_rate * grad_w1\n",
    "    w2 -= learning_rate * grad_w2"
   ]
  },
  {
   "cell_type": "markdown",
   "metadata": {},
   "source": [
    "## Enter, the Tensor\n",
    "\n",
    "In PyTorch, the Tensor is the same concept as an n-dimensional array in Numpy. Just as with Numpy Arrays, \"Tensors do not know anything about deep learning or computational graphs or gradients; they are a generic tool for scientific computing\". However, unlike Numpy Arrays, Tensors can be set to run their computations on a GPU, significantly increasing their performance run time.\n",
    "\n",
    "This example fits a Tensor to random data using the cpu"
   ]
  },
  {
   "cell_type": "code",
   "execution_count": 9,
   "metadata": {},
   "outputs": [
    {
     "name": "stdout",
     "output_type": "stream",
     "text": [
      "0 29707844.0\n",
      "1 24897342.0\n",
      "2 22956510.0\n",
      "3 20891364.0\n",
      "4 17536918.0\n",
      "5 13276195.0\n",
      "6 9146043.0\n",
      "7 5932256.0\n",
      "8 3772372.25\n",
      "9 2445405.0\n",
      "10 1656964.125\n",
      "11 1187660.0\n",
      "12 898856.5\n",
      "13 711649.4375\n",
      "14 582671.125\n",
      "15 488636.40625\n",
      "16 416546.75\n",
      "17 359188.5\n",
      "18 312236.4375\n",
      "19 273093.03125\n"
     ]
    }
   ],
   "source": [
    "# -*- coding: utf-8 -*-\n",
    "\n",
    "dtype = torch.float\n",
    "device = torch.device(\"cpu\")\n",
    "# dtype = torch.device(\"cuda:0\") # Uncomment this to run on GPU\n",
    "\n",
    "# N is batch size; D_in is input dimension;\n",
    "# H is hidden dimension; D_out is output dimension.\n",
    "N, D_in, H, D_out = 64, 1000, 100, 10\n",
    "\n",
    "# Create random input and output data\n",
    "x = torch.randn(N, D_in, device=device, dtype=dtype)\n",
    "y = torch.randn(N, D_out, device=device, dtype=dtype)\n",
    "\n",
    "# Randomly initialize weights\n",
    "w1 = torch.randn(D_in, H, device=device, dtype=dtype)\n",
    "w2 = torch.randn(H, D_out, device=device, dtype=dtype)\n",
    "\n",
    "learning_rate = 1e-6\n",
    "for t in range(20):\n",
    "    # Forward pass: compute predicted y\n",
    "    h = x.mm(w1)\n",
    "    h_relu = h.clamp(min=0)\n",
    "    y_pred = h_relu.mm(w2)\n",
    "\n",
    "    # Compute and print loss\n",
    "    loss = (y_pred - y).pow(2).sum().item()\n",
    "    print(t, loss)\n",
    "\n",
    "    # Backprop to compute gradients of w1 and w2 with respect to loss\n",
    "    grad_y_pred = 2.0 * (y_pred - y)\n",
    "    grad_w2 = h_relu.t().mm(grad_y_pred)\n",
    "    grad_h_relu = grad_y_pred.mm(w2.t())\n",
    "    grad_h = grad_h_relu.clone()\n",
    "    grad_h[h < 0] = 0\n",
    "    grad_w1 = x.t().mm(grad_h)\n",
    "\n",
    "    # Update weights using gradient descent\n",
    "    w1 -= learning_rate * grad_w1\n",
    "    w2 -= learning_rate * grad_w2"
   ]
  },
  {
   "cell_type": "code",
   "execution_count": null,
   "metadata": {
    "collapsed": true
   },
   "outputs": [],
   "source": []
  }
 ],
 "metadata": {
  "kernelspec": {
   "display_name": "Python 3",
   "language": "python",
   "name": "python3"
  },
  "language_info": {
   "codemirror_mode": {
    "name": "ipython",
    "version": 3
   },
   "file_extension": ".py",
   "mimetype": "text/x-python",
   "name": "python",
   "nbconvert_exporter": "python",
   "pygments_lexer": "ipython3",
   "version": "3.6.1"
  }
 },
 "nbformat": 4,
 "nbformat_minor": 2
}
