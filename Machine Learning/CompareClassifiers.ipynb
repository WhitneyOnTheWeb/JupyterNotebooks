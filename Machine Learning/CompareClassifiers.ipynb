{
 "cells": [
  {
   "cell_type": "markdown",
   "metadata": {},
   "source": [
    "## Comparing Classifiers\n",
    "\n",
    "To make the most educated decision about which classifier to use for any given problem, it's simple to run a comparison between classifiers on the dataset before diving into building a full fledged model. The dataset used in this example is the <a href='https://www.kaggle.com/uciml/sms-spam-collection-dataset'>SMS Spam Collection Dataset</a> from Kaggle."
   ]
  },
  {
   "cell_type": "code",
   "execution_count": 1,
   "metadata": {
    "collapsed": true
   },
   "outputs": [],
   "source": [
    "# Scikit-Learn modules~~~~~~~~~~~~~~~~~~~~~~~~~~~~~~~~~~~~~~~~~~~~~~~~~~~~~~~~~\n",
    "from sklearn.naive_bayes import *\n",
    "from sklearn.dummy import *\n",
    "from sklearn.ensemble import *\n",
    "from sklearn.neighbors import *\n",
    "from sklearn.tree import *\n",
    "from sklearn.svm import *\n",
    "from sklearn.feature_extraction.text import CountVectorizer\n",
    "from sklearn.feature_extraction.text import TfidfVectorizer\n",
    "from sklearn.feature_extraction.text import HashingVectorizer\n",
    "from sklearn.calibration import *\n",
    "from sklearn.linear_model import *\n",
    "from sklearn.multiclass import *\n",
    "from sklearn.model_selection import *\n",
    "from sklearn.svm import *\n",
    "\n",
    "# Other Modules\n",
    "from IPython.display import display\n",
    "import pandas as pd\n",
    "import numpy as np\n",
    "import csv"
   ]
  },
  {
   "cell_type": "code",
   "execution_count": 2,
   "metadata": {
    "collapsed": true
   },
   "outputs": [],
   "source": [
    "data = pd.read_csv('data/spam.csv', encoding='latin-1')\n",
    "data.drop(['Unnamed: 2', 'Unnamed: 3', 'Unnamed: 4'], axis = 1, inplace = True)\n",
    "data.rename(columns={'v1': 'label', 'v2': 'message'}, inplace = True)\n",
    "data['label'] = data['label'].map({'spam': 1, 'ham': 0})"
   ]
  },
  {
   "cell_type": "code",
   "execution_count": 3,
   "metadata": {},
   "outputs": [
    {
     "data": {
      "text/html": [
       "<div>\n",
       "<style>\n",
       "    .dataframe thead tr:only-child th {\n",
       "        text-align: right;\n",
       "    }\n",
       "\n",
       "    .dataframe thead th {\n",
       "        text-align: left;\n",
       "    }\n",
       "\n",
       "    .dataframe tbody tr th {\n",
       "        vertical-align: top;\n",
       "    }\n",
       "</style>\n",
       "<table border=\"1\" class=\"dataframe\">\n",
       "  <thead>\n",
       "    <tr style=\"text-align: right;\">\n",
       "      <th></th>\n",
       "      <th>label</th>\n",
       "      <th>message</th>\n",
       "    </tr>\n",
       "  </thead>\n",
       "  <tbody>\n",
       "    <tr>\n",
       "      <th>0</th>\n",
       "      <td>0</td>\n",
       "      <td>Go until jurong point, crazy.. Available only ...</td>\n",
       "    </tr>\n",
       "    <tr>\n",
       "      <th>1</th>\n",
       "      <td>0</td>\n",
       "      <td>Ok lar... Joking wif u oni...</td>\n",
       "    </tr>\n",
       "    <tr>\n",
       "      <th>2</th>\n",
       "      <td>1</td>\n",
       "      <td>Free entry in 2 a wkly comp to win FA Cup fina...</td>\n",
       "    </tr>\n",
       "    <tr>\n",
       "      <th>3</th>\n",
       "      <td>0</td>\n",
       "      <td>U dun say so early hor... U c already then say...</td>\n",
       "    </tr>\n",
       "    <tr>\n",
       "      <th>4</th>\n",
       "      <td>0</td>\n",
       "      <td>Nah I don't think he goes to usf, he lives aro...</td>\n",
       "    </tr>\n",
       "    <tr>\n",
       "      <th>5</th>\n",
       "      <td>1</td>\n",
       "      <td>FreeMsg Hey there darling it's been 3 week's n...</td>\n",
       "    </tr>\n",
       "    <tr>\n",
       "      <th>6</th>\n",
       "      <td>0</td>\n",
       "      <td>Even my brother is not like to speak with me. ...</td>\n",
       "    </tr>\n",
       "    <tr>\n",
       "      <th>7</th>\n",
       "      <td>0</td>\n",
       "      <td>As per your request 'Melle Melle (Oru Minnamin...</td>\n",
       "    </tr>\n",
       "    <tr>\n",
       "      <th>8</th>\n",
       "      <td>1</td>\n",
       "      <td>WINNER!! As a valued network customer you have...</td>\n",
       "    </tr>\n",
       "    <tr>\n",
       "      <th>9</th>\n",
       "      <td>1</td>\n",
       "      <td>Had your mobile 11 months or more? U R entitle...</td>\n",
       "    </tr>\n",
       "  </tbody>\n",
       "</table>\n",
       "</div>"
      ],
      "text/plain": [
       "   label                                            message\n",
       "0      0  Go until jurong point, crazy.. Available only ...\n",
       "1      0                      Ok lar... Joking wif u oni...\n",
       "2      1  Free entry in 2 a wkly comp to win FA Cup fina...\n",
       "3      0  U dun say so early hor... U c already then say...\n",
       "4      0  Nah I don't think he goes to usf, he lives aro...\n",
       "5      1  FreeMsg Hey there darling it's been 3 week's n...\n",
       "6      0  Even my brother is not like to speak with me. ...\n",
       "7      0  As per your request 'Melle Melle (Oru Minnamin...\n",
       "8      1  WINNER!! As a valued network customer you have...\n",
       "9      1  Had your mobile 11 months or more? U R entitle..."
      ]
     },
     "execution_count": 3,
     "metadata": {},
     "output_type": "execute_result"
    }
   ],
   "source": [
    "data.head(10)"
   ]
  },
  {
   "cell_type": "code",
   "execution_count": 4,
   "metadata": {
    "collapsed": true
   },
   "outputs": [],
   "source": [
    "X = data\n",
    "n_features = X.shape[1]\n",
    "\n",
    "target = np.array(X['label'])\n",
    "target_names = np.array(['ham', 'spam'])\n",
    "labels = target_names[target]\n",
    "is_spam = (labels == 'spam')\n",
    "\n",
    "y = target\n",
    "n_classes = target_names.shape[0]\n",
    "\n",
    "X_train, X_test, y_train, y_test = \\\n",
    "train_test_split(X, y, test_size=0.33, random_state=42)\n",
    "\n",
    "tr_target = np.array(X_train['label'])\n",
    "tr_target_names = np.array(['ham', 'spam'])\n",
    "tr_labels = tr_target_names[tr_target]\n",
    "\n",
    "te_target = np.array(X_test['label'])\n",
    "te_target_names = np.array(['ham', 'spam'])\n",
    "te_labels = te_target_names[te_target]"
   ]
  },
  {
   "cell_type": "code",
   "execution_count": 5,
   "metadata": {},
   "outputs": [
    {
     "data": {
      "text/html": [
       "<div>\n",
       "<style>\n",
       "    .dataframe thead tr:only-child th {\n",
       "        text-align: right;\n",
       "    }\n",
       "\n",
       "    .dataframe thead th {\n",
       "        text-align: left;\n",
       "    }\n",
       "\n",
       "    .dataframe tbody tr th {\n",
       "        vertical-align: top;\n",
       "    }\n",
       "</style>\n",
       "<table border=\"1\" class=\"dataframe\">\n",
       "  <thead>\n",
       "    <tr style=\"text-align: right;\">\n",
       "      <th></th>\n",
       "      <th>label</th>\n",
       "      <th>message</th>\n",
       "    </tr>\n",
       "  </thead>\n",
       "  <tbody>\n",
       "    <tr>\n",
       "      <th>3235</th>\n",
       "      <td>0</td>\n",
       "      <td>Aight text me when you're back at mu and I'll ...</td>\n",
       "    </tr>\n",
       "    <tr>\n",
       "      <th>945</th>\n",
       "      <td>0</td>\n",
       "      <td>I cant wait to see you! How were the photos we...</td>\n",
       "    </tr>\n",
       "    <tr>\n",
       "      <th>5319</th>\n",
       "      <td>0</td>\n",
       "      <td>Kothi print out marandratha.</td>\n",
       "    </tr>\n",
       "    <tr>\n",
       "      <th>5528</th>\n",
       "      <td>0</td>\n",
       "      <td>Its just the effect of irritation. Just ignore it</td>\n",
       "    </tr>\n",
       "    <tr>\n",
       "      <th>247</th>\n",
       "      <td>0</td>\n",
       "      <td>Kallis wont bat in 2nd innings.</td>\n",
       "    </tr>\n",
       "    <tr>\n",
       "      <th>3986</th>\n",
       "      <td>1</td>\n",
       "      <td>Ringtone Club: Gr8 new polys direct to your mo...</td>\n",
       "    </tr>\n",
       "    <tr>\n",
       "      <th>360</th>\n",
       "      <td>0</td>\n",
       "      <td>Ha ha cool cool chikku chikku:-):-DB-)</td>\n",
       "    </tr>\n",
       "    <tr>\n",
       "      <th>5347</th>\n",
       "      <td>0</td>\n",
       "      <td>No sir. That's why i had an 8-hr trip on the b...</td>\n",
       "    </tr>\n",
       "    <tr>\n",
       "      <th>3781</th>\n",
       "      <td>0</td>\n",
       "      <td>How r Ì_ going to send it to me?</td>\n",
       "    </tr>\n",
       "    <tr>\n",
       "      <th>5188</th>\n",
       "      <td>0</td>\n",
       "      <td>Okie</td>\n",
       "    </tr>\n",
       "  </tbody>\n",
       "</table>\n",
       "</div>"
      ],
      "text/plain": [
       "      label                                            message\n",
       "3235      0  Aight text me when you're back at mu and I'll ...\n",
       "945       0  I cant wait to see you! How were the photos we...\n",
       "5319      0                       Kothi print out marandratha.\n",
       "5528      0  Its just the effect of irritation. Just ignore it\n",
       "247       0                    Kallis wont bat in 2nd innings.\n",
       "3986      1  Ringtone Club: Gr8 new polys direct to your mo...\n",
       "360       0             Ha ha cool cool chikku chikku:-):-DB-)\n",
       "5347      0  No sir. That's why i had an 8-hr trip on the b...\n",
       "3781      0                   How r Ì_ going to send it to me?\n",
       "5188      0                                               Okie"
      ]
     },
     "metadata": {},
     "output_type": "display_data"
    },
    {
     "data": {
      "text/plain": [
       "array([0, 0, 0, ..., 0, 0, 0], dtype=int64)"
      ]
     },
     "metadata": {},
     "output_type": "display_data"
    },
    {
     "data": {
      "text/plain": [
       "3733"
      ]
     },
     "metadata": {},
     "output_type": "display_data"
    }
   ],
   "source": [
    "display(X_train.head(10), y_train, len(X_train))"
   ]
  },
  {
   "cell_type": "code",
   "execution_count": 6,
   "metadata": {},
   "outputs": [
    {
     "data": {
      "text/html": [
       "<div>\n",
       "<style>\n",
       "    .dataframe thead tr:only-child th {\n",
       "        text-align: right;\n",
       "    }\n",
       "\n",
       "    .dataframe thead th {\n",
       "        text-align: left;\n",
       "    }\n",
       "\n",
       "    .dataframe tbody tr th {\n",
       "        vertical-align: top;\n",
       "    }\n",
       "</style>\n",
       "<table border=\"1\" class=\"dataframe\">\n",
       "  <thead>\n",
       "    <tr style=\"text-align: right;\">\n",
       "      <th></th>\n",
       "      <th>label</th>\n",
       "      <th>message</th>\n",
       "    </tr>\n",
       "  </thead>\n",
       "  <tbody>\n",
       "    <tr>\n",
       "      <th>3245</th>\n",
       "      <td>0</td>\n",
       "      <td>Funny fact Nobody teaches volcanoes 2 erupt, t...</td>\n",
       "    </tr>\n",
       "    <tr>\n",
       "      <th>944</th>\n",
       "      <td>0</td>\n",
       "      <td>I sent my scores to sophas and i had to do sec...</td>\n",
       "    </tr>\n",
       "    <tr>\n",
       "      <th>1044</th>\n",
       "      <td>1</td>\n",
       "      <td>We know someone who you know that fancies you....</td>\n",
       "    </tr>\n",
       "    <tr>\n",
       "      <th>2484</th>\n",
       "      <td>0</td>\n",
       "      <td>Only if you promise your getting out as SOON a...</td>\n",
       "    </tr>\n",
       "    <tr>\n",
       "      <th>812</th>\n",
       "      <td>1</td>\n",
       "      <td>Congratulations ur awarded either å£500 of CD ...</td>\n",
       "    </tr>\n",
       "    <tr>\n",
       "      <th>2973</th>\n",
       "      <td>0</td>\n",
       "      <td>I'll text carlos and let you know, hang on</td>\n",
       "    </tr>\n",
       "    <tr>\n",
       "      <th>2991</th>\n",
       "      <td>0</td>\n",
       "      <td>K.i did't see you.:)k:)where are you now?</td>\n",
       "    </tr>\n",
       "    <tr>\n",
       "      <th>2942</th>\n",
       "      <td>0</td>\n",
       "      <td>No message..no responce..what happend?</td>\n",
       "    </tr>\n",
       "    <tr>\n",
       "      <th>230</th>\n",
       "      <td>0</td>\n",
       "      <td>Get down in gandhipuram and walk to cross cut ...</td>\n",
       "    </tr>\n",
       "    <tr>\n",
       "      <th>1181</th>\n",
       "      <td>0</td>\n",
       "      <td>You flippin your shit yet?</td>\n",
       "    </tr>\n",
       "  </tbody>\n",
       "</table>\n",
       "</div>"
      ],
      "text/plain": [
       "      label                                            message\n",
       "3245      0  Funny fact Nobody teaches volcanoes 2 erupt, t...\n",
       "944       0  I sent my scores to sophas and i had to do sec...\n",
       "1044      1  We know someone who you know that fancies you....\n",
       "2484      0  Only if you promise your getting out as SOON a...\n",
       "812       1  Congratulations ur awarded either å£500 of CD ...\n",
       "2973      0         I'll text carlos and let you know, hang on\n",
       "2991      0          K.i did't see you.:)k:)where are you now?\n",
       "2942      0             No message..no responce..what happend?\n",
       "230       0  Get down in gandhipuram and walk to cross cut ...\n",
       "1181      0                         You flippin your shit yet?"
      ]
     },
     "metadata": {},
     "output_type": "display_data"
    },
    {
     "data": {
      "text/plain": [
       "array([0, 0, 1, ..., 0, 0, 1], dtype=int64)"
      ]
     },
     "metadata": {},
     "output_type": "display_data"
    },
    {
     "data": {
      "text/plain": [
       "1839"
      ]
     },
     "metadata": {},
     "output_type": "display_data"
    }
   ],
   "source": [
    "display(X_test.head(10), y_test, len(X_test))"
   ]
  },
  {
   "cell_type": "code",
   "execution_count": 19,
   "metadata": {
    "collapsed": true
   },
   "outputs": [],
   "source": [
    "# Performance comparison between available classifiers~~~~~~~~~~~~~~~~~~~~~~~~~\n",
    "def performance(classifiers, vectorizers, train_data, test_data, train_label, test_label):\n",
    "    scores = pd.DataFrame(columns=['classifier', 'vectorizer', 'score'])\n",
    "    for clf in classifiers:\n",
    "        for vec in vectorizers:\n",
    "            # Train Models\n",
    "            print('Training {} with {}...'\\\n",
    "                  .format(clf.__class__.__name__, vec.__class__.__name__))\n",
    "            vectorize = vec.fit_transform(train_data)\n",
    "            clf.fit(vectorize, train_label)\n",
    "            \n",
    "            # Score Models\n",
    "            vectorize = vec.transform(test_data)\n",
    "            score = clf.score(vectorize, test_label)\n",
    "            scores.loc[len(scores)] = \\\n",
    "                ([clf.__class__.__name__, vec.__class__.__name__, score])\n",
    "    return scores"
   ]
  },
  {
   "cell_type": "code",
   "execution_count": 20,
   "metadata": {
    "scrolled": false
   },
   "outputs": [
    {
     "name": "stdout",
     "output_type": "stream",
     "text": [
      "Measuring Model Performances...\n",
      "~~~~~~~~~~~~~~~~~~~~~~~~~~~~~~~~~~~~~~~~~~~~~~~~~~~~~~~~~~~~~~~~~~~~~~~~~~~~~~~~\n",
      "Training BernoulliNB with CountVectorizer...\n",
      "Training BernoulliNB with TfidfVectorizer...\n",
      "Training BernoulliNB with HashingVectorizer...\n",
      "Training RandomForestClassifier with CountVectorizer...\n",
      "Training RandomForestClassifier with TfidfVectorizer...\n",
      "Training RandomForestClassifier with HashingVectorizer...\n",
      "Training AdaBoostClassifier with CountVectorizer...\n",
      "Training AdaBoostClassifier with TfidfVectorizer...\n",
      "Training AdaBoostClassifier with HashingVectorizer...\n",
      "Training BaggingClassifier with CountVectorizer...\n",
      "Training BaggingClassifier with TfidfVectorizer...\n",
      "Training BaggingClassifier with HashingVectorizer...\n",
      "Training ExtraTreesClassifier with CountVectorizer...\n",
      "Training ExtraTreesClassifier with TfidfVectorizer...\n",
      "Training ExtraTreesClassifier with HashingVectorizer...\n",
      "Training GradientBoostingClassifier with CountVectorizer...\n",
      "Training GradientBoostingClassifier with TfidfVectorizer...\n",
      "Training GradientBoostingClassifier with HashingVectorizer...\n",
      "Training DecisionTreeClassifier with CountVectorizer...\n",
      "Training DecisionTreeClassifier with TfidfVectorizer...\n",
      "Training DecisionTreeClassifier with HashingVectorizer...\n",
      "Training CalibratedClassifierCV with CountVectorizer...\n",
      "Training CalibratedClassifierCV with TfidfVectorizer...\n",
      "Training CalibratedClassifierCV with HashingVectorizer...\n",
      "Training DummyClassifier with CountVectorizer...\n",
      "Training DummyClassifier with TfidfVectorizer...\n",
      "Training DummyClassifier with HashingVectorizer...\n",
      "Training PassiveAggressiveClassifier with CountVectorizer...\n"
     ]
    },
    {
     "name": "stderr",
     "output_type": "stream",
     "text": [
      "C:\\Users\\dooki\\Anaconda3\\envs\\py3\\lib\\site-packages\\sklearn\\linear_model\\stochastic_gradient.py:128: FutureWarning: max_iter and tol parameters have been added in <class 'sklearn.linear_model.passive_aggressive.PassiveAggressiveClassifier'> in 0.19. If both are left unset, they default to max_iter=5 and tol=None. If tol is not None, max_iter defaults to max_iter=1000. From 0.21, default max_iter will be 1000, and default tol will be 1e-3.\n",
      "  \"and default tol will be 1e-3.\" % type(self), FutureWarning)\n"
     ]
    },
    {
     "name": "stdout",
     "output_type": "stream",
     "text": [
      "Training PassiveAggressiveClassifier with TfidfVectorizer...\n",
      "Training PassiveAggressiveClassifier with HashingVectorizer...\n",
      "Training RidgeClassifier with CountVectorizer...\n",
      "Training RidgeClassifier with TfidfVectorizer...\n",
      "Training RidgeClassifier with HashingVectorizer...\n",
      "Training RidgeClassifierCV with CountVectorizer...\n",
      "Training RidgeClassifierCV with TfidfVectorizer...\n",
      "Training RidgeClassifierCV with HashingVectorizer...\n",
      "Training SGDClassifier with CountVectorizer...\n",
      "Training SGDClassifier with TfidfVectorizer...\n",
      "Training SGDClassifier with HashingVectorizer..."
     ]
    },
    {
     "name": "stderr",
     "output_type": "stream",
     "text": [
      "C:\\Users\\dooki\\Anaconda3\\envs\\py3\\lib\\site-packages\\sklearn\\linear_model\\stochastic_gradient.py:128: FutureWarning: max_iter and tol parameters have been added in <class 'sklearn.linear_model.stochastic_gradient.SGDClassifier'> in 0.19. If both are left unset, they default to max_iter=5 and tol=None. If tol is not None, max_iter defaults to max_iter=1000. From 0.21, default max_iter will be 1000, and default tol will be 1e-3.\n",
      "  \"and default tol will be 1e-3.\" % type(self), FutureWarning)\n"
     ]
    },
    {
     "name": "stdout",
     "output_type": "stream",
     "text": [
      "\n",
      "Training SVC with CountVectorizer...\n",
      "Training SVC with TfidfVectorizer...\n",
      "Training SVC with HashingVectorizer...\n",
      "Training OneVsRestClassifier with CountVectorizer...\n",
      "Training OneVsRestClassifier with TfidfVectorizer...\n",
      "Training OneVsRestClassifier with HashingVectorizer...\n",
      "Training OneVsRestClassifier with CountVectorizer...\n",
      "Training OneVsRestClassifier with TfidfVectorizer...\n",
      "Training OneVsRestClassifier with HashingVectorizer...\n",
      "Training KNeighborsClassifier with CountVectorizer...\n",
      "Training KNeighborsClassifier with TfidfVectorizer...\n",
      "Training KNeighborsClassifier with HashingVectorizer...\n"
     ]
    }
   ],
   "source": [
    "print('Measuring Model Performances...')\n",
    "print('~' * 80)\n",
    "scores = performance(\n",
    "    [\n",
    "        BernoulliNB(),\n",
    "        RandomForestClassifier(n_estimators=100, n_jobs=-1),\n",
    "        AdaBoostClassifier(),\n",
    "        BaggingClassifier(),\n",
    "        ExtraTreesClassifier(),\n",
    "        GradientBoostingClassifier(),\n",
    "        DecisionTreeClassifier(),\n",
    "        CalibratedClassifierCV(),\n",
    "        DummyClassifier(),\n",
    "        PassiveAggressiveClassifier(),\n",
    "        RidgeClassifier(),\n",
    "        RidgeClassifierCV(),\n",
    "        SGDClassifier(),\n",
    "        SVC(kernel = 'rbf', C = 10000),\n",
    "        OneVsRestClassifier(SVC(kernel='linear')),\n",
    "        OneVsRestClassifier(LogisticRegression()),\n",
    "        KNeighborsClassifier()\n",
    "    ],\n",
    "    [\n",
    "        CountVectorizer(),\n",
    "        TfidfVectorizer(),\n",
    "        HashingVectorizer()\n",
    "    ],\n",
    "    X_train['message'],\n",
    "    X_test['message'],\n",
    "    tr_target,\n",
    "    te_target\n",
    ")"
   ]
  },
  {
   "cell_type": "code",
   "execution_count": 21,
   "metadata": {},
   "outputs": [
    {
     "data": {
      "text/html": [
       "<div>\n",
       "<style>\n",
       "    .dataframe thead tr:only-child th {\n",
       "        text-align: right;\n",
       "    }\n",
       "\n",
       "    .dataframe thead th {\n",
       "        text-align: left;\n",
       "    }\n",
       "\n",
       "    .dataframe tbody tr th {\n",
       "        vertical-align: top;\n",
       "    }\n",
       "</style>\n",
       "<table border=\"1\" class=\"dataframe\">\n",
       "  <thead>\n",
       "    <tr style=\"text-align: right;\">\n",
       "      <th></th>\n",
       "      <th>classifier</th>\n",
       "      <th>vectorizer</th>\n",
       "      <th>score</th>\n",
       "    </tr>\n",
       "  </thead>\n",
       "  <tbody>\n",
       "    <tr>\n",
       "      <th>36</th>\n",
       "      <td>SGDClassifier</td>\n",
       "      <td>CountVectorizer</td>\n",
       "      <td>0.983687</td>\n",
       "    </tr>\n",
       "    <tr>\n",
       "      <th>21</th>\n",
       "      <td>CalibratedClassifierCV</td>\n",
       "      <td>CountVectorizer</td>\n",
       "      <td>0.983143</td>\n",
       "    </tr>\n",
       "    <tr>\n",
       "      <th>43</th>\n",
       "      <td>OneVsRestClassifier</td>\n",
       "      <td>TfidfVectorizer</td>\n",
       "      <td>0.983143</td>\n",
       "    </tr>\n",
       "    <tr>\n",
       "      <th>40</th>\n",
       "      <td>SVC</td>\n",
       "      <td>TfidfVectorizer</td>\n",
       "      <td>0.982055</td>\n",
       "    </tr>\n",
       "    <tr>\n",
       "      <th>37</th>\n",
       "      <td>SGDClassifier</td>\n",
       "      <td>TfidfVectorizer</td>\n",
       "      <td>0.982055</td>\n",
       "    </tr>\n",
       "    <tr>\n",
       "      <th>22</th>\n",
       "      <td>CalibratedClassifierCV</td>\n",
       "      <td>TfidfVectorizer</td>\n",
       "      <td>0.982055</td>\n",
       "    </tr>\n",
       "    <tr>\n",
       "      <th>28</th>\n",
       "      <td>PassiveAggressiveClassifier</td>\n",
       "      <td>TfidfVectorizer</td>\n",
       "      <td>0.981512</td>\n",
       "    </tr>\n",
       "    <tr>\n",
       "      <th>23</th>\n",
       "      <td>CalibratedClassifierCV</td>\n",
       "      <td>HashingVectorizer</td>\n",
       "      <td>0.981512</td>\n",
       "    </tr>\n",
       "    <tr>\n",
       "      <th>39</th>\n",
       "      <td>SVC</td>\n",
       "      <td>CountVectorizer</td>\n",
       "      <td>0.980968</td>\n",
       "    </tr>\n",
       "    <tr>\n",
       "      <th>34</th>\n",
       "      <td>RidgeClassifierCV</td>\n",
       "      <td>TfidfVectorizer</td>\n",
       "      <td>0.980968</td>\n",
       "    </tr>\n",
       "  </tbody>\n",
       "</table>\n",
       "</div>"
      ],
      "text/plain": [
       "                     classifier         vectorizer     score\n",
       "36                SGDClassifier    CountVectorizer  0.983687\n",
       "21       CalibratedClassifierCV    CountVectorizer  0.983143\n",
       "43          OneVsRestClassifier    TfidfVectorizer  0.983143\n",
       "40                          SVC    TfidfVectorizer  0.982055\n",
       "37                SGDClassifier    TfidfVectorizer  0.982055\n",
       "22       CalibratedClassifierCV    TfidfVectorizer  0.982055\n",
       "28  PassiveAggressiveClassifier    TfidfVectorizer  0.981512\n",
       "23       CalibratedClassifierCV  HashingVectorizer  0.981512\n",
       "39                          SVC    CountVectorizer  0.980968\n",
       "34            RidgeClassifierCV    TfidfVectorizer  0.980968"
      ]
     },
     "execution_count": 21,
     "metadata": {},
     "output_type": "execute_result"
    }
   ],
   "source": [
    "scores.sort_values(by=['score'], ascending=False).head(10)"
   ]
  },
  {
   "cell_type": "markdown",
   "metadata": {
    "collapsed": true
   },
   "source": [
    "## Building a Classification Model\n",
    "\n",
    "Once we compare all the mean accuracy scores of each classification model, we can land on the algorithm we want to use for the classification model."
   ]
  },
  {
   "cell_type": "code",
   "execution_count": 22,
   "metadata": {
    "collapsed": true
   },
   "outputs": [],
   "source": [
    "clf = SGDClassifier()\n",
    "vec = CountVectorizer()"
   ]
  },
  {
   "cell_type": "code",
   "execution_count": 23,
   "metadata": {},
   "outputs": [
    {
     "name": "stdout",
     "output_type": "stream",
     "text": [
      "0.976617727026\n"
     ]
    },
    {
     "name": "stderr",
     "output_type": "stream",
     "text": [
      "C:\\Users\\dooki\\Anaconda3\\envs\\py3\\lib\\site-packages\\sklearn\\linear_model\\stochastic_gradient.py:128: FutureWarning: max_iter and tol parameters have been added in <class 'sklearn.linear_model.stochastic_gradient.SGDClassifier'> in 0.19. If both are left unset, they default to max_iter=5 and tol=None. If tol is not None, max_iter defaults to max_iter=1000. From 0.21, default max_iter will be 1000, and default tol will be 1e-3.\n",
      "  \"and default tol will be 1e-3.\" % type(self), FutureWarning)\n"
     ]
    }
   ],
   "source": [
    "# Train Model\n",
    "vectorize = vec.fit_transform(X_train['message'])\n",
    "clf.fit(vectorize, tr_labels)\n",
    "            \n",
    "# Score Model\n",
    "vectorize = vec.transform(X_test['message'])\n",
    "score = clf.score(vectorize, te_labels)\n",
    "print(score)"
   ]
  },
  {
   "cell_type": "code",
   "execution_count": 25,
   "metadata": {},
   "outputs": [],
   "source": [
    "# Save Predictions to CSV~~~~~~~~~~~~~~~~~~~~~~~~~~~~~~~~~~\n",
    "results = []\n",
    "for idx, row in X_test.iterrows():\n",
    "    ans = row[0]\n",
    "    txt = row[1]\n",
    "    vectorize = vec.transform([txt])\n",
    "    pred = clf.predict(vectorize)[0]\n",
    "    if pred == 'spam' and ans == 1:  result = 'TP'\n",
    "    elif pred == 'ham' and ans == 0: result = 'TN'\n",
    "    elif pred == 'spam' and ans == 0: result = 'FP'\n",
    "    elif pred == 'ham' and ans == 1: result = 'FN'\n",
    "    results.append([len(results), txt, ans, pred, result])\n",
    "    \n",
    "# Write results to CSV\n",
    "with open('data/test_results.csv', 'w', newline='', encoding=\"utf-8\") as csvfile:\n",
    "    spam_writer = csv.writer(csvfile, delimiter=',', \n",
    "                             quotechar='\"', quoting=csv.QUOTE_MINIMAL)\n",
    "    \n",
    "    # Header Row\n",
    "    spam_writer.writerow(['#', 'text', 'actual', 'prediction', 'result'])\n",
    "    \n",
    "    for row in results:\n",
    "        spam_writer.writerow(row)"
   ]
  },
  {
   "cell_type": "markdown",
   "metadata": {},
   "source": [
    "## Building the API\n",
    "\n",
    "Now that we have a working model that is satisfactory, we can move forward to creating an API that allows for the use of it. For this task, we will use the ```flask``` package, which is a microframework for Python."
   ]
  },
  {
   "cell_type": "code",
   "execution_count": 46,
   "metadata": {},
   "outputs": [
    {
     "name": "stderr",
     "output_type": "stream",
     "text": [
      "C:\\Users\\dooki\\Anaconda3\\envs\\py3\\lib\\site-packages\\sklearn\\linear_model\\stochastic_gradient.py:128: FutureWarning: max_iter and tol parameters have been added in <class 'sklearn.linear_model.stochastic_gradient.SGDClassifier'> in 0.19. If both are left unset, they default to max_iter=5 and tol=None. If tol is not None, max_iter defaults to max_iter=1000. From 0.21, default max_iter will be 1000, and default tol will be 1e-3.\n",
      "  \"and default tol will be 1e-3.\" % type(self), FutureWarning)\n",
      " * Running on http://localhost:666/ (Press CTRL+C to quit)\n",
      "127.0.0.1 - - [03/Jul/2018 23:45:46] \"GET /?message=text%20for%20free%20money%20$150 HTTP/1.1\" 200 -\n",
      "127.0.0.1 - - [03/Jul/2018 23:46:14] \"GET /?message=Text%20me%20for%20a%20fun%20time%20sexy HTTP/1.1\" 200 -\n",
      "127.0.0.1 - - [03/Jul/2018 23:48:00] \"GET /?message=Where%27s%20my%20money?%20You%20owe%20me%20$150 HTTP/1.1\" 200 -\n",
      "127.0.0.1 - - [03/Jul/2018 23:50:05] \"GET /?message=Where%27s%20my%20money?%20You%20owe%20me%20$150 HTTP/1.1\" 200 -\n"
     ]
    }
   ],
   "source": [
    "from sklearn.svm import *\n",
    "from sklearn.multiclass import *\n",
    "from sklearn.model_selection import *\n",
    "from sklearn.feature_extraction.text import TfidfVectorizer\n",
    "from flask import Flask, render_template, request, redirect, url_for, jsonify\n",
    "import os\n",
    "import csv\n",
    "import pandas as pd\n",
    "import numpy as np\n",
    "\n",
    "app = Flask(__name__)\n",
    "global clf\n",
    "global vec\n",
    "\n",
    "# Load data \n",
    "data = pd.read_csv('data/spam.csv', encoding='latin-1')\n",
    "data.drop(['Unnamed: 2', 'Unnamed: 3', 'Unnamed: 4'], axis = 1, inplace = True)\n",
    "data.rename(columns={'v1': 'label', 'v2': 'message'}, inplace = True)\n",
    "data['label'] = data['label'].map({'spam': 1, 'ham': 0})\n",
    "    \n",
    "# Split data into training/testing sets\n",
    "X = data\n",
    "n_features = X.shape[1]\n",
    "target = np.array(X['label'])\n",
    "target_names = np.array(['ham', 'spam'])\n",
    "labels = target_names[target]\n",
    "is_spam = (labels == 'spam')\n",
    "y = target\n",
    "n_classes = target_names.shape[0]\n",
    "\n",
    "train_data, test_data, train_label, test_label = \\\n",
    "train_test_split(X, y, test_size=0.25, random_state=77)\n",
    "\n",
    "tr_target = np.array(train_data['label'])\n",
    "tr_target_names = np.array(['ham', 'spam'])\n",
    "tr_labels = tr_target_names[tr_target]\n",
    "\n",
    "# Train the Model\n",
    "clf = SGDClassifier(loss='log')\n",
    "vec = CountVectorizer()\n",
    "vector = vec.fit_transform(train_data['message'])\n",
    "clf.fit(vector, tr_labels)\n",
    "\n",
    "# Get prediction API\n",
    "@app.route('/', methods=['GET'])\n",
    "def index():\n",
    "    message = request.args.get('message', '')\n",
    "    error = ''\n",
    "    prob = ''\n",
    "    pred = ''\n",
    "    \n",
    "    global clf\n",
    "    global vec\n",
    "    try:\n",
    "        if len(message) > 0:\n",
    "            vec_msg = vec.transform([message])\n",
    "            pred = clf.predict(vec_msg).tolist()\n",
    "            prob = clf.predict_proba(vec_msg).tolist()\n",
    "    except BaseException as inst:\n",
    "        error = str(type(inst).__name__) + ' ' + str(inst)\n",
    "    return jsonify(message=message\n",
    "                , predict_proba=prob\n",
    "                , predict=pred\n",
    "                , error=error)\n",
    "\n",
    "if __name__ == '__main__':\n",
    "    from werkzeug.serving import *\n",
    "    \n",
    "    port = int(os.environ.get('PORT', 666))\n",
    "    run_simple('localhost', port, app)"
   ]
  },
  {
   "cell_type": "markdown",
   "metadata": {
    "collapsed": true
   },
   "source": [
    "{\n",
    "     \"error\":\"\",\n",
    "     \"message\":\"Text me for a fun time sexy\",\n",
    "     \"predict\":\"spam\",\n",
    "     \"predict_proba\":[0.4869716854827332,\n",
    "                       0.5130283145172668]\n",
    "}"
   ]
  },
  {
   "cell_type": "markdown",
   "metadata": {
    "collapsed": true
   },
   "source": [
    "{\n",
    "    \"error\":\"\",\n",
    "    \"message\":\"Where's my money? You owe me $150\",\n",
    "    \"predict\":\"ham\",\n",
    "    \"predict_proba\":[0.999834421228003,\n",
    "                     0.00016557877199700202]\n",
    "}"
   ]
  },
  {
   "cell_type": "code",
   "execution_count": null,
   "metadata": {
    "collapsed": true
   },
   "outputs": [],
   "source": []
  },
  {
   "cell_type": "code",
   "execution_count": null,
   "metadata": {
    "collapsed": true
   },
   "outputs": [],
   "source": []
  }
 ],
 "metadata": {
  "kernelspec": {
   "display_name": "Python 3",
   "language": "python",
   "name": "python3"
  },
  "language_info": {
   "codemirror_mode": {
    "name": "ipython",
    "version": 3
   },
   "file_extension": ".py",
   "mimetype": "text/x-python",
   "name": "python",
   "nbconvert_exporter": "python",
   "pygments_lexer": "ipython3",
   "version": "3.6.1"
  }
 },
 "nbformat": 4,
 "nbformat_minor": 2
}
