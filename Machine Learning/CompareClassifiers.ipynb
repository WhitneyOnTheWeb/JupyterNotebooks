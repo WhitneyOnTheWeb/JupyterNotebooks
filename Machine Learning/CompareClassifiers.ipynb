{
 "cells": [
  {
   "cell_type": "markdown",
   "metadata": {},
   "source": [
    "## Comparing Classifiers\n",
    "\n",
    "To make the most educated decision about which classifier to use for any given problem, it's simple to run a comparison between classifiers on the dataset before diving into building a full fledged model. The dataset used in this example is the <a href='https://www.kaggle.com/uciml/sms-spam-collection-dataset'>SMS Spam Collection Dataset</a> from Kaggle."
   ]
  },
  {
   "cell_type": "code",
   "execution_count": 1,
   "metadata": {
    "collapsed": true
   },
   "outputs": [],
   "source": [
    "# Scikit-Learn modules~~~~~~~~~~~~~~~~~~~~~~~~~~~~~~~~~~~~~~~~~~~~~~~~~~~~~~~~~\n",
    "from sklearn.naive_bayes import *\n",
    "from sklearn.dummy import *\n",
    "from sklearn.ensemble import *\n",
    "from sklearn.neighbors import *\n",
    "from sklearn.tree import *\n",
    "from sklearn.svm import *\n",
    "from sklearn.feature_extraction.text import CountVectorizer\n",
    "from sklearn.feature_extraction.text import TfidfVectorizer\n",
    "from sklearn.feature_extraction.text import HashingVectorizer\n",
    "from sklearn.calibration import *\n",
    "from sklearn.linear_model import *\n",
    "from sklearn.multiclass import *\n",
    "from sklearn.model_selection import *\n",
    "from sklearn.svm import *\n",
    "\n",
    "# Other Modules\n",
    "from IPython.display import display\n",
    "import pandas as pd\n",
    "import numpy as np\n",
    "import csv"
   ]
  },
  {
   "cell_type": "code",
   "execution_count": 2,
   "metadata": {
    "collapsed": true
   },
   "outputs": [],
   "source": [
    "data = pd.read_csv('data/spam.csv', encoding='latin-1')\n",
    "data.drop(['Unnamed: 2', 'Unnamed: 3', 'Unnamed: 4'], axis = 1, inplace = True)\n",
    "data.rename(columns={'v1': 'label', 'v2': 'message'}, inplace = True)\n",
    "data['label'] = data['label'].map({'spam': 1, 'ham': 0})"
   ]
  },
  {
   "cell_type": "code",
   "execution_count": 3,
   "metadata": {},
   "outputs": [
    {
     "data": {
      "text/plain": "   label                                            message\n0      0  Go until jurong point, crazy.. Available only ...\n1      0                      Ok lar... Joking wif u oni...\n2      1  Free entry in 2 a wkly comp to win FA Cup fina...\n3      0  U dun say so early hor... U c already then say...\n4      0  Nah I don't think he goes to usf, he lives aro...\n5      1  FreeMsg Hey there darling it's been 3 week's n...\n6      0  Even my brother is not like to speak with me. ...\n7      0  As per your request 'Melle Melle (Oru Minnamin...\n8      1  WINNER!! As a valued network customer you have...\n9      1  Had your mobile 11 months or more? U R entitle...",
      "text/html": "<div>\n<style scoped>\n    .dataframe tbody tr th:only-of-type {\n        vertical-align: middle;\n    }\n\n    .dataframe tbody tr th {\n        vertical-align: top;\n    }\n\n    .dataframe thead th {\n        text-align: right;\n    }\n</style>\n<table border=\"1\" class=\"dataframe\">\n  <thead>\n    <tr style=\"text-align: right;\">\n      <th></th>\n      <th>label</th>\n      <th>message</th>\n    </tr>\n  </thead>\n  <tbody>\n    <tr>\n      <th>0</th>\n      <td>0</td>\n      <td>Go until jurong point, crazy.. Available only ...</td>\n    </tr>\n    <tr>\n      <th>1</th>\n      <td>0</td>\n      <td>Ok lar... Joking wif u oni...</td>\n    </tr>\n    <tr>\n      <th>2</th>\n      <td>1</td>\n      <td>Free entry in 2 a wkly comp to win FA Cup fina...</td>\n    </tr>\n    <tr>\n      <th>3</th>\n      <td>0</td>\n      <td>U dun say so early hor... U c already then say...</td>\n    </tr>\n    <tr>\n      <th>4</th>\n      <td>0</td>\n      <td>Nah I don't think he goes to usf, he lives aro...</td>\n    </tr>\n    <tr>\n      <th>5</th>\n      <td>1</td>\n      <td>FreeMsg Hey there darling it's been 3 week's n...</td>\n    </tr>\n    <tr>\n      <th>6</th>\n      <td>0</td>\n      <td>Even my brother is not like to speak with me. ...</td>\n    </tr>\n    <tr>\n      <th>7</th>\n      <td>0</td>\n      <td>As per your request 'Melle Melle (Oru Minnamin...</td>\n    </tr>\n    <tr>\n      <th>8</th>\n      <td>1</td>\n      <td>WINNER!! As a valued network customer you have...</td>\n    </tr>\n    <tr>\n      <th>9</th>\n      <td>1</td>\n      <td>Had your mobile 11 months or more? U R entitle...</td>\n    </tr>\n  </tbody>\n</table>\n</div>"
     },
     "execution_count": 3,
     "metadata": {},
     "output_type": "execute_result"
    }
   ],
   "source": [
    "data.head(10)"
   ]
  },
  {
   "cell_type": "code",
   "execution_count": 4,
   "metadata": {
    "collapsed": true
   },
   "outputs": [],
   "source": [
    "X = data\n",
    "n_features = X.shape[1]\n",
    "\n",
    "target = np.array(X['label'])\n",
    "target_names = np.array(['ham', 'spam'])\n",
    "labels = target_names[target]\n",
    "is_spam = (labels == 'spam')\n",
    "\n",
    "y = target\n",
    "n_classes = target_names.shape[0]\n",
    "\n",
    "X_train, X_test, y_train, y_test = \\\n",
    "train_test_split(X, y, test_size=0.33, random_state=42)\n",
    "\n",
    "tr_target = np.array(X_train['label'])\n",
    "tr_target_names = np.array(['ham', 'spam'])\n",
    "tr_labels = tr_target_names[tr_target]\n",
    "\n",
    "te_target = np.array(X_test['label'])\n",
    "te_target_names = np.array(['ham', 'spam'])\n",
    "te_labels = te_target_names[te_target]"
   ]
  },
  {
   "cell_type": "code",
   "execution_count": 5,
   "metadata": {},
   "outputs": [
    {
     "data": {
      "text/plain": "      label                                            message\n3235      0  Aight text me when you're back at mu and I'll ...\n945       0  I cant wait to see you! How were the photos we...\n5319      0                       Kothi print out marandratha.\n5528      0  Its just the effect of irritation. Just ignore it\n247       0                    Kallis wont bat in 2nd innings.\n3986      1  Ringtone Club: Gr8 new polys direct to your mo...\n360       0             Ha ha cool cool chikku chikku:-):-DB-)\n5347      0  No sir. That's why i had an 8-hr trip on the b...\n3781      0                   How r Ì_ going to send it to me?\n5188      0                                               Okie",
      "text/html": "<div>\n<style scoped>\n    .dataframe tbody tr th:only-of-type {\n        vertical-align: middle;\n    }\n\n    .dataframe tbody tr th {\n        vertical-align: top;\n    }\n\n    .dataframe thead th {\n        text-align: right;\n    }\n</style>\n<table border=\"1\" class=\"dataframe\">\n  <thead>\n    <tr style=\"text-align: right;\">\n      <th></th>\n      <th>label</th>\n      <th>message</th>\n    </tr>\n  </thead>\n  <tbody>\n    <tr>\n      <th>3235</th>\n      <td>0</td>\n      <td>Aight text me when you're back at mu and I'll ...</td>\n    </tr>\n    <tr>\n      <th>945</th>\n      <td>0</td>\n      <td>I cant wait to see you! How were the photos we...</td>\n    </tr>\n    <tr>\n      <th>5319</th>\n      <td>0</td>\n      <td>Kothi print out marandratha.</td>\n    </tr>\n    <tr>\n      <th>5528</th>\n      <td>0</td>\n      <td>Its just the effect of irritation. Just ignore it</td>\n    </tr>\n    <tr>\n      <th>247</th>\n      <td>0</td>\n      <td>Kallis wont bat in 2nd innings.</td>\n    </tr>\n    <tr>\n      <th>3986</th>\n      <td>1</td>\n      <td>Ringtone Club: Gr8 new polys direct to your mo...</td>\n    </tr>\n    <tr>\n      <th>360</th>\n      <td>0</td>\n      <td>Ha ha cool cool chikku chikku:-):-DB-)</td>\n    </tr>\n    <tr>\n      <th>5347</th>\n      <td>0</td>\n      <td>No sir. That's why i had an 8-hr trip on the b...</td>\n    </tr>\n    <tr>\n      <th>3781</th>\n      <td>0</td>\n      <td>How r Ì_ going to send it to me?</td>\n    </tr>\n    <tr>\n      <th>5188</th>\n      <td>0</td>\n      <td>Okie</td>\n    </tr>\n  </tbody>\n</table>\n</div>"
     },
     "metadata": {},
     "output_type": "display_data"
    },
    {
     "data": {
      "text/plain": "array([0, 0, 0, ..., 0, 0, 0])"
     },
     "metadata": {},
     "output_type": "display_data"
    },
    {
     "data": {
      "text/plain": "3733"
     },
     "metadata": {},
     "output_type": "display_data"
    }
   ],
   "source": [
    "display(X_train.head(10), y_train, len(X_train))"
   ]
  },
  {
   "cell_type": "code",
   "execution_count": 6,
   "metadata": {},
   "outputs": [
    {
     "data": {
      "text/plain": "      label                                            message\n3245      0  Funny fact Nobody teaches volcanoes 2 erupt, t...\n944       0  I sent my scores to sophas and i had to do sec...\n1044      1  We know someone who you know that fancies you....\n2484      0  Only if you promise your getting out as SOON a...\n812       1  Congratulations ur awarded either å£500 of CD ...\n2973      0         I'll text carlos and let you know, hang on\n2991      0          K.i did't see you.:)k:)where are you now?\n2942      0             No message..no responce..what happend?\n230       0  Get down in gandhipuram and walk to cross cut ...\n1181      0                         You flippin your shit yet?",
      "text/html": "<div>\n<style scoped>\n    .dataframe tbody tr th:only-of-type {\n        vertical-align: middle;\n    }\n\n    .dataframe tbody tr th {\n        vertical-align: top;\n    }\n\n    .dataframe thead th {\n        text-align: right;\n    }\n</style>\n<table border=\"1\" class=\"dataframe\">\n  <thead>\n    <tr style=\"text-align: right;\">\n      <th></th>\n      <th>label</th>\n      <th>message</th>\n    </tr>\n  </thead>\n  <tbody>\n    <tr>\n      <th>3245</th>\n      <td>0</td>\n      <td>Funny fact Nobody teaches volcanoes 2 erupt, t...</td>\n    </tr>\n    <tr>\n      <th>944</th>\n      <td>0</td>\n      <td>I sent my scores to sophas and i had to do sec...</td>\n    </tr>\n    <tr>\n      <th>1044</th>\n      <td>1</td>\n      <td>We know someone who you know that fancies you....</td>\n    </tr>\n    <tr>\n      <th>2484</th>\n      <td>0</td>\n      <td>Only if you promise your getting out as SOON a...</td>\n    </tr>\n    <tr>\n      <th>812</th>\n      <td>1</td>\n      <td>Congratulations ur awarded either å£500 of CD ...</td>\n    </tr>\n    <tr>\n      <th>2973</th>\n      <td>0</td>\n      <td>I'll text carlos and let you know, hang on</td>\n    </tr>\n    <tr>\n      <th>2991</th>\n      <td>0</td>\n      <td>K.i did't see you.:)k:)where are you now?</td>\n    </tr>\n    <tr>\n      <th>2942</th>\n      <td>0</td>\n      <td>No message..no responce..what happend?</td>\n    </tr>\n    <tr>\n      <th>230</th>\n      <td>0</td>\n      <td>Get down in gandhipuram and walk to cross cut ...</td>\n    </tr>\n    <tr>\n      <th>1181</th>\n      <td>0</td>\n      <td>You flippin your shit yet?</td>\n    </tr>\n  </tbody>\n</table>\n</div>"
     },
     "metadata": {},
     "output_type": "display_data"
    },
    {
     "data": {
      "text/plain": "array([0, 0, 1, ..., 0, 0, 1])"
     },
     "metadata": {},
     "output_type": "display_data"
    },
    {
     "data": {
      "text/plain": "1839"
     },
     "metadata": {},
     "output_type": "display_data"
    }
   ],
   "source": [
    "display(X_test.head(10), y_test, len(X_test))"
   ]
  },
  {
   "cell_type": "code",
   "execution_count": 8,
   "metadata": {
    "collapsed": true
   },
   "outputs": [],
   "source": [
    "# Performance comparison between available classifiers~~~~~~~~~~~~~~~~~~~~~~~~~\n",
    "def performance(classifiers, vectorizers, train_data, test_data, train_label, test_label):\n",
    "    scores = pd.DataFrame(columns=['classifier', 'vectorizer', 'score'])\n",
    "    for clf in classifiers:\n",
    "        for vec in vectorizers:\n",
    "            # Train Models\n",
    "            print('Training {} with {}...'\\\n",
    "                  .format(clf.__class__.__name__, vec.__class__.__name__))\n",
    "            vectorize = vec.fit_transform(train_data)\n",
    "            clf.fit(vectorize, train_label)\n",
    "            \n",
    "            # Score Models\n",
    "            vectorize = vec.transform(test_data)\n",
    "            score = clf.score(vectorize, test_label)\n",
    "            scores.loc[len(scores)] = \\\n",
    "                ([clf.__class__.__name__, vec.__class__.__name__, score])\n",
    "    return scores"
   ]
  },
  {
   "cell_type": "code",
   "execution_count": 9,
   "metadata": {
    "scrolled": false
   },
   "outputs": [
    {
     "name": "stdout",
     "output_type": "stream",
     "text": [
      "Measuring Model Performances...\n",
      "~~~~~~~~~~~~~~~~~~~~~~~~~~~~~~~~~~~~~~~~~~~~~~~~~~~~~~~~~~~~~~~~~~~~~~~~~~~~~~~~\n",
      "Training BernoulliNB with CountVectorizer...\n",
      "Training BernoulliNB with TfidfVectorizer...\n",
      "Training BernoulliNB with HashingVectorizer...\n",
      "Training RandomForestClassifier with CountVectorizer...\n",
      "Training RandomForestClassifier with TfidfVectorizer...\n",
      "Training RandomForestClassifier with HashingVectorizer...\n",
      "Training AdaBoostClassifier with CountVectorizer...\n",
      "Training AdaBoostClassifier with TfidfVectorizer...\n",
      "Training AdaBoostClassifier with HashingVectorizer...\n",
      "Training BaggingClassifier with CountVectorizer...\n",
      "Training BaggingClassifier with TfidfVectorizer...\n",
      "Training BaggingClassifier with HashingVectorizer...\n",
      "Training ExtraTreesClassifier with CountVectorizer...\n",
      "Training ExtraTreesClassifier with TfidfVectorizer...\n",
      "Training ExtraTreesClassifier with HashingVectorizer...\n",
      "Training GradientBoostingClassifier with CountVectorizer...\n",
      "Training GradientBoostingClassifier with TfidfVectorizer...\n",
      "Training GradientBoostingClassifier with HashingVectorizer...\n",
      "Training DecisionTreeClassifier with CountVectorizer...\n",
      "Training DecisionTreeClassifier with TfidfVectorizer...\n",
      "Training DecisionTreeClassifier with HashingVectorizer...\n",
      "Training CalibratedClassifierCV with CountVectorizer...\n",
      "Training CalibratedClassifierCV with TfidfVectorizer...\n",
      "Training CalibratedClassifierCV with HashingVectorizer...\n",
      "Training DummyClassifier with CountVectorizer...\n",
      "Training DummyClassifier with TfidfVectorizer...\n",
      "Training DummyClassifier with HashingVectorizer...\n",
      "Training PassiveAggressiveClassifier with CountVectorizer...\n",
      "Training PassiveAggressiveClassifier with TfidfVectorizer...\n",
      "Training PassiveAggressiveClassifier with HashingVectorizer...\n",
      "Training RidgeClassifier with CountVectorizer...\n",
      "Training RidgeClassifier with TfidfVectorizer...\n",
      "Training RidgeClassifier with HashingVectorizer...\n",
      "Training RidgeClassifierCV with CountVectorizer...\n",
      "Training RidgeClassifierCV with TfidfVectorizer...\n",
      "Training RidgeClassifierCV with HashingVectorizer...\n",
      "Training SGDClassifier with CountVectorizer...\n",
      "Training SGDClassifier with TfidfVectorizer...\n",
      "Training SGDClassifier with HashingVectorizer...\n",
      "Training SVC with CountVectorizer...\n",
      "Training SVC with TfidfVectorizer...\n",
      "Training SVC with HashingVectorizer...\n",
      "Training OneVsRestClassifier with CountVectorizer...\n",
      "Training OneVsRestClassifier with TfidfVectorizer...\n",
      "Training OneVsRestClassifier with HashingVectorizer...\n",
      "Training OneVsRestClassifier with CountVectorizer...\n",
      "Training OneVsRestClassifier with TfidfVectorizer...\n",
      "Training OneVsRestClassifier with HashingVectorizer...\n",
      "Training KNeighborsClassifier with CountVectorizer...\n",
      "Training KNeighborsClassifier with TfidfVectorizer...\n",
      "Training KNeighborsClassifier with HashingVectorizer...\n"
     ]
    },
    {
     "name": "stderr",
     "output_type": "stream",
     "text": [
      "/Users/whitneyking/miniconda3/envs/py3/lib/python3.7/site-packages/sklearn/dummy.py:132: FutureWarning: The default value of strategy will change from stratified to prior in 0.24.\n",
      "  \"stratified to prior in 0.24.\", FutureWarning)\n",
      "/Users/whitneyking/miniconda3/envs/py3/lib/python3.7/site-packages/sklearn/dummy.py:132: FutureWarning: The default value of strategy will change from stratified to prior in 0.24.\n",
      "  \"stratified to prior in 0.24.\", FutureWarning)\n",
      "/Users/whitneyking/miniconda3/envs/py3/lib/python3.7/site-packages/sklearn/dummy.py:132: FutureWarning: The default value of strategy will change from stratified to prior in 0.24.\n",
      "  \"stratified to prior in 0.24.\", FutureWarning)\n"
     ]
    }
   ],
   "source": [
    "print('Measuring Model Performances...')\n",
    "print('~' * 80)\n",
    "scores = performance(\n",
    "    [\n",
    "        BernoulliNB(),\n",
    "        RandomForestClassifier(n_estimators=100, n_jobs=-1),\n",
    "        AdaBoostClassifier(),\n",
    "        BaggingClassifier(),\n",
    "        ExtraTreesClassifier(),\n",
    "        GradientBoostingClassifier(),\n",
    "        DecisionTreeClassifier(),\n",
    "        CalibratedClassifierCV(),\n",
    "        DummyClassifier(),\n",
    "        PassiveAggressiveClassifier(),\n",
    "        RidgeClassifier(),\n",
    "        RidgeClassifierCV(),\n",
    "        SGDClassifier(),\n",
    "        SVC(kernel = 'rbf', C = 10000),\n",
    "        OneVsRestClassifier(SVC(kernel='linear')),\n",
    "        OneVsRestClassifier(LogisticRegression()),\n",
    "        KNeighborsClassifier()\n",
    "    ],\n",
    "    [\n",
    "        CountVectorizer(),\n",
    "        TfidfVectorizer(),\n",
    "        HashingVectorizer()\n",
    "    ],\n",
    "    X_train['message'],\n",
    "    X_test['message'],\n",
    "    tr_target,\n",
    "    te_target\n",
    ")"
   ]
  },
  {
   "cell_type": "code",
   "execution_count": 10,
   "metadata": {},
   "outputs": [
    {
     "data": {
      "text/plain": "                     classifier         vectorizer     score\n21       CalibratedClassifierCV    CountVectorizer  0.984231\n22       CalibratedClassifierCV    TfidfVectorizer  0.983687\n34            RidgeClassifierCV    TfidfVectorizer  0.983143\n43          OneVsRestClassifier    TfidfVectorizer  0.983143\n37                SGDClassifier    TfidfVectorizer  0.982599\n23       CalibratedClassifierCV  HashingVectorizer  0.982055\n12         ExtraTreesClassifier    CountVectorizer  0.981512\n42          OneVsRestClassifier    CountVectorizer  0.980968\n30              RidgeClassifier    CountVectorizer  0.980968\n33            RidgeClassifierCV    CountVectorizer  0.980968\n38                SGDClassifier  HashingVectorizer  0.980968\n44          OneVsRestClassifier  HashingVectorizer  0.980424\n28  PassiveAggressiveClassifier    TfidfVectorizer  0.980424\n13         ExtraTreesClassifier    TfidfVectorizer  0.980424\n39                          SVC    CountVectorizer  0.980424\n40                          SVC    TfidfVectorizer  0.980424\n31              RidgeClassifier    TfidfVectorizer  0.979880\n29  PassiveAggressiveClassifier  HashingVectorizer  0.979880\n35            RidgeClassifierCV  HashingVectorizer  0.979880\n45          OneVsRestClassifier    CountVectorizer  0.978793\n32              RidgeClassifier  HashingVectorizer  0.978793\n41                          SVC  HashingVectorizer  0.978793\n27  PassiveAggressiveClassifier    CountVectorizer  0.976618\n3        RandomForestClassifier    CountVectorizer  0.976618\n36                SGDClassifier    CountVectorizer  0.976618\n4        RandomForestClassifier    TfidfVectorizer  0.975530\n0                   BernoulliNB    CountVectorizer  0.974986\n1                   BernoulliNB    TfidfVectorizer  0.974986\n16   GradientBoostingClassifier    TfidfVectorizer  0.971180\n15   GradientBoostingClassifier    CountVectorizer  0.970636\n9             BaggingClassifier    CountVectorizer  0.970092\n8            AdaBoostClassifier  HashingVectorizer  0.970092\n7            AdaBoostClassifier    TfidfVectorizer  0.970092\n17   GradientBoostingClassifier  HashingVectorizer  0.969005\n14         ExtraTreesClassifier  HashingVectorizer  0.968461\n11            BaggingClassifier  HashingVectorizer  0.968461\n6            AdaBoostClassifier    CountVectorizer  0.967917\n47          OneVsRestClassifier  HashingVectorizer  0.965198\n10            BaggingClassifier    TfidfVectorizer  0.965198\n19       DecisionTreeClassifier    TfidfVectorizer  0.964655\n20       DecisionTreeClassifier  HashingVectorizer  0.964655\n46          OneVsRestClassifier    TfidfVectorizer  0.964111\n5        RandomForestClassifier  HashingVectorizer  0.963567\n18       DecisionTreeClassifier    CountVectorizer  0.961936\n50         KNeighborsClassifier  HashingVectorizer  0.915171\n48         KNeighborsClassifier    CountVectorizer  0.914084\n49         KNeighborsClassifier    TfidfVectorizer  0.905383\n2                   BernoulliNB  HashingVectorizer  0.862969\n24              DummyClassifier    CountVectorizer  0.773246\n25              DummyClassifier    TfidfVectorizer  0.766721\n26              DummyClassifier  HashingVectorizer  0.762915",
      "text/html": "<div>\n<style scoped>\n    .dataframe tbody tr th:only-of-type {\n        vertical-align: middle;\n    }\n\n    .dataframe tbody tr th {\n        vertical-align: top;\n    }\n\n    .dataframe thead th {\n        text-align: right;\n    }\n</style>\n<table border=\"1\" class=\"dataframe\">\n  <thead>\n    <tr style=\"text-align: right;\">\n      <th></th>\n      <th>classifier</th>\n      <th>vectorizer</th>\n      <th>score</th>\n    </tr>\n  </thead>\n  <tbody>\n    <tr>\n      <th>21</th>\n      <td>CalibratedClassifierCV</td>\n      <td>CountVectorizer</td>\n      <td>0.984231</td>\n    </tr>\n    <tr>\n      <th>22</th>\n      <td>CalibratedClassifierCV</td>\n      <td>TfidfVectorizer</td>\n      <td>0.983687</td>\n    </tr>\n    <tr>\n      <th>34</th>\n      <td>RidgeClassifierCV</td>\n      <td>TfidfVectorizer</td>\n      <td>0.983143</td>\n    </tr>\n    <tr>\n      <th>43</th>\n      <td>OneVsRestClassifier</td>\n      <td>TfidfVectorizer</td>\n      <td>0.983143</td>\n    </tr>\n    <tr>\n      <th>37</th>\n      <td>SGDClassifier</td>\n      <td>TfidfVectorizer</td>\n      <td>0.982599</td>\n    </tr>\n    <tr>\n      <th>23</th>\n      <td>CalibratedClassifierCV</td>\n      <td>HashingVectorizer</td>\n      <td>0.982055</td>\n    </tr>\n    <tr>\n      <th>12</th>\n      <td>ExtraTreesClassifier</td>\n      <td>CountVectorizer</td>\n      <td>0.981512</td>\n    </tr>\n    <tr>\n      <th>42</th>\n      <td>OneVsRestClassifier</td>\n      <td>CountVectorizer</td>\n      <td>0.980968</td>\n    </tr>\n    <tr>\n      <th>30</th>\n      <td>RidgeClassifier</td>\n      <td>CountVectorizer</td>\n      <td>0.980968</td>\n    </tr>\n    <tr>\n      <th>33</th>\n      <td>RidgeClassifierCV</td>\n      <td>CountVectorizer</td>\n      <td>0.980968</td>\n    </tr>\n    <tr>\n      <th>38</th>\n      <td>SGDClassifier</td>\n      <td>HashingVectorizer</td>\n      <td>0.980968</td>\n    </tr>\n    <tr>\n      <th>44</th>\n      <td>OneVsRestClassifier</td>\n      <td>HashingVectorizer</td>\n      <td>0.980424</td>\n    </tr>\n    <tr>\n      <th>28</th>\n      <td>PassiveAggressiveClassifier</td>\n      <td>TfidfVectorizer</td>\n      <td>0.980424</td>\n    </tr>\n    <tr>\n      <th>13</th>\n      <td>ExtraTreesClassifier</td>\n      <td>TfidfVectorizer</td>\n      <td>0.980424</td>\n    </tr>\n    <tr>\n      <th>39</th>\n      <td>SVC</td>\n      <td>CountVectorizer</td>\n      <td>0.980424</td>\n    </tr>\n    <tr>\n      <th>40</th>\n      <td>SVC</td>\n      <td>TfidfVectorizer</td>\n      <td>0.980424</td>\n    </tr>\n    <tr>\n      <th>31</th>\n      <td>RidgeClassifier</td>\n      <td>TfidfVectorizer</td>\n      <td>0.979880</td>\n    </tr>\n    <tr>\n      <th>29</th>\n      <td>PassiveAggressiveClassifier</td>\n      <td>HashingVectorizer</td>\n      <td>0.979880</td>\n    </tr>\n    <tr>\n      <th>35</th>\n      <td>RidgeClassifierCV</td>\n      <td>HashingVectorizer</td>\n      <td>0.979880</td>\n    </tr>\n    <tr>\n      <th>45</th>\n      <td>OneVsRestClassifier</td>\n      <td>CountVectorizer</td>\n      <td>0.978793</td>\n    </tr>\n    <tr>\n      <th>32</th>\n      <td>RidgeClassifier</td>\n      <td>HashingVectorizer</td>\n      <td>0.978793</td>\n    </tr>\n    <tr>\n      <th>41</th>\n      <td>SVC</td>\n      <td>HashingVectorizer</td>\n      <td>0.978793</td>\n    </tr>\n    <tr>\n      <th>27</th>\n      <td>PassiveAggressiveClassifier</td>\n      <td>CountVectorizer</td>\n      <td>0.976618</td>\n    </tr>\n    <tr>\n      <th>3</th>\n      <td>RandomForestClassifier</td>\n      <td>CountVectorizer</td>\n      <td>0.976618</td>\n    </tr>\n    <tr>\n      <th>36</th>\n      <td>SGDClassifier</td>\n      <td>CountVectorizer</td>\n      <td>0.976618</td>\n    </tr>\n    <tr>\n      <th>4</th>\n      <td>RandomForestClassifier</td>\n      <td>TfidfVectorizer</td>\n      <td>0.975530</td>\n    </tr>\n    <tr>\n      <th>0</th>\n      <td>BernoulliNB</td>\n      <td>CountVectorizer</td>\n      <td>0.974986</td>\n    </tr>\n    <tr>\n      <th>1</th>\n      <td>BernoulliNB</td>\n      <td>TfidfVectorizer</td>\n      <td>0.974986</td>\n    </tr>\n    <tr>\n      <th>16</th>\n      <td>GradientBoostingClassifier</td>\n      <td>TfidfVectorizer</td>\n      <td>0.971180</td>\n    </tr>\n    <tr>\n      <th>15</th>\n      <td>GradientBoostingClassifier</td>\n      <td>CountVectorizer</td>\n      <td>0.970636</td>\n    </tr>\n    <tr>\n      <th>9</th>\n      <td>BaggingClassifier</td>\n      <td>CountVectorizer</td>\n      <td>0.970092</td>\n    </tr>\n    <tr>\n      <th>8</th>\n      <td>AdaBoostClassifier</td>\n      <td>HashingVectorizer</td>\n      <td>0.970092</td>\n    </tr>\n    <tr>\n      <th>7</th>\n      <td>AdaBoostClassifier</td>\n      <td>TfidfVectorizer</td>\n      <td>0.970092</td>\n    </tr>\n    <tr>\n      <th>17</th>\n      <td>GradientBoostingClassifier</td>\n      <td>HashingVectorizer</td>\n      <td>0.969005</td>\n    </tr>\n    <tr>\n      <th>14</th>\n      <td>ExtraTreesClassifier</td>\n      <td>HashingVectorizer</td>\n      <td>0.968461</td>\n    </tr>\n    <tr>\n      <th>11</th>\n      <td>BaggingClassifier</td>\n      <td>HashingVectorizer</td>\n      <td>0.968461</td>\n    </tr>\n    <tr>\n      <th>6</th>\n      <td>AdaBoostClassifier</td>\n      <td>CountVectorizer</td>\n      <td>0.967917</td>\n    </tr>\n    <tr>\n      <th>47</th>\n      <td>OneVsRestClassifier</td>\n      <td>HashingVectorizer</td>\n      <td>0.965198</td>\n    </tr>\n    <tr>\n      <th>10</th>\n      <td>BaggingClassifier</td>\n      <td>TfidfVectorizer</td>\n      <td>0.965198</td>\n    </tr>\n    <tr>\n      <th>19</th>\n      <td>DecisionTreeClassifier</td>\n      <td>TfidfVectorizer</td>\n      <td>0.964655</td>\n    </tr>\n    <tr>\n      <th>20</th>\n      <td>DecisionTreeClassifier</td>\n      <td>HashingVectorizer</td>\n      <td>0.964655</td>\n    </tr>\n    <tr>\n      <th>46</th>\n      <td>OneVsRestClassifier</td>\n      <td>TfidfVectorizer</td>\n      <td>0.964111</td>\n    </tr>\n    <tr>\n      <th>5</th>\n      <td>RandomForestClassifier</td>\n      <td>HashingVectorizer</td>\n      <td>0.963567</td>\n    </tr>\n    <tr>\n      <th>18</th>\n      <td>DecisionTreeClassifier</td>\n      <td>CountVectorizer</td>\n      <td>0.961936</td>\n    </tr>\n    <tr>\n      <th>50</th>\n      <td>KNeighborsClassifier</td>\n      <td>HashingVectorizer</td>\n      <td>0.915171</td>\n    </tr>\n    <tr>\n      <th>48</th>\n      <td>KNeighborsClassifier</td>\n      <td>CountVectorizer</td>\n      <td>0.914084</td>\n    </tr>\n    <tr>\n      <th>49</th>\n      <td>KNeighborsClassifier</td>\n      <td>TfidfVectorizer</td>\n      <td>0.905383</td>\n    </tr>\n    <tr>\n      <th>2</th>\n      <td>BernoulliNB</td>\n      <td>HashingVectorizer</td>\n      <td>0.862969</td>\n    </tr>\n    <tr>\n      <th>24</th>\n      <td>DummyClassifier</td>\n      <td>CountVectorizer</td>\n      <td>0.773246</td>\n    </tr>\n    <tr>\n      <th>25</th>\n      <td>DummyClassifier</td>\n      <td>TfidfVectorizer</td>\n      <td>0.766721</td>\n    </tr>\n    <tr>\n      <th>26</th>\n      <td>DummyClassifier</td>\n      <td>HashingVectorizer</td>\n      <td>0.762915</td>\n    </tr>\n  </tbody>\n</table>\n</div>"
     },
     "execution_count": 10,
     "metadata": {},
     "output_type": "execute_result"
    }
   ],
   "source": [
    "scores.sort_values(by=['score'], ascending=False)"
   ]
  },
  {
   "cell_type": "markdown",
   "metadata": {
    "collapsed": true
   },
   "source": [
    "## Building a Classification Model\n",
    "\n",
    "Once we compare all the mean accuracy scores of each classification model, we can land on the algorithm we want to use for the classification model."
   ]
  },
  {
   "cell_type": "code",
   "execution_count": 11,
   "metadata": {
    "collapsed": true
   },
   "outputs": [],
   "source": [
    "clf = CalibratedClassifierCV()\n",
    "vec = CountVectorizer()"
   ]
  },
  {
   "cell_type": "code",
   "execution_count": 12,
   "metadata": {},
   "outputs": [
    {
     "name": "stdout",
     "output_type": "stream",
     "text": [
      "0.9842305600870038\n"
     ]
    }
   ],
   "source": [
    "# Train Model\n",
    "vectorize = vec.fit_transform(X_train['message'])\n",
    "clf.fit(vectorize, tr_labels)\n",
    "            \n",
    "# Score Model\n",
    "vectorize = vec.transform(X_test['message'])\n",
    "score = clf.score(vectorize, te_labels)\n",
    "print(score)"
   ]
  },
  {
   "cell_type": "code",
   "execution_count": 13,
   "metadata": {},
   "outputs": [],
   "source": [
    "# Save Predictions to CSV~~~~~~~~~~~~~~~~~~~~~~~~~~~~~~~~~~\n",
    "results = []\n",
    "for idx, row in X_test.iterrows():\n",
    "    ans = row[0]\n",
    "    txt = row[1]\n",
    "    vectorize = vec.transform([txt])\n",
    "    pred = clf.predict(vectorize)[0]\n",
    "    if pred == 'spam' and ans == 1:  result = 'TP'\n",
    "    elif pred == 'ham' and ans == 0: result = 'TN'\n",
    "    elif pred == 'spam' and ans == 0: result = 'FP'\n",
    "    elif pred == 'ham' and ans == 1: result = 'FN'\n",
    "    results.append([len(results), txt, ans, pred, result])\n",
    "    \n",
    "# Write results to CSV\n",
    "with open('data/test_results.csv', 'w', newline='', encoding=\"utf-8\") as csvfile:\n",
    "    spam_writer = csv.writer(csvfile, delimiter=',', \n",
    "                             quotechar='\"', quoting=csv.QUOTE_MINIMAL)\n",
    "    \n",
    "    # Header Row\n",
    "    spam_writer.writerow(['#', 'text', 'actual', 'prediction', 'result'])\n",
    "    \n",
    "    for row in results:\n",
    "        spam_writer.writerow(row)"
   ]
  },
  {
   "cell_type": "markdown",
   "metadata": {},
   "source": [
    "## Building the API\n",
    "\n",
    "Now that we have a working model that is satisfactory, we can move forward to creating an API that allows for the use of it. For this task, we will use the ```flask``` package, which is a microframework for Python."
   ]
  },
  {
   "cell_type": "code",
   "execution_count": null,
   "metadata": {
    "pycharm": {
     "is_executing": true
    }
   },
   "outputs": [
    {
     "name": "stderr",
     "output_type": "stream",
     "text": [
      " * Running on http://localhost:8111/ (Press CTRL+C to quit)\n",
      "127.0.0.1 - - [12/Aug/2020 13:50:20] \"\u001B[37mGET / HTTP/1.1\u001B[0m\" 200 -\n",
      "127.0.0.1 - - [12/Aug/2020 13:50:21] \"\u001B[33mGET /favicon.ico HTTP/1.1\u001B[0m\" 404 -\n",
      "127.0.0.1 - - [12/Aug/2020 13:51:40] \"\u001B[37mGET /?message=%27Hey,%20how%27s%20it%20going?%27 HTTP/1.1\u001B[0m\" 200 -\n",
      "127.0.0.1 - - [12/Aug/2020 13:53:17] \"\u001B[37mGET /?message=Text%20me%20for%20some%20dolla%20dolla%20billz%20bb%20$$$ HTTP/1.1\u001B[0m\" 200 -\n",
      "127.0.0.1 - - [12/Aug/2020 13:53:40] \"\u001B[37mGET /?message=Win%20some%20money!%20Cash%20cash%20cash!%20$$$ HTTP/1.1\u001B[0m\" 200 -\n",
      "127.0.0.1 - - [12/Aug/2020 13:55:11] \"\u001B[37mGET /?message=Wat%20u%20want?%20Cash%20money!%20Text%20to%20win HTTP/1.1\u001B[0m\" 200 -\n",
      "127.0.0.1 - - [12/Aug/2020 13:55:24] \"\u001B[37mGET /?message=Moneeeeeeey HTTP/1.1\u001B[0m\" 200 -\n",
      "127.0.0.1 - - [12/Aug/2020 13:55:49] \"\u001B[37mGET /?message=Text%20for%20cash%20-%20$1000%20now%20-%20Win%20win%20winner HTTP/1.1\u001B[0m\" 200 -\n"
     ]
    }
   ],
   "source": [
    "from sklearn.svm import *\n",
    "from sklearn.multiclass import *\n",
    "from sklearn.model_selection import *\n",
    "from sklearn.feature_extraction.text import TfidfVectorizer\n",
    "from flask import Flask, render_template, request, redirect, url_for, jsonify\n",
    "import os\n",
    "import csv\n",
    "import pandas as pd\n",
    "import numpy as np\n",
    "\n",
    "app = Flask(__name__)\n",
    "global clf\n",
    "global vec\n",
    "\n",
    "# Load data \n",
    "data = pd.read_csv('data/spam.csv', encoding='latin-1')\n",
    "data.drop(['Unnamed: 2', 'Unnamed: 3', 'Unnamed: 4'], axis = 1, inplace = True)\n",
    "data.rename(columns={'v1': 'label', 'v2': 'message'}, inplace = True)\n",
    "data['label'] = data['label'].map({'spam': 1, 'ham': 0})\n",
    "    \n",
    "# Split data into training/testing sets\n",
    "X = data\n",
    "n_features = X.shape[1]\n",
    "target = np.array(X['label'])\n",
    "target_names = np.array(['ham', 'spam'])\n",
    "labels = target_names[target]\n",
    "is_spam = (labels == 'spam')\n",
    "y = target\n",
    "n_classes = target_names.shape[0]\n",
    "\n",
    "train_data, test_data, train_label, test_label = \\\n",
    "train_test_split(X, y, test_size=0.25, random_state=77)\n",
    "\n",
    "tr_target = np.array(train_data['label'])\n",
    "tr_target_names = np.array(['ham', 'spam'])\n",
    "tr_labels = tr_target_names[tr_target]\n",
    "\n",
    "# Train the Model\n",
    "clf = SGDClassifier(loss='log')\n",
    "vec = CountVectorizer()\n",
    "vector = vec.fit_transform(train_data['message'])\n",
    "clf.fit(vector, tr_labels)\n",
    "\n",
    "# Get prediction API\n",
    "@app.route('/', methods=['GET'])\n",
    "def index():\n",
    "    message = request.args.get('message', '')\n",
    "    error = ''\n",
    "    prob = ''\n",
    "    pred = ''\n",
    "    \n",
    "    global clf\n",
    "    global vec\n",
    "    try:\n",
    "        if len(message) > 0:\n",
    "            vec_msg = vec.transform([message])\n",
    "            pred = clf.predict(vec_msg).tolist()\n",
    "            prob = clf.predict_proba(vec_msg).tolist()\n",
    "    except BaseException as inst:\n",
    "        error = str(type(inst).__name__) + ' ' + str(inst)\n",
    "    return jsonify(message=message\n",
    "                , predict_proba=prob\n",
    "                , predict=pred\n",
    "                , error=error)\n",
    "\n",
    "if __name__ == '__main__':\n",
    "    from werkzeug.serving import *\n",
    "    \n",
    "    port = int(os.environ.get('PORT', 8111))\n",
    "    run_simple('localhost', port, app)"
   ]
  },
  {
   "cell_type": "markdown",
   "metadata": {
    "collapsed": true
   },
   "source": [
    "{\n",
    "     \"error\":\"\",\n",
    "     \"message\":\"Text me for a fun time sexy\",\n",
    "     \"predict\":\"spam\",\n",
    "     \"predict_proba\":[0.4869716854827332,\n",
    "                       0.5130283145172668]\n",
    "}"
   ]
  },
  {
   "cell_type": "markdown",
   "metadata": {
    "collapsed": true
   },
   "source": [
    "{\n",
    "    \"error\":\"\",\n",
    "    \"message\":\"Where's my money? You owe me $150\",\n",
    "    \"predict\":\"ham\",\n",
    "    \"predict_proba\":[0.999834421228003,\n",
    "                     0.00016557877199700202]\n",
    "}"
   ]
  },
  {
   "cell_type": "code",
   "execution_count": null,
   "metadata": {
    "collapsed": true
   },
   "outputs": [],
   "source": []
  },
  {
   "cell_type": "code",
   "execution_count": null,
   "metadata": {
    "collapsed": true
   },
   "outputs": [],
   "source": []
  }
 ],
 "metadata": {
  "kernelspec": {
   "display_name": "Python 3",
   "language": "python",
   "name": "python3"
  },
  "language_info": {
   "codemirror_mode": {
    "name": "ipython",
    "version": 3
   },
   "file_extension": ".py",
   "mimetype": "text/x-python",
   "name": "python",
   "nbconvert_exporter": "python",
   "pygments_lexer": "ipython3",
   "version": "3.6.1"
  }
 },
 "nbformat": 4,
 "nbformat_minor": 2
}