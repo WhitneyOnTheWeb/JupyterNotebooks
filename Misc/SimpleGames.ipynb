{
 "cells": [
  {
   "cell_type": "markdown",
   "metadata": {},
   "source": [
    "## Guess The Number Game"
   ]
  },
  {
   "cell_type": "code",
   "execution_count": 2,
   "metadata": {},
   "outputs": [
    {
     "name": "stdout",
     "output_type": "stream",
     "text": [
      "Greetings! What is your name?\n",
      "Whitney\n",
      "Well, Whitney... I am thinking of a number between 1 and 50.\n",
      "Take a guess...\n",
      "25\n",
      "Your guess is too low!\n",
      "Take a guess...\n",
      "35\n",
      "Your guess is too low!\n",
      "Take a guess...\n",
      "40\n",
      "Your guess is too low!\n",
      "Take a guess...\n",
      "45\n",
      "Your guess is too low!\n",
      "Take a guess...\n",
      "47\n",
      "Your guess is too low!\n",
      "Take a guess...\n",
      "48\n",
      "Your guess is too low!\n",
      "Nope, the number I was thinking of was 50.\n"
     ]
    }
   ],
   "source": [
    "%run InventYourOwnComputerGamesWithPython/GuessTheNumber.py"
   ]
  },
  {
   "cell_type": "markdown",
   "metadata": {},
   "source": [
    "## Joke Teller"
   ]
  },
  {
   "cell_type": "code",
   "execution_count": 1,
   "metadata": {},
   "outputs": [
    {
     "name": "stdout",
     "output_type": "stream",
     "text": [
      "Did you hear about the mathematician who's afraid of negative numbers?\n",
      "\n",
      "He'll stop at nothing to avoid them\n",
      "\n",
      "\n",
      "Why do we tell actors to \"break a leg?\"\n",
      "\n",
      "Because every play has a cast!\n",
      "\n",
      "\n",
      "Helvetica and Times New Roman walk into a bar...\n",
      "\n",
      "\"Get out of here!\" shouts the bartender. \"We don't serve your type.\"\n",
      "\n",
      "\n",
      "Hear about the new restaurant called Karma?\n",
      "\n",
      "There's no menu: you get what you deserve.\n"
     ]
    }
   ],
   "source": [
    "%run InventYourOwnComputerGamesWithPython/JokeTelling.py"
   ]
  },
  {
   "cell_type": "code",
   "execution_count": null,
   "metadata": {},
   "outputs": [],
   "source": []
  }
 ],
 "metadata": {
  "kernelspec": {
   "display_name": "Python 3",
   "language": "python",
   "name": "python3"
  },
  "language_info": {
   "codemirror_mode": {
    "name": "ipython",
    "version": 3
   },
   "file_extension": ".py",
   "mimetype": "text/x-python",
   "name": "python",
   "nbconvert_exporter": "python",
   "pygments_lexer": "ipython3",
   "version": "3.6.4"
  }
 },
 "nbformat": 4,
 "nbformat_minor": 2
}
