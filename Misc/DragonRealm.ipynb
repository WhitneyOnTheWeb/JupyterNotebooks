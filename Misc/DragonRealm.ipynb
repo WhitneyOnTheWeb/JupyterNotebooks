{
 "cells": [
  {
   "cell_type": "markdown",
   "metadata": {},
   "source": [
    "## Dragon Realm"
   ]
  },
  {
   "cell_type": "code",
   "execution_count": 1,
   "metadata": {},
   "outputs": [
    {
     "name": "stdout",
     "output_type": "stream",
     "text": [
      "You awaken in a mysterious land overun by dragons. In front of \n",
      "    you, lie the entrances to two dark caves. You can sense both a forboding \n",
      "    energy, as well as a peaceful one, but from which direction each is coming \n",
      "    it is not clear. Your fate will be determined by which cave entrance you \n",
      "    choose...\n",
      "\n",
      "Pick wisely, adventurer, for in one cave, dwells a dragon fierce \n",
      "    and hungry, and in the other a dragon generous and wise. \n",
      "Which cave shall you enter (1 or 2)?\n",
      "1\n",
      "You approach cave 1...\n",
      "A large dragon emerges from the shadows!\n",
      "A flash of white appears, his fangs catching the light as he opens his \n",
      "    jaws...\n",
      "\n",
      "And greets you warmly! 'Hello small thing! Come inside, come \n",
      "        inside, you never what kind of rapscallion you might encounter along \n",
      "        the way out there! Quickly, now, quickly!\n",
      "\n",
      "What are you anyways perhaps a worm or a poppycock? Nevermind, \n",
      "        nevermind... anyways do come in and share in my numinous treasure, and \n",
      "        gaze upon my eternal flame of prosperity while I enrich your mind with \n",
      "        great wisdom!\n",
      "\n",
      "\n",
      "\n",
      "Do you want to play again? (yes or no)\n",
      "y\n",
      "You awaken in a mysterious land overun by dragons. In front of \n",
      "    you, lie the entrances to two dark caves. You can sense both a forboding \n",
      "    energy, as well as a peaceful one, but from which direction each is coming \n",
      "    it is not clear. Your fate will be determined by which cave entrance you \n",
      "    choose...\n",
      "\n",
      "Pick wisely, adventurer, for in one cave, dwells a dragon fierce \n",
      "    and hungry, and in the other a dragon generous and wise. \n",
      "Which cave shall you enter (1 or 2)?\n",
      "2\n",
      "You approach cave 2...\n",
      "A large dragon emerges from the shadows!\n",
      "A flash of white appears, his fangs catching the light as he opens his \n",
      "    jaws...\n",
      "\n",
      "And greets you warmly! 'Hello small thing! Come inside, come \n",
      "        inside, you never what kind of rapscallion you might encounter along \n",
      "        the way out there! Quickly, now, quickly!\n",
      "\n",
      "What are you anyways perhaps a worm or a poppycock? Nevermind, \n",
      "        nevermind... anyways do come in and share in my numinous treasure, and \n",
      "        gaze upon my eternal flame of prosperity while I enrich your mind with \n",
      "        great wisdom!\n",
      "\n",
      "\n",
      "\n",
      "Do you want to play again? (yes or no)\n",
      "y\n",
      "You awaken in a mysterious land overun by dragons. In front of \n",
      "    you, lie the entrances to two dark caves. You can sense both a forboding \n",
      "    energy, as well as a peaceful one, but from which direction each is coming \n",
      "    it is not clear. Your fate will be determined by which cave entrance you \n",
      "    choose...\n",
      "\n",
      "Pick wisely, adventurer, for in one cave, dwells a dragon fierce \n",
      "    and hungry, and in the other a dragon generous and wise. \n",
      "Which cave shall you enter (1 or 2)?\n",
      "2\n",
      "You approach cave 2...\n",
      "A large dragon emerges from the shadows!\n",
      "A flash of white appears, his fangs catching the light as he opens his \n",
      "    jaws...\n",
      "\n",
      "And greets you warmly! 'Hello small thing! Come inside, come \n",
      "        inside, you never what kind of rapscallion you might encounter along \n",
      "        the way out there! Quickly, now, quickly!\n",
      "\n",
      "What are you anyways perhaps a worm or a poppycock? Nevermind, \n",
      "        nevermind... anyways do come in and share in my numinous treasure, and \n",
      "        gaze upon my eternal flame of prosperity while I enrich your mind with \n",
      "        great wisdom!\n",
      "\n",
      "\n",
      "\n",
      "Do you want to play again? (yes or no)\n",
      "n\n"
     ]
    }
   ],
   "source": [
    "%run InventYourOwnComputerGamesWithPython/DragonRealm.py"
   ]
  },
  {
   "cell_type": "code",
   "execution_count": null,
   "metadata": {},
   "outputs": [],
   "source": []
  },
  {
   "cell_type": "code",
   "execution_count": null,
   "metadata": {},
   "outputs": [],
   "source": []
  }
 ],
 "metadata": {
  "kernelspec": {
   "display_name": "Python 3",
   "language": "python",
   "name": "python3"
  },
  "language_info": {
   "codemirror_mode": {
    "name": "ipython",
    "version": 3
   },
   "file_extension": ".py",
   "mimetype": "text/x-python",
   "name": "python",
   "nbconvert_exporter": "python",
   "pygments_lexer": "ipython3",
   "version": "3.6.4"
  }
 },
 "nbformat": 4,
 "nbformat_minor": 2
}
