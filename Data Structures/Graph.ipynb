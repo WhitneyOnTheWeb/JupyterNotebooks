{
 "cells": [
  {
   "cell_type": "markdown",
   "metadata": {},
   "source": [
    "# Graphs\n",
    "\n",
    "\n",
    "Graphs are networks consisting of nodes connected by edges or arcs:\n",
    "\n",
    "1.  Finite set of verticies called **nodes**\n",
    "2.  Finite set of ordered pairs in the form (u, v) called **edges/arcs**\n",
    " - (u, v) is not the same as (v, u) if the graph is directional\n",
    " - (u, v) indicates there is an edge from vertex u to vertex v, which may contain properties such as weight/value/cost\n",
    " \n",
    "Graphs are generally used to represent real life situations like networks of many varieties... social, communications, circits, city, et cetera. \n",
    "\n",
    "**The two most commonly used types of graphs are (choice is application dependent):**\n",
    "\n",
    "### Adjacency Matrix\n",
    "  -  Adjacency Matrix is a 2D array of size V x V where V is the number of vertices in a graph \n",
    "  -  Adjacency matrix for undirected graph is always symmetric. \n",
    "  - Adjacency Matrix is also used to represent weighted graphs. \n",
    "      -  ```adj[i][j] = 1``` indicates that there is an edge from vertex i to vertex j.\n",
    "      -  If ```adj[i][j] = w```, then there is an edge from vertex i to vertex j with weight w.\n",
    "      \n",
    "   **Pros:**  \n",
    "   -  Representation is easier to implement and follow. \n",
    "   -  Removing an edge takes $O(1)$ time. \n",
    "   -  Queries like whether there is an edge from vertex ‘u’ to vertex ‘v’ are efficient and can be done $O(1)$\n",
    "   \n",
    "   **Cons:**\n",
    "   -  Consumes $O({V}^2)$ space\n",
    "      \n",
    "      <img src='https://cdncontribute.geeksforgeeks.org/wp-content/uploads/adjacencymatrix.png'>\n",
    "      Source: <a href='https://www.geeksforgeeks.org/graph-and-its-representations/'>GeeksForGeeks</a>\n",
    "   \n",
    "### Adjacency List\n",
    "  -  An array of linked lists is used to form the graph\n",
    "  -  Size of the array is equal to the number of vertices\n",
    "  -  ```array[i]``` represents the linked list of vertices adjacent to the ith vertex\n",
    "    -  This can also be used to represent a weighted graph by storing the weights of the edges in the nodes of the linked list\n",
    "  \n",
    "  **Pros:**  \n",
    "   -  Space $O(|V|+|E|)$ space (though in the worst case there are ```C(V,2)``` edges on the graph, thus consuming $O({V}^2)$ space\n",
    "   \n",
    "  **Cons:**\n",
    "   -  Queries like whether there is an edge from vertex u to vertex v are not efficient and can be done $O(V)$\n",
    "      \n",
    "  \n",
    "  <img src='https://cdncontribute.geeksforgeeks.org/wp-content/uploads/listadjacency.png'>\n",
    "  Source: <a href='https://www.geeksforgeeks.org/graph-and-its-representations/'>GeeksForGeeks</a>\n",
    "  \n",
    "\n",
    "### Direction of Edges/Arcs\n",
    "\n",
    "When creating a Graph Data structure, it's important to know if you're designing a **directed** or **undirected** graph, as well as what type of underlying structure to use to put it together. \n",
    "  - In *directed* graphs, the connections between nodes have a direction, and are called **arcs**\n",
    "  - In *undirected* graphs, the connections have no direction and are called **edges**\n",
    "\n",
    "### Operations\n",
    "\n",
    "The basic operational methods provided by a graph data structure should usually include:\n",
    "\n",
    "-  ```adjacent(G, x, y)```: tests whether there is an edge from the vertex x to the vertex y;\n",
    "-  ```neighbors(G, x)```: lists all vertices y such that there is an edge from the vertex x to the vertex y;\n",
    "-  ```add_vertex(G, x)```: adds the vertex x, if it is not there;\n",
    "-  ```remove_vertex(G, x)```: removes the vertex x, if it is there;\n",
    "-  ```add_edge(G, x, y)```: adds the edge from the vertex x to the vertex y, if it is not there;\n",
    "-  ```remove_edge(G, x, y)```: removes the edge from the vertex x to the vertex y, if it is there;\n",
    "-  ```get_vertex_value(G, x)```: returns the value associated with the vertex x;\n",
    "-  ```set_vertex_value(G, x, v)```: sets the value associated with the vertex x to v.\n",
    "\n",
    "Methods that associate values to the edges usually also provide:\n",
    "\n",
    "-  ```get_edge_value(G, x, y)```: returns the value associated with the edge (x, y);\n",
    "-  ```set_edge_value(G, x, y, v)```: sets the value associated with the edge (x, y) to v."
   ]
  },
  {
   "cell_type": "markdown",
   "metadata": {},
   "source": [
    "## Graph Structure"
   ]
  },
  {
   "cell_type": "code",
   "execution_count": 279,
   "metadata": {},
   "outputs": [],
   "source": [
    "from collections import defaultdict as _dict\n",
    "from IPython.display import display\n",
    "import pprint as p\n",
    "\n",
    "class Graph(object):\n",
    "    \n",
    "    def __init__(self, edges, directed = False):\n",
    "        self.graph = _dict(set)                 # Dictionary containing sets\n",
    "        self.__directed = directed                # Undirected by default\n",
    "        self.add_edges(edges)\n",
    "        \n",
    "    def __str__(self):\n",
    "        return '{0}({1})'.format(self.__class__.__name__, dict(self.graph))\n",
    "    \n",
    "    def adjacent(self, x, y):\n",
    "        # Tests whether there is an edge from the vertex x to the vertex y\n",
    "        adj = x in self.graph and y in self.graph[x]\n",
    "        return adj, '[{}, {}] Adjacent: {}'.format(x, y, adj)\n",
    "    \n",
    "    def neighbors(self, x): \n",
    "        # Lists all vertices y such that there is an edge from the vertex x to the vertex y\n",
    "        nb = self.graph[x]\n",
    "        edges = []\n",
    "        for n in nb:\n",
    "            edges.append((x, n))\n",
    "        return nb, edges, '[{}] Neighbors: {}'.format(x, nb)\n",
    "        \n",
    "    def add_edges(self, edges):\n",
    "        # Add edges/arcs (list of tuples) to the graph\n",
    "        for x, y in edges:\n",
    "            self.add_edge(x, y)\n",
    "            \n",
    "    def add_edge(self, x, y):\n",
    "        # Adds the edge from the vertex x to the vertex y, if it is not there\n",
    "        self.graph[x].add(y)\n",
    "        if not self.__directed: self.graph[y].add(x)  # Duplicate arc if undirected\n",
    "    \n",
    "    def remove_edges(self, edges):\n",
    "        for x, y in edges:\n",
    "            self.remove_edge(x, y)\n",
    "            \n",
    "    def remove_edge(self, x, y):\n",
    "        # Removes the edge from the vertex x to the vertex y, if it is there\n",
    "        em = 'Edge Not Found' \n",
    "        \n",
    "        if x not in self.graph: return em\n",
    "        elif y not in self.graph[x]: return em\n",
    "        else:\n",
    "            self.graph[x].remove(y)\n",
    "            if not self.__directed: self.graph[y].remove(x)\n",
    "            return 'Removed Edge Between [{}, {}]'.format(x, y)\n",
    "    \n",
    "    def add_vertex(self, V): self.graph[V] = set()\n",
    "    def remove_vertex(self, V):\n",
    "        nb, edges, out = self.neighbors(V)\n",
    "        self.remove_edges(edges)\n",
    "        del self.graph[V]\n",
    "    \n",
    "    def add_vertices(self, vertices): \n",
    "        for V in vertices:\n",
    "            if V not in self.graph:\n",
    "                self.add_vertex(V)\n",
    "            \n",
    "    def remove_vertices(self, vertices): \n",
    "        for V in vertices:\n",
    "            self.remove_vertex(V)\n",
    "    \n",
    "    def breadth_first_search(self, x):\n",
    "        visited = {}                     # Mark all vertices not visited\n",
    "        out = [x]\n",
    "        visited[x] = True                # Mark root visited\n",
    "        \n",
    "        for v in self.graph:\n",
    "            if v not in out and v not in visited: out.append(v)\n",
    "            adj = self.neighbors(v)      # Get adjacent vertices\n",
    "            o = self.__breadth__(adj[0], visited, x)\n",
    "            if o != []: out.append(o)\n",
    "            visited[v] = True\n",
    "        return out\n",
    "    \n",
    "    def __breadth__(self, adj, visited, x):\n",
    "        '''\n",
    "        Takes a root vertex as input, then performs a wide search of the graph\n",
    "        visiting all vertices by checking each one's edges, and skiping repeats\n",
    "        -  Returns list of all vertices in order visited (breadth first)\n",
    "        '''\n",
    "        em = 'Vertex Not Found' \n",
    "        if x not in self.graph: return em\n",
    "        \n",
    "        queue = [x]                         # Create queue for search\n",
    "        visited[x] = True                   # and mark it visited\n",
    "        out = []\n",
    "        \n",
    "        while queue:\n",
    "            s = queue.pop(0)\n",
    "            for n in adj:\n",
    "                if n not in visited:        # Enqueue any vertices not visited\n",
    "                    out.append(n) \n",
    "                    queue.append(n)\n",
    "                    visited[n] = True\n",
    "        return out\n",
    "    \n",
    "    def depth_first_search(self, x):\n",
    "        '''\n",
    "        Helper method to call __depth_first__() recursively while\n",
    "        storing visited vertices in a list\n",
    "        '''\n",
    "        em = 'Vertex Not Found' \n",
    "        if x not in self.graph: return em\n",
    "        \n",
    "        visited = {}\n",
    "        out = [x]\n",
    "        visited[x] = True\n",
    "        \n",
    "         for v in self.graph:\n",
    "        return self.__probe__(x, visited, out)\n",
    "        \n",
    "    def __probe__(self, x, visited, out):\n",
    "        '''\n",
    "        Takes a root vertex as input, then performs a search of the graph\n",
    "        visiting all vertices by checking each one's edges, avoiding cycles\n",
    "        -  Uses recursion to 'reach down' into graph to get vertices\n",
    "        -  Returns list of all vertices in order visited\n",
    "        '''\n",
    "        \n",
    "        visited[x] = True\n",
    "        nb = self.neighbors(x)\n",
    "        for n in nb[0]:\n",
    "            if n not in visited:\n",
    "                out.append(n)\n",
    "                self.__probe__(n, visited, out)\n",
    "        return out\n",
    "    \n",
    "    def find_mother(self):\n",
    "        '''\n",
    "        Vertex v such that all other vertices in G can be reached by a path from v\n",
    "        '''\n",
    "        v = None\n",
    "        visited = {}\n",
    "        out = []\n",
    "        \n",
    "        for x in self.graph:\n",
    "            if x not in visited:\n",
    "                self.__probe__(x, visited, out)\n",
    "                v = x                              # Store mother candidate\n",
    "                \n",
    "        visited = {}\n",
    "        self.__probe__(v, visited, out)      # Check if all vertices reachable from v\n",
    "        if any(x == False for x in visited):\n",
    "            return - 1                             # No mother vertex found\n",
    "        else: return v                             # Mother vertex (one of at least one)\n",
    "            \n",
    "    def find_path(self, start, end, path=[]):\n",
    "        '''\n",
    "        -  Takes start and end nodes as arguments\n",
    "            -  Returns list of nodes comprising the path from start -> end\n",
    "            -  If no path found, returns None\n",
    "        -  The same node will not occur more than once on the path\n",
    "            -  (i.e. no cycles)\n",
    "        -  The algorithm uses backtracking: \n",
    "            - It tries each possibility in until it finds a solution\n",
    "        '''\n",
    "        em = 'Vertices Not Found' \n",
    "        if start not in self.graph: return em     # return None if start node not found\n",
    "        \n",
    "        path = path + [start]                     # initiate path with start node\n",
    "        if start == end: return path              # end path if start = end\n",
    "            # In case there are end point nodes for arcs \n",
    "            # that don't have their own outgoing arcs and aren't on graph\n",
    "        \n",
    "        for node in self.graph[start]:\n",
    "            if node not in path:                  # recursively check for path to end node\n",
    "                new_path = self.find_path(node, end, path)\n",
    "                if new_path: return new_path\n",
    "        return None                               # return None if no path is found\n",
    "    \n",
    "    def find_all_paths(self, start, end, path=[]):\n",
    "        '''\n",
    "        -  Same details as find_path(), except:\n",
    "        \n",
    "        -  The algorithm uses backtracking: \n",
    "            - It tries each possibility in until it finds ALL solutions\n",
    "        '''\n",
    "        em = 'Vertices Not Found' \n",
    "        if start not in self.graph: return em\n",
    "        \n",
    "        path = path + [start]                     \n",
    "        if start == end: return [path]            # end path if start = end, return list\n",
    "            \n",
    "        paths = []                                # paths = [] holds all paths found\n",
    "        for node in self.graph[start]:\n",
    "            if node not in path:                  \n",
    "                new_paths = self.find_all_paths(node, end, path)\n",
    "                for new_path in new_paths:\n",
    "                    paths.append(new_path)\n",
    "        return paths                              \n",
    "    \n",
    "    \n",
    "    def find_shortest_path(self, start, end, path=[]):\n",
    "        '''\n",
    "        -  Same details as find_path(), except:\n",
    "        \n",
    "        -  The algorithm uses backtracking: \n",
    "            - It tries each possibility in until it finds shortest solution\n",
    "        '''\n",
    "        em = 'Vertices Not Found' \n",
    "        if start not in self.graph: return em\n",
    "        \n",
    "        path = path + [start]                     \n",
    "        if start == end: return path              \n",
    "            \n",
    "        shortest = None                           # holds shortest path found\n",
    "        for node in self.graph[start]:\n",
    "            if node not in path:                  \n",
    "                new_path = self.find_shortest_path(node, end, path)\n",
    "                if new_path: \n",
    "                    if not shortest or len(new_path) < len(shortest):\n",
    "                        shortest = new_path       # sets shortest to the newest path found\n",
    "        return shortest                              \n",
    "    \n",
    "def pprint(graph):\n",
    "    return p.pprint(dict(graph))"
   ]
  },
  {
   "cell_type": "code",
   "execution_count": 280,
   "metadata": {
    "collapsed": true
   },
   "outputs": [],
   "source": [
    "# Most basic graph as dictionary with list.\n",
    "# keys = nodes\n",
    "# values = arcs\n",
    "\n",
    "''' \n",
    "A -> B\n",
    "A -> C\n",
    "B -> C\n",
    "B -> D\n",
    "C -> D\n",
    "D -> C\n",
    "E -> F\n",
    "F -> C\n",
    "'''\n",
    "\n",
    "edges = [ ('A', 'B'), ('A', 'C'), ('B', 'C'), ('B', 'D'), ('C', 'D'), ('D', 'C'), ('E', 'F'), ('F', 'C') ]"
   ]
  },
  {
   "cell_type": "code",
   "execution_count": 281,
   "metadata": {},
   "outputs": [],
   "source": [
    "# Directional: Edges\n",
    "g = Graph(edges, True)\n",
    "\n",
    "x = 'A'\n",
    "y = 'D'"
   ]
  },
  {
   "cell_type": "code",
   "execution_count": 282,
   "metadata": {},
   "outputs": [
    {
     "name": "stdout",
     "output_type": "stream",
     "text": [
      "Graph:\n",
      "========================================\n",
      "{'A': {'C', 'B'},\n",
      " 'B': {'C', 'D'},\n",
      " 'C': {'D'},\n",
      " 'D': {'C'},\n",
      " 'E': {'F'},\n",
      " 'F': {'C'}}\n",
      "\n",
      "Path:  ['A', 'C', 'D']\n",
      "All Paths:  [['A', 'C', 'D'], ['A', 'B', 'C', 'D'], ['A', 'B', 'D']]\n",
      "Shortest Path:  ['A', 'C', 'D']\n",
      "[A, D] Adjacent: False\n",
      "[C, B] Adjacent: False\n",
      "[('C', 'D')]\n"
     ]
    }
   ],
   "source": [
    "print('Graph:\\n' + ('=' * 40))\n",
    "pprint(g.graph)\n",
    "\n",
    "print('\\nPath: ', g.find_path(x, y))\n",
    "print('All Paths: ', g.find_all_paths(x, y))\n",
    "print('Shortest Path: ', g.find_shortest_path(x, y))\n",
    "print(g.adjacent(x, y)[1])\n",
    "print(g.adjacent('C', 'B')[1])\n",
    "print(g.neighbors('C')[1])"
   ]
  },
  {
   "cell_type": "code",
   "execution_count": 283,
   "metadata": {},
   "outputs": [
    {
     "name": "stdout",
     "output_type": "stream",
     "text": [
      "{'A': {'C'}, 'B': {'C', 'D'}, 'C': {'D'}, 'D': {'C'}, 'E': {'F'}, 'F': {'C'}}\n"
     ]
    }
   ],
   "source": [
    "# Edge is removed\n",
    "g.remove_edge('A', 'B')\n",
    "pprint(g.graph)"
   ]
  },
  {
   "cell_type": "code",
   "execution_count": 293,
   "metadata": {},
   "outputs": [],
   "source": [
    "# Undirectional - Arcs\n",
    "g = Graph(edges)"
   ]
  },
  {
   "cell_type": "code",
   "execution_count": 294,
   "metadata": {},
   "outputs": [
    {
     "name": "stdout",
     "output_type": "stream",
     "text": [
      "Graph:\n",
      "========================================\n",
      "{'A': {'C', 'B'},\n",
      " 'B': {'A', 'C', 'D'},\n",
      " 'C': {'A', 'F', 'D', 'B'},\n",
      " 'D': {'C', 'B'},\n",
      " 'E': {'F'},\n",
      " 'F': {'C', 'E'}}\n",
      "\n",
      "Path:  ['A', 'C', 'D']\n",
      "All Paths:  [['A', 'C', 'D'], ['A', 'C', 'B', 'D'], ['A', 'B', 'C', 'D'], ['A', 'B', 'D']]\n",
      "Shortest Path:  ['A', 'C', 'D']\n",
      "[A, D] Adjacent: False\n",
      "[C, B] Adjacent: True\n",
      "[C] Neighbors: {'A', 'F', 'D', 'B'}\n"
     ]
    }
   ],
   "source": [
    "print('Graph:\\n' + ('=' * 40))\n",
    "pprint(g.graph)\n",
    "\n",
    "print('\\nPath: ', g.find_path(x, y))\n",
    "print('All Paths: ', g.find_all_paths(x, y))\n",
    "print('Shortest Path: ', g.find_shortest_path(x, y))\n",
    "print(g.adjacent(x, y)[1])\n",
    "print(g.adjacent('C', 'B')[1])\n",
    "print(g.neighbors('C')[2])"
   ]
  },
  {
   "cell_type": "code",
   "execution_count": 295,
   "metadata": {},
   "outputs": [
    {
     "name": "stdout",
     "output_type": "stream",
     "text": [
      "{'A': {'C', 'B'},\n",
      " 'B': {'A', 'D'},\n",
      " 'C': {'A', 'F', 'D'},\n",
      " 'D': {'C', 'B'},\n",
      " 'E': {'F'},\n",
      " 'F': {'C', 'E'}}\n",
      "[F] Neighbors: {'C', 'E'}\n"
     ]
    }
   ],
   "source": [
    "# Arc is removed\n",
    "g.remove_edge('C', 'B')\n",
    "pprint(g.graph)\n",
    "print(g.neighbors('F')[2])"
   ]
  },
  {
   "cell_type": "code",
   "execution_count": 296,
   "metadata": {},
   "outputs": [
    {
     "name": "stdout",
     "output_type": "stream",
     "text": [
      "{'A': {'C', 'B'},\n",
      " 'B': {'A', 'D'},\n",
      " 'C': {'A', 'F', 'D'},\n",
      " 'D': {'C', 'B'},\n",
      " 'E': {'F'},\n",
      " 'F': {'C', 'E'},\n",
      " 'G': set(),\n",
      " 'H': set(),\n",
      " 'I': set(),\n",
      " 'W': set()}\n"
     ]
    }
   ],
   "source": [
    "g.add_vertices(['G', 'H', 'I', 'W'])\n",
    "pprint(g.graph)"
   ]
  },
  {
   "cell_type": "code",
   "execution_count": 297,
   "metadata": {},
   "outputs": [
    {
     "name": "stdout",
     "output_type": "stream",
     "text": [
      "{'A': {'C', 'B'},\n",
      " 'B': {'A', 'G', 'D'},\n",
      " 'C': {'H', 'K', 'G', 'D', 'F', 'A'},\n",
      " 'D': {'I', 'C', 'K', 'B'},\n",
      " 'E': {'F', 'J'},\n",
      " 'F': {'H', 'C', 'E'},\n",
      " 'G': {'I', 'C', 'K', 'B'},\n",
      " 'H': {'F', 'C'},\n",
      " 'I': {'D', 'J', 'G'},\n",
      " 'J': {'I', 'K', 'E'},\n",
      " 'K': {'C', 'J', 'G', 'D'},\n",
      " 'W': set()}\n"
     ]
    }
   ],
   "source": [
    "g.add_edges([('H', 'C'), ('H', 'F'), ('I', 'G'), ('I', 'D'), ('G', 'B'), ('G', 'C')])\n",
    "g.add_edges([('J', 'K'), ('J', 'E'), ('J', 'I'), ('K', 'C'), ('K', 'G'), ('K', 'D')])\n",
    "pprint(g.graph)"
   ]
  },
  {
   "cell_type": "code",
   "execution_count": 298,
   "metadata": {},
   "outputs": [
    {
     "name": "stdout",
     "output_type": "stream",
     "text": [
      "Edge Not Found\n"
     ]
    }
   ],
   "source": [
    "print(g.remove_edge('J', 'W'))"
   ]
  },
  {
   "cell_type": "code",
   "execution_count": 304,
   "metadata": {},
   "outputs": [
    {
     "name": "stdout",
     "output_type": "stream",
     "text": [
      "{'A': {'K', 'D', 'B', 'E', 'C', 'J'},\n",
      " 'B': {'G', 'D', 'E', 'A'},\n",
      " 'C': {'H', 'K', 'G', 'D', 'F', 'A'},\n",
      " 'D': {'K', 'I', 'B', 'C', 'A'},\n",
      " 'E': {'A', 'F', 'J', 'B'},\n",
      " 'F': {'H', 'C', 'G', 'E'},\n",
      " 'G': {'K', 'I', 'B', 'F', 'C'},\n",
      " 'H': {'F', 'C'},\n",
      " 'I': {'D', 'J', 'G'},\n",
      " 'J': {'A', 'I', 'K', 'E'},\n",
      " 'K': {'G', 'D', 'C', 'J', 'A'},\n",
      " 'W': set()}\n",
      "Shortest Path:  ['A', 'D', 'I']\n",
      "({'F', 'C'}, [('H', 'F'), ('H', 'C')], \"[H] Neighbors: {'F', 'C'}\")\n"
     ]
    }
   ],
   "source": [
    "#g.remove_vertex('C')\n",
    "pprint(g.graph)\n",
    "print('Shortest Path: ', g.find_shortest_path(x, 'I'))\n",
    "print(g.neighbors('H'))"
   ]
  },
  {
   "cell_type": "code",
   "execution_count": 305,
   "metadata": {},
   "outputs": [
    {
     "data": {
      "text/plain": [
       "['A', ['K', 'D', 'B', 'E', 'C', 'J'], ['G'], ['H', 'F'], ['I'], 'W']"
      ]
     },
     "execution_count": 305,
     "metadata": {},
     "output_type": "execute_result"
    }
   ],
   "source": [
    "g.breadth_first_search('A')"
   ]
  },
  {
   "cell_type": "code",
   "execution_count": 307,
   "metadata": {},
   "outputs": [
    {
     "data": {
      "text/plain": [
       "['G', 'K', 'D', 'I', 'J', 'A', 'B', 'E', 'F', 'H', 'C']"
      ]
     },
     "execution_count": 307,
     "metadata": {},
     "output_type": "execute_result"
    }
   ],
   "source": [
    "g.depth_first_search('G')"
   ]
  },
  {
   "cell_type": "code",
   "execution_count": 306,
   "metadata": {},
   "outputs": [
    {
     "data": {
      "text/plain": [
       "'W'"
      ]
     },
     "execution_count": 306,
     "metadata": {},
     "output_type": "execute_result"
    }
   ],
   "source": [
    "g.find_mother()"
   ]
  },
  {
   "cell_type": "code",
   "execution_count": 303,
   "metadata": {
    "collapsed": true
   },
   "outputs": [],
   "source": [
    "g.add_edges([('A', 'D'), ('A', 'E'), ('A', 'J'), ('A', 'K'), ('G', 'F'), ('B', 'E')])"
   ]
  },
  {
   "cell_type": "code",
   "execution_count": null,
   "metadata": {
    "collapsed": true
   },
   "outputs": [],
   "source": []
  }
 ],
 "metadata": {
  "kernelspec": {
   "display_name": "Python 3",
   "language": "python",
   "name": "python3"
  },
  "language_info": {
   "codemirror_mode": {
    "name": "ipython",
    "version": 3
   },
   "file_extension": ".py",
   "mimetype": "text/x-python",
   "name": "python",
   "nbconvert_exporter": "python",
   "pygments_lexer": "ipython3",
   "version": "3.6.1"
  }
 },
 "nbformat": 4,
 "nbformat_minor": 2
}
