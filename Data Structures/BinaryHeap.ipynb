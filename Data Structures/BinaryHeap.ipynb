{
 "cells": [
  {
   "cell_type": "markdown",
   "metadata": {},
   "source": [
    "# Binary Heap / Binary Search Tree in Python\n",
    "\n",
    "**Author:**  Whitney King\n",
    "<br>\n",
    "**Date Last Updated:** 5/19/2018 \n",
    "\n",
    "\n",
    "This notebook is designed to provide a simple and easy to follow tutorial outlining how different data structures work using the Python programming language. Many of these data structures are offered as prebuilt objects or can be easily implemented with libraries, but it's important to understand how they work as a software or data engineer.\n",
    "\n",
    "A heap has a fixed size at the beginning, while a binary search tree is only limited by the amount of memory available on the platform it's running."
   ]
  },
  {
   "cell_type": "code",
   "execution_count": 1,
   "metadata": {
    "collapsed": true
   },
   "outputs": [],
   "source": [
    "# Import Libraries\n",
    "import numpy as np\n",
    "from IPython.display import display as d\n",
    "\n",
    "def line():\n",
    "    print('-------------------------------------------')"
   ]
  },
  {
   "cell_type": "markdown",
   "metadata": {},
   "source": [
    "# Binary Heap\n",
    "\n",
    "Otherwise just refered to as 'heap'. This is a **complete binary tree**, that is one where **all levels except the bottomost most level, are full, and the bottomost level cannot have holes between nodes**. In general, heap is used for things like priority queuing and the heapsort algorithm. \n",
    "\n",
    "    Image reference from: http://www.algolist.net/Data_structures/Binary_heap/Array-based_int_repr\n",
    "\n",
    "<img src='http://www.algolist.net/img/binary-heap-array-mapping.png'>\n",
    "\n",
    "Heaps can be easily mapped to array indexes using simple mathematical formulas.\n",
    "\n",
    "    Left(i) = 2 * i + 1\n",
    "\n",
    "    Right(i) = 2 * i + 2\n",
    "\n",
    "    Parent(i) = (i - 1) / 2\n",
    "\n",
    "**Min Heaps** have a root with the minimal element, and **Max Heaps** have a root with the maximum element. As these data strucutres get more logically complex, the code for them gets a lot more elegant to do a lot more with.\n",
    "\n",
    "\n",
    "#### Big O\n",
    " -  O(log n)\n",
    "    - Complexity of the insertion operation is O(h), where h is heap's height. Taking into account completeness of the tree, O(h) = O(log n), where n is number of elements in a heap."
   ]
  },
  {
   "cell_type": "code",
   "execution_count": 554,
   "metadata": {},
   "outputs": [],
   "source": [
    "import numpy as np\n",
    "\n",
    "class BinaryMinHeap(object):\n",
    "    \n",
    "# Create initial properties of the heap\n",
    "    def __init__(self, size):\n",
    "        self.size = size  ## Set Heap Size Limit\n",
    "        self.heapSize = 0 ## Count UP for Heap Index\n",
    "        self.data = [0] * size\n",
    "        \n",
    "    def BinaryMinHeap(self, size):\n",
    "        self.heapSize = 0\n",
    "        self.data = []\n",
    "        \n",
    "# Define each node of the heap\n",
    "    def Node(self, value):\n",
    "        self.value = value\n",
    "        return self.value\n",
    "        \n",
    "# Check heap size\n",
    "    def getMin(self):\n",
    "        if self.isEmpty(): \n",
    "            self.ex.HeapException(self, 'Storage is Empty!')\n",
    "            return\n",
    "        else: return self.data[0]\n",
    "        \n",
    "    def isEmpty(self):\n",
    "        return self.heapSize == 0\n",
    "    \n",
    "# Run index search through heap\n",
    "    def getleftChildIndex(self, i): return (2 * i + 1)\n",
    "    def getRightChildIndex(self, i): return (2 * i  + 2)\n",
    "    def getParentIndex(self, i): return int((i - 1) / 2)\n",
    "    \n",
    "# Insert New Node\n",
    "    def insert(self, value):\n",
    "        # Check if heap is full\n",
    "        if self.heapSize == self.size:\n",
    "            self.ex.HeapException(self, 'Storage is full!')\n",
    "            return\n",
    "        else:\n",
    "            self.data[self.heapSize] = self.Node(value)\n",
    "            self.indexUp(self.heapSize)\n",
    "            self.heapSize += 1\n",
    "                \n",
    "# Remove smallest node from the heap\n",
    "    def removeMin(self):\n",
    "        if self.isEmpty(): \n",
    "            self.ex.HeapException(self, 'Storage is Empty!')\n",
    "            return\n",
    "        else: \n",
    "            self.data[0] = self.data[self.heapSize - 1]\n",
    "            self.data[-1] = None\n",
    "            self.heapSize -= 1\n",
    "            if self.heapSize > 0:\n",
    "                self.indexDown(0)\n",
    "\n",
    "    \n",
    "# Reindex Heap When Node Has Been Added\n",
    "    def indexUp(self, i):\n",
    "        tmp = 0\n",
    "        if i > 0:\n",
    "            pi = self.getParentIndex(i)\n",
    "            if self.data[pi] > self.data[i]:\n",
    "                tmp = self.data[pi]\n",
    "                self.data[pi] = self.data[i]\n",
    "                self.data[i] = tmp\n",
    "                self.indexUp(pi)\n",
    "\n",
    "# Reindex Heap When Node Has Been Removed\n",
    "    def indexDown(self, i):\n",
    "        li = 0\n",
    "        ri = 0\n",
    "        mi = 0\n",
    "        tmp = 0\n",
    "        li = self.getleftChildIndex(i)\n",
    "        ri = self.getRightChildIndex(i)\n",
    "        if ri >= self.heapSize:\n",
    "            if li >= self.heapSize: return\n",
    "            else: mi = li\n",
    "        else:\n",
    "            if self.data[li] <= self.data[ri]: mi = li\n",
    "            else: mi = ri\n",
    "        if self.data[i] > self.data[mi]:\n",
    "            tmp = self.data[mi]\n",
    "            self.data[mi] = self.data[i]\n",
    "            self.data[i] = tmp\n",
    "            self.indexDown(mi)\n",
    "            \n",
    "# Function to display display data\n",
    "    def show(self):\n",
    "            \n",
    "        print('Heap Limit: {0}'.format(self.size))\n",
    "        print('Heap Size: {0}'.format(self.heapSize))\n",
    "        line()\n",
    "        heapIndex = []\n",
    "        for i in range(0, self.heapSize):\n",
    "            heapIndex.append(i)\n",
    "            print('[{0}]: {1}'.format(heapIndex[i],\n",
    "                                      self.data[i]))\n",
    "    \n",
    "    # Add HeapException class to handle errors\n",
    "    class ex(Exception):\n",
    "        # Needs testing\n",
    "        def __init__(self, e):\n",
    "            self.e = e\n",
    "\n",
    "        def __str_(self):\n",
    "            return repr(self.e)\n",
    "\n",
    "        def HeapException(self, e):\n",
    "            try:\n",
    "                raise HeapException(e)\n",
    "            except HeapException as e:\n",
    "                print('HeapException: {0}'.format(e))"
   ]
  },
  {
   "cell_type": "markdown",
   "metadata": {},
   "source": [
    "## Testing The Implementation"
   ]
  },
  {
   "cell_type": "code",
   "execution_count": 555,
   "metadata": {},
   "outputs": [
    {
     "name": "stdout",
     "output_type": "stream",
     "text": [
      "[965 969 676 767 780 398 629]\n",
      "[964 352 678 326 861 843 159]\n"
     ]
    }
   ],
   "source": [
    "arr = (np.random.rand(7) * 1000).astype(dtype=int)\n",
    "arr2 = (np.random.rand(7) * 1000).astype(dtype=int)\n",
    "print(arr)\n",
    "print(arr2)"
   ]
  },
  {
   "cell_type": "code",
   "execution_count": 560,
   "metadata": {},
   "outputs": [
    {
     "name": "stdout",
     "output_type": "stream",
     "text": [
      "Create new BinaryMinHeap Object\n",
      "-------------------------------------------\n",
      "Add data to BinaryMinHeap[]\n",
      "-------------------------------------------\n",
      "HeapException: Storage is full!\n",
      "HeapException: Storage is full!\n",
      "Heap Limit: 5\n",
      "Heap Size: 5\n",
      "-------------------------------------------\n",
      "[0]: 676\n",
      "[1]: 767\n",
      "[2]: 965\n",
      "[3]: 969\n",
      "[4]: 780\n",
      "-------------------------------------------\n",
      "\n",
      "Remove Root Node from BinaryMinHeap[]\n",
      "-------------------------------------------\n",
      "Heap Limit: 5\n",
      "Heap Size: 4\n",
      "-------------------------------------------\n",
      "[0]: 767\n",
      "[1]: 780\n",
      "[2]: 965\n",
      "[3]: 969\n",
      "\n",
      "Heap Limit: 5\n",
      "Heap Size: 3\n",
      "-------------------------------------------\n",
      "[0]: 780\n",
      "[1]: 969\n",
      "[2]: 965\n",
      "\n",
      "HeapException: Storage is Empty!\n",
      "Heap Limit: 5\n",
      "Heap Size: 0\n",
      "-------------------------------------------\n",
      "\n",
      "Add data to BinaryMinHeap[]\n",
      "-------------------------------------------\n",
      "HeapException: Storage is full!\n",
      "HeapException: Storage is full!\n",
      "Heap Limit: 5\n",
      "Heap Size: 5\n",
      "-------------------------------------------\n",
      "[0]: 326\n",
      "[1]: 352\n",
      "[2]: 678\n",
      "[3]: 964\n",
      "[4]: 861\n"
     ]
    }
   ],
   "source": [
    "print('Create new BinaryMinHeap Object')\n",
    "line()\n",
    "size = 5\n",
    "minH = BinaryMinHeap(size)\n",
    "# Show heap data\n",
    "#minH.show()\n",
    "\n",
    "print('Add data to BinaryMinHeap[]')\n",
    "line()\n",
    "for i in range(0,len(arr)):\n",
    "    minH.insert(arr[i])\n",
    "\n",
    "# Show minHeap data\n",
    "minH.show()\n",
    "line()\n",
    "print()\n",
    "\n",
    "print('Remove Root Node from BinaryMinHeap[]')\n",
    "line()\n",
    "\n",
    "minH.removeMin()\n",
    "minH.show()\n",
    "print()\n",
    "minH.removeMin()\n",
    "minH.show()\n",
    "print()\n",
    "minH.removeMin()\n",
    "minH.removeMin()\n",
    "minH.removeMin()\n",
    "minH.removeMin()\n",
    "\n",
    "minH.show()\n",
    "print()\n",
    "\n",
    "print('Add data to BinaryMinHeap[]')\n",
    "line()\n",
    "\n",
    "for i in range(0,len(arr2)):\n",
    "    minH.insert(arr2[i])\n",
    "minH.show()"
   ]
  },
  {
   "cell_type": "markdown",
   "metadata": {},
   "source": [
    "## Binary Search Tree"
   ]
  },
  {
   "cell_type": "code",
   "execution_count": null,
   "metadata": {
    "collapsed": true
   },
   "outputs": [],
   "source": []
  },
  {
   "cell_type": "markdown",
   "metadata": {},
   "source": [
    "## Hash Table"
   ]
  },
  {
   "cell_type": "code",
   "execution_count": null,
   "metadata": {
    "collapsed": true
   },
   "outputs": [],
   "source": []
  },
  {
   "cell_type": "markdown",
   "metadata": {},
   "source": [
    "## Dynamic Array"
   ]
  },
  {
   "cell_type": "code",
   "execution_count": null,
   "metadata": {
    "collapsed": true
   },
   "outputs": [],
   "source": []
  },
  {
   "cell_type": "markdown",
   "metadata": {},
   "source": [
    "## Graph"
   ]
  },
  {
   "cell_type": "code",
   "execution_count": null,
   "metadata": {
    "collapsed": true
   },
   "outputs": [],
   "source": []
  },
  {
   "cell_type": "markdown",
   "metadata": {},
   "source": [
    "## Stack"
   ]
  },
  {
   "cell_type": "code",
   "execution_count": null,
   "metadata": {
    "collapsed": true
   },
   "outputs": [],
   "source": []
  },
  {
   "cell_type": "markdown",
   "metadata": {},
   "source": [
    "## Queue, Dequeue, Least Recently Used"
   ]
  },
  {
   "cell_type": "code",
   "execution_count": null,
   "metadata": {
    "collapsed": true
   },
   "outputs": [],
   "source": []
  }
 ],
 "metadata": {
  "kernelspec": {
   "display_name": "Python 3",
   "language": "python",
   "name": "python3"
  },
  "language_info": {
   "codemirror_mode": {
    "name": "ipython",
    "version": 3
   },
   "file_extension": ".py",
   "mimetype": "text/x-python",
   "name": "python",
   "nbconvert_exporter": "python",
   "pygments_lexer": "ipython3",
   "version": "3.6.1"
  }
 },
 "nbformat": 4,
 "nbformat_minor": 2
}
