{
 "cells": [
  {
   "cell_type": "code",
   "execution_count": 1,
   "metadata": {
    "collapsed": true
   },
   "outputs": [],
   "source": [
    "# Import Libraries\n",
    "import numpy as np\n",
    "from IPython.display import display as d\n",
    "\n",
    "def line():\n",
    "    print('-------------------------------------------')"
   ]
  },
  {
   "cell_type": "markdown",
   "metadata": {
    "collapsed": true
   },
   "source": [
    "## Binary Search Tree\n",
    "\n",
    "A binary search tree is very similar to a heap in that each node has at most two children, however, unlike a heap, a binary search tree is not constrained by a size limit on initilization. However, things can quickly get a little more complicated when the limiations are more unbounded. Traversal becomes more multi dimensional, but still not too difficult conceptually. This is a data structure where we really start to get into interesting use of algorithms.\n",
    "\n",
    "#### Big O\n",
    "\n",
    "Each node will need to be traversed exactly once in level order, so the big O is 0(n), n being the number of nodes in the tree. Same goes for the space complexity."
   ]
  },
  {
   "cell_type": "code",
   "execution_count": 2,
   "metadata": {
    "collapsed": true
   },
   "outputs": [],
   "source": [
    "# Create Binary Search Tree Structure---------------------------------------------------------\n",
    "class BinarySearchTree(object):\n",
    "    \n",
    "    def __init__(self):\n",
    "        self.root = None\n",
    "        \n",
    "    \n",
    "# Create class for TreeNode--------------------------------------------\n",
    "    class TreeNode(object):\n",
    "        \n",
    "        def __init__(self, value):\n",
    "            self.value = value\n",
    "            self.left = None\n",
    "            self.right = None   \n",
    "        \n",
    "        # Define logical functionality of treenodes\n",
    "        def getValue(self): return self.value\n",
    "        def setValue(self, value): self.value = value \n",
    "        def hasLeftChild(self): return self.left != None\n",
    "        def getLeftChild(self): return self.left     \n",
    "        def setLeftChild(self, node): self.left = self.TreeNode(node)\n",
    "        def hasRightChild(self): return self.right != None\n",
    "        def getRightChild(self): return self.right     \n",
    "        def setRighthild(self, node): self.right = self.TreeNode(node)\n",
    "        \n",
    "        def TreeNode(self, value):\n",
    "            self.value = value\n",
    "            self.left = None\n",
    "            self.right = None\n",
    "            \n",
    "#---End TreeNode Class------------------------------------------------\n",
    "            \n",
    "    def isEmpty(self): return self.root == None \n",
    "    def setRoot(self, value): self.root = self.TreeNode(value)\n",
    "            \n",
    "    def findFurthestLeft(self, root):\n",
    "        if root.hasLeftChild():\n",
    "            return self.findFurthestLeft(self.root.getLeftChild())\n",
    "        return self.root\n",
    "    \n",
    "    def findFurthestRight(self, root):\n",
    "        if root.hasRightChild():\n",
    "            return self.findFurthestRight(self.root.getRightChild())\n",
    "        return self.root\n",
    "    \n",
    "# Inserts values into Binary Search Tree--------------------------------\n",
    "    def insert(self, values):\n",
    "        if self.isEmpty():\n",
    "            self.setRoot(values.pop(0))\n",
    "        for v in values:\n",
    "            self.insertTreeNodes(self.root, v)\n",
    "        return print('Data Loaded into BinarySearchTree Successfully')\n",
    "    \n",
    "    def insertTreeNodes(self, curr_node, v):\n",
    "        new_node = self.TreeNode(v)\n",
    "        if v <= curr_node.value:\n",
    "            if curr_node.hasLeftChild():\n",
    "                self.insertTreeNodes(curr_node.left, v)\n",
    "            else:\n",
    "                curr_node.left = new_node\n",
    "        elif v > curr_node.value:\n",
    "            if curr_node.hasRightChild():\n",
    "                self.insertTreeNodes(curr_node.right, v)\n",
    "            else:\n",
    "                curr_node.right = new_node\n",
    "                \n",
    "# Remove Values from Binary Search Tree--------------------------------\n",
    "    #def remove(self):\n",
    "        \n",
    "                \n",
    "# Practice Search Functions Inspired by LeetCode\n",
    "\n",
    "    def preorderTraversal(self, root, order):\n",
    "        if root:\n",
    "            order.append(root.value)   \n",
    "            self.preorderTraversal(root.left, order) \n",
    "            self.preorderTraversal(root.right, order)\n",
    "        return order\n",
    "    \n",
    "    def inorderTraversal(self, root, order):\n",
    "        if root:\n",
    "            self.inorderTraversal(root.left, order)\n",
    "            order.append(root.value)   \n",
    "            self.inorderTraversal(root.right, order)\n",
    "        return order\n",
    "    \n",
    "    def postorderTraversal(self, root, order):\n",
    "        if root:\n",
    "            self.postorderTraversal(root.right, order)\n",
    "            self.postorderTraversal(root.left, order)\n",
    "            order.append(root.value)\n",
    "        return order    \n",
    "    \n",
    "    def levelOrderTraversal(self, root, order):\n",
    "        if root:\n",
    "            self.levelOrder(root, 0, order)\n",
    "        return order\n",
    "    \n",
    "    def levelOrder(self, root, level, order):\n",
    "        if root:\n",
    "            if len(order) < level+1: \n",
    "                order.append([])\n",
    "            order[level].append(root.value)\n",
    "            self.levelOrder(root.left, level+1, order)\n",
    "            self.levelOrder(root.right, level+1, order)\n",
    "            \n",
    "    def showOrder(self, order):\n",
    "        for i in range(0, len(order)):\n",
    "            print('[{0}]: {1}'.format(i, order[i]))\n",
    "\n",
    "    \n",
    "    def BinarySearchTree(self):\n",
    "        self.root = None\n",
    "        \n",
    "#---End BinarySearchTree Class------------------------------------------------------------------------"
   ]
  },
  {
   "cell_type": "markdown",
   "metadata": {},
   "source": [
    "## Test Bed\n",
    "\n",
    "Here is an area to put the newly built data structures to the test"
   ]
  },
  {
   "cell_type": "code",
   "execution_count": 10,
   "metadata": {},
   "outputs": [
    {
     "name": "stdout",
     "output_type": "stream",
     "text": [
      "[716, 100, 584, 520, 767, 820, 94, 209, 974, 275]\n"
     ]
    }
   ],
   "source": [
    "# Random Data goes in jumbled-----------------------------------\n",
    "arr = (np.random.rand(25) * 1000).astype(dtype=int).tolist()\n",
    "print(arr[:10])"
   ]
  },
  {
   "cell_type": "code",
   "execution_count": 11,
   "metadata": {},
   "outputs": [
    {
     "name": "stdout",
     "output_type": "stream",
     "text": [
      "Create new BinarySearchTree Object\n",
      "-------------------------------------------\n",
      "Add data to BinarySearchTree[]\n",
      "-------------------------------------------\n",
      "Data Loaded into BinarySearchTree Successfully\n"
     ]
    }
   ],
   "source": [
    "print('Create new BinarySearchTree Object')\n",
    "line()\n",
    "bst = BinarySearchTree()\n",
    "\n",
    "print('Add data to BinarySearchTree[]')\n",
    "line()\n",
    "bst.insert(arr)"
   ]
  },
  {
   "cell_type": "code",
   "execution_count": 12,
   "metadata": {
    "scrolled": true
   },
   "outputs": [
    {
     "name": "stdout",
     "output_type": "stream",
     "text": [
      "716\n",
      "100\n",
      "767\n",
      "94\n",
      "584\n"
     ]
    },
    {
     "ename": "AttributeError",
     "evalue": "'NoneType' object has no attribute 'value'",
     "output_type": "error",
     "traceback": [
      "\u001b[1;31m---------------------------------------------------------------------------\u001b[0m",
      "\u001b[1;31mAttributeError\u001b[0m                            Traceback (most recent call last)",
      "\u001b[1;32m<ipython-input-12-e5c045c56204>\u001b[0m in \u001b[0;36m<module>\u001b[1;34m()\u001b[0m\n\u001b[0;32m      4\u001b[0m \u001b[0mprint\u001b[0m\u001b[1;33m(\u001b[0m\u001b[0mbst\u001b[0m\u001b[1;33m.\u001b[0m\u001b[0mroot\u001b[0m\u001b[1;33m.\u001b[0m\u001b[0mleft\u001b[0m\u001b[1;33m.\u001b[0m\u001b[0mleft\u001b[0m\u001b[1;33m.\u001b[0m\u001b[0mvalue\u001b[0m\u001b[1;33m)\u001b[0m\u001b[1;33m\u001b[0m\u001b[0m\n\u001b[0;32m      5\u001b[0m \u001b[0mprint\u001b[0m\u001b[1;33m(\u001b[0m\u001b[0mbst\u001b[0m\u001b[1;33m.\u001b[0m\u001b[0mroot\u001b[0m\u001b[1;33m.\u001b[0m\u001b[0mleft\u001b[0m\u001b[1;33m.\u001b[0m\u001b[0mright\u001b[0m\u001b[1;33m.\u001b[0m\u001b[0mvalue\u001b[0m\u001b[1;33m)\u001b[0m\u001b[1;33m\u001b[0m\u001b[0m\n\u001b[1;32m----> 6\u001b[1;33m \u001b[0mprint\u001b[0m\u001b[1;33m(\u001b[0m\u001b[0mbst\u001b[0m\u001b[1;33m.\u001b[0m\u001b[0mroot\u001b[0m\u001b[1;33m.\u001b[0m\u001b[0mright\u001b[0m\u001b[1;33m.\u001b[0m\u001b[0mleft\u001b[0m\u001b[1;33m.\u001b[0m\u001b[0mvalue\u001b[0m\u001b[1;33m)\u001b[0m\u001b[1;33m\u001b[0m\u001b[0m\n\u001b[0m\u001b[0;32m      7\u001b[0m \u001b[0mprint\u001b[0m\u001b[1;33m(\u001b[0m\u001b[0mbst\u001b[0m\u001b[1;33m.\u001b[0m\u001b[0mroot\u001b[0m\u001b[1;33m.\u001b[0m\u001b[0mright\u001b[0m\u001b[1;33m.\u001b[0m\u001b[0mright\u001b[0m\u001b[1;33m.\u001b[0m\u001b[0mvalue\u001b[0m\u001b[1;33m)\u001b[0m\u001b[1;33m\u001b[0m\u001b[0m\n",
      "\u001b[1;31mAttributeError\u001b[0m: 'NoneType' object has no attribute 'value'"
     ]
    }
   ],
   "source": [
    "print(bst.root.value)\n",
    "print(bst.root.left.value)\n",
    "print(bst.root.right.value)\n",
    "print(bst.root.left.left.value)\n",
    "print(bst.root.left.right.value)\n",
    "print(bst.root.right.left.value)\n",
    "print(bst.root.right.right.value)\n"
   ]
  },
  {
   "cell_type": "markdown",
   "metadata": {},
   "source": [
    "### Pre Order Traversal\n",
    "\n",
    "This means to begin traversal starting at the root node, then the left subtree, then the right subtree, moving to the left and over to the right."
   ]
  },
  {
   "cell_type": "code",
   "execution_count": 13,
   "metadata": {},
   "outputs": [
    {
     "name": "stdout",
     "output_type": "stream",
     "text": [
      "[0]: 716\n",
      "[1]: 100\n",
      "[2]: 94\n",
      "[3]: 80\n",
      "[4]: 27\n",
      "[5]: 20\n",
      "[6]: 584\n",
      "[7]: 520\n",
      "[8]: 209\n",
      "[9]: 174\n",
      "[10]: 275\n",
      "[11]: 498\n",
      "[12]: 328\n",
      "[13]: 441\n",
      "[14]: 333\n",
      "[15]: 332\n",
      "[16]: 535\n",
      "[17]: 620\n",
      "[18]: 767\n",
      "[19]: 820\n",
      "[20]: 808\n",
      "[21]: 818\n",
      "[22]: 974\n",
      "[23]: 980\n",
      "[24]: 997\n"
     ]
    }
   ],
   "source": [
    "pre_order = []\n",
    "pre_order = bst.preorderTraversal(bst.root, pre_order)\n",
    "\n",
    "bst.showOrder(pre_order)"
   ]
  },
  {
   "cell_type": "markdown",
   "metadata": {},
   "source": [
    "\n",
    "### In Order Traversal\n",
    "\n",
    "In this case, you'd step through the left sub tree, through the root node, and then down through the right subtree. Out of all of the traversal methods, this is the one that returns the values numerically when they didn't go in with any kid of sorting aside from the left/right largest value weight on insert."
   ]
  },
  {
   "cell_type": "code",
   "execution_count": 14,
   "metadata": {},
   "outputs": [
    {
     "name": "stdout",
     "output_type": "stream",
     "text": [
      "[0]: 20\n",
      "[1]: 27\n",
      "[2]: 80\n",
      "[3]: 94\n",
      "[4]: 100\n",
      "[5]: 174\n",
      "[6]: 209\n",
      "[7]: 275\n",
      "[8]: 328\n",
      "[9]: 332\n",
      "[10]: 333\n",
      "[11]: 441\n",
      "[12]: 498\n",
      "[13]: 520\n",
      "[14]: 535\n",
      "[15]: 584\n",
      "[16]: 620\n",
      "[17]: 716\n",
      "[18]: 767\n",
      "[19]: 808\n",
      "[20]: 818\n",
      "[21]: 820\n",
      "[22]: 974\n",
      "[23]: 980\n",
      "[24]: 997\n"
     ]
    }
   ],
   "source": [
    "in_order = []\n",
    "in_order = bst.inorderTraversal(bst.root, in_order)\n",
    "\n",
    "bst.showOrder(in_order)"
   ]
  },
  {
   "cell_type": "markdown",
   "metadata": {},
   "source": [
    "### Post-Order Traversal\n",
    "\n",
    "Traverse the left subtree, then the right subtree, ending at the root node"
   ]
  },
  {
   "cell_type": "code",
   "execution_count": 15,
   "metadata": {},
   "outputs": [
    {
     "name": "stdout",
     "output_type": "stream",
     "text": [
      "[0]: 997\n",
      "[1]: 980\n",
      "[2]: 974\n",
      "[3]: 818\n",
      "[4]: 808\n",
      "[5]: 820\n",
      "[6]: 767\n",
      "[7]: 620\n",
      "[8]: 535\n",
      "[9]: 332\n",
      "[10]: 333\n",
      "[11]: 441\n",
      "[12]: 328\n",
      "[13]: 498\n",
      "[14]: 275\n",
      "[15]: 174\n",
      "[16]: 209\n",
      "[17]: 520\n",
      "[18]: 584\n",
      "[19]: 20\n",
      "[20]: 27\n",
      "[21]: 80\n",
      "[22]: 94\n",
      "[23]: 100\n",
      "[24]: 716\n"
     ]
    }
   ],
   "source": [
    "post_order = []\n",
    "post_order = bst.postorderTraversal(bst.root, post_order)\n",
    "\n",
    "bst.showOrder(post_order)"
   ]
  },
  {
   "cell_type": "markdown",
   "metadata": {
    "collapsed": true
   },
   "source": [
    "### Breadth-First Search\n",
    "\n",
    "This algorithm is a means of searching over a binary tree level by level, as if reading it like a book. This is generally implemented with queues.\n"
   ]
  },
  {
   "cell_type": "code",
   "execution_count": 16,
   "metadata": {},
   "outputs": [
    {
     "name": "stdout",
     "output_type": "stream",
     "text": [
      "[0]: [716]\n",
      "[1]: [100, 767]\n",
      "[2]: [94, 584, 820]\n",
      "[3]: [80, 520, 620, 808, 974]\n",
      "[4]: [27, 209, 535, 818, 980]\n",
      "[5]: [20, 174, 275, 997]\n",
      "[6]: [498]\n",
      "[7]: [328]\n",
      "[8]: [441]\n",
      "[9]: [333]\n",
      "[10]: [332]\n"
     ]
    }
   ],
   "source": [
    "level_order = []\n",
    "level_order = bst.levelOrderTraversal(bst.root, level_order)\n",
    "\n",
    "bst.showOrder(level_order)"
   ]
  },
  {
   "cell_type": "code",
   "execution_count": 10,
   "metadata": {
    "collapsed": true
   },
   "outputs": [],
   "source": [
    "# Add BinarySearchTreeException class to handle errors\n",
    "class ex(Exception):\n",
    "    def __init__(self, e):\n",
    "        self.e = e\n",
    "\n",
    "    def __str_(self):\n",
    "        return repr(self.e)\n",
    "\n",
    "    def BinarySearchTreeException(self, e):\n",
    "        try:\n",
    "            raise BinarySearchTreeException(e)\n",
    "        except BinarySearchTreeException as e:\n",
    "            print('BinarySearchTreeException: {0}'.format(e))\n",
    "                \n",
    "    def BinarySearchTreeLoader(self,e):\n",
    "        try:\n",
    "            raise BinarySearchTreeLoader(e)\n",
    "        except BinarySearchTreeLoader as e:\n",
    "            print('BinarySearchTreeLoader: {0}'.format(e))"
   ]
  },
  {
   "cell_type": "code",
   "execution_count": null,
   "metadata": {
    "collapsed": true
   },
   "outputs": [],
   "source": []
  },
  {
   "cell_type": "code",
   "execution_count": null,
   "metadata": {
    "collapsed": true
   },
   "outputs": [],
   "source": []
  }
 ],
 "metadata": {
  "kernelspec": {
   "display_name": "Python 3",
   "language": "python",
   "name": "python3"
  },
  "language_info": {
   "codemirror_mode": {
    "name": "ipython",
    "version": 3
   },
   "file_extension": ".py",
   "mimetype": "text/x-python",
   "name": "python",
   "nbconvert_exporter": "python",
   "pygments_lexer": "ipython3",
   "version": "3.6.1"
  }
 },
 "nbformat": 4,
 "nbformat_minor": 2
}
