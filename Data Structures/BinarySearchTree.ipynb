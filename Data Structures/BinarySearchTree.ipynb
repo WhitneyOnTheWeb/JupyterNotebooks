{
 "cells": [
  {
   "cell_type": "code",
   "execution_count": 1,
   "metadata": {
    "collapsed": true
   },
   "outputs": [],
   "source": [
    "# Import Libraries\n",
    "import copy\n",
    "import numpy as np\n",
    "from IPython.display import display as d\n",
    "\n",
    "def line():\n",
    "    print('-------------------------------------------')"
   ]
  },
  {
   "cell_type": "markdown",
   "metadata": {
    "collapsed": true
   },
   "source": [
    "## Binary Search Tree\n",
    "\n",
    "A binary search tree is very similar to a heap in that each node has at most two children, however, unlike a heap, a binary search tree is not constrained by a size limit on initilization. However, things can quickly get a little more complicated when the limiations are more unbounded. Traversal becomes more multi dimensional, but still not too difficult conceptually. This is a data structure where we really start to get into interesting use of algorithms.\n",
    "\n",
    "#### Big O\n",
    "\n",
    "Each node will need to be traversed exactly once in level order, so the big O is 0(n), n being the number of nodes in the tree. Same goes for the space complexity."
   ]
  },
  {
   "cell_type": "code",
   "execution_count": 2,
   "metadata": {},
   "outputs": [],
   "source": [
    "# Create BinarySearchTree Class---------------------------------------------------------\n",
    "class BinarySearchTree(object):\n",
    "    \n",
    "    def __init__(self):\n",
    "        self.root = None\n",
    "        \n",
    "    \n",
    "# Create TreeNode Class-------------------------------------------------\n",
    "    class TreeNode(object):\n",
    "        \n",
    "        def __init__(self, value):\n",
    "            self.value = value\n",
    "            self.left = None\n",
    "            self.right = None   \n",
    "        \n",
    "        # TreeNode logical functionality----------------\n",
    "        def getValue(self): return self.value\n",
    "        def setValue(self, value): self.value = value \n",
    "        def hasLeftChild(self): return self.left != None\n",
    "        def getLeftChild(self): return self.left     \n",
    "        def setLeftChild(self, value): self.left = self.TreeNode(value)\n",
    "        def hasRightChild(self): return self.right != None\n",
    "        def getRightChild(self): return self.right     \n",
    "        def setRightChild(self, value): self.right = self.TreeNode(value)\n",
    "        \n",
    "        def TreeNode(self, value):\n",
    "            self.value = value\n",
    "            self.left = None\n",
    "            self.right = None\n",
    "\n",
    "#---End TreeNode Class--------------------------------------------------\n",
    "#--- BinarySearchTree logical functionality\n",
    "            \n",
    "    def setRoot(self, value): self.root = self.TreeNode(value)\n",
    "    def copyNode(self, node): return copy.copy(node)\n",
    "    def isEmpty(self): return self.root == None \n",
    "    def isSymmetric(self, root): return self.isMirror(root, root)\n",
    "    \n",
    "#--- Return the left most child TreeNode\n",
    "    def findLeftMost(self, root):\n",
    "        if root.hasLeftChild():\n",
    "            return self.findLeftMost(root.getLeftChild())\n",
    "        return root\n",
    "    \n",
    "#-- Return the right most child TreeNode\n",
    "    def findRightMost(self, root):\n",
    "        if root.hasRightChild():\n",
    "            return self.findRightMost(root.getRightChild())\n",
    "        return root\n",
    "    \n",
    "# Insert Values----------------------------------------\n",
    "#--- Iterative insert for random number array----------\n",
    "    def insert(self, values):\n",
    "        if self.isEmpty():\n",
    "            self.setRoot(values.pop(0))\n",
    "        for v in values:\n",
    "            self.insertTreeNodes(self.root, v)\n",
    "        return print('Data Loaded Successfully')\n",
    "\n",
    "#--- Smaller values to the left\n",
    "#--- Larger values to the right\n",
    "    def insertTreeNodes(self, curr_node, v):\n",
    "        new_node = self.TreeNode(v)\n",
    "        if v <= curr_node.value:\n",
    "            if curr_node.hasLeftChild():\n",
    "                self.insertTreeNodes(curr_node.left, v)\n",
    "            else:\n",
    "                curr_node.left = new_node\n",
    "        elif v > curr_node.value:\n",
    "            if curr_node.hasRightChild():\n",
    "                self.insertTreeNodes(curr_node.right, v)\n",
    "            else:\n",
    "                curr_node.right = new_node  \n",
    "                \n",
    "    def buildTree(self, preOrder, postOrder):\n",
    "        return\n",
    "                \n",
    "#--- Creates a mirrored SubTree based on a root\n",
    "    def mirror(self, root, type):\n",
    "        mirr_root = self.copyNode(root)\n",
    "        if type == 'random':\n",
    "            return self.insertMirror(root, mirr_root)\n",
    "        elif type == 'reflect':\n",
    "            return self.mirrorSubTree(mirr_root)\n",
    "        else: return 'Mirror type not valid'\n",
    "\n",
    "\n",
    "#--- Currently destroys the root already in place\n",
    "    def insertMirror(self, root, mirr_root):\n",
    "        if root:  # Needs Work\n",
    "            if mirr_root == None: return mirr_root\n",
    "\n",
    "            left = self.insertMirror(root.left, mirr_root.left)\n",
    "            mirr_root.right = left\n",
    "            \n",
    "            right = self.insertMirror(root.right, mirr_root.right)\n",
    "            mirr_root.left = right\n",
    "        \n",
    "        return mirr_root\n",
    "    \n",
    "        \n",
    "#--- Doesn't properly mirror after the second level\n",
    "    def mirrorSubTree(self, mirr_root):\n",
    "        if mirr_root: # Needs Work\n",
    "\n",
    "            left = self.mirrorSubTree(mirr_root.left)\n",
    "            right = self.mirrorSubTree(mirr_root.right)\n",
    "            \n",
    "            mirr_root.right = left\n",
    "            mirr_root.left = right\n",
    "        \n",
    "        return mirr_root\n",
    "        \n",
    "                \n",
    "# Remove Values----------------------------------------\n",
    "    #def remove(self):  #Coming soon\n",
    "        \n",
    "\n",
    "# Search Binary TreeNodes------------------------------\n",
    "# Practice Search Functions Inspired by LeetCode\n",
    "\n",
    "#--- Visit root, then left subtree, then right subtree\n",
    "    def preorderTraversal(self, root, order):\n",
    "        if root:\n",
    "            order.append(root.value)   \n",
    "            self.preorderTraversal(root.left, order) \n",
    "            self.preorderTraversal(root.right, order)\n",
    "        return order\n",
    "    \n",
    "#--- Visit left subtree, then root, then right subtree    \n",
    "    def inorderTraversal(self, root, order):\n",
    "        if root:\n",
    "            self.inorderTraversal(root.left, order)\n",
    "            order.append(root.value)   \n",
    "            self.inorderTraversal(root.right, order)\n",
    "        return order\n",
    "\n",
    "#--- Visit right subtree, then root, then left subtree\n",
    "    def revorderTraversal(self, root, order):\n",
    "        if root:\n",
    "            self.revorderTraversal(root.right, order)\n",
    "            order.append(root.value)   \n",
    "            self.revorderTraversal(root.left, order)\n",
    "        return order\n",
    "\n",
    "#--- Visit left subtree, then right subtree, then root\n",
    "    def postorderTraversal(self, root, order):\n",
    "        if root:\n",
    "            self.postorderTraversal(root.left, order)\n",
    "            self.postorderTraversal(root.right, order)\n",
    "            order.append(root.value)\n",
    "        return order \n",
    "\n",
    "#--- Visit level of SearchTree, then nodes left to right \n",
    "    def levelOrderTraversal(self, root, order):\n",
    "        if root:\n",
    "            self.levelOrder(root, 0, order)\n",
    "        return order\n",
    "    \n",
    "    def levelOrder(self, root, level, order):\n",
    "        if root:\n",
    "            if len(order) < level+1: \n",
    "                order.append([])\n",
    "            self.levelOrder(root.left, level+1, order)\n",
    "            order[level].append(root.value)\n",
    "            self.levelOrder(root.right, level+1, order)  \n",
    "            \n",
    "#--- Display BinarySearchTree Traversal Output\n",
    "    def showOrder(self, order):\n",
    "        for i in range(0, len(order)):\n",
    "            print('[{0}]: {1}'.format(i, order[i]))\n",
    "\n",
    "    \n",
    "# Depth and Measurement Functions--------------------------\n",
    "     \n",
    "#--- Return size of SearchTree starting from node    \n",
    "    def getSize(self, root):\n",
    "        if root is None: return 0\n",
    "        else:\n",
    "            return self.getSize(root.left) + 1 \\\n",
    "                 + self.getSize(root.right)\n",
    "    \n",
    "#--- Return number of levels in the SearchTree\n",
    "    def findDepth(self, root):\n",
    "        if not root:\n",
    "            return 0\n",
    "        left = self.findDepth(root.left)\n",
    "        right = self.findDepth(root.right)\n",
    "        return max(left, right) + 1\n",
    "    \n",
    "#--- Checks left/right subtrees for symmetry, returns boolean\n",
    "    def isMirror(self, root1, root2):\n",
    "        if root1 is None and root2 is None:\n",
    "            return True\n",
    "        if root1 is not None and root2 is not None:\n",
    "            if root1.value == root2.value:\n",
    "                return self.isMirror(root1.left, root2.right) \\\n",
    "                and self.isMirror(root1.right, root2.left)\n",
    "        return False\n",
    "\n",
    "#--- Calculates sum of each root-to-leaf path--------------\n",
    "    def pathSum(self, root1, root2, sum, sums):\n",
    "        if root1:\n",
    "            if self.pathSum(root1.left, root1.right, \n",
    "                            sum + root1.value, sums): \n",
    "                sums.append(sum)\n",
    "        if root2:\n",
    "            if self.pathSum(root2.left, root2.right, \n",
    "                            sum + root2.value, sums): \n",
    "                sums.append(sum)\n",
    "        return sums.append(sum)\n",
    "    \n",
    "#--- Checks for root-to-leaf paths = sum\n",
    "    def hasPathSum(self, root, sum):\n",
    "        sums = []\n",
    "        self.pathSum(root, root, 0, sums)\n",
    "        return sum in sums[0:-1] \n",
    "    \n",
    "#--- Returns array of summed root-to-leaf paths\n",
    "    def sumPath(self, root):\n",
    "        sums = []\n",
    "        self.pathSum(root, root, 0, sums)\n",
    "        return sums[0:-1]  \n",
    "    \n",
    "#--- Returns sum of all node values\n",
    "    def sumTree(self, root):\n",
    "        sums = []\n",
    "        self.pathSum(root, root, 0, sums)\n",
    "        return sum(sums[0:-1])   \n",
    "\n",
    "#--- Returns count of subtrees with nodes of same value\n",
    "    def countUnivalSubtrees(self, root):\n",
    "        count = [0]\n",
    "        self.countSubtrees(root, count)\n",
    "        return count[0]\n",
    "\n",
    "    def countSubtrees(self, root, count):\n",
    "        if root is None: return True\n",
    "        \n",
    "        left = self.countSubtrees(root.left, count)\n",
    "        right = self.countSubtrees(root.right, count)\n",
    "        \n",
    "        if not left or not right: return False\n",
    "        if root.left and (root.value != root.left.value):\n",
    "            return False\n",
    "        if root.right and (root.value != root.right.value):\n",
    "            return False\n",
    "        \n",
    "        count[0] += 1\n",
    "        return True\n",
    "    \n",
    "    def BinarySearchTree(self):\n",
    "        self.root = None   \n",
    "        \n",
    "#---End BinarySearchTree Class------------------------------------------------------------------------"
   ]
  },
  {
   "cell_type": "markdown",
   "metadata": {},
   "source": [
    "## Test Bed\n",
    "\n",
    "Here is an area to put the newly built data structures to the test"
   ]
  },
  {
   "cell_type": "code",
   "execution_count": 3,
   "metadata": {},
   "outputs": [
    {
     "name": "stdout",
     "output_type": "stream",
     "text": [
      "[806, 906, 960, 103, 744, 598, 820, 950, 756, 384]\n"
     ]
    }
   ],
   "source": [
    "# Random Data goes in Jumbled-----------------------------------\n",
    "arr = ((np.random.rand(20) * 1000).astype(dtype=int)).tolist()\n",
    "print(arr[:10])"
   ]
  },
  {
   "cell_type": "code",
   "execution_count": 4,
   "metadata": {},
   "outputs": [
    {
     "name": "stdout",
     "output_type": "stream",
     "text": [
      "Create new BinarySearchTree Object\n",
      "-------------------------------------------\n",
      "Add data to BinarySearchTree[]\n",
      "-------------------------------------------\n",
      "Data Loaded Successfully\n"
     ]
    }
   ],
   "source": [
    "print('Create new BinarySearchTree Object')\n",
    "line() \n",
    "bst = BinarySearchTree()\n",
    "\n",
    "print('Add data to BinarySearchTree[]')\n",
    "line()\n",
    "bst.insert(arr)"
   ]
  },
  {
   "cell_type": "code",
   "execution_count": 5,
   "metadata": {},
   "outputs": [
    {
     "name": "stdout",
     "output_type": "stream",
     "text": [
      "Root Value:  806\n",
      "Number Nodes:  20\n",
      "# Levels:  7\n",
      "Is Symmetric:  False\n",
      "Is Mirror:  False\n",
      "-------------------------------------------\n",
      "Unival SubTrees:  7\n"
     ]
    }
   ],
   "source": [
    "root = bst.root\n",
    "mirr_ref = bst.mirror(root, 'reflect')\n",
    "#mirr_rand = bst.mirror(root, 'random')\n",
    "\n",
    "print('Root Value: ', root.value)\n",
    "print('Number Nodes: ', bst.getSize(root))\n",
    "print('# Levels: ', bst.findDepth(root))\n",
    "print('Is Symmetric: ', bst.isSymmetric(root))\n",
    "print('Is Mirror: ', bst.isMirror(root, mirr_ref))\n",
    "line()\n",
    "print('Unival SubTrees: ', bst.countUnivalSubtrees(root))"
   ]
  },
  {
   "cell_type": "code",
   "execution_count": 6,
   "metadata": {},
   "outputs": [
    {
     "name": "stdout",
     "output_type": "stream",
     "text": [
      "806\n",
      "806\n"
     ]
    }
   ],
   "source": [
    "print(mirr_ref.value)\n",
    "print(root.value)"
   ]
  },
  {
   "cell_type": "code",
   "execution_count": 7,
   "metadata": {
    "scrolled": true
   },
   "outputs": [
    {
     "name": "stdout",
     "output_type": "stream",
     "text": [
      "806\n",
      "103\n",
      "906\n",
      "744\n",
      "40\n",
      "960\n",
      "820\n"
     ]
    }
   ],
   "source": [
    "print(root.value)\n",
    "print(root.left.value)\n",
    "print(root.right.value)\n",
    "print(root.left.left.value)\n",
    "print(root.left.right.value)\n",
    "print(root.right.left.value)\n",
    "print(root.right.right.value)"
   ]
  },
  {
   "cell_type": "code",
   "execution_count": 8,
   "metadata": {},
   "outputs": [
    {
     "name": "stdout",
     "output_type": "stream",
     "text": [
      "Tree Sum: 87628\n",
      "Path Sums: [2409, 3647, 3072, 3158, 2927, 2635, 2251, 1653, 1218, 1124]...\n",
      "Has Path Sum 2635: True\n",
      "Has Path Sum 666: False\n"
     ]
    }
   ],
   "source": [
    "sums = bst.sumPath(root)\n",
    "sum_tree = bst.sumTree(root)\n",
    "\n",
    "print('Tree Sum: {0}'.format(sum_tree))\n",
    "print('Path Sums: {0}...'.format(sums[:10]))\n",
    "print('Has Path Sum {0}: {1}'.format(sums[5],\n",
    "                                  bst.hasPathSum(root, sums[5])))\n",
    "print('Has Path Sum {0}: {1}'.format(666,\n",
    "                                  bst.hasPathSum(root, 666)))"
   ]
  },
  {
   "cell_type": "markdown",
   "metadata": {},
   "source": [
    "### Pre Order Traversal\n",
    "\n",
    "This means to begin traversal starting at the root node, then the left subtree, then the right subtree, moving to the left and over to the right."
   ]
  },
  {
   "cell_type": "code",
   "execution_count": 9,
   "metadata": {},
   "outputs": [
    {
     "name": "stdout",
     "output_type": "stream",
     "text": [
      "[0]: 806\n",
      "[1]: 103\n",
      "[2]: 744\n",
      "[3]: 756\n",
      "[4]: 598\n",
      "[5]: 384\n",
      "[6]: 437\n",
      "[7]: 575\n",
      "[8]: 292\n",
      "[9]: 231\n",
      "[10]: 40\n",
      "[11]: 78\n",
      "[12]: 97\n",
      "[13]: 94\n",
      "[14]: 9\n",
      "[15]: 906\n",
      "[16]: 960\n",
      "[17]: 950\n",
      "[18]: 911\n",
      "[19]: 820\n"
     ]
    }
   ],
   "source": [
    "pre_order = []\n",
    "pre_order = bst.preorderTraversal(root, pre_order)\n",
    "\n",
    "bst.showOrder(pre_order)"
   ]
  },
  {
   "cell_type": "markdown",
   "metadata": {},
   "source": [
    "### In Order Traversal\n",
    "\n",
    "In this case, you'd step through the left sub tree, through the root node, and then down through the right subtree. Out of all of the traversal methods, this is the one that returns the values numerically when they didn't go in with any kind of sorting aside from the left/right largest value weight on insert. It makes sense why they would come out in numerical order in this traversal method. We can make an inverted version of this function to count highest to lowest."
   ]
  },
  {
   "cell_type": "code",
   "execution_count": 10,
   "metadata": {},
   "outputs": [
    {
     "name": "stdout",
     "output_type": "stream",
     "text": [
      "[0]: 756\n",
      "[1]: 744\n",
      "[2]: 598\n",
      "[3]: 575\n",
      "[4]: 437\n",
      "[5]: 384\n",
      "[6]: 292\n",
      "[7]: 231\n",
      "[8]: 103\n",
      "[9]: 97\n",
      "[10]: 94\n",
      "[11]: 78\n",
      "[12]: 40\n",
      "[13]: 9\n",
      "[14]: 806\n",
      "[15]: 960\n",
      "[16]: 950\n",
      "[17]: 911\n",
      "[18]: 906\n",
      "[19]: 820\n"
     ]
    }
   ],
   "source": [
    "in_order = []\n",
    "in_order = bst.inorderTraversal(root, in_order)\n",
    "\n",
    "bst.showOrder(in_order)"
   ]
  },
  {
   "cell_type": "code",
   "execution_count": 11,
   "metadata": {},
   "outputs": [
    {
     "name": "stdout",
     "output_type": "stream",
     "text": [
      "[0]: 820\n",
      "[1]: 906\n",
      "[2]: 911\n",
      "[3]: 950\n",
      "[4]: 960\n",
      "[5]: 806\n",
      "[6]: 9\n",
      "[7]: 40\n",
      "[8]: 78\n",
      "[9]: 94\n",
      "[10]: 97\n",
      "[11]: 103\n",
      "[12]: 231\n",
      "[13]: 292\n",
      "[14]: 384\n",
      "[15]: 437\n",
      "[16]: 575\n",
      "[17]: 598\n",
      "[18]: 744\n",
      "[19]: 756\n"
     ]
    }
   ],
   "source": [
    "rev_order = []\n",
    "rev_order = bst.revorderTraversal(root, rev_order)\n",
    "\n",
    "bst.showOrder(rev_order)"
   ]
  },
  {
   "cell_type": "markdown",
   "metadata": {},
   "source": [
    "### Post-Order Traversal\n",
    "\n",
    "Traverse the left subtree, then the right subtree, ending at the root node"
   ]
  },
  {
   "cell_type": "code",
   "execution_count": 12,
   "metadata": {},
   "outputs": [
    {
     "name": "stdout",
     "output_type": "stream",
     "text": [
      "[0]: 756\n",
      "[1]: 575\n",
      "[2]: 437\n",
      "[3]: 231\n",
      "[4]: 292\n",
      "[5]: 384\n",
      "[6]: 598\n",
      "[7]: 744\n",
      "[8]: 94\n",
      "[9]: 97\n",
      "[10]: 78\n",
      "[11]: 9\n",
      "[12]: 40\n",
      "[13]: 103\n",
      "[14]: 911\n",
      "[15]: 950\n",
      "[16]: 960\n",
      "[17]: 820\n",
      "[18]: 906\n",
      "[19]: 806\n"
     ]
    }
   ],
   "source": [
    "post_order = []\n",
    "post_order = bst.postorderTraversal(root, post_order)\n",
    "\n",
    "bst.showOrder(post_order)"
   ]
  },
  {
   "cell_type": "markdown",
   "metadata": {
    "collapsed": true
   },
   "source": [
    "### Breadth-First Search\n",
    "\n",
    "This algorithm is a means of searching over a binary tree level by level, as if reading it like a book. This is generally implemented with queues. Nodes would appear in this output in the order in which they were added to the BinaryTree.\n"
   ]
  },
  {
   "cell_type": "code",
   "execution_count": 13,
   "metadata": {},
   "outputs": [
    {
     "name": "stdout",
     "output_type": "stream",
     "text": [
      "[0]: [806]\n",
      "[1]: [103, 906]\n",
      "[2]: [744, 40, 960, 820]\n",
      "[3]: [756, 598, 78, 9, 950]\n",
      "[4]: [384, 97, 911]\n",
      "[5]: [437, 292, 94]\n",
      "[6]: [575, 231]\n"
     ]
    }
   ],
   "source": [
    "level_order = []\n",
    "level_order = bst.levelOrderTraversal(root, level_order)\n",
    "\n",
    "bst.showOrder(level_order)"
   ]
  },
  {
   "cell_type": "code",
   "execution_count": 14,
   "metadata": {},
   "outputs": [
    {
     "name": "stdout",
     "output_type": "stream",
     "text": [
      "[0]: [806]\n",
      "[1]: [906, 103]\n",
      "[2]: [960, 820, 744, 40]\n",
      "[3]: [950, 756, 598, 78, 9]\n",
      "[4]: [911, 384, 97]\n",
      "[5]: [437, 292, 94]\n",
      "[6]: [575, 231]\n"
     ]
    }
   ],
   "source": [
    "level_order_mirr = []\n",
    "level_order_mirr = bst.levelOrderTraversal(mirr_ref, level_order_mirr)\n",
    "\n",
    "bst.showOrder(level_order_mirr)"
   ]
  },
  {
   "cell_type": "code",
   "execution_count": null,
   "metadata": {
    "collapsed": true
   },
   "outputs": [],
   "source": []
  },
  {
   "cell_type": "code",
   "execution_count": null,
   "metadata": {
    "collapsed": true
   },
   "outputs": [],
   "source": []
  },
  {
   "cell_type": "code",
   "execution_count": null,
   "metadata": {
    "collapsed": true
   },
   "outputs": [],
   "source": []
  },
  {
   "cell_type": "code",
   "execution_count": null,
   "metadata": {
    "collapsed": true
   },
   "outputs": [],
   "source": []
  }
 ],
 "metadata": {
  "kernelspec": {
   "display_name": "Python 3",
   "language": "python",
   "name": "python3"
  },
  "language_info": {
   "codemirror_mode": {
    "name": "ipython",
    "version": 3
   },
   "file_extension": ".py",
   "mimetype": "text/x-python",
   "name": "python",
   "nbconvert_exporter": "python",
   "pygments_lexer": "ipython3",
   "version": "3.6.1"
  }
 },
 "nbformat": 4,
 "nbformat_minor": 2
}
