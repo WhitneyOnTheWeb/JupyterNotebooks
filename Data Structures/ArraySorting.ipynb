{
 "cells": [
  {
   "cell_type": "markdown",
   "metadata": {},
   "source": [
    "# Arrays and Sorting\n",
    "\n",
    "**Author:** Whitney King \n",
    "<br>*Based on examples from <a href='https://leetcode.com'>Leetcode</a> and <a href='https://www.geeksforgeeks.org'>GeeksForGeeks</a>*\n",
    "\n",
    " -  Arrays are the most basic data structure\n",
    " -  Indexed container for a fixed number of elements of the same type\n",
    "\n",
    "## Time and Space Complexity\n",
    "<img src='https://github.com/WhitneyOnTheWeb/JupyterNotebooks/blob/master/Data%20Structures/ArrayOperations.PNG?raw=true' width='53%'/>\n",
    "\n",
    "## Sorting Algorithms"
   ]
  },
  {
   "cell_type": "code",
   "execution_count": 59,
   "metadata": {
    "collapsed": true
   },
   "outputs": [],
   "source": [
    "import numpy as np\n",
    "import timeit as t\n",
    "\n",
    "def line():\n",
    "        print('---------------------------------------------------------------------------------')"
   ]
  },
  {
   "cell_type": "markdown",
   "metadata": {},
   "source": [
    "### Quick Sort\n",
    "\n",
    "Type of divide-and-conquer algorithm. Picks an element as a pivot point, then recursively divides the array from there. Quick Sort algorithms can choose the pivot in many ways, depending on the application needed:\n",
    "\n",
    "- First element\n",
    "- Last element\n",
    "- Random element\n",
    "- Median\n",
    "\n",
    "#### Time Complexity\n",
    "- Best/Average Time Complexity is $O({n}\\log{n})$"
   ]
  },
  {
   "cell_type": "code",
   "execution_count": 80,
   "metadata": {
    "collapsed": true
   },
   "outputs": [],
   "source": [
    "#--- QuickSort---------------------------------------------\n",
    "#------- Recursively divides an array based on first/last\n",
    "#------- index values, and sorts the partitions\n",
    "def quickSort(arr, fst, lst):\n",
    "    if fst < lst:\n",
    "        div_idx = divide(arr, fst, lst) # Divide arr\n",
    "        print('div_idx[{0}]:\\t {1}'.format(div_idx, arr))\n",
    "        quickSort(arr, fst, div_idx-1)  # Sort < div_idx\n",
    "        quickSort(arr, div_idx+1, lst)  # Sort > div_idx\n",
    "    return arr\n",
    "\n",
    "def divide(arr, fst, lst):\n",
    "    div = arr[lst]  # Divide from last element            \n",
    "    i = fst-1       # Index of first element\n",
    "            \n",
    "    # If current element <= div\n",
    "    for j in range(fst, lst):\n",
    "        if arr[j] <= div:\n",
    "            i +=1 # Increment current index\n",
    "            arr[i], arr[j] = arr[j], arr[i] # Swap values\n",
    "                    \n",
    "    arr[i+1], arr[lst] = arr[lst], arr[i+1]\n",
    "    return (i+1) # Swap values, increment current index"
   ]
  },
  {
   "cell_type": "code",
   "execution_count": 81,
   "metadata": {},
   "outputs": [
    {
     "name": "stdout",
     "output_type": "stream",
     "text": [
      "Unsorted:\t [21, 20, 34, 45, 27, 11, 18, 45, 34, 27, 11, 47, 28, 30, 22, 38]\n",
      "---------------------------------------------------------------------------------\n",
      "div_idx[12]:\t [21, 20, 34, 27, 11, 18, 34, 27, 11, 28, 30, 22, 38, 45, 47, 45]\n",
      "div_idx[5]:\t [21, 20, 11, 18, 11, 22, 34, 27, 34, 28, 30, 27, 38, 45, 47, 45]\n",
      "div_idx[1]:\t [11, 11, 21, 18, 20, 22, 34, 27, 34, 28, 30, 27, 38, 45, 47, 45]\n",
      "div_idx[3]:\t [11, 11, 18, 20, 21, 22, 34, 27, 34, 28, 30, 27, 38, 45, 47, 45]\n",
      "div_idx[7]:\t [11, 11, 18, 20, 21, 22, 27, 27, 34, 28, 30, 34, 38, 45, 47, 45]\n",
      "div_idx[11]:\t [11, 11, 18, 20, 21, 22, 27, 27, 34, 28, 30, 34, 38, 45, 47, 45]\n",
      "div_idx[9]:\t [11, 11, 18, 20, 21, 22, 27, 27, 28, 30, 34, 34, 38, 45, 47, 45]\n",
      "div_idx[14]:\t [11, 11, 18, 20, 21, 22, 27, 27, 28, 30, 34, 34, 38, 45, 45, 47]\n",
      "---------------------------------------------------------------------------------\n",
      "Sorted:\t\t [11, 11, 18, 20, 21, 22, 27, 27, 28, 30, 34, 34, 38, 45, 45, 47]\n",
      "Runtime: 0.374ms\n"
     ]
    }
   ],
   "source": [
    "#--- QuickSort Testing-----------------------------------------\n",
    "arr = (np.random.randint(0, 50, 16).astype(dtype=int)).tolist()\n",
    "first = 0\n",
    "last = len(arr)-1\n",
    "\n",
    "print('Unsorted:\\t', arr)\n",
    "line()\n",
    "start = t.default_timer()\n",
    "# Begin Sort\n",
    "sort_arr = quickSort(arr, first, last)\n",
    "stop = t.default_timer()\n",
    "runtime = (stop-start) * 1000\n",
    "line()\n",
    "print('Sorted:\\t\\t {0}\\nRuntime: {1:.3f}ms'.format(sort_arr, runtime))"
   ]
  },
  {
   "cell_type": "markdown",
   "metadata": {},
   "source": [
    "### Merge Sort\n",
    "\n",
    "Another type of recursive divide-and-conquer algorithm. This algorithm:\n",
    "\n",
    "- Divides an array into two halves\n",
    "- Sorts the halves separately\n",
    "- Then merges them back together\n",
    "\n",
    "The merge functionality hinges on assuming both halves of the array are properly sorted when being put back together. \n",
    "\n",
    "- Array is recursively divided into two halves until the size is 1\n",
    " - After size is 1, merge process begins in sorted order\n",
    "- Best/Average Time Complexity is $O({n}\\log{n})$"
   ]
  },
  {
   "cell_type": "code",
   "execution_count": 255,
   "metadata": {},
   "outputs": [],
   "source": [
    "#--- MergeSort---------------------------------------------\n",
    "#------- Recursively divides an array based on its middle,\n",
    "#------- until it gets to size one, then sorts them and\n",
    "#------- merges them back together\n",
    "\n",
    "def mergeSort(arr, fst, lst):\n",
    "    # Left Index < Right Index\n",
    "    if fst < lst:\n",
    "        # Avoids overflow if array is large\n",
    "        mid = (fst+(lst-1))//2     # Divide\n",
    "        \n",
    "        # Comment out the below print statement to improve runtime\n",
    "        is_merge = fst == mid\n",
    "        print('Merge: {4}\\t {3}\\tfst[{1}]\\tmid[{0}]\\tlst[{2}]'\\\n",
    "              .format(mid, fst, lst, arr, is_merge))\n",
    "        \n",
    "        mergeSort(arr, fst, mid)   # Sorts left\n",
    "        mergeSort(arr, mid+1, lst) # Sorts right\n",
    "        merge(arr, fst, mid, lst)  # Merge halves\n",
    "    return arr\n",
    "    \n",
    "    \n",
    "def merge(arr, fst, mid, lst):\n",
    "    # Length of each sub array\n",
    "    l1 = mid - fst + 1\n",
    "    l2 = lst - mid\n",
    "    # Create temp arrays\n",
    "    FST = np.zeros(l1).astype(dtype=int).tolist()\n",
    "    LST = np.zeros(l2).astype(dtype=int).tolist()\n",
    "    \n",
    "    # Copy subarrays to temp arrays\n",
    "    for i in range(0, l1):\n",
    "        FST[i] = arr[fst+i]\n",
    "    for j in range(0, l2):\n",
    "        LST[j] = arr[mid+1+j]\n",
    "    \n",
    "    i = 0   # Index of FST temp array\n",
    "    j = 0   # Index of LST temp array\n",
    "    k = fst # Index of sorted/merged arr\n",
    "    \n",
    "    # Merge temp arrays back into arr[fst...lst]\n",
    "    while i < l1 and j < l2:\n",
    "        if FST[i] <= LST[j]:\n",
    "            arr[k] = FST[i]\n",
    "            i +=1\n",
    "        else:\n",
    "            arr[k] = LST[j]\n",
    "            j +=1\n",
    "        k +=1\n",
    "        \n",
    "    # Get any unsorted elements left in FST[]\n",
    "    while i < l1:\n",
    "        arr[k] = FST[i]\n",
    "        i +=1\n",
    "        k +=1\n",
    "    # Get any unsorted elements left in LST[]\n",
    "    while j < l2:\n",
    "        arr[k] = LST[j]\n",
    "        j +=1\n",
    "        k +=1"
   ]
  },
  {
   "cell_type": "code",
   "execution_count": 256,
   "metadata": {
    "scrolled": true
   },
   "outputs": [
    {
     "name": "stdout",
     "output_type": "stream",
     "text": [
      "Unsorted:\t [44, 38, 46, 41, 45, 31, 46, 47, 15, 7, 39, 20, 47, 21, 15, 35]\n",
      "---------------------------------------------------------------------------------\n",
      "Merge: False\t [44, 38, 46, 41, 45, 31, 46, 47, 15, 7, 39, 20, 47, 21, 15, 35]\tfst[0]\tmid[7]\tlst[15]\n",
      "Merge: False\t [44, 38, 46, 41, 45, 31, 46, 47, 15, 7, 39, 20, 47, 21, 15, 35]\tfst[0]\tmid[3]\tlst[7]\n",
      "Merge: False\t [44, 38, 46, 41, 45, 31, 46, 47, 15, 7, 39, 20, 47, 21, 15, 35]\tfst[0]\tmid[1]\tlst[3]\n",
      "Merge: True\t [44, 38, 46, 41, 45, 31, 46, 47, 15, 7, 39, 20, 47, 21, 15, 35]\tfst[0]\tmid[0]\tlst[1]\n",
      "Merge: True\t [38, 44, 46, 41, 45, 31, 46, 47, 15, 7, 39, 20, 47, 21, 15, 35]\tfst[2]\tmid[2]\tlst[3]\n",
      "Merge: False\t [38, 41, 44, 46, 45, 31, 46, 47, 15, 7, 39, 20, 47, 21, 15, 35]\tfst[4]\tmid[5]\tlst[7]\n",
      "Merge: True\t [38, 41, 44, 46, 45, 31, 46, 47, 15, 7, 39, 20, 47, 21, 15, 35]\tfst[4]\tmid[4]\tlst[5]\n",
      "Merge: True\t [38, 41, 44, 46, 31, 45, 46, 47, 15, 7, 39, 20, 47, 21, 15, 35]\tfst[6]\tmid[6]\tlst[7]\n",
      "Merge: False\t [31, 38, 41, 44, 45, 46, 46, 47, 15, 7, 39, 20, 47, 21, 15, 35]\tfst[8]\tmid[11]\tlst[15]\n",
      "Merge: False\t [31, 38, 41, 44, 45, 46, 46, 47, 15, 7, 39, 20, 47, 21, 15, 35]\tfst[8]\tmid[9]\tlst[11]\n",
      "Merge: True\t [31, 38, 41, 44, 45, 46, 46, 47, 15, 7, 39, 20, 47, 21, 15, 35]\tfst[8]\tmid[8]\tlst[9]\n",
      "Merge: True\t [31, 38, 41, 44, 45, 46, 46, 47, 7, 15, 39, 20, 47, 21, 15, 35]\tfst[10]\tmid[10]\tlst[11]\n",
      "Merge: False\t [31, 38, 41, 44, 45, 46, 46, 47, 7, 15, 20, 39, 47, 21, 15, 35]\tfst[12]\tmid[13]\tlst[15]\n",
      "Merge: True\t [31, 38, 41, 44, 45, 46, 46, 47, 7, 15, 20, 39, 47, 21, 15, 35]\tfst[12]\tmid[12]\tlst[13]\n",
      "Merge: True\t [31, 38, 41, 44, 45, 46, 46, 47, 7, 15, 20, 39, 21, 47, 15, 35]\tfst[14]\tmid[14]\tlst[15]\n",
      "---------------------------------------------------------------------------------\n",
      "Sorted:\t\t [7, 15, 15, 20, 21, 31, 35, 38, 39, 41, 44, 45, 46, 46, 47, 47]\n",
      "Runtime: 0.690ms\n"
     ]
    }
   ],
   "source": [
    "#--- MergeSort Testing-----------------------------------------\n",
    "arr = (np.random.randint(0, 50, 16).astype(dtype=int)).tolist()\n",
    "fst = 0\n",
    "lst = len(arr)-1\n",
    "\n",
    "print('Unsorted:\\t', arr)\n",
    "line()\n",
    "start = t.default_timer()\n",
    "# Begin Sort\n",
    "sort_arr = mergeSort(arr, fst,lst)\n",
    "stop = t.default_timer()\n",
    "runtime = (stop-start) * 1000\n",
    "line()\n",
    "print('Sorted:\\t\\t {0}\\nRuntime: {1:.3f}ms'.format(sort_arr, runtime))"
   ]
  },
  {
   "cell_type": "markdown",
   "metadata": {},
   "source": [
    "### Radix Sort\n",
    "\n",
    "Radix Sort is the lower bound for comparison based sorting algorithms. To understand Radix Sorts, first, we must understand Count Sort. \n",
    "\n",
    "Count Sort is a technique that uses keys between a specified range. It counts the number of elements with unique key values, then modifies the count array so that each index stores the sum of the previous counts. This modified array indicates the position of each object in the output sequence.\n",
    "\n",
    "1. Take a count array to store the count of each unique object\n",
    "2. Modify the count array such that each element at each index stores the sum of previous counts\n",
    "3. Output each object from the input sequence followed by decreasing its count by 1.\n",
    "\n",
    "**Radix Sort** builds on general count sorts, which are not sufficient for arrays with elements in range 1 to $n^{2}$, because that causes time complexity to become $O(n^{2})$. To sort that kind of array in linear time, radix sort is an optimal solution. Radix sort works digit by digit, starting from least significant to most significant, then uses counting sort as a subroutine to sort from there.\n",
    "\n",
    "Since radix sort has a fixed number of integers to search through, it has a time complexity of $O(n)$."
   ]
  },
  {
   "cell_type": "code",
   "execution_count": 122,
   "metadata": {
    "collapsed": true
   },
   "outputs": [],
   "source": [
    "#--- RadixSort---------------------------------------------\n",
    "#------- Conducts countSort for every significant digit\n",
    "#------- Instead of passing the digit on subsequent sorts,\n",
    "#------- an expression is passed (exp) = 10^i, i = digit\n",
    "def radixSort(arr):\n",
    "    # Calculate maximum sig fig\n",
    "    most = max(arr)\n",
    "    exp = 1\n",
    "    \n",
    "    # Conduct sort\n",
    "    while most // exp > 0:\n",
    "        countSort(arr, exp)\n",
    "        print('exp[{0}]: \\t {1}'.format(exp, arr))\n",
    "        exp *=10 # Multiply expression\n",
    "    return arr\n",
    "\n",
    "#--- CountSort---------------------------------------------\n",
    "#------- Sorts arr based on digit given in exp\n",
    "def countSort(arr, exp):\n",
    "    n = len(arr)\n",
    "    \n",
    "    # Initialize out[] for sorted array\n",
    "    out = np.zeros(n)\\\n",
    "         .astype(dtype=int).tolist()\n",
    "    # Initialize count[] for counting\n",
    "    count = np.zeros(10)\\\n",
    "           .astype(dtype=int).tolist()\n",
    "    \n",
    "    # Store exp occurances in count[]\n",
    "    for i in range(0, n):\n",
    "        idx = arr[i] // exp\n",
    "        count[idx%10] +=1\n",
    "        \n",
    "    # Update count[i], so it contains position\n",
    "    # of ith digit in output array\n",
    "    for i in range(1, 10):\n",
    "        count[i] += count[i-1]\n",
    "        \n",
    "    # Replace arr with sorted arr\n",
    "    i = n-1\n",
    "    while i >= 0:\n",
    "        idx = arr[i] // exp\n",
    "        out[count[idx%10]-1] = arr[i]\n",
    "        count[idx%10] -=1\n",
    "        i -=1\n",
    "        \n",
    "    # Copy sorted out to arr\n",
    "    for i in range(0, n):\n",
    "        arr[i] = out[i]\n",
    "    return arr"
   ]
  },
  {
   "cell_type": "code",
   "execution_count": 123,
   "metadata": {},
   "outputs": [
    {
     "name": "stdout",
     "output_type": "stream",
     "text": [
      "Unsorted:\t [7924, 95600, 85464, 72382, 64345, 20853, 10301, 61450, 3914]\n",
      "---------------------------------------------------------------------------------\n",
      "exp[1]: \t [95600, 61450, 10301, 72382, 20853, 7924, 85464, 3914, 64345]\n",
      "exp[10]: \t [95600, 10301, 3914, 7924, 64345, 61450, 20853, 85464, 72382]\n",
      "exp[100]: \t [10301, 64345, 72382, 61450, 85464, 95600, 20853, 3914, 7924]\n",
      "exp[1000]: \t [10301, 20853, 61450, 72382, 3914, 64345, 85464, 95600, 7924]\n",
      "exp[10000]: \t [3914, 7924, 10301, 20853, 61450, 64345, 72382, 85464, 95600]\n",
      "---------------------------------------------------------------------------------\n",
      "Sorted:\t\t [3914, 7924, 10301, 20853, 61450, 64345, 72382, 85464, 95600]\n",
      "Runtime: 0.251ms\n"
     ]
    }
   ],
   "source": [
    "#--- RadixSort Testing-------------------------------------------------\n",
    "arr = (np.random.randint(0, 100000, 9).astype(dtype=int)).tolist()\n",
    "\n",
    "print('Unsorted:\\t', arr)\n",
    "line()\n",
    "start = t.default_timer()\n",
    "# Begin Sort\n",
    "sort_arr = radixSort(arr)\n",
    "stop = t.default_timer()\n",
    "runtime = (stop-start) * 1000\n",
    "line()\n",
    "print('Sorted:\\t\\t {0}\\nRuntime: {1:.3f}ms'.format(sort_arr, runtime))"
   ]
  },
  {
   "cell_type": "markdown",
   "metadata": {},
   "source": [
    "### Insertion Sort\n",
    "\n",
    "Insertion sort works similarly to sorting playing card. You pull one element out of the incorrect order, and place it back into the array in the spot where it goes, then repeat for each element that is out of order until the whole array is sorted. Depending on implementation, it has a best case complexity of $O(n)$, however it's generally implemented recursively, giving it a less desireable time complexity of $O(n^{2})$"
   ]
  },
  {
   "cell_type": "code",
   "execution_count": 190,
   "metadata": {
    "collapsed": true
   },
   "outputs": [],
   "source": [
    "#--- InsertionSort---------------------------------------------\n",
    "#------- Checks values against a key each other to move larger\n",
    "#------- values up and smaller values down in the array\n",
    "#------- Includes both iterative and recursive examples\n",
    "\n",
    "def insertionSort(arr):\n",
    "    # Traverse from first to last element\n",
    "    for i in range(1, len(arr)):\n",
    "        checksum = arr[i]\n",
    "        \n",
    "        # Move (arr[0:i-1] > checksum) up one spot\n",
    "        j = i-1\n",
    "        while j >= 0 and checksum < arr[j]:\n",
    "            arr[j+1] = arr[j]\n",
    "            j -=1\n",
    "        arr[j+1] = checksum\n",
    "        print('\\t\\t {0}'.format(arr))\n",
    "    return arr\n",
    "\n",
    "def insertionSortRec(arr, n):\n",
    "    # Set a base case to return when array hits limit\n",
    "    if n <= 1:\n",
    "        return arr\n",
    "    \n",
    "    # Sort n-1 elements\n",
    "    insertionSortRec(arr, n-1)\n",
    "    # Insert last element into its correct position\n",
    "    last = arr[n-1]\n",
    "    j = n-2\n",
    "    \n",
    "    # Move (arr[0:i-1] > last) up one spot\n",
    "    while j >= 0 and arr[j] > last:\n",
    "        arr[j+1] = arr[j]\n",
    "        j -=1\n",
    "    arr[j+1] = last\n",
    "    print('\\t\\t {0}'.format(arr))\n",
    "    return arr"
   ]
  },
  {
   "cell_type": "code",
   "execution_count": 191,
   "metadata": {},
   "outputs": [
    {
     "name": "stdout",
     "output_type": "stream",
     "text": [
      "Unsorted:\t [38, 29, 18, 9, 31, 1, 33, 13, 36, 48, 25, 18, 39, 9, 5, 38]\n",
      "---------------------------------------------------------------------------------\n",
      "\t\t [29, 38, 18, 9, 31, 1, 33, 13, 36, 48, 25, 18, 39, 9, 5, 38]\n",
      "\t\t [18, 29, 38, 9, 31, 1, 33, 13, 36, 48, 25, 18, 39, 9, 5, 38]\n",
      "\t\t [9, 18, 29, 38, 31, 1, 33, 13, 36, 48, 25, 18, 39, 9, 5, 38]\n",
      "\t\t [9, 18, 29, 31, 38, 1, 33, 13, 36, 48, 25, 18, 39, 9, 5, 38]\n",
      "\t\t [1, 9, 18, 29, 31, 38, 33, 13, 36, 48, 25, 18, 39, 9, 5, 38]\n",
      "\t\t [1, 9, 18, 29, 31, 33, 38, 13, 36, 48, 25, 18, 39, 9, 5, 38]\n",
      "\t\t [1, 9, 13, 18, 29, 31, 33, 38, 36, 48, 25, 18, 39, 9, 5, 38]\n",
      "\t\t [1, 9, 13, 18, 29, 31, 33, 36, 38, 48, 25, 18, 39, 9, 5, 38]\n",
      "\t\t [1, 9, 13, 18, 29, 31, 33, 36, 38, 48, 25, 18, 39, 9, 5, 38]\n",
      "\t\t [1, 9, 13, 18, 25, 29, 31, 33, 36, 38, 48, 18, 39, 9, 5, 38]\n",
      "\t\t [1, 9, 13, 18, 18, 25, 29, 31, 33, 36, 38, 48, 39, 9, 5, 38]\n",
      "\t\t [1, 9, 13, 18, 18, 25, 29, 31, 33, 36, 38, 39, 48, 9, 5, 38]\n",
      "\t\t [1, 9, 9, 13, 18, 18, 25, 29, 31, 33, 36, 38, 39, 48, 5, 38]\n",
      "\t\t [1, 5, 9, 9, 13, 18, 18, 25, 29, 31, 33, 36, 38, 39, 48, 38]\n",
      "\t\t [1, 5, 9, 9, 13, 18, 18, 25, 29, 31, 33, 36, 38, 38, 39, 48]\n",
      "---------------------------------------------------------------------------------\n",
      "Sorted:\t\t [1, 5, 9, 9, 13, 18, 18, 25, 29, 31, 33, 36, 38, 38, 39, 48]\n",
      "Runtime: 0.697ms\n"
     ]
    }
   ],
   "source": [
    "#--- InsertionSort Testing-------------------------------------------------\n",
    "arr = (np.random.randint(0, 50, 16).astype(dtype=int)).tolist()\n",
    "\n",
    "print('Unsorted:\\t', arr)\n",
    "line()\n",
    "start = t.default_timer()\n",
    "# Begin Sort\n",
    "sort_arr = insertionSort(arr)\n",
    "stop = t.default_timer()\n",
    "runtime = (stop-start) * 1000\n",
    "line()\n",
    "print('Sorted:\\t\\t {0}\\nRuntime: {1:.3f}ms'.format(sort_arr, runtime))"
   ]
  },
  {
   "cell_type": "code",
   "execution_count": 192,
   "metadata": {},
   "outputs": [
    {
     "name": "stdout",
     "output_type": "stream",
     "text": [
      "Unsorted:\t [34, 12, 47, 23, 16, 38, 37, 31, 10, 10, 44, 36, 30, 25, 2, 7]\n",
      "---------------------------------------------------------------------------------\n",
      "\t\t [12, 34, 47, 23, 16, 38, 37, 31, 10, 10, 44, 36, 30, 25, 2, 7]\n",
      "\t\t [12, 34, 47, 23, 16, 38, 37, 31, 10, 10, 44, 36, 30, 25, 2, 7]\n",
      "\t\t [12, 23, 34, 47, 16, 38, 37, 31, 10, 10, 44, 36, 30, 25, 2, 7]\n",
      "\t\t [12, 16, 23, 34, 47, 38, 37, 31, 10, 10, 44, 36, 30, 25, 2, 7]\n",
      "\t\t [12, 16, 23, 34, 38, 47, 37, 31, 10, 10, 44, 36, 30, 25, 2, 7]\n",
      "\t\t [12, 16, 23, 34, 37, 38, 47, 31, 10, 10, 44, 36, 30, 25, 2, 7]\n",
      "\t\t [12, 16, 23, 31, 34, 37, 38, 47, 10, 10, 44, 36, 30, 25, 2, 7]\n",
      "\t\t [10, 12, 16, 23, 31, 34, 37, 38, 47, 10, 44, 36, 30, 25, 2, 7]\n",
      "\t\t [10, 10, 12, 16, 23, 31, 34, 37, 38, 47, 44, 36, 30, 25, 2, 7]\n",
      "\t\t [10, 10, 12, 16, 23, 31, 34, 37, 38, 44, 47, 36, 30, 25, 2, 7]\n",
      "\t\t [10, 10, 12, 16, 23, 31, 34, 36, 37, 38, 44, 47, 30, 25, 2, 7]\n",
      "\t\t [10, 10, 12, 16, 23, 30, 31, 34, 36, 37, 38, 44, 47, 25, 2, 7]\n",
      "\t\t [10, 10, 12, 16, 23, 25, 30, 31, 34, 36, 37, 38, 44, 47, 2, 7]\n",
      "\t\t [2, 10, 10, 12, 16, 23, 25, 30, 31, 34, 36, 37, 38, 44, 47, 7]\n",
      "\t\t [2, 7, 10, 10, 12, 16, 23, 25, 30, 31, 34, 36, 37, 38, 44, 47]\n",
      "---------------------------------------------------------------------------------\n",
      "Sorted:\t\t [2, 7, 10, 10, 12, 16, 23, 25, 30, 31, 34, 36, 37, 38, 44, 47]\n",
      "Runtime: 0.345ms\n"
     ]
    }
   ],
   "source": [
    "#--- InsertionSortRecursive Testing-------------------------------------------------\n",
    "arr = (np.random.randint(0, 50, 16).astype(dtype=int)).tolist()\n",
    "n = len(arr)\n",
    "\n",
    "print('Unsorted:\\t', arr)\n",
    "line()\n",
    "start = t.default_timer()\n",
    "# Begin Sort\n",
    "sort_arr = insertionSortRec(arr, n)\n",
    "stop = t.default_timer()\n",
    "runtime = (stop-start) * 1000\n",
    "line()\n",
    "print('Sorted:\\t\\t {0}\\nRuntime: {1:.3f}ms'.format(sort_arr, runtime))"
   ]
  },
  {
   "cell_type": "markdown",
   "metadata": {},
   "source": [
    "### Selection Sort\n",
    "\n",
    "The Selection Sort algorithm works by repeatedly finding the minimum or maximum element from an unsorted partition, and then putting it at the beginning. It uses two subarrays to sort a given array. In each iteration, the minimum element is picked from the unsorted subarray and moved into the sorted subarray.\n",
    "\n",
    "Selection Sort has a best and wort cast time complexity of time complexity of $O(n^{2})$"
   ]
  },
  {
   "cell_type": "code",
   "execution_count": 210,
   "metadata": {
    "collapsed": true
   },
   "outputs": [],
   "source": [
    "#--- SelectionSort---------------------------------------------\n",
    "#------- Repeatedly finds the minimum values in an unsorted\n",
    "#------- subarray, and moves them into a sorted subarray\n",
    "def selectionSort(arr):\n",
    "    n = len(arr)\n",
    "    for i in range(0, n):\n",
    "        div_idx = i\n",
    "        # Locate the min value in subarray\n",
    "        for j in range(i+1, n):\n",
    "            if arr[div_idx] > arr[j]:\n",
    "                div_idx = j\n",
    "                \n",
    "        # Swap min element with first element\n",
    "        arr[i], arr[div_idx] = arr[div_idx], arr[i]\n",
    "        print('div_idx[{0}]:\\t {1}'.format(div_idx, arr))\n",
    "    return arr"
   ]
  },
  {
   "cell_type": "code",
   "execution_count": 212,
   "metadata": {},
   "outputs": [
    {
     "name": "stdout",
     "output_type": "stream",
     "text": [
      "Unsorted:\t [3, 14, 44, 46, 4, 0, 14, 32, 42, 23, 41, 30, 33, 2, 42, 26]\n",
      "---------------------------------------------------------------------------------\n",
      "div_idx[5]:\t [0, 14, 44, 46, 4, 3, 14, 32, 42, 23, 41, 30, 33, 2, 42, 26]\n",
      "div_idx[13]:\t [0, 2, 44, 46, 4, 3, 14, 32, 42, 23, 41, 30, 33, 14, 42, 26]\n",
      "div_idx[5]:\t [0, 2, 3, 46, 4, 44, 14, 32, 42, 23, 41, 30, 33, 14, 42, 26]\n",
      "div_idx[4]:\t [0, 2, 3, 4, 46, 44, 14, 32, 42, 23, 41, 30, 33, 14, 42, 26]\n",
      "div_idx[6]:\t [0, 2, 3, 4, 14, 44, 46, 32, 42, 23, 41, 30, 33, 14, 42, 26]\n",
      "div_idx[13]:\t [0, 2, 3, 4, 14, 14, 46, 32, 42, 23, 41, 30, 33, 44, 42, 26]\n",
      "div_idx[9]:\t [0, 2, 3, 4, 14, 14, 23, 32, 42, 46, 41, 30, 33, 44, 42, 26]\n",
      "div_idx[15]:\t [0, 2, 3, 4, 14, 14, 23, 26, 42, 46, 41, 30, 33, 44, 42, 32]\n",
      "div_idx[11]:\t [0, 2, 3, 4, 14, 14, 23, 26, 30, 46, 41, 42, 33, 44, 42, 32]\n",
      "div_idx[15]:\t [0, 2, 3, 4, 14, 14, 23, 26, 30, 32, 41, 42, 33, 44, 42, 46]\n",
      "div_idx[12]:\t [0, 2, 3, 4, 14, 14, 23, 26, 30, 32, 33, 42, 41, 44, 42, 46]\n",
      "div_idx[12]:\t [0, 2, 3, 4, 14, 14, 23, 26, 30, 32, 33, 41, 42, 44, 42, 46]\n",
      "div_idx[12]:\t [0, 2, 3, 4, 14, 14, 23, 26, 30, 32, 33, 41, 42, 44, 42, 46]\n",
      "div_idx[14]:\t [0, 2, 3, 4, 14, 14, 23, 26, 30, 32, 33, 41, 42, 42, 44, 46]\n",
      "div_idx[14]:\t [0, 2, 3, 4, 14, 14, 23, 26, 30, 32, 33, 41, 42, 42, 44, 46]\n",
      "div_idx[15]:\t [0, 2, 3, 4, 14, 14, 23, 26, 30, 32, 33, 41, 42, 42, 44, 46]\n",
      "---------------------------------------------------------------------------------\n",
      "Sorted:\t\t [0, 2, 3, 4, 14, 14, 23, 26, 30, 32, 33, 41, 42, 42, 44, 46]\n",
      "Runtime: 0.451ms\n"
     ]
    }
   ],
   "source": [
    "#--- SelectionSort Testing-------------------------------------------------\n",
    "arr = (np.random.randint(0, 50, 16).astype(dtype=int)).tolist()\n",
    "\n",
    "print('Unsorted:\\t', arr)\n",
    "line()\n",
    "start = t.default_timer()\n",
    "# Begin Sort\n",
    "sort_arr = selectionSort(arr)\n",
    "stop = t.default_timer()\n",
    "runtime = (stop-start) * 1000\n",
    "line()\n",
    "print('Sorted:\\t\\t {0}\\nRuntime: {1:.3f}ms'.format(sort_arr, runtime))"
   ]
  },
  {
   "cell_type": "markdown",
   "metadata": {},
   "source": [
    "### Bubble Sort\n",
    "\n",
    "Bubble Sort is the simplest sorting algorithm, and works by swapping adjacent elements in an array if they aren't in the right order. Generally bubble sort isn't a very efficient algorithm and runs at $O(n^{2})$, though implementations can be optimized to stop the loop is a swap doesn't occur."
   ]
  },
  {
   "cell_type": "code",
   "execution_count": 267,
   "metadata": {
    "collapsed": true
   },
   "outputs": [],
   "source": [
    "#--- BubbleSort---------------------------------------------\n",
    "#------- Repeatedly checks adjacent values and swaps them\n",
    "#------- if they are not in the correct order\n",
    "\n",
    "def bubbleSort(arr):\n",
    "    n = len(arr)\n",
    "    # Traverse all arr[]\n",
    "    for i in range(0, n):\n",
    "        swapped = False\n",
    "        \n",
    "        # Last i elements are already placed\n",
    "        for j in range(0, n-i-1):\n",
    "            # Swap if j > j+1\n",
    "            if arr[j] > arr[j+1]:\n",
    "                arr[j], arr[j+1] = arr[j+1], arr[j]\n",
    "                # Flagged swapped\n",
    "                swapped = True\n",
    "        print('\\t\\t {0}'.format(arr))\n",
    "        # If no swap, break out of loop\n",
    "        if not swapped:\n",
    "            break\n",
    "    return arr"
   ]
  },
  {
   "cell_type": "code",
   "execution_count": 268,
   "metadata": {},
   "outputs": [
    {
     "name": "stdout",
     "output_type": "stream",
     "text": [
      "Unsorted:\t [14, 20, 42, 24, 2, 4, 20, 26, 8, 29, 16, 14, 37, 32, 14, 31]\n",
      "---------------------------------------------------------------------------------\n",
      "\t\t [14, 20, 24, 2, 4, 20, 26, 8, 29, 16, 14, 37, 32, 14, 31, 42]\n",
      "\t\t [14, 20, 2, 4, 20, 24, 8, 26, 16, 14, 29, 32, 14, 31, 37, 42]\n",
      "\t\t [14, 2, 4, 20, 20, 8, 24, 16, 14, 26, 29, 14, 31, 32, 37, 42]\n",
      "\t\t [2, 4, 14, 20, 8, 20, 16, 14, 24, 26, 14, 29, 31, 32, 37, 42]\n",
      "\t\t [2, 4, 14, 8, 20, 16, 14, 20, 24, 14, 26, 29, 31, 32, 37, 42]\n",
      "\t\t [2, 4, 8, 14, 16, 14, 20, 20, 14, 24, 26, 29, 31, 32, 37, 42]\n",
      "\t\t [2, 4, 8, 14, 14, 16, 20, 14, 20, 24, 26, 29, 31, 32, 37, 42]\n",
      "\t\t [2, 4, 8, 14, 14, 16, 14, 20, 20, 24, 26, 29, 31, 32, 37, 42]\n",
      "\t\t [2, 4, 8, 14, 14, 14, 16, 20, 20, 24, 26, 29, 31, 32, 37, 42]\n",
      "\t\t [2, 4, 8, 14, 14, 14, 16, 20, 20, 24, 26, 29, 31, 32, 37, 42]\n",
      "---------------------------------------------------------------------------------\n",
      "Sorted:\t\t [2, 4, 8, 14, 14, 14, 16, 20, 20, 24, 26, 29, 31, 32, 37, 42]\n",
      "Runtime: 0.484ms\n"
     ]
    }
   ],
   "source": [
    "#--- BubblesSort Testing-------------------------------------------------\n",
    "arr = (np.random.randint(0, 50, 16).astype(dtype=int)).tolist()\n",
    "\n",
    "print('Unsorted:\\t', arr)\n",
    "line()\n",
    "start = t.default_timer()\n",
    "# Begin Sort\n",
    "sort_arr = bubbleSort(arr)\n",
    "stop = t.default_timer()\n",
    "runtime = (stop-start) * 1000\n",
    "line()\n",
    "print('Sorted:\\t\\t {0}\\nRuntime: {1:.3f}ms'.format(sort_arr, runtime))"
   ]
  },
  {
   "cell_type": "markdown",
   "metadata": {},
   "source": [
    "## Sorting Arrays\n",
    "<img src='https://github.com/WhitneyOnTheWeb/JupyterNotebooks/blob/master/Data%20Structures/ArraySortingAlgorithms.PNG?raw=true' width='80%'/>\n",
    "\n",
    "### Move Zeros\n",
    "Given an array ```nums```, write a function to move all 0's to the end of it while maintaining the relative order of the non-zero elements."
   ]
  },
  {
   "cell_type": "code",
   "execution_count": 125,
   "metadata": {
    "collapsed": true
   },
   "outputs": [],
   "source": [
    "def moveZeros(nums):\n",
    "        # Search/Delete/Insert\n",
    "        for num in nums:\n",
    "            if num == 0:\n",
    "                nums.remove(num)\n",
    "                nums.append(num)\n",
    "        return nums"
   ]
  },
  {
   "cell_type": "code",
   "execution_count": 126,
   "metadata": {},
   "outputs": [
    {
     "name": "stdout",
     "output_type": "stream",
     "text": [
      "[0, 1, 3, 4, 3, 1, 1, 1, 3, 0, 1, 1, 0, 1, 3, 2, 3, 4, 0, 4]\n"
     ]
    },
    {
     "data": {
      "text/plain": [
       "[1, 3, 4, 3, 1, 1, 1, 3, 1, 1, 1, 3, 2, 3, 4, 4, 0, 0, 0, 0]"
      ]
     },
     "execution_count": 126,
     "metadata": {},
     "output_type": "execute_result"
    }
   ],
   "source": [
    "# Unsorted Array \n",
    "# Time Complexity: O(n)\n",
    "\n",
    "nums = (np.random.randint(0, 5, 20).astype(dtype=int)).tolist()\n",
    "print(nums)\n",
    "moveZeros(nums)"
   ]
  },
  {
   "cell_type": "markdown",
   "metadata": {},
   "source": [
    "### Add Binary\n",
    "Given two binary strings, return their sum (also a binary string)."
   ]
  },
  {
   "cell_type": "code",
   "execution_count": 3,
   "metadata": {
    "collapsed": true
   },
   "outputs": [],
   "source": [
    "def addBinary(a, b):\n",
    "    c = bin(int(a,2) + int(b,2))\n",
    "    return(c[2:])"
   ]
  },
  {
   "cell_type": "code",
   "execution_count": 4,
   "metadata": {},
   "outputs": [
    {
     "name": "stdout",
     "output_type": "stream",
     "text": [
      "11110101\n",
      "01001101\n"
     ]
    },
    {
     "data": {
      "text/plain": [
       "'101000010'"
      ]
     },
     "execution_count": 4,
     "metadata": {},
     "output_type": "execute_result"
    }
   ],
   "source": [
    "a_bin = (np.random.choice([0, 1], size=(8))).tolist()\n",
    "b_bin = (np.random.choice([0, 1], size=(8))).tolist()\n",
    "\n",
    "a = ''.join(map(str, a_bin))\n",
    "b = ''.join(map(str, b_bin))\n",
    "\n",
    "print(a)\n",
    "print(b)\n",
    "addBinary(a,b)"
   ]
  },
  {
   "cell_type": "markdown",
   "metadata": {},
   "source": [
    "### Intersection of Two Arrays\n",
    "Given two arrays, write a function to compute their intersection\n",
    "\n",
    "Example:\n",
    "\n",
    "   ```nums1 = [1, 2, 2, 1], nums2 = [2, 2], \n",
    "      return [2, 2]```\n"
   ]
  },
  {
   "cell_type": "code",
   "execution_count": 6,
   "metadata": {
    "collapsed": true
   },
   "outputs": [],
   "source": [
    "def intersect(nums1, nums2):\n",
    "    intersect = []\n",
    "    for num in nums1:\n",
    "        if num in nums2:\n",
    "            nums2.remove(num)\n",
    "            intersect.append(num)\n",
    "    return intersect"
   ]
  },
  {
   "cell_type": "code",
   "execution_count": 7,
   "metadata": {},
   "outputs": [
    {
     "data": {
      "text/plain": [
       "[19, 89, 7, 60, 40]"
      ]
     },
     "execution_count": 7,
     "metadata": {},
     "output_type": "execute_result"
    }
   ],
   "source": [
    "arr1 = ((np.random.rand(30) * 100).astype(dtype=int)).tolist()\n",
    "arr2 = ((np.random.rand(30) * 100).astype(dtype=int)).tolist()\n",
    "\n",
    "intersect(arr1, arr2)"
   ]
  },
  {
   "cell_type": "markdown",
   "metadata": {},
   "source": [
    "### 3Sum\n",
    "Given an array nums of n integers, are their elements a, b, c in nums such that a + b + c = 0? Find all unique triplets in the array which gives the sum of zero."
   ]
  },
  {
   "cell_type": "code",
   "execution_count": 399,
   "metadata": {
    "collapsed": true
   },
   "outputs": [],
   "source": [
    "def threeSum(nums):\n",
    "    nums = sorted(nums)\n",
    "    abc = []\n",
    "    \n",
    "    for a in range(len(nums) - 2):\n",
    "        if a > 0 and nums[a] == nums[a - 1]:\n",
    "            continue\n",
    "        b = a + 1\n",
    "        c = len(nums) - 1\n",
    "        target = -nums[a]\n",
    "        \n",
    "        while b < c:\n",
    "            if nums[b] + nums[c] == target:\n",
    "                abc.append([nums[a], nums[b], nums[c]])\n",
    "                b += 1\n",
    "                c -= 1\n",
    "                while b < c and nums[b] == nums[b - 1]:\n",
    "                    b += 1\n",
    "                while b < c and nums[c] == nums[c + 1]:\n",
    "                    c -= 1\n",
    "            elif nums[b] + nums[c] < target:\n",
    "                b += 1\n",
    "            else:\n",
    "                c -= 1\n",
    "    return abc\n",
    "        "
   ]
  },
  {
   "cell_type": "code",
   "execution_count": 400,
   "metadata": {},
   "outputs": [
    {
     "name": "stdout",
     "output_type": "stream",
     "text": [
      "[-3, 0, -4, -3, 1, 3, 1, -1, 3, -3]\n",
      "nums:  [[-4, 1, 3], [-3, 0, 3], [-1, 0, 1]]\n",
      "nums2:  []\n",
      "nums3:  [[-1, -1, 2], [-1, 0, 1]]\n",
      "nums4:  [[-2, -1, 3], [-2, 0, 2], [-1, 0, 1]]\n"
     ]
    }
   ],
   "source": [
    "nums = (np.random.randint(-4, 4, 10)).tolist()    #Testing\n",
    "nums2 = [1,2,-2,-1]                 #Expected []\n",
    "nums3 = [-1,0,1,2,-1,-4]            #Expected [[-1, 2, -1], [-1, 0, 1]]\n",
    "nums4 = [3,0,-2,-1,1,2]             #Expected [[-2,-1,3],[-2,0,2],[-1,0,1]]\n",
    "\n",
    "print(nums)\n",
    "print('nums: ', threeSum(nums))\n",
    "print('nums2: ', threeSum(nums2))\n",
    "print('nums3: ', threeSum(nums3))\n",
    "print('nums4: ', threeSum(nums4))"
   ]
  },
  {
   "cell_type": "markdown",
   "metadata": {},
   "source": [
    "### Valid Palindrome\n",
    "\n",
    "Given a string, determine if it is a palindrome, considering only alphanumeric characters and ignoring cases.\n",
    "\n",
    "Note: For the purpose of this problem, we define empty string as valid palindrome"
   ]
  },
  {
   "cell_type": "code",
   "execution_count": 231,
   "metadata": {
    "collapsed": true
   },
   "outputs": [],
   "source": [
    "def isPalindrome(s):\n",
    "    s = s.lower()\n",
    "    if s.isalnum():\n",
    "        if len(s) == 1 or s == None:\n",
    "                return True\n",
    "        return s == s[::-1]\n",
    "    else:\n",
    "        s = list(s)\n",
    "        s = [i for i in s if i.isalnum()]\n",
    "        return s == s[::-1]"
   ]
  },
  {
   "cell_type": "code",
   "execution_count": 235,
   "metadata": {},
   "outputs": [
    {
     "name": "stdout",
     "output_type": "stream",
     "text": [
      "True\n",
      "True\n",
      "False\n",
      "False\n"
     ]
    }
   ],
   "source": [
    "s = \"A man, a plan, a canal: Panama\"\n",
    "s2 = \"avid diva\"\n",
    "s3 = \"0P\"\n",
    "s4 = 'race a car'\n",
    "\n",
    "print(isPalindrome(s))\n",
    "print(isPalindrome(s2))\n",
    "print(isPalindrome(s3))\n",
    "print(isPalindrome(s4))"
   ]
  },
  {
   "cell_type": "markdown",
   "metadata": {},
   "source": [
    "### Valid Palindrome II\n",
    "\n",
    "Given a non-empty string, determine if it can be made a palindrome by removing a single character"
   ]
  },
  {
   "cell_type": "code",
   "execution_count": 401,
   "metadata": {
    "collapsed": true
   },
   "outputs": [],
   "source": [
    "def validPalindrome(s):\n",
    "        \n",
    "    def is_pal(i, j):\n",
    "        return all(s[k] == s[j-k+i] for k in range(i, j))\n",
    "        \n",
    "    for i in range(len(s) // 2):\n",
    "        if s[i] != s[~i]:\n",
    "            j = len(s) - 1 - i\n",
    "            return is_pal(i+1, j) or is_pal(i, j-1)\n",
    "    return True"
   ]
  },
  {
   "cell_type": "code",
   "execution_count": 402,
   "metadata": {},
   "outputs": [
    {
     "name": "stdout",
     "output_type": "stream",
     "text": [
      "True\n",
      "True\n",
      "False\n"
     ]
    }
   ],
   "source": [
    "a2 = \"aba\"\n",
    "a3 = \"cbbcc\"\n",
    "a4 = 'abc'\n",
    "print(validPalindrome(a2))\n",
    "print(validPalindrome(a3))\n",
    "print(validPalindrome(a4))"
   ]
  },
  {
   "cell_type": "markdown",
   "metadata": {},
   "source": [
    "### Valid Number\n",
    "\n",
    "Validate if a given string is numeric.\n",
    "\n",
    "Some examples:\n",
    "- \"0\" => true\n",
    "- \" 0.1 \" => true\n",
    "- \"abc\" => false\n",
    "- \"1 a\" => false\n",
    "- \"2e10\" => true"
   ]
  },
  {
   "cell_type": "code",
   "execution_count": 318,
   "metadata": {
    "collapsed": true
   },
   "outputs": [],
   "source": [
    "def isNumber(s):\n",
    "    try: \n",
    "        parse_num = '{0:g}'.format(int(s))\n",
    "        if parse_num.isnumeric():\n",
    "            return True\n",
    "    except: \n",
    "        try: \n",
    "            parse_num = float(s)\n",
    "        except: \n",
    "            return False\n",
    "    return True"
   ]
  },
  {
   "cell_type": "code",
   "execution_count": 319,
   "metadata": {},
   "outputs": [
    {
     "name": "stdout",
     "output_type": "stream",
     "text": [
      "False\n",
      "True\n",
      "True\n",
      "False\n"
     ]
    }
   ],
   "source": [
    "n = 'Hello'\n",
    "n2 = '5232'\n",
    "n3 = '2e10'\n",
    "n4 = '\"+ 1'\n",
    "\n",
    "print(isNumber(n))\n",
    "print(isNumber(n2))\n",
    "print(isNumber(n3))\n",
    "print(isNumber(n4))"
   ]
  },
  {
   "cell_type": "markdown",
   "metadata": {},
   "source": [
    "### Trapping Rain Water\n",
    "\n",
    "Given n non-negative integers representing an elevation map where the width of each bar is 1, compute how much water it is able to trap after raining."
   ]
  },
  {
   "cell_type": "code",
   "execution_count": 486,
   "metadata": {
    "collapsed": true
   },
   "outputs": [],
   "source": [
    "def trapRainWater(height):\n",
    "    water = 0\n",
    "        \n",
    "    if height == None or height == []: return water\n",
    "    \n",
    "    length = len(height)\n",
    "    left = [0]*length\n",
    "    right = [0]*length\n",
    "    \n",
    "    # Get the tallest left bar\n",
    "    left[0] = height[0]\n",
    "    for i in range(1, length):\n",
    "        left[i] = max(left[i-1], height[i])\n",
    "        \n",
    "    # Get the tallest right bar\n",
    "    right[length-1] = height[length-1]\n",
    "    for i in range(length - 2, -1, -1):\n",
    "        right[i] = max(right[i+1], height[i])\n",
    "    \n",
    "    # Total water block by block\n",
    "    for i in range(0, length):\n",
    "        water += min(left[i], right[i]) - height[i]\n",
    "        \n",
    "    return water"
   ]
  },
  {
   "cell_type": "code",
   "execution_count": 488,
   "metadata": {},
   "outputs": [
    {
     "name": "stdout",
     "output_type": "stream",
     "text": [
      "6\n",
      "11\n",
      "0\n"
     ]
    }
   ],
   "source": [
    "t = [0,1,0,2,1,0,1,3,2,1,2,1]\n",
    "t2 = (np.random.randint(0, 4, 12)).tolist()\n",
    "t3 = [0, 2, 0]\n",
    "#print(t2)\n",
    "\n",
    "print(trapRainWater(t))\n",
    "print(trapRainWater(t2))\n",
    "print(trapRainWater(t3))"
   ]
  },
  {
   "cell_type": "code",
   "execution_count": null,
   "metadata": {
    "collapsed": true
   },
   "outputs": [],
   "source": []
  }
 ],
 "metadata": {
  "kernelspec": {
   "display_name": "Python 3",
   "language": "python",
   "name": "python3"
  },
  "language_info": {
   "codemirror_mode": {
    "name": "ipython",
    "version": 3
   },
   "file_extension": ".py",
   "mimetype": "text/x-python",
   "name": "python",
   "nbconvert_exporter": "python",
   "pygments_lexer": "ipython3",
   "version": "3.6.1"
  }
 },
 "nbformat": 4,
 "nbformat_minor": 2
}
