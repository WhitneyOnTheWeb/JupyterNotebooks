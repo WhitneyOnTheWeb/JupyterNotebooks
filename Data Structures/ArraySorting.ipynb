{
 "cells": [
  {
   "cell_type": "code",
   "execution_count": 285,
   "metadata": {},
   "outputs": [],
   "source": [
    "import numpy as np\n",
    "import timeit as t\n",
    "\n",
    "def line():\n",
    "        print('-' * 80)\n",
    "\n",
    "#--- Driver Method to Test Sorting Algorithms----------------------\n",
    "def testSorting(arr, sortMethod):\n",
    "    fst = 0\n",
    "    lst = len(arr)-1\n",
    "\n",
    "    print('Begin {0}...:'.format(sortMethod.__name__))\n",
    "    print('Unsorted:\\t', arr)\n",
    "    line()\n",
    "    start = t.default_timer()\n",
    "    # Begin Sort\n",
    "    try: # Sort with 3 parameters \n",
    "        sort_arr = sortMethod(arr, fst, lst)\n",
    "    except: # Sort with 2 parameters\n",
    "        try: sort_arr = sortMethod(arr, lst)\n",
    "        except: # Sort with 1 parameter\n",
    "            sort_arr = sortMethod(arr)\n",
    "    stop = t.default_timer()\n",
    "    runtime = (stop-start) * 1000\n",
    "    line()\n",
    "    print('Sorted:\\t\\t {0}\\nRuntime: {1:.3f}ms'\\\n",
    "          .format(sort_arr, runtime))\n",
    "    return arr\n",
    "    \n",
    "#--- Driver Method to Test Searching Algorithms--------------------\n",
    "def testSearching(arr, x, searchMethod):\n",
    "    print('Begin {0}...:'.format(searchMethod.__name__))\n",
    "    print('Array:\\t\\t', arr)\n",
    "    line()\n",
    "    print('Searching for {0}...'.format(x))\n",
    "    start = t.default_timer()\n",
    "    # Begin Search\n",
    "    idx = searchMethod(arr, x)\n",
    "    stop = t.default_timer()\n",
    "    runtime = (stop-start) * 1000\n",
    "    if idx >= 0:\n",
    "        print('\\n{0} Found: index[{1}]'.format(x, idx))\n",
    "        print('Runtime: {0:.3f}ms'.format(runtime))\n",
    "    else:\n",
    "        print('\\n{0} Not Found'.format(x))\n",
    "        print('Runtime: {0:.3f}ms'.format(runtime))"
   ]
  },
  {
   "cell_type": "markdown",
   "metadata": {},
   "source": [
    "# Arrays and Sorting\n",
    "\n",
    "**Author:** Whitney King\n",
    "<br>\n",
    "**Date Updated:** 5/29/2018\n",
    "<br>\n",
    "<br>\n",
    "*Based on examples from <a href='https://leetcode.com'>Leetcode</a> and <a href='https://www.geeksforgeeks.org'>GeeksForGeeks</a>*\n",
    "\n",
    " -  Arrays are the most basic data structure\n",
    " -  Indexed container for a fixed number of elements of the same type\n",
    "\n",
    "## Sorting Algorithms\n",
    "\n",
    "<img src='https://github.com/WhitneyOnTheWeb/JupyterNotebooks/blob/master/Data%20Structures/ArrayOperations.PNG?raw=true' width='53%'/>"
   ]
  },
  {
   "cell_type": "markdown",
   "metadata": {},
   "source": [
    "### Quick Sort\n",
    "\n",
    "Type of divide-and-conquer algorithm. Picks an element as a pivot point, then recursively divides the array from there. Quick Sort algorithms can choose the pivot in many ways, depending on the application needed:\n",
    "\n",
    "- First element\n",
    "- Last element\n",
    "- Random element\n",
    "- Median\n",
    "\n",
    "#### Time Complexity\n",
    "- Best/Average Time Complexity is $O({n}\\log{n})$"
   ]
  },
  {
   "cell_type": "code",
   "execution_count": 286,
   "metadata": {
    "collapsed": true
   },
   "outputs": [],
   "source": [
    "#--- QuickSort----------------------------------------------\n",
    "#------- Recursively divides an array based on first/last\n",
    "#------- index values, and sorts the subarrays\n",
    "def quickSort(arr, fst, lst):\n",
    "    if fst < lst:\n",
    "    # Divide arr\n",
    "        div_idx = divide(arr, fst, lst)\n",
    "        print('div_idx[{0}]:\\t {1}'.format(div_idx, arr))\n",
    "    # Sort subarrays\n",
    "        quickSort(arr, fst, div_idx-1)  # fst < div_idx\n",
    "        quickSort(arr, div_idx+1, lst)  # lst > div_idx\n",
    "    return arr\n",
    "\n",
    "def divide(arr, fst, lst):\n",
    "    div = arr[lst]  # Divide from last element            \n",
    "    i = fst-1       # Index of first element\n",
    "            \n",
    "    # If current element <= div\n",
    "    for j in range(fst, lst):\n",
    "        if arr[j] <= div:\n",
    "            i +=1 # Increment current index\n",
    "            arr[i], arr[j] = arr[j], arr[i] # Swap values\n",
    "                    \n",
    "    arr[i+1], arr[lst] = arr[lst], arr[i+1]\n",
    "    return (i+1) # Swap values, increment current index"
   ]
  },
  {
   "cell_type": "code",
   "execution_count": 287,
   "metadata": {},
   "outputs": [
    {
     "name": "stdout",
     "output_type": "stream",
     "text": [
      "Begin quickSort...:\n",
      "Unsorted:\t [24, 21, 44, 29, 38, 18, 18, 29, 37, 23, 42, 39, 43, 8, 32, 34]\n",
      "--------------------------------------------------------------------------------\n",
      "div_idx[9]:\t [24, 21, 29, 18, 18, 29, 23, 8, 32, 34, 42, 39, 43, 44, 37, 38]\n",
      "div_idx[8]:\t [24, 21, 29, 18, 18, 29, 23, 8, 32, 34, 42, 39, 43, 44, 37, 38]\n",
      "div_idx[0]:\t [8, 21, 29, 18, 18, 29, 23, 24, 32, 34, 42, 39, 43, 44, 37, 38]\n",
      "div_idx[5]:\t [8, 21, 18, 18, 23, 24, 29, 29, 32, 34, 42, 39, 43, 44, 37, 38]\n",
      "div_idx[4]:\t [8, 21, 18, 18, 23, 24, 29, 29, 32, 34, 42, 39, 43, 44, 37, 38]\n",
      "div_idx[2]:\t [8, 18, 18, 21, 23, 24, 29, 29, 32, 34, 42, 39, 43, 44, 37, 38]\n",
      "div_idx[7]:\t [8, 18, 18, 21, 23, 24, 29, 29, 32, 34, 42, 39, 43, 44, 37, 38]\n",
      "div_idx[11]:\t [8, 18, 18, 21, 23, 24, 29, 29, 32, 34, 37, 38, 43, 44, 42, 39]\n",
      "div_idx[12]:\t [8, 18, 18, 21, 23, 24, 29, 29, 32, 34, 37, 38, 39, 44, 42, 43]\n",
      "div_idx[14]:\t [8, 18, 18, 21, 23, 24, 29, 29, 32, 34, 37, 38, 39, 42, 43, 44]\n",
      "--------------------------------------------------------------------------------\n",
      "Sorted:\t\t [8, 18, 18, 21, 23, 24, 29, 29, 32, 34, 37, 38, 39, 42, 43, 44]\n",
      "Runtime: 0.661ms\n"
     ]
    },
    {
     "data": {
      "text/plain": [
       "[8, 18, 18, 21, 23, 24, 29, 29, 32, 34, 37, 38, 39, 42, 43, 44]"
      ]
     },
     "execution_count": 287,
     "metadata": {},
     "output_type": "execute_result"
    }
   ],
   "source": [
    "#--- QuickSort Testing----------------------------------------------------------\n",
    "qs_arr = (np.random.randint(0, 50, 16).astype(dtype=int)).tolist()\n",
    "testSorting(qs_arr, quickSort)"
   ]
  },
  {
   "cell_type": "markdown",
   "metadata": {},
   "source": [
    "### Merge Sort\n",
    "\n",
    "Another type of recursive divide-and-conquer algorithm. This algorithm:\n",
    "\n",
    "- Divides an array into two halves\n",
    "- Sorts the halves separately\n",
    "- Then merges them back together\n",
    "\n",
    "The merge functionality hinges on assuming both halves of the array are properly sorted when being put back together. \n",
    "\n",
    "- Array is recursively divided into two halves until the size is 1\n",
    " - After size is 1, merge process begins in sorted order\n",
    "- Best/Average Time Complexity is $O({n}\\log{n})$"
   ]
  },
  {
   "cell_type": "code",
   "execution_count": 288,
   "metadata": {
    "collapsed": true
   },
   "outputs": [],
   "source": [
    "#--- MergeSort----------------------------------------------------------\n",
    "#------- Recursively divides an array based on its middle,\n",
    "#------- until it gets to size one, then sorts them and\n",
    "#------- merges them back together\n",
    "\n",
    "def mergeSort(arr, fst, lst):\n",
    "    # Left Index < Right Index\n",
    "    if fst < lst:\n",
    "        # Avoids overflow if array is large\n",
    "        mid = (fst+(lst-1))//2     # Divide\n",
    "        \n",
    "        # Comment out the below print statement to improve runtime\n",
    "        is_merge = fst == mid\n",
    "        print('Merge: {4}\\t {3}  fst[{1}] mid[{0}] lst[{2}]'\\\n",
    "              .format(mid, fst, lst, arr, is_merge))\n",
    "        \n",
    "        mergeSort(arr, fst, mid)   # Sorts left\n",
    "        mergeSort(arr, mid+1, lst) # Sorts right\n",
    "        merge(arr, fst, mid, lst)  # Merge halves\n",
    "    return arr\n",
    "    \n",
    "    \n",
    "def merge(arr, fst, mid, lst):\n",
    "    # Length of each sub array\n",
    "    l1 = mid - fst + 1\n",
    "    l2 = lst - mid\n",
    "    # Create temp arrays\n",
    "    FST = np.zeros(l1).astype(dtype=int).tolist()\n",
    "    LST = np.zeros(l2).astype(dtype=int).tolist()\n",
    "    \n",
    "    # Copy subarrays to temp arrays\n",
    "    for i in range(0, l1):\n",
    "        FST[i] = arr[fst+i]\n",
    "    for j in range(0, l2):\n",
    "        LST[j] = arr[mid+1+j]\n",
    "    \n",
    "    i = 0   # Index of FST temp array\n",
    "    j = 0   # Index of LST temp array\n",
    "    k = fst # Index of sorted/merged arr\n",
    "    \n",
    "    # Merge temp arrays back into arr[fst...lst]\n",
    "    while i < l1 and j < l2:\n",
    "        if FST[i] <= LST[j]:\n",
    "            arr[k] = FST[i]\n",
    "            i +=1\n",
    "        else:\n",
    "            arr[k] = LST[j]\n",
    "            j +=1\n",
    "        k +=1\n",
    "        \n",
    "    # Get any unsorted elements left in FST[]\n",
    "    while i < l1:\n",
    "        arr[k] = FST[i]\n",
    "        i +=1\n",
    "        k +=1\n",
    "    # Get any unsorted elements left in LST[]\n",
    "    while j < l2:\n",
    "        arr[k] = LST[j]\n",
    "        j +=1\n",
    "        k +=1"
   ]
  },
  {
   "cell_type": "code",
   "execution_count": 289,
   "metadata": {
    "scrolled": false
   },
   "outputs": [
    {
     "name": "stdout",
     "output_type": "stream",
     "text": [
      "Begin mergeSort...:\n",
      "Unsorted:\t [25, 26, 41, 33, 42, 33, 7, 39, 25, 1, 12, 27, 41, 14, 47, 15]\n",
      "--------------------------------------------------------------------------------\n",
      "Merge: False\t [25, 26, 41, 33, 42, 33, 7, 39, 25, 1, 12, 27, 41, 14, 47, 15]  fst[0] mid[7] lst[15]\n",
      "Merge: False\t [25, 26, 41, 33, 42, 33, 7, 39, 25, 1, 12, 27, 41, 14, 47, 15]  fst[0] mid[3] lst[7]\n",
      "Merge: False\t [25, 26, 41, 33, 42, 33, 7, 39, 25, 1, 12, 27, 41, 14, 47, 15]  fst[0] mid[1] lst[3]\n",
      "Merge: True\t [25, 26, 41, 33, 42, 33, 7, 39, 25, 1, 12, 27, 41, 14, 47, 15]  fst[0] mid[0] lst[1]\n",
      "Merge: True\t [25, 26, 41, 33, 42, 33, 7, 39, 25, 1, 12, 27, 41, 14, 47, 15]  fst[2] mid[2] lst[3]\n",
      "Merge: False\t [25, 26, 33, 41, 42, 33, 7, 39, 25, 1, 12, 27, 41, 14, 47, 15]  fst[4] mid[5] lst[7]\n",
      "Merge: True\t [25, 26, 33, 41, 42, 33, 7, 39, 25, 1, 12, 27, 41, 14, 47, 15]  fst[4] mid[4] lst[5]\n",
      "Merge: True\t [25, 26, 33, 41, 33, 42, 7, 39, 25, 1, 12, 27, 41, 14, 47, 15]  fst[6] mid[6] lst[7]\n",
      "Merge: False\t [7, 25, 26, 33, 33, 39, 41, 42, 25, 1, 12, 27, 41, 14, 47, 15]  fst[8] mid[11] lst[15]\n",
      "Merge: False\t [7, 25, 26, 33, 33, 39, 41, 42, 25, 1, 12, 27, 41, 14, 47, 15]  fst[8] mid[9] lst[11]\n",
      "Merge: True\t [7, 25, 26, 33, 33, 39, 41, 42, 25, 1, 12, 27, 41, 14, 47, 15]  fst[8] mid[8] lst[9]\n",
      "Merge: True\t [7, 25, 26, 33, 33, 39, 41, 42, 1, 25, 12, 27, 41, 14, 47, 15]  fst[10] mid[10] lst[11]\n",
      "Merge: False\t [7, 25, 26, 33, 33, 39, 41, 42, 1, 12, 25, 27, 41, 14, 47, 15]  fst[12] mid[13] lst[15]\n",
      "Merge: True\t [7, 25, 26, 33, 33, 39, 41, 42, 1, 12, 25, 27, 41, 14, 47, 15]  fst[12] mid[12] lst[13]\n",
      "Merge: True\t [7, 25, 26, 33, 33, 39, 41, 42, 1, 12, 25, 27, 14, 41, 47, 15]  fst[14] mid[14] lst[15]\n",
      "--------------------------------------------------------------------------------\n",
      "Sorted:\t\t [1, 7, 12, 14, 15, 25, 25, 26, 27, 33, 33, 39, 41, 41, 42, 47]\n",
      "Runtime: 0.776ms\n"
     ]
    },
    {
     "data": {
      "text/plain": [
       "[1, 7, 12, 14, 15, 25, 25, 26, 27, 33, 33, 39, 41, 41, 42, 47]"
      ]
     },
     "execution_count": 289,
     "metadata": {},
     "output_type": "execute_result"
    }
   ],
   "source": [
    "#--- MergeSort Testing----------------------------------------------------------\n",
    "mg_arr = (np.random.randint(0, 50, 16).astype(dtype=int)).tolist()\n",
    "testSorting(mg_arr, mergeSort)"
   ]
  },
  {
   "cell_type": "markdown",
   "metadata": {},
   "source": [
    "### Radix Sort\n",
    "\n",
    "Radix Sort is the lower bound for comparison based sorting algorithms. To understand Radix Sorts, first, we must understand Count Sort. \n",
    "\n",
    "Count Sort is a technique that uses keys between a specified range. It counts the number of elements with unique key values, then modifies the count array so that each index stores the sum of the previous counts. This modified array indicates the position of each object in the output sequence.\n",
    "\n",
    "1. Take a count array to store the count of each unique object\n",
    "2. Modify the count array such that each element at each index stores the sum of previous counts\n",
    "3. Output each object from the input sequence followed by decreasing its count by 1.\n",
    "\n",
    "**Radix Sort** builds on general count sorts, which are not sufficient for arrays with elements in range 1 to $n^{2}$, because that causes time complexity to become $O(n^{2})$. To sort that kind of array in linear time, radix sort is an optimal solution. Radix sort works digit by digit, starting from least significant to most significant, then uses counting sort as a subroutine to sort from there.\n",
    "\n",
    "Since radix sort has a fixed number of integers to search through, it has a time complexity of $O(n)$."
   ]
  },
  {
   "cell_type": "code",
   "execution_count": 290,
   "metadata": {
    "collapsed": true
   },
   "outputs": [],
   "source": [
    "#--- RadixSort----------------------------------------------------------\n",
    "#------- Conducts countSort for every significant digit\n",
    "#------- Instead of passing the digit on subsequent sorts,\n",
    "#------- an expression is passed (exp) = 10^i, i = digit\n",
    "def radixSort(arr):\n",
    "    # Calculate maximum sig fig\n",
    "    most = max(arr)\n",
    "    exp = 1\n",
    "    \n",
    "    # Conduct sort\n",
    "    while most // exp > 0:\n",
    "        countSort(arr, exp)\n",
    "        print('exp[{0}]: \\t {1}'.format(exp, arr))\n",
    "        exp *=10 # Multiply expression\n",
    "    return arr\n",
    "\n",
    "#--- CountSort----------------------------------------------------------\n",
    "#------- Sorts arr based on digit given in exp\n",
    "def countSort(arr, exp):\n",
    "    n = len(arr)\n",
    "    \n",
    "    # Initialize out[] for sorted array\n",
    "    out = np.zeros(n)\\\n",
    "         .astype(dtype=int).tolist()\n",
    "    # Initialize count[] for counting\n",
    "    count = np.zeros(10)\\\n",
    "           .astype(dtype=int).tolist()\n",
    "    \n",
    "    # Store exp occurances in count[]\n",
    "    for i in range(0, n):\n",
    "        idx = arr[i] // exp\n",
    "        count[idx%10] +=1\n",
    "        \n",
    "    # Update count[i], so it contains position\n",
    "    # of ith digit in output array\n",
    "    for i in range(1, 10):\n",
    "        count[i] += count[i-1]\n",
    "        \n",
    "    # Replace arr with sorted arr\n",
    "    i = n-1\n",
    "    while i >= 0:\n",
    "        idx = arr[i] // exp\n",
    "        out[count[idx%10]-1] = arr[i]\n",
    "        count[idx%10] -=1\n",
    "        i -=1\n",
    "        \n",
    "    # Copy sorted out to arr\n",
    "    for i in range(0, n):\n",
    "        arr[i] = out[i]\n",
    "    return arr"
   ]
  },
  {
   "cell_type": "code",
   "execution_count": 291,
   "metadata": {},
   "outputs": [
    {
     "name": "stdout",
     "output_type": "stream",
     "text": [
      "Begin radixSort...:\n",
      "Unsorted:\t [56614, 46134, 71084, 51124, 79430, 60424, 55712, 6493, 43881]\n",
      "--------------------------------------------------------------------------------\n",
      "exp[1]: \t [79430, 43881, 55712, 6493, 56614, 46134, 71084, 51124, 60424]\n",
      "exp[10]: \t [55712, 56614, 51124, 60424, 79430, 46134, 43881, 71084, 6493]\n",
      "exp[100]: \t [71084, 51124, 46134, 60424, 79430, 6493, 56614, 55712, 43881]\n",
      "exp[1000]: \t [60424, 71084, 51124, 43881, 55712, 46134, 6493, 56614, 79430]\n",
      "exp[10000]: \t [6493, 43881, 46134, 51124, 55712, 56614, 60424, 71084, 79430]\n",
      "--------------------------------------------------------------------------------\n",
      "Sorted:\t\t [6493, 43881, 46134, 51124, 55712, 56614, 60424, 71084, 79430]\n",
      "Runtime: 0.368ms\n"
     ]
    },
    {
     "data": {
      "text/plain": [
       "[6493, 43881, 46134, 51124, 55712, 56614, 60424, 71084, 79430]"
      ]
     },
     "execution_count": 291,
     "metadata": {},
     "output_type": "execute_result"
    }
   ],
   "source": [
    "#--- RadixSort Testing----------------------------------------------------------\n",
    "rdx_arr = (np.random.randint(0, 100000, 9).astype(dtype=int)).tolist()\n",
    "testSorting(rdx_arr, radixSort)"
   ]
  },
  {
   "cell_type": "markdown",
   "metadata": {},
   "source": [
    "### Insertion Sort\n",
    "\n",
    "Insertion sort works similarly to sorting playing card. You pull one element out of the incorrect order, and place it back into the array in the spot where it goes, then repeat for each element that is out of order until the whole array is sorted. Depending on implementation, it has a best case complexity of $O(n)$, however it's generally implemented recursively, giving it a less desireable time complexity of $O(n^{2})$"
   ]
  },
  {
   "cell_type": "code",
   "execution_count": 292,
   "metadata": {},
   "outputs": [],
   "source": [
    "#--- InsertionSort----------------------------------------------------------\n",
    "#------- Checks values against a key each other to move larger\n",
    "#------- values up and smaller values down in the array\n",
    "#------- Includes both iterative and recursive examples\n",
    "\n",
    "def insertionSort(arr):\n",
    "    # Traverse from first to last element\n",
    "    for i in range(1, len(arr)):\n",
    "        checksum = arr[i]\n",
    "        \n",
    "        # Move (arr[0:i-1] > checksum) up one spot\n",
    "        j = i-1\n",
    "        while j >= 0 and checksum < arr[j]:\n",
    "            arr[j+1] = arr[j]\n",
    "            j -=1\n",
    "        arr[j+1] = checksum\n",
    "        print('\\t\\t {0}'.format(arr))\n",
    "    return arr\n",
    "\n",
    "def insertionSortRec(arr, n):\n",
    "    # Set a base case for array size\n",
    "    if n == 0:\n",
    "        return arr\n",
    "    \n",
    "    # Sort n-1 elements\n",
    "    insertionSortRec(arr, n-1)\n",
    "    # Insert last element into its correct position\n",
    "    last = arr[n-1]\n",
    "    \n",
    "    j = n-2 # Reset the cursor\n",
    "    # Move (arr[0:j-1] > last) up one spot\n",
    "    while j >= 0 and arr[j] > last:\n",
    "        arr[j+1] = arr[j]\n",
    "        j -=1\n",
    "    arr[j+1] = last\n",
    "    print('\\t\\t {0}'.format(arr))\n",
    "    return arr"
   ]
  },
  {
   "cell_type": "code",
   "execution_count": 293,
   "metadata": {},
   "outputs": [
    {
     "name": "stdout",
     "output_type": "stream",
     "text": [
      "Begin insertionSort...:\n",
      "Unsorted:\t [10, 3, 0, 9, 21, 38, 16, 19, 35, 40, 45, 15, 21, 17, 7, 8]\n",
      "--------------------------------------------------------------------------------\n",
      "\t\t [3, 10, 0, 9, 21, 38, 16, 19, 35, 40, 45, 15, 21, 17, 7, 8]\n",
      "\t\t [0, 3, 10, 9, 21, 38, 16, 19, 35, 40, 45, 15, 21, 17, 7, 8]\n",
      "\t\t [0, 3, 9, 10, 21, 38, 16, 19, 35, 40, 45, 15, 21, 17, 7, 8]\n",
      "\t\t [0, 3, 9, 10, 21, 38, 16, 19, 35, 40, 45, 15, 21, 17, 7, 8]\n",
      "\t\t [0, 3, 9, 10, 21, 38, 16, 19, 35, 40, 45, 15, 21, 17, 7, 8]\n",
      "\t\t [0, 3, 9, 10, 16, 21, 38, 19, 35, 40, 45, 15, 21, 17, 7, 8]\n",
      "\t\t [0, 3, 9, 10, 16, 19, 21, 38, 35, 40, 45, 15, 21, 17, 7, 8]\n",
      "\t\t [0, 3, 9, 10, 16, 19, 21, 35, 38, 40, 45, 15, 21, 17, 7, 8]\n",
      "\t\t [0, 3, 9, 10, 16, 19, 21, 35, 38, 40, 45, 15, 21, 17, 7, 8]\n",
      "\t\t [0, 3, 9, 10, 16, 19, 21, 35, 38, 40, 45, 15, 21, 17, 7, 8]\n",
      "\t\t [0, 3, 9, 10, 15, 16, 19, 21, 35, 38, 40, 45, 21, 17, 7, 8]\n",
      "\t\t [0, 3, 9, 10, 15, 16, 19, 21, 21, 35, 38, 40, 45, 17, 7, 8]\n",
      "\t\t [0, 3, 9, 10, 15, 16, 17, 19, 21, 21, 35, 38, 40, 45, 7, 8]\n",
      "\t\t [0, 3, 7, 9, 10, 15, 16, 17, 19, 21, 21, 35, 38, 40, 45, 8]\n",
      "\t\t [0, 3, 7, 8, 9, 10, 15, 16, 17, 19, 21, 21, 35, 38, 40, 45]\n",
      "--------------------------------------------------------------------------------\n",
      "Sorted:\t\t [0, 3, 7, 8, 9, 10, 15, 16, 17, 19, 21, 21, 35, 38, 40, 45]\n",
      "Runtime: 0.343ms\n"
     ]
    },
    {
     "data": {
      "text/plain": [
       "[0, 3, 7, 8, 9, 10, 15, 16, 17, 19, 21, 21, 35, 38, 40, 45]"
      ]
     },
     "execution_count": 293,
     "metadata": {},
     "output_type": "execute_result"
    }
   ],
   "source": [
    "#--- InsertionSort Testing------------------------------------------------------\n",
    "ins_arr = (np.random.randint(0, 50, 16).astype(dtype=int)).tolist()\n",
    "testSorting(ins_arr, insertionSort)"
   ]
  },
  {
   "cell_type": "code",
   "execution_count": 294,
   "metadata": {},
   "outputs": [
    {
     "name": "stdout",
     "output_type": "stream",
     "text": [
      "Begin insertionSortRec...:\n",
      "Unsorted:\t [22, 10, 3, 32, 18, 13, 34, 14, 26, 29, 43, 15, 44, 21, 2, 22]\n",
      "--------------------------------------------------------------------------------\n",
      "\t\t [22, 10, 3, 32, 18, 13, 34, 14, 26, 29, 43, 15, 44, 21, 2, 22]\n",
      "\t\t [10, 22, 3, 32, 18, 13, 34, 14, 26, 29, 43, 15, 44, 21, 2, 22]\n",
      "\t\t [3, 10, 22, 32, 18, 13, 34, 14, 26, 29, 43, 15, 44, 21, 2, 22]\n",
      "\t\t [3, 10, 22, 32, 18, 13, 34, 14, 26, 29, 43, 15, 44, 21, 2, 22]\n",
      "\t\t [3, 10, 18, 22, 32, 13, 34, 14, 26, 29, 43, 15, 44, 21, 2, 22]\n",
      "\t\t [3, 10, 13, 18, 22, 32, 34, 14, 26, 29, 43, 15, 44, 21, 2, 22]\n",
      "\t\t [3, 10, 13, 18, 22, 32, 34, 14, 26, 29, 43, 15, 44, 21, 2, 22]\n",
      "\t\t [3, 10, 13, 14, 18, 22, 32, 34, 26, 29, 43, 15, 44, 21, 2, 22]\n",
      "\t\t [3, 10, 13, 14, 18, 22, 26, 32, 34, 29, 43, 15, 44, 21, 2, 22]\n",
      "\t\t [3, 10, 13, 14, 18, 22, 26, 29, 32, 34, 43, 15, 44, 21, 2, 22]\n",
      "\t\t [3, 10, 13, 14, 18, 22, 26, 29, 32, 34, 43, 15, 44, 21, 2, 22]\n",
      "\t\t [3, 10, 13, 14, 15, 18, 22, 26, 29, 32, 34, 43, 44, 21, 2, 22]\n",
      "\t\t [3, 10, 13, 14, 15, 18, 22, 26, 29, 32, 34, 43, 44, 21, 2, 22]\n",
      "\t\t [3, 10, 13, 14, 15, 18, 21, 22, 26, 29, 32, 34, 43, 44, 2, 22]\n",
      "\t\t [2, 3, 10, 13, 14, 15, 18, 21, 22, 26, 29, 32, 34, 43, 44, 22]\n",
      "--------------------------------------------------------------------------------\n",
      "Sorted:\t\t [2, 3, 10, 13, 14, 15, 18, 21, 22, 26, 29, 32, 34, 43, 44, 22]\n",
      "Runtime: 0.339ms\n"
     ]
    },
    {
     "data": {
      "text/plain": [
       "[2, 3, 10, 13, 14, 15, 18, 21, 22, 26, 29, 32, 34, 43, 44, 22]"
      ]
     },
     "execution_count": 294,
     "metadata": {},
     "output_type": "execute_result"
    }
   ],
   "source": [
    "#--- InsertionSortRecursive Testing---------------------------------------------\n",
    "insR_arr = (np.random.randint(0, 50, 16).astype(dtype=int)).tolist()\n",
    "testSorting(insR_arr, insertionSortRec)"
   ]
  },
  {
   "cell_type": "markdown",
   "metadata": {},
   "source": [
    "### Selection Sort\n",
    "\n",
    "The Selection Sort algorithm works by repeatedly finding the minimum or maximum element from an unsorted partition, and then putting it at the beginning. It uses two subarrays to sort a given array. In each iteration, the minimum element is picked from the unsorted subarray and moved into the sorted subarray.\n",
    "\n",
    "Selection Sort has a best and wort cast time complexity of time complexity of $O(n^{2})$"
   ]
  },
  {
   "cell_type": "code",
   "execution_count": 295,
   "metadata": {
    "collapsed": true
   },
   "outputs": [],
   "source": [
    "#--- SelectionSort--------------------------------------------------------------\n",
    "#------- Repeatedly finds the minimum values in an unsorted\n",
    "#------- subarray, and moves them into a sorted subarray\n",
    "def selectionSort(arr):\n",
    "    n = len(arr)\n",
    "    for i in range(0, n):\n",
    "        div_idx = i\n",
    "        # Locate the min value in subarray\n",
    "        for j in range(i+1, n):\n",
    "            if arr[div_idx] > arr[j]:\n",
    "                div_idx = j\n",
    "                \n",
    "        # Swap min element with first element\n",
    "        arr[i], arr[div_idx] = arr[div_idx], arr[i]\n",
    "        print('div_idx[{0}]:\\t {1}'.format(div_idx, arr))\n",
    "    return arr"
   ]
  },
  {
   "cell_type": "code",
   "execution_count": 296,
   "metadata": {},
   "outputs": [
    {
     "name": "stdout",
     "output_type": "stream",
     "text": [
      "Begin selectionSort...:\n",
      "Unsorted:\t [4, 9, 20, 24, 28, 16, 30, 30, 26, 34, 9, 12, 33, 33, 37, 49]\n",
      "--------------------------------------------------------------------------------\n",
      "div_idx[0]:\t [4, 9, 20, 24, 28, 16, 30, 30, 26, 34, 9, 12, 33, 33, 37, 49]\n",
      "div_idx[1]:\t [4, 9, 20, 24, 28, 16, 30, 30, 26, 34, 9, 12, 33, 33, 37, 49]\n",
      "div_idx[10]:\t [4, 9, 9, 24, 28, 16, 30, 30, 26, 34, 20, 12, 33, 33, 37, 49]\n",
      "div_idx[11]:\t [4, 9, 9, 12, 28, 16, 30, 30, 26, 34, 20, 24, 33, 33, 37, 49]\n",
      "div_idx[5]:\t [4, 9, 9, 12, 16, 28, 30, 30, 26, 34, 20, 24, 33, 33, 37, 49]\n",
      "div_idx[10]:\t [4, 9, 9, 12, 16, 20, 30, 30, 26, 34, 28, 24, 33, 33, 37, 49]\n",
      "div_idx[11]:\t [4, 9, 9, 12, 16, 20, 24, 30, 26, 34, 28, 30, 33, 33, 37, 49]\n",
      "div_idx[8]:\t [4, 9, 9, 12, 16, 20, 24, 26, 30, 34, 28, 30, 33, 33, 37, 49]\n",
      "div_idx[10]:\t [4, 9, 9, 12, 16, 20, 24, 26, 28, 34, 30, 30, 33, 33, 37, 49]\n",
      "div_idx[10]:\t [4, 9, 9, 12, 16, 20, 24, 26, 28, 30, 34, 30, 33, 33, 37, 49]\n",
      "div_idx[11]:\t [4, 9, 9, 12, 16, 20, 24, 26, 28, 30, 30, 34, 33, 33, 37, 49]\n",
      "div_idx[12]:\t [4, 9, 9, 12, 16, 20, 24, 26, 28, 30, 30, 33, 34, 33, 37, 49]\n",
      "div_idx[13]:\t [4, 9, 9, 12, 16, 20, 24, 26, 28, 30, 30, 33, 33, 34, 37, 49]\n",
      "div_idx[13]:\t [4, 9, 9, 12, 16, 20, 24, 26, 28, 30, 30, 33, 33, 34, 37, 49]\n",
      "div_idx[14]:\t [4, 9, 9, 12, 16, 20, 24, 26, 28, 30, 30, 33, 33, 34, 37, 49]\n",
      "div_idx[15]:\t [4, 9, 9, 12, 16, 20, 24, 26, 28, 30, 30, 33, 33, 34, 37, 49]\n",
      "--------------------------------------------------------------------------------\n",
      "Sorted:\t\t [4, 9, 9, 12, 16, 20, 24, 26, 28, 30, 30, 33, 33, 34, 37, 49]\n",
      "Runtime: 0.605ms\n"
     ]
    },
    {
     "data": {
      "text/plain": [
       "[4, 9, 9, 12, 16, 20, 24, 26, 28, 30, 30, 33, 33, 34, 37, 49]"
      ]
     },
     "execution_count": 296,
     "metadata": {},
     "output_type": "execute_result"
    }
   ],
   "source": [
    "#--- SelectionSort Testing------------------------------------------------------\n",
    "sel_arr = (np.random.randint(0, 50, 16).astype(dtype=int)).tolist()\n",
    "testSorting(sel_arr, selectionSort)"
   ]
  },
  {
   "cell_type": "markdown",
   "metadata": {},
   "source": [
    "### Bubble Sort\n",
    "\n",
    "Bubble Sort is the simplest sorting algorithm, and works by swapping adjacent elements in an array if they aren't in the right order. Generally bubble sort isn't a very efficient algorithm and runs at $O(n^{2})$, though implementations can be optimized to stop the loop is a swap doesn't occur."
   ]
  },
  {
   "cell_type": "code",
   "execution_count": 297,
   "metadata": {
    "collapsed": true
   },
   "outputs": [],
   "source": [
    "#--- BubbleSort-----------------------------------------------------------------\n",
    "#------- Repeatedly checks adjacent values and swaps them\n",
    "#------- if they are not in the correct order\n",
    "\n",
    "def bubbleSort(arr):\n",
    "    n = len(arr)\n",
    "    for i in range(0, n): # Traverse arr[]\n",
    "        swapped = False\n",
    "        \n",
    "        # Last i elements are already placed\n",
    "        for j in range(0, n-i-1):\n",
    "            if arr[j] > arr[j+1]: # Swap if j > j+1\n",
    "                arr[j], arr[j+1] = arr[j+1], arr[j]\n",
    "                swapped = True    # Flagged swapped\n",
    "        \n",
    "        print('\\t\\t {0}'.format(arr))\n",
    "        # If not swapped, break out of loop\n",
    "        if not swapped:     # Improves O(n)\n",
    "            break\n",
    "    return arr"
   ]
  },
  {
   "cell_type": "code",
   "execution_count": 298,
   "metadata": {},
   "outputs": [
    {
     "name": "stdout",
     "output_type": "stream",
     "text": [
      "Begin bubbleSort...:\n",
      "Unsorted:\t [4, 26, 21, 28, 4, 14, 47, 22, 32, 31, 34, 8, 43, 19, 37, 35]\n",
      "--------------------------------------------------------------------------------\n",
      "\t\t [4, 21, 26, 4, 14, 28, 22, 32, 31, 34, 8, 43, 19, 37, 35, 47]\n",
      "\t\t [4, 21, 4, 14, 26, 22, 28, 31, 32, 8, 34, 19, 37, 35, 43, 47]\n",
      "\t\t [4, 4, 14, 21, 22, 26, 28, 31, 8, 32, 19, 34, 35, 37, 43, 47]\n",
      "\t\t [4, 4, 14, 21, 22, 26, 28, 8, 31, 19, 32, 34, 35, 37, 43, 47]\n",
      "\t\t [4, 4, 14, 21, 22, 26, 8, 28, 19, 31, 32, 34, 35, 37, 43, 47]\n",
      "\t\t [4, 4, 14, 21, 22, 8, 26, 19, 28, 31, 32, 34, 35, 37, 43, 47]\n",
      "\t\t [4, 4, 14, 21, 8, 22, 19, 26, 28, 31, 32, 34, 35, 37, 43, 47]\n",
      "\t\t [4, 4, 14, 8, 21, 19, 22, 26, 28, 31, 32, 34, 35, 37, 43, 47]\n",
      "\t\t [4, 4, 8, 14, 19, 21, 22, 26, 28, 31, 32, 34, 35, 37, 43, 47]\n",
      "\t\t [4, 4, 8, 14, 19, 21, 22, 26, 28, 31, 32, 34, 35, 37, 43, 47]\n",
      "--------------------------------------------------------------------------------\n",
      "Sorted:\t\t [4, 4, 8, 14, 19, 21, 22, 26, 28, 31, 32, 34, 35, 37, 43, 47]\n",
      "Runtime: 0.383ms\n"
     ]
    },
    {
     "data": {
      "text/plain": [
       "[4, 4, 8, 14, 19, 21, 22, 26, 28, 31, 32, 34, 35, 37, 43, 47]"
      ]
     },
     "execution_count": 298,
     "metadata": {},
     "output_type": "execute_result"
    }
   ],
   "source": [
    "#--- BubblesSort Testing--------------------------------------------------------\n",
    "bub_arr = (np.random.randint(0, 50, 16).astype(dtype=int)).tolist()\n",
    "testSorting(bub_arr, bubbleSort)"
   ]
  },
  {
   "cell_type": "markdown",
   "metadata": {},
   "source": [
    "## Sorting Arrays\n",
    "<img src='https://github.com/WhitneyOnTheWeb/JupyterNotebooks/blob/master/Data%20Structures/ArraySortingAlgorithms.PNG?raw=true' width='80%'/>\n",
    "**----------------------------------------------**\n",
    "\n",
    "## Searching Arrays\n",
    "\n",
    "<img src='https://github.com/WhitneyOnTheWeb/JupyterNotebooks/blob/master/Data%20Structures/ArrayOperations.PNG?raw=true' width='53%'/>\n",
    "\n",
    "### Linear Search\n",
    "\n",
    "This is the most basic kind of array search function, and is generally only used in very simple or support applications, as other algorithms like binary search and hash tables give significantly better performance searching sorted arrays. This algorithm has a time complexity of $O(n)$."
   ]
  },
  {
   "cell_type": "code",
   "execution_count": 299,
   "metadata": {
    "collapsed": true
   },
   "outputs": [],
   "source": [
    "def linearSearch(arr, x):\n",
    "    for i in range(0, len(arr)):\n",
    "        print('[{1}]: {0}'.format(arr[i], i))\n",
    "        if arr[i] == x:\n",
    "            return i  # First index with x\n",
    "    return -1  # Not Found"
   ]
  },
  {
   "cell_type": "code",
   "execution_count": 300,
   "metadata": {},
   "outputs": [
    {
     "name": "stdout",
     "output_type": "stream",
     "text": [
      "Begin linearSearch...:\n",
      "Array:\t\t [13, 23, 11, 16, 15, 9, 19, 17, 6, 8, 9, 1, 6, 17, 21, 0]\n",
      "--------------------------------------------------------------------------------\n",
      "Searching for 10...\n",
      "[0]: 13\n",
      "[1]: 23\n",
      "[2]: 11\n",
      "[3]: 16\n",
      "[4]: 15\n",
      "[5]: 9\n",
      "[6]: 19\n",
      "[7]: 17\n",
      "[8]: 6\n",
      "[9]: 8\n",
      "[10]: 9\n",
      "[11]: 1\n",
      "[12]: 6\n",
      "[13]: 17\n",
      "[14]: 21\n",
      "[15]: 0\n",
      "\n",
      "10 Not Found\n",
      "Runtime: 0.588ms\n"
     ]
    }
   ],
   "source": [
    "#--- LinearSearch Testing--------------------------------------------------------\n",
    "lin_arr = (np.random.randint(0, 25, 16).astype(dtype=int)).tolist()\n",
    "x = 10\n",
    "testSearching(lin_arr, x, linearSearch)"
   ]
  },
  {
   "cell_type": "markdown",
   "metadata": {},
   "source": [
    "### Binary Search\n",
    "\n",
    "Binary Search searches a *sorted* array by repeatedly dividing the search interval in half, until the whole array has been searched. This is another type of divide and conquer algorithm. This is a very efficient algorithm, with a time complexity of $O(\\log{n})$, and cam be implented either recursively or iteratively.\n",
    "\n",
    "- If the value of the search element is less than element in the middle of the interval:\n",
    " - narrow the search scope to the lower half\n",
    " - otherwise narrow it to the upper half\n",
    "- Do this until the value is found or the scope is empty"
   ]
  },
  {
   "cell_type": "code",
   "execution_count": 583,
   "metadata": {},
   "outputs": [],
   "source": [
    "def binarySearch(arr, x):\n",
    "    # Set left and right indexes\n",
    "    lft = 0\n",
    "    rt = len(arr)-1\n",
    "    arr_range = arr\n",
    "    \n",
    "    # Iterate while left < right\n",
    "    while lft <= rt:\n",
    "        # # Set a base case for array size, needed for print\n",
    "        if len(arr_range) >= 1:\n",
    "        \n",
    "        # Split array at middle\n",
    "            mid = (lft + (rt-1)) // 2  \n",
    "            print('[{0}]:{1}\\t\\t {2}'.format(mid, arr[mid], arr_range))\n",
    "        # Use middle as search key\n",
    "            if arr[mid] == x:\n",
    "                return mid\n",
    "            elif arr[mid] < x: # Ignore left if < x\n",
    "                arr_range = arr[mid+1:rt]\n",
    "                lft = mid+1\n",
    "            elif arr[mid] > x: # Ignore right if > x\n",
    "                arr_range = arr[lft:mid-1]\n",
    "                rt = mid-1\n",
    "        else: return -1\n",
    "    return -1"
   ]
  },
  {
   "cell_type": "code",
   "execution_count": 584,
   "metadata": {
    "scrolled": false
   },
   "outputs": [
    {
     "name": "stdout",
     "output_type": "stream",
     "text": [
      "Begin quickSort...:\n",
      "Unsorted:\t [6, 13, 0, 4, 24, 12, 3, 4, 19, 13, 18, 7, 22, 18, 0, 11]\n",
      "--------------------------------------------------------------------------------\n",
      "div_idx[7]:\t [6, 0, 4, 3, 4, 7, 0, 11, 19, 13, 18, 12, 22, 18, 13, 24]\n",
      "div_idx[1]:\t [0, 0, 4, 3, 4, 7, 6, 11, 19, 13, 18, 12, 22, 18, 13, 24]\n",
      "div_idx[5]:\t [0, 0, 4, 3, 4, 6, 7, 11, 19, 13, 18, 12, 22, 18, 13, 24]\n",
      "div_idx[4]:\t [0, 0, 4, 3, 4, 6, 7, 11, 19, 13, 18, 12, 22, 18, 13, 24]\n",
      "div_idx[2]:\t [0, 0, 3, 4, 4, 6, 7, 11, 19, 13, 18, 12, 22, 18, 13, 24]\n",
      "div_idx[15]:\t [0, 0, 3, 4, 4, 6, 7, 11, 19, 13, 18, 12, 22, 18, 13, 24]\n",
      "div_idx[10]:\t [0, 0, 3, 4, 4, 6, 7, 11, 13, 12, 13, 19, 22, 18, 18, 24]\n",
      "div_idx[8]:\t [0, 0, 3, 4, 4, 6, 7, 11, 12, 13, 13, 19, 22, 18, 18, 24]\n",
      "div_idx[12]:\t [0, 0, 3, 4, 4, 6, 7, 11, 12, 13, 13, 18, 18, 19, 22, 24]\n",
      "div_idx[14]:\t [0, 0, 3, 4, 4, 6, 7, 11, 12, 13, 13, 18, 18, 19, 22, 24]\n",
      "--------------------------------------------------------------------------------\n",
      "Sorted:\t\t [0, 0, 3, 4, 4, 6, 7, 11, 12, 13, 13, 18, 18, 19, 22, 24]\n",
      "Runtime: 0.529ms\n",
      "\n",
      "\n",
      "Begin binarySearch...:\n",
      "Array:\t\t [0, 0, 3, 4, 4, 6, 7, 11, 12, 13, 13, 18, 18, 19, 22, 24]\n",
      "--------------------------------------------------------------------------------\n",
      "Searching for 10...\n",
      "[7]:11\t\t [0, 0, 3, 4, 4, 6, 7, 11, 12, 13, 13, 18, 18, 19, 22, 24]\n",
      "[2]:3\t\t [0, 0, 3, 4, 4, 6]\n",
      "[4]:4\t\t [4, 4, 6]\n",
      "[5]:6\t\t [6]\n",
      "\n",
      "10 Not Found\n",
      "Runtime: 0.139ms\n"
     ]
    }
   ],
   "source": [
    "#--- BinarySearch Testing--------------------------------------------------------\n",
    "bin_arr = (np.random.randint(0, 25, 16).astype(dtype=int)).tolist()\n",
    "x = 10\n",
    "\n",
    "bin_arr = testSorting(bin_arr, quickSort)\n",
    "print()\n",
    "print()\n",
    "testSearching(bin_arr, x, binarySearch)"
   ]
  },
  {
   "cell_type": "markdown",
   "metadata": {},
   "source": [
    "### Jump Search\n",
    "\n",
    "This is another popular algorithm for *sorted* arrays. This algorithm uses an approach of jumping ahead of fixed number of elements if the search element is not found, then cycling until the element is either found or the array elements are exhausted. Jump Search works between the speed of linear search and binary search, at $O(\\sqrt{n})$ time complexity"
   ]
  },
  {
   "cell_type": "code",
   "execution_count": 579,
   "metadata": {},
   "outputs": [],
   "source": [
    "def jumpSearch(arr, x):\n",
    "    # Set the jump length\n",
    "    n = len(arr)\n",
    "    sqrt = int(np.sqrt(n))\n",
    "    jump = sqrt\n",
    "    \n",
    "    # Some output to visualize what is happening\n",
    "    print('\\t\\t Block Size:{0}'.format(jump))\n",
    "    print('\\t\\t Blocks:{0}\\n'.format(n // jump))\n",
    "    print('\\t\\t Block[1] {0} <:> {1}'\\\n",
    "         .format(arr[0], arr[min(jump, n)-1]))\n",
    "    \n",
    "    # Search key\n",
    "    prev = 0\n",
    "    # Check x against min of each block\n",
    "    while arr[min(jump, n)-1] < x:\n",
    "        block = jump // sqrt + 1\n",
    "        print('\\t\\t Block[{0}] {1} <:> {2}'\\\n",
    "              .format(block\n",
    "                    , arr[min(jump, n)]\n",
    "                    , arr[min(jump, n)+sqrt-1]))\n",
    "        prev = jump\n",
    "        jump += sqrt\n",
    "        # Return if there isn't block with x\n",
    "        if prev >= n:\n",
    "            return -1\n",
    "    print()   \n",
    "    # If block contains x, search for x within that block\n",
    "    while arr[prev] < x:\n",
    "        print('\\t\\t index[{0}]:\\t{1}'.format(prev, arr[prev]))\n",
    "        prev +=1\n",
    "        # If next block or arr[-1], x not found\n",
    "        if prev == min(jump, n):\n",
    "            return -1\n",
    "        \n",
    "    # Return the x if found\n",
    "    if arr[prev] == x:\n",
    "        print('\\t\\t index[{0}]:\\t{1}'.format(prev, arr[prev]))\n",
    "        return prev\n",
    "    \n",
    "    # Extra print so you can see the next value is > x\n",
    "    print('\\t\\t index[{0}]:\\t{1}'.format(prev, arr[prev]))\n",
    "    return -1"
   ]
  },
  {
   "cell_type": "code",
   "execution_count": 580,
   "metadata": {
    "scrolled": false
   },
   "outputs": [
    {
     "name": "stdout",
     "output_type": "stream",
     "text": [
      "Begin quickSort...:\n",
      "Unsorted:\t [9, 16, 19, 20, 14, 21, 9, 6, 17, 3, 17, 8, 6, 23, 17, 15]\n",
      "--------------------------------------------------------------------------------\n",
      "div_idx[7]:\t [9, 14, 9, 6, 3, 8, 6, 15, 17, 16, 17, 21, 19, 23, 17, 20]\n",
      "div_idx[2]:\t [6, 3, 6, 9, 14, 8, 9, 15, 17, 16, 17, 21, 19, 23, 17, 20]\n",
      "div_idx[0]:\t [3, 6, 6, 9, 14, 8, 9, 15, 17, 16, 17, 21, 19, 23, 17, 20]\n",
      "div_idx[5]:\t [3, 6, 6, 9, 8, 9, 14, 15, 17, 16, 17, 21, 19, 23, 17, 20]\n",
      "div_idx[3]:\t [3, 6, 6, 8, 9, 9, 14, 15, 17, 16, 17, 21, 19, 23, 17, 20]\n",
      "div_idx[13]:\t [3, 6, 6, 8, 9, 9, 14, 15, 17, 16, 17, 19, 17, 20, 21, 23]\n",
      "div_idx[11]:\t [3, 6, 6, 8, 9, 9, 14, 15, 17, 16, 17, 17, 19, 20, 21, 23]\n",
      "div_idx[10]:\t [3, 6, 6, 8, 9, 9, 14, 15, 17, 16, 17, 17, 19, 20, 21, 23]\n",
      "div_idx[8]:\t [3, 6, 6, 8, 9, 9, 14, 15, 16, 17, 17, 17, 19, 20, 21, 23]\n",
      "div_idx[15]:\t [3, 6, 6, 8, 9, 9, 14, 15, 16, 17, 17, 17, 19, 20, 21, 23]\n",
      "--------------------------------------------------------------------------------\n",
      "Sorted:\t\t [3, 6, 6, 8, 9, 9, 14, 15, 16, 17, 17, 17, 19, 20, 21, 23]\n",
      "Runtime: 0.251ms\n",
      "\n",
      "\n",
      "Begin jumpSearch...:\n",
      "Array:\t\t [3, 6, 6, 8, 9, 9, 14, 15, 16, 17, 17, 17, 19, 20, 21, 23]\n",
      "--------------------------------------------------------------------------------\n",
      "Searching for 15...\n",
      "\t\t Block Size:4\n",
      "\t\t Blocks:4\n",
      "\n",
      "\t\t Block[1] 3 <:> 8\n",
      "\t\t Block[2] 9 <:> 15\n",
      "\n",
      "\t\t index[4]:\t9\n",
      "\t\t index[5]:\t9\n",
      "\t\t index[6]:\t14\n",
      "\t\t index[7]:\t15\n",
      "\n",
      "15 Found: index[7]\n",
      "Runtime: 0.196ms\n"
     ]
    }
   ],
   "source": [
    "#--- JumpSearch Testing--------------------------------------------------------\n",
    "jump_arr = (np.random.randint(0, 25, 16).astype(dtype=int)).tolist()\n",
    "x = 15\n",
    "\n",
    "jump_arr = testSorting(jump_arr, quickSort)\n",
    "print()\n",
    "print()\n",
    "testSearching(jump_arr, x, jumpSearch)"
   ]
  },
  {
   "cell_type": "markdown",
   "metadata": {},
   "source": [
    "**-------------------------------------------**\n",
    "## Array Functions"
   ]
  },
  {
   "cell_type": "code",
   "execution_count": 585,
   "metadata": {},
   "outputs": [
    {
     "name": "stdout",
     "output_type": "stream",
     "text": [
      "[20, 8, 13, 15, 15, 5, 18, 8, 22, 17, 6, 10, 3, 23, 11, 7]\n"
     ]
    }
   ],
   "source": [
    "arr = (np.random.randint(0, 25, 16).astype(dtype=int)).tolist()\n",
    "print(arr)"
   ]
  },
  {
   "cell_type": "code",
   "execution_count": 586,
   "metadata": {},
   "outputs": [
    {
     "name": "stdout",
     "output_type": "stream",
     "text": [
      "Max Value:  23\n"
     ]
    }
   ],
   "source": [
    "# Pythons built-in version of TimSort - very fast! O(nlogn)\n",
    "arr = sorted(arr)\n",
    "\n",
    "# 1 Print the max element in a given list\n",
    "print('Max Value: ', max(arr))"
   ]
  },
  {
   "cell_type": "code",
   "execution_count": 591,
   "metadata": {},
   "outputs": [
    {
     "name": "stdout",
     "output_type": "stream",
     "text": [
      "Min Recurring: 3\n"
     ]
    }
   ],
   "source": [
    "# 2 Print the least-recurring value in the given list\n",
    "min_re = min(arr,key=arr.count)\n",
    "print('Min Recurring:', min(arr,key=arr.count))"
   ]
  },
  {
   "cell_type": "code",
   "execution_count": 592,
   "metadata": {},
   "outputs": [
    {
     "name": "stdout",
     "output_type": "stream",
     "text": [
      "2nd Min Recurring:  5\n"
     ]
    }
   ],
   "source": [
    "# 2b Print the second least-recurring value in the given list\n",
    "idx = arr.index(min_re)\n",
    "arr.remove(min_re)\n",
    "print('2nd Min Recurring: ', min(arr,key=arr.count))\n",
    "arr.insert(idx, min_re)"
   ]
  },
  {
   "cell_type": "code",
   "execution_count": 593,
   "metadata": {},
   "outputs": [
    {
     "name": "stdout",
     "output_type": "stream",
     "text": [
      "Max Recurring:  8\n"
     ]
    }
   ],
   "source": [
    "# 3 Print the first most recurring value in the given list\n",
    "print('Max Recurring: ', max(arr,key=arr.count))"
   ]
  },
  {
   "cell_type": "code",
   "execution_count": 594,
   "metadata": {},
   "outputs": [
    {
     "name": "stdout",
     "output_type": "stream",
     "text": [
      "Median:  12.0\n"
     ]
    }
   ],
   "source": [
    "# 4 Print the median of the given list\n",
    "mid = len(arr) // 2                           # Integer divide\n",
    "print('Median: ', (arr[mid] + arr[~mid]) / 2) # ~ Inverts sign"
   ]
  },
  {
   "cell_type": "code",
   "execution_count": 595,
   "metadata": {
    "collapsed": true
   },
   "outputs": [],
   "source": [
    "# 5 Print the greatest common factor of the given list\n",
    "from functools import reduce\n",
    "\n",
    "# Associative method to compute factors:\n",
    "# i.e. gcd(a, b, c) = gcd(gcd(a, b), c) = gcd(a, gcd(b, c))\n",
    "def gcf(*args):\n",
    "    # Return if list has 1 number\n",
    "    if len(args) == 1:\n",
    "        return args[0]\n",
    "    # Create temp list to hold GCF values\n",
    "    \n",
    "    F = list(args)\n",
    "    n = len(F)\n",
    "    \n",
    "    while n > 1:\n",
    "        a = F[n-2]\n",
    "        b = F[n-1]\n",
    "        F = F[:n-2]\n",
    "        \n",
    "        # Factor F[-2:] as a and b against F[:-2]\n",
    "        while a:\n",
    "            a, b = b % a, a\n",
    "            \n",
    "        # Keep the factored value  \n",
    "        F.append(b)\n",
    "    # Make it positive\n",
    "    return abs(b)\n",
    "\n",
    "# Reduce the args by whats already been factored\n",
    "def gcf(*args):\n",
    "    return reduce(fac, args)\n",
    "\n",
    "# Recursively factor a and b\n",
    "def fac(a, b):\n",
    "    return a if b == 0 else fac(b, a % b)"
   ]
  },
  {
   "cell_type": "code",
   "execution_count": 596,
   "metadata": {},
   "outputs": [
    {
     "name": "stdout",
     "output_type": "stream",
     "text": [
      "GCF:  1\n"
     ]
    }
   ],
   "source": [
    "print('GCF: ', gcf(*arr))"
   ]
  },
  {
   "cell_type": "code",
   "execution_count": 597,
   "metadata": {},
   "outputs": [
    {
     "name": "stdout",
     "output_type": "stream",
     "text": [
      "GCF Test: 50\n"
     ]
    }
   ],
   "source": [
    "arr2 = [150, 250, 350, 450, 550, 650, 750, 850, 950, 1050]\n",
    "print('GCF Test:', gcf(*arr2))"
   ]
  },
  {
   "cell_type": "code",
   "execution_count": 598,
   "metadata": {
    "collapsed": true
   },
   "outputs": [],
   "source": [
    "names = [\"Bob\", \"Jill\", \"Bob\", \"Alice\"]"
   ]
  },
  {
   "cell_type": "code",
   "execution_count": 599,
   "metadata": {},
   "outputs": [
    {
     "name": "stdout",
     "output_type": "stream",
     "text": [
      "{'Bob', 'Jill', 'Alice'}\n"
     ]
    }
   ],
   "source": [
    "# 6. In a list of names, how would you remove duplicates?\n",
    "names = set(names)\n",
    "print(names)"
   ]
  },
  {
   "cell_type": "markdown",
   "metadata": {},
   "source": [
    "**Key Concepts:**\n",
    "- ```max()```/```min()``` regroup iterable by ```key=```\n",
    "- ```~``` to flip sign of a number from positive to negative or vice versa\n",
    "- ```//``` to return integer divide\n",
    "- Associative functions call one or more arguments (```*args```)\n",
    "- ```reduce()``` to shrink input based on function\n",
    "-  Use ```set()``` to get rid of duplicates if order isn't important\n",
    " -  ```set()``` can be converted back to ```list()``` and ```sorted()``` afterwards if needed"
   ]
  },
  {
   "cell_type": "markdown",
   "metadata": {},
   "source": [
    "### Move Zeros\n",
    "Given an array ```nums```, write a function to move all 0's to the end of it while maintaining the relative order of the non-zero elements."
   ]
  },
  {
   "cell_type": "code",
   "execution_count": 600,
   "metadata": {
    "collapsed": true
   },
   "outputs": [],
   "source": [
    "def moveZeros(nums):\n",
    "    # Search/Delete/Insert\n",
    "    for num in nums:\n",
    "        if num == 0:\n",
    "            nums.remove(num)\n",
    "            nums.append(num)\n",
    "    return nums"
   ]
  },
  {
   "cell_type": "code",
   "execution_count": 601,
   "metadata": {},
   "outputs": [
    {
     "name": "stdout",
     "output_type": "stream",
     "text": [
      "[2, 0, 0, 1, 3, 0, 1, 2, 4, 1, 2, 0, 0, 3, 0, 3, 0, 0, 0, 0]\n"
     ]
    },
    {
     "data": {
      "text/plain": [
       "[2, 1, 3, 1, 2, 4, 1, 2, 3, 3, 0, 0, 0, 0, 0, 0, 0, 0, 0, 0]"
      ]
     },
     "execution_count": 601,
     "metadata": {},
     "output_type": "execute_result"
    }
   ],
   "source": [
    "# Unsorted Array \n",
    "# Time Complexity: O(n)\n",
    "\n",
    "nums = (np.random.randint(0, 5, 20).astype(dtype=int)).tolist()\n",
    "print(nums)\n",
    "moveZeros(nums)"
   ]
  },
  {
   "cell_type": "markdown",
   "metadata": {},
   "source": [
    "### Add Binary\n",
    "Given two binary strings, return their sum (also a binary string)."
   ]
  },
  {
   "cell_type": "code",
   "execution_count": 602,
   "metadata": {
    "collapsed": true
   },
   "outputs": [],
   "source": [
    "# Time Complexity: O(1)\n",
    "def addBinary(a, b):\n",
    "    c = bin(int(a,2) + int(b,2))\n",
    "    return(c[2:])"
   ]
  },
  {
   "cell_type": "code",
   "execution_count": 603,
   "metadata": {},
   "outputs": [
    {
     "name": "stdout",
     "output_type": "stream",
     "text": [
      "00111101\n",
      "10011101\n"
     ]
    },
    {
     "data": {
      "text/plain": [
       "'11011010'"
      ]
     },
     "execution_count": 603,
     "metadata": {},
     "output_type": "execute_result"
    }
   ],
   "source": [
    "a_bin = (np.random.choice([0, 1], size=(8))).tolist()\n",
    "b_bin = (np.random.choice([0, 1], size=(8))).tolist()\n",
    "\n",
    "a = ''.join(map(str, a_bin))\n",
    "b = ''.join(map(str, b_bin))\n",
    "\n",
    "print(a)\n",
    "print(b)\n",
    "addBinary(a,b)"
   ]
  },
  {
   "cell_type": "markdown",
   "metadata": {},
   "source": [
    "### Intersection of Two Arrays\n",
    "Given two arrays, write a function to compute their intersection\n",
    "\n",
    "Example:\n",
    "\n",
    "   ```nums1 = [1, 2, 2, 1], nums2 = [2, 2], \n",
    "      return [2, 2]```\n"
   ]
  },
  {
   "cell_type": "code",
   "execution_count": 89,
   "metadata": {
    "collapsed": true
   },
   "outputs": [],
   "source": [
    "def intersect(nums1, nums2):\n",
    "    intersect = []\n",
    "    for num in nums1:\n",
    "        if num in nums2:\n",
    "            nums2.remove(num)\n",
    "            intersect.append(num)\n",
    "    return intersect"
   ]
  },
  {
   "cell_type": "code",
   "execution_count": 90,
   "metadata": {},
   "outputs": [
    {
     "data": {
      "text/plain": [
       "[56, 49, 8, 39, 44]"
      ]
     },
     "execution_count": 90,
     "metadata": {},
     "output_type": "execute_result"
    }
   ],
   "source": [
    "# Unsorted Array \n",
    "# Time Complexity: O(n)\n",
    "arr1 = ((np.random.rand(30) * 100).astype(dtype=int)).tolist()\n",
    "arr2 = ((np.random.rand(30) * 100).astype(dtype=int)).tolist()\n",
    "\n",
    "intersect(arr1, arr2)"
   ]
  },
  {
   "cell_type": "markdown",
   "metadata": {},
   "source": [
    "### 3Sum\n",
    "Given an array nums of n integers, are their elements a, b, c in nums such that a + b + c = 0? Find all unique triplets in the array which gives the sum of zero."
   ]
  },
  {
   "cell_type": "code",
   "execution_count": 91,
   "metadata": {
    "collapsed": true
   },
   "outputs": [],
   "source": [
    "def threeSum(nums):\n",
    "    nums = sorted(nums)\n",
    "    abc = []\n",
    "    \n",
    "    for a in range(len(nums) - 2):\n",
    "        if a > 0 and nums[a] == nums[a - 1]:\n",
    "            continue\n",
    "        b = a + 1\n",
    "        c = len(nums) - 1\n",
    "        target = -nums[a]\n",
    "        \n",
    "        while b < c:\n",
    "            if nums[b] + nums[c] == target:\n",
    "                abc.append([nums[a], nums[b], nums[c]])\n",
    "                b += 1\n",
    "                c -= 1\n",
    "                while b < c and nums[b] == nums[b - 1]:\n",
    "                    b += 1\n",
    "                while b < c and nums[c] == nums[c + 1]:\n",
    "                    c -= 1\n",
    "            elif nums[b] + nums[c] < target:\n",
    "                b += 1\n",
    "            else:\n",
    "                c -= 1\n",
    "    return abc"
   ]
  },
  {
   "cell_type": "code",
   "execution_count": 92,
   "metadata": {},
   "outputs": [
    {
     "name": "stdout",
     "output_type": "stream",
     "text": [
      "[-3, 3, 3, 1, -1, -1, -3, -4, -2, 1]\n",
      "nums:  [[-4, 1, 3], [-2, -1, 3], [-2, 1, 1]]\n",
      "nums2:  []\n",
      "nums3:  [[-1, -1, 2], [-1, 0, 1]]\n",
      "nums4:  [[-2, -1, 3], [-2, 0, 2], [-1, 0, 1]]\n"
     ]
    }
   ],
   "source": [
    "nums = (np.random.randint(-4, 4, 10)).tolist()    #Testing\n",
    "nums2 = [1,2,-2,-1]                 #Expected []\n",
    "nums3 = [-1,0,1,2,-1,-4]            #Expected [[-1, 2, -1], [-1, 0, 1]]\n",
    "nums4 = [3,0,-2,-1,1,2]             #Expected [[-2,-1,3],[-2,0,2],[-1,0,1]]\n",
    "\n",
    "print(nums)\n",
    "print('nums: ', threeSum(nums))\n",
    "print('nums2: ', threeSum(nums2))\n",
    "print('nums3: ', threeSum(nums3))\n",
    "print('nums4: ', threeSum(nums4))"
   ]
  },
  {
   "cell_type": "markdown",
   "metadata": {},
   "source": [
    "### Valid Palindrome\n",
    "\n",
    "Given a string, determine if it is a palindrome, considering only alphanumeric characters and ignoring cases.\n",
    "\n",
    "Note: For the purpose of this problem, we define empty string as valid palindrome"
   ]
  },
  {
   "cell_type": "code",
   "execution_count": 93,
   "metadata": {
    "collapsed": true
   },
   "outputs": [],
   "source": [
    "def isPalindrome(s):\n",
    "    s = s.lower()\n",
    "    if s.isalnum():\n",
    "        if len(s) == 1 or s == None:\n",
    "                return True\n",
    "        return s == s[::-1]\n",
    "    else:\n",
    "        s = list(s)\n",
    "        s = [i for i in s if i.isalnum()]\n",
    "        return s == s[::-1]"
   ]
  },
  {
   "cell_type": "code",
   "execution_count": 94,
   "metadata": {},
   "outputs": [
    {
     "name": "stdout",
     "output_type": "stream",
     "text": [
      "True\n",
      "True\n",
      "False\n",
      "False\n"
     ]
    }
   ],
   "source": [
    "s = \"A man, a plan, a canal: Panama\"\n",
    "s2 = \"avid diva\"\n",
    "s3 = \"0P\"\n",
    "s4 = 'race a car'\n",
    "\n",
    "print(isPalindrome(s))\n",
    "print(isPalindrome(s2))\n",
    "print(isPalindrome(s3))\n",
    "print(isPalindrome(s4))"
   ]
  },
  {
   "cell_type": "markdown",
   "metadata": {},
   "source": [
    "### Valid Palindrome II\n",
    "\n",
    "Given a non-empty string, determine if it can be made a palindrome by removing a single character"
   ]
  },
  {
   "cell_type": "code",
   "execution_count": 95,
   "metadata": {
    "collapsed": true
   },
   "outputs": [],
   "source": [
    "def validPalindrome(s):\n",
    "        \n",
    "    def is_pal(i, j):\n",
    "        return all(s[k] == s[j-k+i] for k in range(i, j))\n",
    "        \n",
    "    for i in range(len(s) // 2):\n",
    "        if s[i] != s[~i]:\n",
    "            j = len(s) - 1 - i\n",
    "            return is_pal(i+1, j) or is_pal(i, j-1)\n",
    "    return True"
   ]
  },
  {
   "cell_type": "code",
   "execution_count": 96,
   "metadata": {},
   "outputs": [
    {
     "name": "stdout",
     "output_type": "stream",
     "text": [
      "True\n",
      "True\n",
      "False\n"
     ]
    }
   ],
   "source": [
    "a2 = \"aba\"\n",
    "a3 = \"cbbcc\"\n",
    "a4 = 'abc'\n",
    "print(validPalindrome(a2))\n",
    "print(validPalindrome(a3))\n",
    "print(validPalindrome(a4))"
   ]
  },
  {
   "cell_type": "markdown",
   "metadata": {},
   "source": [
    "### Valid Number\n",
    "\n",
    "Validate if a given string is numeric.\n",
    "\n",
    "Some examples:\n",
    "- \"0\" => true\n",
    "- \" 0.1 \" => true\n",
    "- \"abc\" => false\n",
    "- \"1 a\" => false\n",
    "- \"2e10\" => true"
   ]
  },
  {
   "cell_type": "code",
   "execution_count": 97,
   "metadata": {
    "collapsed": true
   },
   "outputs": [],
   "source": [
    "def isNumber(s):\n",
    "    try: \n",
    "        parse_num = '{0:g}'.format(int(s))\n",
    "        if parse_num.isnumeric():\n",
    "            return True\n",
    "    except: \n",
    "        try: \n",
    "            parse_num = float(s)\n",
    "        except: \n",
    "            return False\n",
    "    return True"
   ]
  },
  {
   "cell_type": "code",
   "execution_count": 98,
   "metadata": {},
   "outputs": [
    {
     "name": "stdout",
     "output_type": "stream",
     "text": [
      "False\n",
      "True\n",
      "True\n",
      "False\n"
     ]
    }
   ],
   "source": [
    "n = 'Hello'\n",
    "n2 = '5232'\n",
    "n3 = '2e10'\n",
    "n4 = '\"+ 1'\n",
    "\n",
    "print(isNumber(n))\n",
    "print(isNumber(n2))\n",
    "print(isNumber(n3))\n",
    "print(isNumber(n4))"
   ]
  },
  {
   "cell_type": "markdown",
   "metadata": {},
   "source": [
    "### Trapping Rain Water\n",
    "\n",
    "Given n non-negative integers representing an elevation map where the width of each bar is 1, compute how much water it is able to trap after raining."
   ]
  },
  {
   "cell_type": "code",
   "execution_count": 99,
   "metadata": {
    "collapsed": true
   },
   "outputs": [],
   "source": [
    "def trapRainWater(height):\n",
    "    water = 0\n",
    "        \n",
    "    if height == None or height == []: return water\n",
    "    \n",
    "    length = len(height)\n",
    "    left = [0]*length\n",
    "    right = [0]*length\n",
    "    \n",
    "    # Get the tallest left bar\n",
    "    left[0] = height[0]\n",
    "    for i in range(1, length):\n",
    "        left[i] = max(left[i-1], height[i])\n",
    "        \n",
    "    # Get the tallest right bar\n",
    "    right[length-1] = height[length-1]\n",
    "    for i in range(length - 2, -1, -1):\n",
    "        right[i] = max(right[i+1], height[i])\n",
    "    \n",
    "    # Total water block by block\n",
    "    for i in range(0, length):\n",
    "        water += min(left[i], right[i]) - height[i]\n",
    "        \n",
    "    return water"
   ]
  },
  {
   "cell_type": "code",
   "execution_count": 100,
   "metadata": {},
   "outputs": [
    {
     "name": "stdout",
     "output_type": "stream",
     "text": [
      "6\n",
      "14\n",
      "0\n"
     ]
    }
   ],
   "source": [
    "t = [0,1,0,2,1,0,1,3,2,1,2,1]\n",
    "t2 = (np.random.randint(0, 4, 12)).tolist()\n",
    "t3 = [0, 2, 0]\n",
    "#print(t2)\n",
    "\n",
    "print(trapRainWater(t))\n",
    "print(trapRainWater(t2))\n",
    "print(trapRainWater(t3))"
   ]
  }
 ],
 "metadata": {
  "kernelspec": {
   "display_name": "Python 3",
   "language": "python",
   "name": "python3"
  },
  "language_info": {
   "codemirror_mode": {
    "name": "ipython",
    "version": 3
   },
   "file_extension": ".py",
   "mimetype": "text/x-python",
   "name": "python",
   "nbconvert_exporter": "python",
   "pygments_lexer": "ipython3",
   "version": "3.6.1"
  }
 },
 "nbformat": 4,
 "nbformat_minor": 2
}
