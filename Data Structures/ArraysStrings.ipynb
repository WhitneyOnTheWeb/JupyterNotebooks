{
 "cells": [
  {
   "cell_type": "code",
   "execution_count": 1,
   "metadata": {
    "collapsed": true
   },
   "outputs": [],
   "source": [
    "import numpy as np"
   ]
  },
  {
   "cell_type": "markdown",
   "metadata": {},
   "source": [
    "## Arrays and Strings\n",
    "\n",
    "\n",
    "## Arrays\n",
    "\n",
    " -  The most basic data structure\n",
    " -  Indexed container for a fixed number of elements of the same type\n",
    "     -  Example includes a string\n",
    " \n",
    "\n",
    "#### Big O\n",
    " -  Any element can be accessed at a cost of O(1) by index\n",
    " -  Adding/removing an element costs O(n)\n",
    " \n",
    "### Move Zeros\n",
    "Given an array nums, write a function to move all 0's to the end of it while maintaining the relative order of the non-zero elements."
   ]
  },
  {
   "cell_type": "code",
   "execution_count": 2,
   "metadata": {
    "collapsed": true
   },
   "outputs": [],
   "source": [
    "def moveZeroes(nums):\n",
    "        for num in nums:\n",
    "            if num == 0:\n",
    "                nums.remove(num)\n",
    "                nums.append(num)\n",
    "        return nums"
   ]
  },
  {
   "cell_type": "code",
   "execution_count": 3,
   "metadata": {},
   "outputs": [
    {
     "data": {
      "text/plain": [
       "[2, 1, 2, 1, 2, 3, 4, 4, 3, 1, 4, 4, 1, 4, 1, 0, 0, 0, 0, 0]"
      ]
     },
     "execution_count": 3,
     "metadata": {},
     "output_type": "execute_result"
    }
   ],
   "source": [
    "nums = (np.random.randint(0, 5, 20).astype(dtype=int)).tolist()\n",
    "moveZeroes(nums)"
   ]
  },
  {
   "cell_type": "markdown",
   "metadata": {},
   "source": [
    "### Add Binary\n",
    "Given two binary strings, return their sum (also a binary string)."
   ]
  },
  {
   "cell_type": "code",
   "execution_count": 4,
   "metadata": {
    "collapsed": true
   },
   "outputs": [],
   "source": [
    "def addBinary(a, b):\n",
    "    c = bin(int(a,2) + int(b,2))\n",
    "    return(c[2:])"
   ]
  },
  {
   "cell_type": "code",
   "execution_count": 5,
   "metadata": {},
   "outputs": [
    {
     "name": "stdout",
     "output_type": "stream",
     "text": [
      "10111011\n",
      "10101101\n",
      "\n"
     ]
    },
    {
     "data": {
      "text/plain": [
       "'101101000'"
      ]
     },
     "execution_count": 5,
     "metadata": {},
     "output_type": "execute_result"
    }
   ],
   "source": [
    "a_bin = (np.random.choice([0, 1], size=(8))).tolist()\n",
    "b_bin = (np.random.choice([0, 1], size=(8))).tolist()\n",
    "\n",
    "a = ''.join(map(str, a_bin))\n",
    "b = ''.join(map(str, b_bin))\n",
    "\n",
    "print(a)\n",
    "print(b)\n",
    "print()\n",
    "\n",
    "addBinary(a,b)"
   ]
  },
  {
   "cell_type": "markdown",
   "metadata": {},
   "source": [
    "### Intersection of Two Arrays\n",
    "Given two arrays, write a function to compute their intersection\n",
    "\n",
    "Example:\n",
    "\n",
    "   ```nums1 = [1, 2, 2, 1], nums2 = [2, 2], \n",
    "      return [2, 2]```\n"
   ]
  },
  {
   "cell_type": "code",
   "execution_count": 6,
   "metadata": {
    "collapsed": true
   },
   "outputs": [],
   "source": [
    "def intersect(nums1, nums2):\n",
    "    intersect = []\n",
    "    for num in nums1:\n",
    "        if num in nums2:\n",
    "            nums2.remove(num)\n",
    "            intersect.append(num)\n",
    "    return intersect"
   ]
  },
  {
   "cell_type": "code",
   "execution_count": 7,
   "metadata": {},
   "outputs": [
    {
     "data": {
      "text/plain": [
       "[19, 89, 7, 60, 40]"
      ]
     },
     "execution_count": 7,
     "metadata": {},
     "output_type": "execute_result"
    }
   ],
   "source": [
    "arr1 = ((np.random.rand(30) * 100).astype(dtype=int)).tolist()\n",
    "arr2 = ((np.random.rand(30) * 100).astype(dtype=int)).tolist()\n",
    "\n",
    "intersect(arr1, arr2)"
   ]
  },
  {
   "cell_type": "markdown",
   "metadata": {},
   "source": [
    "### 3Sum\n",
    "Given an array nums of n integers, are their elements a, b, c in nums such that a + b + c = 0? Find all unique triplets in the array which gives the sum of zero."
   ]
  },
  {
   "cell_type": "code",
   "execution_count": 399,
   "metadata": {},
   "outputs": [],
   "source": [
    "def threeSum(nums):\n",
    "    nums = sorted(nums)\n",
    "    abc = []\n",
    "    \n",
    "    for a in range(len(nums) - 2):\n",
    "        if a > 0 and nums[a] == nums[a - 1]:\n",
    "            continue\n",
    "        b = a + 1\n",
    "        c = len(nums) - 1\n",
    "        target = -nums[a]\n",
    "        \n",
    "        while b < c:\n",
    "            if nums[b] + nums[c] == target:\n",
    "                abc.append([nums[a], nums[b], nums[c]])\n",
    "                b += 1\n",
    "                c -= 1\n",
    "                while b < c and nums[b] == nums[b - 1]:\n",
    "                    b += 1\n",
    "                while b < c and nums[c] == nums[c + 1]:\n",
    "                    c -= 1\n",
    "            elif nums[b] + nums[c] < target:\n",
    "                b += 1\n",
    "            else:\n",
    "                c -= 1\n",
    "    return abc\n",
    "        "
   ]
  },
  {
   "cell_type": "code",
   "execution_count": 400,
   "metadata": {},
   "outputs": [
    {
     "name": "stdout",
     "output_type": "stream",
     "text": [
      "[-3, 0, -4, -3, 1, 3, 1, -1, 3, -3]\n",
      "nums:  [[-4, 1, 3], [-3, 0, 3], [-1, 0, 1]]\n",
      "nums2:  []\n",
      "nums3:  [[-1, -1, 2], [-1, 0, 1]]\n",
      "nums4:  [[-2, -1, 3], [-2, 0, 2], [-1, 0, 1]]\n"
     ]
    }
   ],
   "source": [
    "nums = (np.random.randint(-4, 4, 10)).tolist()    #Testing\n",
    "nums2 = [1,2,-2,-1]                 #Expected []\n",
    "nums3 = [-1,0,1,2,-1,-4]            #Expected [[-1, 2, -1], [-1, 0, 1]]\n",
    "nums4 = [3,0,-2,-1,1,2]             #Expected [[-2,-1,3],[-2,0,2],[-1,0,1]]\n",
    "\n",
    "print(nums)\n",
    "print('nums: ', threeSum(nums))\n",
    "print('nums2: ', threeSum(nums2))\n",
    "print('nums3: ', threeSum(nums3))\n",
    "print('nums4: ', threeSum(nums4))"
   ]
  },
  {
   "cell_type": "markdown",
   "metadata": {},
   "source": [
    "### Valid Palindrome\n",
    "\n",
    "Given a string, determine if it is a palindrome, considering only alphanumeric characters and ignoring cases.\n",
    "\n",
    "Note: For the purpose of this problem, we define empty string as valid palindrome"
   ]
  },
  {
   "cell_type": "code",
   "execution_count": 231,
   "metadata": {},
   "outputs": [],
   "source": [
    "def isPalindrome(s):\n",
    "    s = s.lower()\n",
    "    if s.isalnum():\n",
    "        if len(s) == 1 or s == None:\n",
    "                return True\n",
    "        return s == s[::-1]\n",
    "    else:\n",
    "        s = list(s)\n",
    "        s = [i for i in s if i.isalnum()]\n",
    "        return s == s[::-1]"
   ]
  },
  {
   "cell_type": "code",
   "execution_count": 235,
   "metadata": {},
   "outputs": [
    {
     "name": "stdout",
     "output_type": "stream",
     "text": [
      "True\n",
      "True\n",
      "False\n",
      "False\n"
     ]
    }
   ],
   "source": [
    "s = \"A man, a plan, a canal: Panama\"\n",
    "s2 = \"avid diva\"\n",
    "s3 = \"0P\"\n",
    "s4 = 'race a car'\n",
    "\n",
    "print(isPalindrome(s))\n",
    "print(isPalindrome(s2))\n",
    "print(isPalindrome(s3))\n",
    "print(isPalindrome(s4))"
   ]
  },
  {
   "cell_type": "markdown",
   "metadata": {},
   "source": [
    "### Valid Palindrome II\n",
    "\n",
    "Given a non-empty string, determine if it can be made a palindrome by removing a single character"
   ]
  },
  {
   "cell_type": "code",
   "execution_count": 401,
   "metadata": {},
   "outputs": [],
   "source": [
    "def validPalindrome(s):\n",
    "        \n",
    "    def is_pal(i, j):\n",
    "        return all(s[k] == s[j-k+i] for k in range(i, j))\n",
    "        \n",
    "    for i in range(len(s) // 2):\n",
    "        if s[i] != s[~i]:\n",
    "            j = len(s) - 1 - i\n",
    "            return is_pal(i+1, j) or is_pal(i, j-1)\n",
    "    return True"
   ]
  },
  {
   "cell_type": "code",
   "execution_count": 402,
   "metadata": {},
   "outputs": [
    {
     "name": "stdout",
     "output_type": "stream",
     "text": [
      "True\n",
      "True\n",
      "False\n"
     ]
    }
   ],
   "source": [
    "a2 = \"aba\"\n",
    "a3 = \"cbbcc\"\n",
    "a4 = 'abc'\n",
    "print(validPalindrome(a2))\n",
    "print(validPalindrome(a3))\n",
    "print(validPalindrome(a4))"
   ]
  },
  {
   "cell_type": "markdown",
   "metadata": {},
   "source": [
    "### Valid Number\n",
    "\n",
    "Validate if a given string is numeric.\n",
    "\n",
    "Some examples:\n",
    "- \"0\" => true\n",
    "- \" 0.1 \" => true\n",
    "- \"abc\" => false\n",
    "- \"1 a\" => false\n",
    "- \"2e10\" => true"
   ]
  },
  {
   "cell_type": "code",
   "execution_count": 318,
   "metadata": {},
   "outputs": [],
   "source": [
    "def isNumber(s):\n",
    "    try: \n",
    "        parse_num = '{0:g}'.format(int(s))\n",
    "        if parse_num.isnumeric():\n",
    "            return True\n",
    "    except: \n",
    "        try: \n",
    "            parse_num = float(s)\n",
    "        except: \n",
    "            return False\n",
    "    return True"
   ]
  },
  {
   "cell_type": "code",
   "execution_count": 319,
   "metadata": {},
   "outputs": [
    {
     "name": "stdout",
     "output_type": "stream",
     "text": [
      "False\n",
      "True\n",
      "True\n",
      "False\n"
     ]
    }
   ],
   "source": [
    "n = 'Hello'\n",
    "n2 = '5232'\n",
    "n3 = '2e10'\n",
    "n4 = '\"+ 1'\n",
    "\n",
    "print(isNumber(n))\n",
    "print(isNumber(n2))\n",
    "print(isNumber(n3))\n",
    "print(isNumber(n4))"
   ]
  },
  {
   "cell_type": "markdown",
   "metadata": {},
   "source": [
    "### Trapping Rain Water"
   ]
  },
  {
   "cell_type": "code",
   "execution_count": 486,
   "metadata": {},
   "outputs": [],
   "source": [
    "def trapRainWater(height):\n",
    "    \n",
    "    water = 0\n",
    "        \n",
    "    if height == None or height == []: return water\n",
    "    \n",
    "    length = len(height)\n",
    "    left = [0]*length\n",
    "    right = [0]*length\n",
    "    \n",
    "    # Get the tallest left bar\n",
    "    left[0] = height[0]\n",
    "    for i in range(1, length):\n",
    "        left[i] = max(left[i-1], height[i])\n",
    "        \n",
    "    # Get the tallest right bar\n",
    "    right[length-1] = height[length-1]\n",
    "    for i in range(length - 2, -1, -1):\n",
    "        right[i] = max(right[i+1], height[i])\n",
    "    \n",
    "    # Total water block by block\n",
    "    for i in range(0, length):\n",
    "        water += min(left[i], right[i]) - height[i]\n",
    "        \n",
    "    return water"
   ]
  },
  {
   "cell_type": "code",
   "execution_count": 488,
   "metadata": {},
   "outputs": [
    {
     "name": "stdout",
     "output_type": "stream",
     "text": [
      "6\n",
      "11\n",
      "0\n"
     ]
    }
   ],
   "source": [
    "t = [0,1,0,2,1,0,1,3,2,1,2,1]\n",
    "t2 = (np.random.randint(0, 4, 12)).tolist()\n",
    "t3 = [0, 2, 0]\n",
    "#print(t2)\n",
    "\n",
    "print(trapRainWater(t))\n",
    "print(trapRainWater(t2))\n",
    "print(trapRainWater(t3))"
   ]
  },
  {
   "cell_type": "code",
   "execution_count": null,
   "metadata": {
    "collapsed": true
   },
   "outputs": [],
   "source": []
  },
  {
   "cell_type": "code",
   "execution_count": null,
   "metadata": {
    "collapsed": true
   },
   "outputs": [],
   "source": []
  },
  {
   "cell_type": "code",
   "execution_count": null,
   "metadata": {
    "collapsed": true
   },
   "outputs": [],
   "source": []
  },
  {
   "cell_type": "code",
   "execution_count": null,
   "metadata": {
    "collapsed": true
   },
   "outputs": [],
   "source": []
  }
 ],
 "metadata": {
  "kernelspec": {
   "display_name": "Python 3",
   "language": "python",
   "name": "python3"
  },
  "language_info": {
   "codemirror_mode": {
    "name": "ipython",
    "version": 3
   },
   "file_extension": ".py",
   "mimetype": "text/x-python",
   "name": "python",
   "nbconvert_exporter": "python",
   "pygments_lexer": "ipython3",
   "version": "3.6.1"
  }
 },
 "nbformat": 4,
 "nbformat_minor": 2
}
