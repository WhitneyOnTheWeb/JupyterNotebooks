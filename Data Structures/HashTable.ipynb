{
 "cells": [
  {
   "cell_type": "markdown",
   "metadata": {},
   "source": [
    "# Hash Table\n",
    "\n",
    "To understand how to build a hash table API, you first need to understand how a simple hash table works in Python"
   ]
  },
  {
   "cell_type": "code",
   "execution_count": 1,
   "metadata": {
    "collapsed": true
   },
   "outputs": [],
   "source": [
    "import numpy as np\n",
    "\n",
    "def line():\n",
    "        print('-' * 80)"
   ]
  },
  {
   "cell_type": "markdown",
   "metadata": {},
   "source": [
    "### Very Basic Hash Table"
   ]
  },
  {
   "cell_type": "code",
   "execution_count": 2,
   "metadata": {},
   "outputs": [
    {
     "name": "stdout",
     "output_type": "stream",
     "text": [
      "Hashed Key:  1628274943892895007\n",
      "Binary Bits:  111\n",
      "HashTable Index:  7\n",
      "--------------------------------------------------------------------------------\n",
      "Hash Table:  [None, None, None, None, None, None, None, 'hello world']\n",
      "[idx]:  hello world\n",
      "\n",
      "Retrieved from HashTable:  hello world\n"
     ]
    }
   ],
   "source": [
    "# Generate a hash given the word 'foo'\n",
    "key = 'foo'\n",
    "value = 'hello world'\n",
    "hashed = hash(key)\n",
    "print('Hashed Key: ', hashed)\n",
    "\n",
    "# Convert to binary, slice just the last 3 bits to keep buckets small\n",
    "bits = bin(hashed)[-3:]  # 100\n",
    "print('Binary Bits: ', bits)\n",
    "\n",
    "# Convert bits to integer for insertion\n",
    "idx = int(bits, 2)  # 4\n",
    "print('HashTable Index: ', idx)\n",
    "\n",
    "# Create buckets that is big enough for 3 bits of indices\n",
    "buckets = [None] * 8\n",
    "\n",
    "# Place key/value into buckets at index\n",
    "buckets[idx] = 'hello world'\n",
    "line()\n",
    "print('Hash Table: ', buckets)\n",
    "print('[idx]: ', buckets[idx])\n",
    "print()\n",
    "\n",
    "\n",
    "# Throw it all together to get that data back out of the buckets\n",
    "print('Retrieved from HashTable: ', buckets[int(bin(hash('foo'))[-3:], 2)])  # 'hello world'"
   ]
  },
  {
   "cell_type": "markdown",
   "metadata": {},
   "source": [
    "### Stand-Alone Hash Table "
   ]
  },
  {
   "cell_type": "code",
   "execution_count": 3,
   "metadata": {},
   "outputs": [],
   "source": [
    "# Create HashTable Class----------------------------------------------------------------\n",
    "class HashTable(object):\n",
    "    def __init__(self, capacity):\n",
    "        self.buckets = []\n",
    "        self.capacity = capacity\n",
    "        \n",
    "        # Create empty hashtable scaffolding\n",
    "        for i in range(capacity):\n",
    "            self.buckets.append([])\n",
    "\n",
    "# Create Droplet Class--------------------------------------------------\n",
    "#---End Droplet Class---------------------------------------------------\n",
    "#--- HashTable logical functionality\n",
    "    def mask(self, key):\n",
    "        bucket = self.buckets[hash(key) % self.capacity]\n",
    "        return bucket\n",
    "\n",
    "    def insert(self, key, value):\n",
    "        # Inserts entry into hash table\n",
    "        bucket = self.mask(key) #linear search\n",
    "        for i in range(len(bucket)):\n",
    "            if bucket[i][0] == key:\n",
    "                bucket[i] = (key, value) # replace value key if found\n",
    "                return\n",
    "        bucket.append((key, value)) # append bucket if bucket not empty\n",
    "        \n",
    "    def get_value(self, key):\n",
    "        bucket = self.mask(key)\n",
    "        for e in bucket:\n",
    "            if e[0] == key:\n",
    "                return e[1] # found value\n",
    "            return None # value not in hash table\n",
    "        \n",
    "    def remove(self, key):\n",
    "        bucket = self.mask(key)\n",
    "        for e in bucket:\n",
    "            if e == None:\n",
    "                return None\n",
    "            elif e[0] == key:\n",
    "                bucket.remove(e)\n",
    "        return None\n",
    "        \n",
    "    def __str__(self):  # display hashtable like dictionary\n",
    "        result = '{'\n",
    "        for b in self.buckets:\n",
    "            for e in b:\n",
    "                result = result + str(e[0]) + ' : ' + str(e[1]) + ', '\n",
    "        return result[:-2] + '}'  # omit last comma\n",
    "        \n",
    "\n",
    "#---Extend Here--------------------------------------------------------\n",
    "\n",
    "#----------------------------------------------------------------------\n",
    "#---End HashTable Class-----------------------------------------------------------------"
   ]
  },
  {
   "cell_type": "markdown",
   "metadata": {},
   "source": [
    "### Test Bed"
   ]
  },
  {
   "cell_type": "code",
   "execution_count": 4,
   "metadata": {},
   "outputs": [],
   "source": [
    "ht = HashTable(20)"
   ]
  },
  {
   "cell_type": "code",
   "execution_count": 5,
   "metadata": {},
   "outputs": [],
   "source": [
    "ht.insert('foo', 'hello world')\n",
    "ht.insert('bar', 'goodbye space')\n",
    "ht.insert('moo', 'derpa derpa')\n",
    "ht.insert('goo', 'house mouse')"
   ]
  },
  {
   "cell_type": "code",
   "execution_count": 6,
   "metadata": {},
   "outputs": [
    {
     "data": {
      "text/plain": [
       "'{moo : derpa derpa, foo : hello world, bar : goodbye space, goo : house mouse}'"
      ]
     },
     "execution_count": 6,
     "metadata": {},
     "output_type": "execute_result"
    }
   ],
   "source": [
    "ht.__str__()"
   ]
  },
  {
   "cell_type": "code",
   "execution_count": 7,
   "metadata": {},
   "outputs": [
    {
     "data": {
      "text/plain": [
       "'{moo : derpa derpa, bar : goodbye space, goo : house mouse}'"
      ]
     },
     "execution_count": 7,
     "metadata": {},
     "output_type": "execute_result"
    }
   ],
   "source": [
    "ht.remove('foo')\n",
    "ht.__str__()"
   ]
  },
  {
   "cell_type": "markdown",
   "metadata": {},
   "source": [
    "### Hash Table with Linked List"
   ]
  },
  {
   "cell_type": "code",
   "execution_count": 7,
   "metadata": {},
   "outputs": [],
   "source": [
    "# Create LinkedHashTable Class----------------------------------------------------------------\n",
    "class llHashTable(object):\n",
    "    def __init__(self, capacity):\n",
    "        self.capacity = capacity\n",
    "        self.buckets = [None] * self.capacity\n",
    "        self.knots = 0\n",
    "        \n",
    "#--- HashTable logical functionality\n",
    "    def mask(self, key):\n",
    "        idx = hash(key) % self.capacity\n",
    "        bucket = self.buckets[idx]\n",
    "        return idx, bucket\n",
    "\n",
    "    def get_buckets(self): return len(self.buckets) #returns total number of buckets\n",
    "    def knot_rope(self, key, value, buckets, idx):\n",
    "        idx, drip = self.mask(key)\n",
    "        while drip is not None:\n",
    "            if drip.key == key:\n",
    "                drip.value = value\n",
    "                drip = None\n",
    "            elif drip.next is None:\n",
    "                drip.next = Knot(key, value)\n",
    "                drip = None\n",
    "            else: drip = drip.next\n",
    "\n",
    "    def set(self, key, value):\n",
    "        idx, bucket = self.mask(key)\n",
    "        if self.buckets[idx] is None:\n",
    "            self.buckets[idx] = Knot(key, value)\n",
    "        else:\n",
    "            self.knot_rope(key, value, self.buckets, idx)\n",
    "            \n",
    "        self.knots += 1\n",
    "        knots = float(self.knots) / float(self.capacity)\n",
    "        \n",
    "        if knots >= self.capacity:\n",
    "            self.resize()\n",
    "                \n",
    "    def get(self, key):\n",
    "        idx, bucket = self.mask(key)\n",
    "        if self.buckets[idx] is not None:\n",
    "            drip = self.buckets[idx]\n",
    "            while drip is not None:\n",
    "                if drip.key == key:\n",
    "                    return drip.value\n",
    "                drip = drip.next\n",
    "                \n",
    "    def resize(self):\n",
    "        print('Resizing...')\n",
    "        larger = self.capacity * 2\n",
    "        bigger = [None] * larger\n",
    "        for b in range(0, len(self.buckets)):\n",
    "            drip = self.buckets[b]\n",
    "            while drip is not None:\n",
    "                idx, bucket = self.mask(key)\n",
    "                if bigger[idx] is None:\n",
    "                    bigger[idx] = Knot(drip.key, drip.value) # Add values\n",
    "                else: self.knot_rope(drip.key, drip.value, bigger, idx)\n",
    "                drip = drip.next\n",
    "        self.buckets = bigger   # Set more buckets with previous values\n",
    "        self.capacity = larger  # Set larger capacity\n",
    "        \n",
    "    def remove(self, key):\n",
    "        idx, bucket = self.mask(key)\n",
    "        if bucket is not None:\n",
    "            for e in bucket:\n",
    "                if e == None:\n",
    "                    return None\n",
    "                elif e[0] == key:\n",
    "                    bucket.remove(e)\n",
    "        return None\n",
    "        \n",
    "    def __str__(self):  # display hashtable like dictionary\n",
    "        result = ''\n",
    "        count = 0\n",
    "        for b in self.buckets:\n",
    "            count += 1\n",
    "            if b is not None: \n",
    "                result = result + str(count) + ': ' + Rope.__str__(b)\n",
    "        return result[:-2]  # omit last comma\n",
    "        \n",
    "#---Extend Here--------------------------------------------------------\n",
    "\n",
    "#----------------------------------------------------------------------\n",
    "#---End LinkedHashTable Class-----------------------------------------------------------------\n",
    "import random as rand\n",
    "\n",
    "# Create Rope/Knot Class--------------------------------------------------\n",
    "# Handles collisions within the buckets by setting end of list\n",
    "# to a new Knot, and linking it to previous Knot on a Rope\n",
    "class RopeClimber:\n",
    "    def __init__(self, knot): self.current = knot\n",
    "    def __iter__(self): return self\n",
    "    def __next__(self):\n",
    "        if self.current is None:\n",
    "            raise StopIteration()\n",
    "        result = self.current.value\n",
    "        self.current = self.current.next\n",
    "\n",
    "class Rope(dict):\n",
    "    def __init__(self):\n",
    "        self.knots = __count__()\n",
    "\n",
    "    def items(self): return self.__dict__.items()\n",
    "    def keys(self): return self.__dict__.keys()\n",
    "    def values(self): return self.__dict__.values()\n",
    "    def has_key(self, k): return k in self.__dict__\n",
    "    def clear(self): return self.__dict__.clear()\n",
    "    \n",
    "    def __setitem__(self, key, value): self.__dict__[key] = value\n",
    "    def __getitem__(self, key): return self.__dict__[key]\n",
    "    def __delitem__(self, key): del self.__dict__[key]\n",
    "    def __iter__(self): return RopeClimber(Rope.head)\n",
    "    def __count__(): return sum(1 for i in Rope())\n",
    "    def __len__(self): return len(self.__dict__)\n",
    "    def __repr__(self): return repr(self.__dict__)\n",
    "    def __contains__(self, key):\n",
    "        return any(item.key == key for item in self.knots)\n",
    "    \n",
    "    def __str__(self):\n",
    "        result = '{'\n",
    "        items = list(self.items())\n",
    "        if items[0] is not None:\n",
    "            result = result + ' { ' + items[0] + ' : ' + items[1] + ' }'\n",
    "            if items[2] is not None:\n",
    "                result = result + ' ' + items[2].key + ' : ' + items[2].value\n",
    "        return result + ' }, '\n",
    "            \n",
    "\n",
    "class Knot(object): # Node object\n",
    "    def __init__(self, key, value):\n",
    "        self.key = key\n",
    "        self.value = value\n",
    "        self.next = None\n",
    "        \n",
    "        #if Rope.head == None: Rope.head = self\n",
    "        #printRope.head)\n",
    "\n",
    "    def __iter__(self): return Rope.__iter__(self)\n",
    "    def __str__(self):\n",
    "        return '{ ' + self.key + ' : ' + self.value + ' }'\n",
    "    \n",
    "    def items(self): return self.key, self.value, self.next\n",
    "    def key(self): return self.key\n",
    "    def value(self): return self.value\n",
    "    def next(self): return self.next\n",
    "    \n",
    "#---End Rope/Knot Class---------------------------------------------------        "
   ]
  },
  {
   "cell_type": "code",
   "execution_count": 11,
   "metadata": {
    "collapsed": true
   },
   "outputs": [],
   "source": [
    "lht = llHashTable(3)"
   ]
  },
  {
   "cell_type": "code",
   "execution_count": 12,
   "metadata": {},
   "outputs": [],
   "source": [
    "lht.set('foo', 'hello world')\n",
    "lht.set('bar', 'goodbye space')\n",
    "lht.set('moo', 'derpa derpa')\n",
    "lht.set('goo', 'house mouse')\n",
    "lht.set('low', 'lorem ipsum')\n",
    "lht.set('how', 'green eggs')\n",
    "lht.set('cow', 'canned spam')\n",
    "lht.set('pow', 'going through')"
   ]
  },
  {
   "cell_type": "code",
   "execution_count": 13,
   "metadata": {},
   "outputs": [
    {
     "data": {
      "text/plain": [
       "'1: { { goo : house mouse } }, 2: { { bar : goodbye space } moo : derpa derpa }, 3: { { foo : hello world } how : green eggs }'"
      ]
     },
     "execution_count": 13,
     "metadata": {},
     "output_type": "execute_result"
    }
   ],
   "source": [
    "lht.__str__()"
   ]
  },
  {
   "cell_type": "code",
   "execution_count": 14,
   "metadata": {},
   "outputs": [
    {
     "data": {
      "text/plain": [
       "8"
      ]
     },
     "execution_count": 14,
     "metadata": {},
     "output_type": "execute_result"
    }
   ],
   "source": [
    "lht.knots"
   ]
  },
  {
   "cell_type": "code",
   "execution_count": 15,
   "metadata": {},
   "outputs": [
    {
     "data": {
      "text/plain": [
       "3"
      ]
     },
     "execution_count": 15,
     "metadata": {},
     "output_type": "execute_result"
    }
   ],
   "source": [
    "lht.get_buckets()"
   ]
  },
  {
   "cell_type": "markdown",
   "metadata": {},
   "source": [
    "Ongoing problems:\n",
    "    \n",
    "    -  __str__ does not print all knots in short ropes\n",
    "    -  resize isn't working correctly all the time\n",
    "    -  remove doesn't work yet"
   ]
  },
  {
   "cell_type": "code",
   "execution_count": null,
   "metadata": {
    "collapsed": true
   },
   "outputs": [],
   "source": []
  },
  {
   "cell_type": "code",
   "execution_count": null,
   "metadata": {
    "collapsed": true
   },
   "outputs": [],
   "source": []
  }
 ],
 "metadata": {
  "kernelspec": {
   "display_name": "Python 3",
   "language": "python",
   "name": "python3"
  },
  "language_info": {
   "codemirror_mode": {
    "name": "ipython",
    "version": 3
   },
   "file_extension": ".py",
   "mimetype": "text/x-python",
   "name": "python",
   "nbconvert_exporter": "python",
   "pygments_lexer": "ipython3",
   "version": "3.6.1"
  }
 },
 "nbformat": 4,
 "nbformat_minor": 2
}
